{
 "cells": [
  {
   "cell_type": "code",
   "execution_count": 1,
   "id": "68b8aac1",
   "metadata": {
    "_cell_guid": "7754c37c-cac3-41db-a751-9411d740a623",
    "_uuid": "d1915725-acd3-4f7e-b399-56c66192534c",
    "collapsed": false,
    "execution": {
     "iopub.execute_input": "2022-09-30T22:46:34.159705Z",
     "iopub.status.busy": "2022-09-30T22:46:34.159271Z",
     "iopub.status.idle": "2022-09-30T22:46:34.189360Z",
     "shell.execute_reply": "2022-09-30T22:46:34.188358Z"
    },
    "jupyter": {
     "outputs_hidden": false
    },
    "papermill": {
     "duration": 0.047604,
     "end_time": "2022-09-30T22:46:34.192625",
     "exception": false,
     "start_time": "2022-09-30T22:46:34.145021",
     "status": "completed"
    },
    "tags": []
   },
   "outputs": [
    {
     "name": "stdout",
     "output_type": "stream",
     "text": [
      "/kaggle/input/bike-sharing-dataset/hour.csv\n",
      "/kaggle/input/bike-sharing-dataset/Readme.txt\n",
      "/kaggle/input/bike-sharing-dataset/day.csv\n",
      "/kaggle/input/bike-sharing-dataset/bike-sharing-dataset/hour.csv\n",
      "/kaggle/input/bike-sharing-dataset/bike-sharing-dataset/Readme.txt\n",
      "/kaggle/input/bike-sharing-dataset/bike-sharing-dataset/day.csv\n"
     ]
    }
   ],
   "source": [
    "# This Python 3 environment comes with many helpful analytics libraries installed\n",
    "# It is defined by the kaggle/python Docker image: https://github.com/kaggle/docker-python\n",
    "# For example, here's several helpful packages to load\n",
    "\n",
    "import numpy as np # linear algebra\n",
    "import pandas as pd # data processing, CSV file I/O (e.g. pd.read_csv)\n",
    "\n",
    "# Input data files are available in the read-only \"../input/\" directory\n",
    "# For example, running this (by clicking run or pressing Shift+Enter) will list all files under the input directory\n",
    "\n",
    "import os\n",
    "for dirname, _, filenames in os.walk('/kaggle/input'):\n",
    "    for filename in filenames:\n",
    "        print(os.path.join(dirname, filename))\n",
    "\n",
    "# You can write up to 20GB to the current directory (/kaggle/working/) that gets preserved as output when you create a version using \"Save & Run All\" \n",
    "# You can also write temporary files to /kaggle/temp/, but they won't be saved outside of the current session"
   ]
  },
  {
   "cell_type": "code",
   "execution_count": 2,
   "id": "9c682b6e",
   "metadata": {
    "execution": {
     "iopub.execute_input": "2022-09-30T22:46:34.218634Z",
     "iopub.status.busy": "2022-09-30T22:46:34.217640Z",
     "iopub.status.idle": "2022-09-30T22:46:35.235791Z",
     "shell.execute_reply": "2022-09-30T22:46:35.234302Z"
    },
    "papermill": {
     "duration": 1.034642,
     "end_time": "2022-09-30T22:46:35.238801",
     "exception": false,
     "start_time": "2022-09-30T22:46:34.204159",
     "status": "completed"
    },
    "tags": []
   },
   "outputs": [],
   "source": [
    "from numpy import argmax\n",
    "from sklearn.preprocessing import LabelEncoder\n",
    "from sklearn.preprocessing import OneHotEncoder"
   ]
  },
  {
   "cell_type": "code",
   "execution_count": 3,
   "id": "56af0070",
   "metadata": {
    "_cell_guid": "6e425efa-7eed-4396-a3c0-3ad477f7d8ec",
    "_uuid": "304c716b-f1c2-4e4c-9f61-a7468fc9ceaf",
    "collapsed": false,
    "execution": {
     "iopub.execute_input": "2022-09-30T22:46:35.269287Z",
     "iopub.status.busy": "2022-09-30T22:46:35.268112Z",
     "iopub.status.idle": "2022-09-30T22:46:35.294418Z",
     "shell.execute_reply": "2022-09-30T22:46:35.293388Z"
    },
    "jupyter": {
     "outputs_hidden": false
    },
    "papermill": {
     "duration": 0.045301,
     "end_time": "2022-09-30T22:46:35.296954",
     "exception": false,
     "start_time": "2022-09-30T22:46:35.251653",
     "status": "completed"
    },
    "tags": []
   },
   "outputs": [],
   "source": [
    "df = pd.read_csv(\"../input/bike-sharing-dataset/day.csv\")"
   ]
  },
  {
   "cell_type": "code",
   "execution_count": 4,
   "id": "13a3ccec",
   "metadata": {
    "_cell_guid": "bb5f6659-f8cb-4e8e-b5b3-440b741b95aa",
    "_uuid": "37a3a90f-ade8-4efb-91d1-13ccaec7e3ff",
    "collapsed": false,
    "execution": {
     "iopub.execute_input": "2022-09-30T22:46:35.320156Z",
     "iopub.status.busy": "2022-09-30T22:46:35.319711Z",
     "iopub.status.idle": "2022-09-30T22:46:35.345325Z",
     "shell.execute_reply": "2022-09-30T22:46:35.344376Z"
    },
    "jupyter": {
     "outputs_hidden": false
    },
    "papermill": {
     "duration": 0.040141,
     "end_time": "2022-09-30T22:46:35.347659",
     "exception": false,
     "start_time": "2022-09-30T22:46:35.307518",
     "status": "completed"
    },
    "tags": []
   },
   "outputs": [
    {
     "data": {
      "text/html": [
       "<div>\n",
       "<style scoped>\n",
       "    .dataframe tbody tr th:only-of-type {\n",
       "        vertical-align: middle;\n",
       "    }\n",
       "\n",
       "    .dataframe tbody tr th {\n",
       "        vertical-align: top;\n",
       "    }\n",
       "\n",
       "    .dataframe thead th {\n",
       "        text-align: right;\n",
       "    }\n",
       "</style>\n",
       "<table border=\"1\" class=\"dataframe\">\n",
       "  <thead>\n",
       "    <tr style=\"text-align: right;\">\n",
       "      <th></th>\n",
       "      <th>instant</th>\n",
       "      <th>dteday</th>\n",
       "      <th>season</th>\n",
       "      <th>yr</th>\n",
       "      <th>mnth</th>\n",
       "      <th>holiday</th>\n",
       "      <th>weekday</th>\n",
       "      <th>workingday</th>\n",
       "      <th>weathersit</th>\n",
       "      <th>temp</th>\n",
       "      <th>atemp</th>\n",
       "      <th>hum</th>\n",
       "      <th>windspeed</th>\n",
       "      <th>casual</th>\n",
       "      <th>registered</th>\n",
       "      <th>cnt</th>\n",
       "    </tr>\n",
       "  </thead>\n",
       "  <tbody>\n",
       "    <tr>\n",
       "      <th>0</th>\n",
       "      <td>1</td>\n",
       "      <td>2011-01-01</td>\n",
       "      <td>1</td>\n",
       "      <td>0</td>\n",
       "      <td>1</td>\n",
       "      <td>0</td>\n",
       "      <td>6</td>\n",
       "      <td>0</td>\n",
       "      <td>2</td>\n",
       "      <td>0.344167</td>\n",
       "      <td>0.363625</td>\n",
       "      <td>0.805833</td>\n",
       "      <td>0.160446</td>\n",
       "      <td>331</td>\n",
       "      <td>654</td>\n",
       "      <td>985</td>\n",
       "    </tr>\n",
       "    <tr>\n",
       "      <th>1</th>\n",
       "      <td>2</td>\n",
       "      <td>2011-01-02</td>\n",
       "      <td>1</td>\n",
       "      <td>0</td>\n",
       "      <td>1</td>\n",
       "      <td>0</td>\n",
       "      <td>0</td>\n",
       "      <td>0</td>\n",
       "      <td>2</td>\n",
       "      <td>0.363478</td>\n",
       "      <td>0.353739</td>\n",
       "      <td>0.696087</td>\n",
       "      <td>0.248539</td>\n",
       "      <td>131</td>\n",
       "      <td>670</td>\n",
       "      <td>801</td>\n",
       "    </tr>\n",
       "    <tr>\n",
       "      <th>2</th>\n",
       "      <td>3</td>\n",
       "      <td>2011-01-03</td>\n",
       "      <td>1</td>\n",
       "      <td>0</td>\n",
       "      <td>1</td>\n",
       "      <td>0</td>\n",
       "      <td>1</td>\n",
       "      <td>1</td>\n",
       "      <td>1</td>\n",
       "      <td>0.196364</td>\n",
       "      <td>0.189405</td>\n",
       "      <td>0.437273</td>\n",
       "      <td>0.248309</td>\n",
       "      <td>120</td>\n",
       "      <td>1229</td>\n",
       "      <td>1349</td>\n",
       "    </tr>\n",
       "    <tr>\n",
       "      <th>3</th>\n",
       "      <td>4</td>\n",
       "      <td>2011-01-04</td>\n",
       "      <td>1</td>\n",
       "      <td>0</td>\n",
       "      <td>1</td>\n",
       "      <td>0</td>\n",
       "      <td>2</td>\n",
       "      <td>1</td>\n",
       "      <td>1</td>\n",
       "      <td>0.200000</td>\n",
       "      <td>0.212122</td>\n",
       "      <td>0.590435</td>\n",
       "      <td>0.160296</td>\n",
       "      <td>108</td>\n",
       "      <td>1454</td>\n",
       "      <td>1562</td>\n",
       "    </tr>\n",
       "    <tr>\n",
       "      <th>4</th>\n",
       "      <td>5</td>\n",
       "      <td>2011-01-05</td>\n",
       "      <td>1</td>\n",
       "      <td>0</td>\n",
       "      <td>1</td>\n",
       "      <td>0</td>\n",
       "      <td>3</td>\n",
       "      <td>1</td>\n",
       "      <td>1</td>\n",
       "      <td>0.226957</td>\n",
       "      <td>0.229270</td>\n",
       "      <td>0.436957</td>\n",
       "      <td>0.186900</td>\n",
       "      <td>82</td>\n",
       "      <td>1518</td>\n",
       "      <td>1600</td>\n",
       "    </tr>\n",
       "  </tbody>\n",
       "</table>\n",
       "</div>"
      ],
      "text/plain": [
       "   instant      dteday  season  yr  mnth  holiday  weekday  workingday  \\\n",
       "0        1  2011-01-01       1   0     1        0        6           0   \n",
       "1        2  2011-01-02       1   0     1        0        0           0   \n",
       "2        3  2011-01-03       1   0     1        0        1           1   \n",
       "3        4  2011-01-04       1   0     1        0        2           1   \n",
       "4        5  2011-01-05       1   0     1        0        3           1   \n",
       "\n",
       "   weathersit      temp     atemp       hum  windspeed  casual  registered  \\\n",
       "0           2  0.344167  0.363625  0.805833   0.160446     331         654   \n",
       "1           2  0.363478  0.353739  0.696087   0.248539     131         670   \n",
       "2           1  0.196364  0.189405  0.437273   0.248309     120        1229   \n",
       "3           1  0.200000  0.212122  0.590435   0.160296     108        1454   \n",
       "4           1  0.226957  0.229270  0.436957   0.186900      82        1518   \n",
       "\n",
       "    cnt  \n",
       "0   985  \n",
       "1   801  \n",
       "2  1349  \n",
       "3  1562  \n",
       "4  1600  "
      ]
     },
     "execution_count": 4,
     "metadata": {},
     "output_type": "execute_result"
    }
   ],
   "source": [
    "df.head()"
   ]
  },
  {
   "cell_type": "code",
   "execution_count": 5,
   "id": "6951fb62",
   "metadata": {
    "_cell_guid": "21d1485a-1cc5-4a19-8b61-a3224156fe31",
    "_uuid": "2bcc139d-d84e-4c87-83d5-e25f9bd22d14",
    "collapsed": false,
    "execution": {
     "iopub.execute_input": "2022-09-30T22:46:35.372700Z",
     "iopub.status.busy": "2022-09-30T22:46:35.372086Z",
     "iopub.status.idle": "2022-09-30T22:46:35.378133Z",
     "shell.execute_reply": "2022-09-30T22:46:35.377088Z"
    },
    "jupyter": {
     "outputs_hidden": false
    },
    "papermill": {
     "duration": 0.021118,
     "end_time": "2022-09-30T22:46:35.380509",
     "exception": false,
     "start_time": "2022-09-30T22:46:35.359391",
     "status": "completed"
    },
    "tags": []
   },
   "outputs": [
    {
     "data": {
      "text/plain": [
       "Index(['instant', 'dteday', 'season', 'yr', 'mnth', 'holiday', 'weekday',\n",
       "       'workingday', 'weathersit', 'temp', 'atemp', 'hum', 'windspeed',\n",
       "       'casual', 'registered', 'cnt'],\n",
       "      dtype='object')"
      ]
     },
     "execution_count": 5,
     "metadata": {},
     "output_type": "execute_result"
    }
   ],
   "source": [
    "df.columns"
   ]
  },
  {
   "cell_type": "code",
   "execution_count": 6,
   "id": "b9420ebc",
   "metadata": {
    "_cell_guid": "2b6b464d-7d10-49a3-8aa3-bcb863e2b9f1",
    "_uuid": "b87f031a-4cef-40da-abc0-b60c77923a1f",
    "collapsed": false,
    "execution": {
     "iopub.execute_input": "2022-09-30T22:46:35.404644Z",
     "iopub.status.busy": "2022-09-30T22:46:35.403997Z",
     "iopub.status.idle": "2022-09-30T22:46:35.414964Z",
     "shell.execute_reply": "2022-09-30T22:46:35.413767Z"
    },
    "jupyter": {
     "outputs_hidden": false
    },
    "papermill": {
     "duration": 0.025982,
     "end_time": "2022-09-30T22:46:35.417708",
     "exception": false,
     "start_time": "2022-09-30T22:46:35.391726",
     "status": "completed"
    },
    "tags": []
   },
   "outputs": [],
   "source": [
    "df.drop(['instant', 'dteday','casual','registered'], inplace=True ,axis=1)"
   ]
  },
  {
   "cell_type": "markdown",
   "id": "2ec32f4c",
   "metadata": {
    "papermill": {
     "duration": 0.010678,
     "end_time": "2022-09-30T22:46:35.439659",
     "exception": false,
     "start_time": "2022-09-30T22:46:35.428981",
     "status": "completed"
    },
    "tags": []
   },
   "source": [
    "**Question 4. a)**"
   ]
  },
  {
   "cell_type": "code",
   "execution_count": 7,
   "id": "cedcc972",
   "metadata": {
    "_cell_guid": "b17ee383-55e6-41bc-9b0a-37bb7441fdfb",
    "_uuid": "e1bc743e-4617-45e2-acab-4f5d699c0bd4",
    "collapsed": false,
    "execution": {
     "iopub.execute_input": "2022-09-30T22:46:35.463822Z",
     "iopub.status.busy": "2022-09-30T22:46:35.463177Z",
     "iopub.status.idle": "2022-09-30T22:46:35.479728Z",
     "shell.execute_reply": "2022-09-30T22:46:35.478184Z"
    },
    "jupyter": {
     "outputs_hidden": false
    },
    "papermill": {
     "duration": 0.03173,
     "end_time": "2022-09-30T22:46:35.482375",
     "exception": false,
     "start_time": "2022-09-30T22:46:35.450645",
     "status": "completed"
    },
    "tags": []
   },
   "outputs": [
    {
     "name": "stdout",
     "output_type": "stream",
     "text": [
      "season        0.406100\n",
      "yr            0.566710\n",
      "mnth          0.279977\n",
      "holiday      -0.068348\n",
      "weekday       0.067443\n",
      "workingday    0.061156\n",
      "weathersit   -0.297391\n",
      "temp          0.627494\n",
      "atemp         0.631066\n",
      "hum          -0.100659\n",
      "windspeed    -0.234545\n",
      "cnt           1.000000\n",
      "dtype: float64\n"
     ]
    }
   ],
   "source": [
    "correlations = df.corrwith(df['cnt'])\n",
    "print(correlations)"
   ]
  },
  {
   "cell_type": "markdown",
   "id": "6aed59f7",
   "metadata": {
    "_cell_guid": "8aba4077-ca1d-4984-ab9d-cd3da0a8b987",
    "_uuid": "6dfe76cf-8efb-4865-aa4a-a26964bd05bc",
    "papermill": {
     "duration": 0.010633,
     "end_time": "2022-09-30T22:46:35.504004",
     "exception": false,
     "start_time": "2022-09-30T22:46:35.493371",
     "status": "completed"
    },
    "tags": []
   },
   "source": [
    "Features with positive correlation are: \n",
    "* **season**\n",
    "* **yr**: year\n",
    "* **mnth**: mmonths\n",
    "* **weekday**: days of the week\n",
    "* **workingday**: whether the day is neither a weekend nor holiday\n",
    "* **temp**: temperature in Celsius\n",
    "* **atemp**: \"feels like\" temperature in Celsius\n",
    "\n",
    "The feature with highest correlation is **'atemp'**."
   ]
  },
  {
   "cell_type": "markdown",
   "id": "e4c5df0a",
   "metadata": {
    "papermill": {
     "duration": 0.010495,
     "end_time": "2022-09-30T22:46:35.525574",
     "exception": false,
     "start_time": "2022-09-30T22:46:35.515079",
     "status": "completed"
    },
    "tags": []
   },
   "source": [
    "**Question 4. b)**"
   ]
  },
  {
   "cell_type": "markdown",
   "id": "de2cab3c",
   "metadata": {
    "_cell_guid": "01170ec7-7229-419f-8875-4419f9890731",
    "_uuid": "c7bc3fd5-ea51-43e0-a449-3b6ae3d2272e",
    "papermill": {
     "duration": 0.010621,
     "end_time": "2022-09-30T22:46:35.547255",
     "exception": false,
     "start_time": "2022-09-30T22:46:35.536634",
     "status": "completed"
    },
    "tags": []
   },
   "source": [
    "Features with negative correlation are: \n",
    "* **holiday**: whether the day is considered a holiday\n",
    "* **weathersit**\n",
    "* **hum**: humidity\n",
    "* **windspeed**"
   ]
  },
  {
   "cell_type": "code",
   "execution_count": 8,
   "id": "da009f2a",
   "metadata": {
    "execution": {
     "iopub.execute_input": "2022-09-30T22:46:35.571105Z",
     "iopub.status.busy": "2022-09-30T22:46:35.570176Z",
     "iopub.status.idle": "2022-09-30T22:46:35.585839Z",
     "shell.execute_reply": "2022-09-30T22:46:35.584754Z"
    },
    "papermill": {
     "duration": 0.03007,
     "end_time": "2022-09-30T22:46:35.588288",
     "exception": false,
     "start_time": "2022-09-30T22:46:35.558218",
     "status": "completed"
    },
    "tags": []
   },
   "outputs": [
    {
     "data": {
      "text/html": [
       "<div>\n",
       "<style scoped>\n",
       "    .dataframe tbody tr th:only-of-type {\n",
       "        vertical-align: middle;\n",
       "    }\n",
       "\n",
       "    .dataframe tbody tr th {\n",
       "        vertical-align: top;\n",
       "    }\n",
       "\n",
       "    .dataframe thead th {\n",
       "        text-align: right;\n",
       "    }\n",
       "</style>\n",
       "<table border=\"1\" class=\"dataframe\">\n",
       "  <thead>\n",
       "    <tr style=\"text-align: right;\">\n",
       "      <th></th>\n",
       "      <th>season</th>\n",
       "      <th>yr</th>\n",
       "      <th>mnth</th>\n",
       "      <th>holiday</th>\n",
       "      <th>weekday</th>\n",
       "      <th>workingday</th>\n",
       "      <th>weathersit</th>\n",
       "      <th>temp</th>\n",
       "      <th>atemp</th>\n",
       "      <th>hum</th>\n",
       "      <th>windspeed</th>\n",
       "      <th>cnt</th>\n",
       "    </tr>\n",
       "  </thead>\n",
       "  <tbody>\n",
       "    <tr>\n",
       "      <th>0</th>\n",
       "      <td>1</td>\n",
       "      <td>0</td>\n",
       "      <td>1</td>\n",
       "      <td>0</td>\n",
       "      <td>6</td>\n",
       "      <td>0</td>\n",
       "      <td>2</td>\n",
       "      <td>0.344167</td>\n",
       "      <td>0.363625</td>\n",
       "      <td>0.805833</td>\n",
       "      <td>0.160446</td>\n",
       "      <td>985</td>\n",
       "    </tr>\n",
       "    <tr>\n",
       "      <th>1</th>\n",
       "      <td>1</td>\n",
       "      <td>0</td>\n",
       "      <td>1</td>\n",
       "      <td>0</td>\n",
       "      <td>0</td>\n",
       "      <td>0</td>\n",
       "      <td>2</td>\n",
       "      <td>0.363478</td>\n",
       "      <td>0.353739</td>\n",
       "      <td>0.696087</td>\n",
       "      <td>0.248539</td>\n",
       "      <td>801</td>\n",
       "    </tr>\n",
       "    <tr>\n",
       "      <th>2</th>\n",
       "      <td>1</td>\n",
       "      <td>0</td>\n",
       "      <td>1</td>\n",
       "      <td>0</td>\n",
       "      <td>1</td>\n",
       "      <td>1</td>\n",
       "      <td>1</td>\n",
       "      <td>0.196364</td>\n",
       "      <td>0.189405</td>\n",
       "      <td>0.437273</td>\n",
       "      <td>0.248309</td>\n",
       "      <td>1349</td>\n",
       "    </tr>\n",
       "    <tr>\n",
       "      <th>3</th>\n",
       "      <td>1</td>\n",
       "      <td>0</td>\n",
       "      <td>1</td>\n",
       "      <td>0</td>\n",
       "      <td>2</td>\n",
       "      <td>1</td>\n",
       "      <td>1</td>\n",
       "      <td>0.200000</td>\n",
       "      <td>0.212122</td>\n",
       "      <td>0.590435</td>\n",
       "      <td>0.160296</td>\n",
       "      <td>1562</td>\n",
       "    </tr>\n",
       "    <tr>\n",
       "      <th>4</th>\n",
       "      <td>1</td>\n",
       "      <td>0</td>\n",
       "      <td>1</td>\n",
       "      <td>0</td>\n",
       "      <td>3</td>\n",
       "      <td>1</td>\n",
       "      <td>1</td>\n",
       "      <td>0.226957</td>\n",
       "      <td>0.229270</td>\n",
       "      <td>0.436957</td>\n",
       "      <td>0.186900</td>\n",
       "      <td>1600</td>\n",
       "    </tr>\n",
       "  </tbody>\n",
       "</table>\n",
       "</div>"
      ],
      "text/plain": [
       "   season  yr  mnth  holiday  weekday  workingday  weathersit      temp  \\\n",
       "0       1   0     1        0        6           0           2  0.344167   \n",
       "1       1   0     1        0        0           0           2  0.363478   \n",
       "2       1   0     1        0        1           1           1  0.196364   \n",
       "3       1   0     1        0        2           1           1  0.200000   \n",
       "4       1   0     1        0        3           1           1  0.226957   \n",
       "\n",
       "      atemp       hum  windspeed   cnt  \n",
       "0  0.363625  0.805833   0.160446   985  \n",
       "1  0.353739  0.696087   0.248539   801  \n",
       "2  0.189405  0.437273   0.248309  1349  \n",
       "3  0.212122  0.590435   0.160296  1562  \n",
       "4  0.229270  0.436957   0.186900  1600  "
      ]
     },
     "execution_count": 8,
     "metadata": {},
     "output_type": "execute_result"
    }
   ],
   "source": [
    "df.head()"
   ]
  },
  {
   "cell_type": "markdown",
   "id": "d7f277eb",
   "metadata": {
    "papermill": {
     "duration": 0.011597,
     "end_time": "2022-09-30T22:46:35.611299",
     "exception": false,
     "start_time": "2022-09-30T22:46:35.599702",
     "status": "completed"
    },
    "tags": []
   },
   "source": [
    "**Question 4.c)**"
   ]
  },
  {
   "cell_type": "code",
   "execution_count": 9,
   "id": "a1371b41",
   "metadata": {
    "execution": {
     "iopub.execute_input": "2022-09-30T22:46:35.638648Z",
     "iopub.status.busy": "2022-09-30T22:46:35.637672Z",
     "iopub.status.idle": "2022-09-30T22:46:35.855735Z",
     "shell.execute_reply": "2022-09-30T22:46:35.854537Z"
    },
    "papermill": {
     "duration": 0.23563,
     "end_time": "2022-09-30T22:46:35.858476",
     "exception": false,
     "start_time": "2022-09-30T22:46:35.622846",
     "status": "completed"
    },
    "tags": []
   },
   "outputs": [],
   "source": [
    "import category_encoders as ce"
   ]
  },
  {
   "cell_type": "code",
   "execution_count": 10,
   "id": "31574ef0",
   "metadata": {
    "execution": {
     "iopub.execute_input": "2022-09-30T22:46:35.883669Z",
     "iopub.status.busy": "2022-09-30T22:46:35.883252Z",
     "iopub.status.idle": "2022-09-30T22:46:35.888337Z",
     "shell.execute_reply": "2022-09-30T22:46:35.887244Z"
    },
    "papermill": {
     "duration": 0.020227,
     "end_time": "2022-09-30T22:46:35.890540",
     "exception": false,
     "start_time": "2022-09-30T22:46:35.870313",
     "status": "completed"
    },
    "tags": []
   },
   "outputs": [],
   "source": [
    "encoder = ce.OneHotEncoder(cols=('season','yr','mnth','holiday','weekday','weathersit'), use_cat_names = True)"
   ]
  },
  {
   "cell_type": "code",
   "execution_count": 11,
   "id": "4759540c",
   "metadata": {
    "_cell_guid": "3ce10598-fcb0-4fd7-9c24-fa3b2502afb3",
    "_uuid": "823c1808-d019-4fde-aee6-e91fbb374e5a",
    "collapsed": false,
    "execution": {
     "iopub.execute_input": "2022-09-30T22:46:35.915559Z",
     "iopub.status.busy": "2022-09-30T22:46:35.915137Z",
     "iopub.status.idle": "2022-09-30T22:46:35.973897Z",
     "shell.execute_reply": "2022-09-30T22:46:35.972531Z"
    },
    "jupyter": {
     "outputs_hidden": false
    },
    "papermill": {
     "duration": 0.074534,
     "end_time": "2022-09-30T22:46:35.976705",
     "exception": false,
     "start_time": "2022-09-30T22:46:35.902171",
     "status": "completed"
    },
    "tags": []
   },
   "outputs": [],
   "source": [
    "from sklearn.model_selection import train_test_split"
   ]
  },
  {
   "cell_type": "code",
   "execution_count": 12,
   "id": "91ba2edf",
   "metadata": {
    "execution": {
     "iopub.execute_input": "2022-09-30T22:46:36.001555Z",
     "iopub.status.busy": "2022-09-30T22:46:36.001140Z",
     "iopub.status.idle": "2022-09-30T22:46:36.096186Z",
     "shell.execute_reply": "2022-09-30T22:46:36.094879Z"
    },
    "papermill": {
     "duration": 0.110988,
     "end_time": "2022-09-30T22:46:36.099245",
     "exception": false,
     "start_time": "2022-09-30T22:46:35.988257",
     "status": "completed"
    },
    "tags": []
   },
   "outputs": [],
   "source": [
    "encoded = encoder.fit_transform(df)\n",
    "new_df = pd.concat([df.drop(['season','yr','mnth','holiday','weekday','weathersit','cnt'],axis=1),encoded],axis=1)"
   ]
  },
  {
   "cell_type": "code",
   "execution_count": 13,
   "id": "b72447a8",
   "metadata": {
    "execution": {
     "iopub.execute_input": "2022-09-30T22:46:36.124126Z",
     "iopub.status.busy": "2022-09-30T22:46:36.123687Z",
     "iopub.status.idle": "2022-09-30T22:46:36.149147Z",
     "shell.execute_reply": "2022-09-30T22:46:36.147923Z"
    },
    "papermill": {
     "duration": 0.040641,
     "end_time": "2022-09-30T22:46:36.151576",
     "exception": false,
     "start_time": "2022-09-30T22:46:36.110935",
     "status": "completed"
    },
    "tags": []
   },
   "outputs": [
    {
     "data": {
      "text/html": [
       "<div>\n",
       "<style scoped>\n",
       "    .dataframe tbody tr th:only-of-type {\n",
       "        vertical-align: middle;\n",
       "    }\n",
       "\n",
       "    .dataframe tbody tr th {\n",
       "        vertical-align: top;\n",
       "    }\n",
       "\n",
       "    .dataframe thead th {\n",
       "        text-align: right;\n",
       "    }\n",
       "</style>\n",
       "<table border=\"1\" class=\"dataframe\">\n",
       "  <thead>\n",
       "    <tr style=\"text-align: right;\">\n",
       "      <th></th>\n",
       "      <th>workingday</th>\n",
       "      <th>temp</th>\n",
       "      <th>atemp</th>\n",
       "      <th>hum</th>\n",
       "      <th>windspeed</th>\n",
       "      <th>season_1.0</th>\n",
       "      <th>season_2.0</th>\n",
       "      <th>season_3.0</th>\n",
       "      <th>season_4.0</th>\n",
       "      <th>yr_0.0</th>\n",
       "      <th>...</th>\n",
       "      <th>weekday_5.0</th>\n",
       "      <th>workingday</th>\n",
       "      <th>weathersit_2.0</th>\n",
       "      <th>weathersit_1.0</th>\n",
       "      <th>weathersit_3.0</th>\n",
       "      <th>temp</th>\n",
       "      <th>atemp</th>\n",
       "      <th>hum</th>\n",
       "      <th>windspeed</th>\n",
       "      <th>cnt</th>\n",
       "    </tr>\n",
       "  </thead>\n",
       "  <tbody>\n",
       "    <tr>\n",
       "      <th>0</th>\n",
       "      <td>0</td>\n",
       "      <td>0.344167</td>\n",
       "      <td>0.363625</td>\n",
       "      <td>0.805833</td>\n",
       "      <td>0.160446</td>\n",
       "      <td>1</td>\n",
       "      <td>0</td>\n",
       "      <td>0</td>\n",
       "      <td>0</td>\n",
       "      <td>1</td>\n",
       "      <td>...</td>\n",
       "      <td>0</td>\n",
       "      <td>0</td>\n",
       "      <td>1</td>\n",
       "      <td>0</td>\n",
       "      <td>0</td>\n",
       "      <td>0.344167</td>\n",
       "      <td>0.363625</td>\n",
       "      <td>0.805833</td>\n",
       "      <td>0.160446</td>\n",
       "      <td>985</td>\n",
       "    </tr>\n",
       "    <tr>\n",
       "      <th>1</th>\n",
       "      <td>0</td>\n",
       "      <td>0.363478</td>\n",
       "      <td>0.353739</td>\n",
       "      <td>0.696087</td>\n",
       "      <td>0.248539</td>\n",
       "      <td>1</td>\n",
       "      <td>0</td>\n",
       "      <td>0</td>\n",
       "      <td>0</td>\n",
       "      <td>1</td>\n",
       "      <td>...</td>\n",
       "      <td>0</td>\n",
       "      <td>0</td>\n",
       "      <td>1</td>\n",
       "      <td>0</td>\n",
       "      <td>0</td>\n",
       "      <td>0.363478</td>\n",
       "      <td>0.353739</td>\n",
       "      <td>0.696087</td>\n",
       "      <td>0.248539</td>\n",
       "      <td>801</td>\n",
       "    </tr>\n",
       "    <tr>\n",
       "      <th>2</th>\n",
       "      <td>1</td>\n",
       "      <td>0.196364</td>\n",
       "      <td>0.189405</td>\n",
       "      <td>0.437273</td>\n",
       "      <td>0.248309</td>\n",
       "      <td>1</td>\n",
       "      <td>0</td>\n",
       "      <td>0</td>\n",
       "      <td>0</td>\n",
       "      <td>1</td>\n",
       "      <td>...</td>\n",
       "      <td>0</td>\n",
       "      <td>1</td>\n",
       "      <td>0</td>\n",
       "      <td>1</td>\n",
       "      <td>0</td>\n",
       "      <td>0.196364</td>\n",
       "      <td>0.189405</td>\n",
       "      <td>0.437273</td>\n",
       "      <td>0.248309</td>\n",
       "      <td>1349</td>\n",
       "    </tr>\n",
       "    <tr>\n",
       "      <th>3</th>\n",
       "      <td>1</td>\n",
       "      <td>0.200000</td>\n",
       "      <td>0.212122</td>\n",
       "      <td>0.590435</td>\n",
       "      <td>0.160296</td>\n",
       "      <td>1</td>\n",
       "      <td>0</td>\n",
       "      <td>0</td>\n",
       "      <td>0</td>\n",
       "      <td>1</td>\n",
       "      <td>...</td>\n",
       "      <td>0</td>\n",
       "      <td>1</td>\n",
       "      <td>0</td>\n",
       "      <td>1</td>\n",
       "      <td>0</td>\n",
       "      <td>0.200000</td>\n",
       "      <td>0.212122</td>\n",
       "      <td>0.590435</td>\n",
       "      <td>0.160296</td>\n",
       "      <td>1562</td>\n",
       "    </tr>\n",
       "    <tr>\n",
       "      <th>4</th>\n",
       "      <td>1</td>\n",
       "      <td>0.226957</td>\n",
       "      <td>0.229270</td>\n",
       "      <td>0.436957</td>\n",
       "      <td>0.186900</td>\n",
       "      <td>1</td>\n",
       "      <td>0</td>\n",
       "      <td>0</td>\n",
       "      <td>0</td>\n",
       "      <td>1</td>\n",
       "      <td>...</td>\n",
       "      <td>0</td>\n",
       "      <td>1</td>\n",
       "      <td>0</td>\n",
       "      <td>1</td>\n",
       "      <td>0</td>\n",
       "      <td>0.226957</td>\n",
       "      <td>0.229270</td>\n",
       "      <td>0.436957</td>\n",
       "      <td>0.186900</td>\n",
       "      <td>1600</td>\n",
       "    </tr>\n",
       "  </tbody>\n",
       "</table>\n",
       "<p>5 rows × 41 columns</p>\n",
       "</div>"
      ],
      "text/plain": [
       "   workingday      temp     atemp       hum  windspeed  season_1.0  \\\n",
       "0           0  0.344167  0.363625  0.805833   0.160446           1   \n",
       "1           0  0.363478  0.353739  0.696087   0.248539           1   \n",
       "2           1  0.196364  0.189405  0.437273   0.248309           1   \n",
       "3           1  0.200000  0.212122  0.590435   0.160296           1   \n",
       "4           1  0.226957  0.229270  0.436957   0.186900           1   \n",
       "\n",
       "   season_2.0  season_3.0  season_4.0  yr_0.0  ...  weekday_5.0  workingday  \\\n",
       "0           0           0           0       1  ...            0           0   \n",
       "1           0           0           0       1  ...            0           0   \n",
       "2           0           0           0       1  ...            0           1   \n",
       "3           0           0           0       1  ...            0           1   \n",
       "4           0           0           0       1  ...            0           1   \n",
       "\n",
       "   weathersit_2.0  weathersit_1.0  weathersit_3.0      temp     atemp  \\\n",
       "0               1               0               0  0.344167  0.363625   \n",
       "1               1               0               0  0.363478  0.353739   \n",
       "2               0               1               0  0.196364  0.189405   \n",
       "3               0               1               0  0.200000  0.212122   \n",
       "4               0               1               0  0.226957  0.229270   \n",
       "\n",
       "        hum  windspeed   cnt  \n",
       "0  0.805833   0.160446   985  \n",
       "1  0.696087   0.248539   801  \n",
       "2  0.437273   0.248309  1349  \n",
       "3  0.590435   0.160296  1562  \n",
       "4  0.436957   0.186900  1600  \n",
       "\n",
       "[5 rows x 41 columns]"
      ]
     },
     "execution_count": 13,
     "metadata": {},
     "output_type": "execute_result"
    }
   ],
   "source": [
    "new_df.head()"
   ]
  },
  {
   "cell_type": "code",
   "execution_count": 14,
   "id": "5e9e1dcd",
   "metadata": {
    "_cell_guid": "79fda334-0f33-4418-ae63-ba35a23ff066",
    "_uuid": "b792fcab-92ae-4a6e-96c4-7f414e43d505",
    "collapsed": false,
    "execution": {
     "iopub.execute_input": "2022-09-30T22:46:36.177138Z",
     "iopub.status.busy": "2022-09-30T22:46:36.176462Z",
     "iopub.status.idle": "2022-09-30T22:46:36.186820Z",
     "shell.execute_reply": "2022-09-30T22:46:36.185998Z"
    },
    "jupyter": {
     "outputs_hidden": false
    },
    "papermill": {
     "duration": 0.025761,
     "end_time": "2022-09-30T22:46:36.189083",
     "exception": false,
     "start_time": "2022-09-30T22:46:36.163322",
     "status": "completed"
    },
    "tags": []
   },
   "outputs": [],
   "source": [
    "X = new_df.drop(['cnt','workingday'], axis = 1)\n",
    "y = new_df['cnt']"
   ]
  },
  {
   "cell_type": "markdown",
   "id": "901846f6",
   "metadata": {
    "papermill": {
     "duration": 0.011453,
     "end_time": "2022-09-30T22:46:36.212376",
     "exception": false,
     "start_time": "2022-09-30T22:46:36.200923",
     "status": "completed"
    },
    "tags": []
   },
   "source": [
    "**Workingday** is dropped because it is related with holiday "
   ]
  },
  {
   "cell_type": "code",
   "execution_count": 15,
   "id": "15b0f40f",
   "metadata": {
    "execution": {
     "iopub.execute_input": "2022-09-30T22:46:36.237882Z",
     "iopub.status.busy": "2022-09-30T22:46:36.237248Z",
     "iopub.status.idle": "2022-09-30T22:46:36.245431Z",
     "shell.execute_reply": "2022-09-30T22:46:36.244300Z"
    },
    "papermill": {
     "duration": 0.023688,
     "end_time": "2022-09-30T22:46:36.247853",
     "exception": false,
     "start_time": "2022-09-30T22:46:36.224165",
     "status": "completed"
    },
    "tags": []
   },
   "outputs": [
    {
     "data": {
      "text/plain": [
       "0       985\n",
       "1       801\n",
       "2      1349\n",
       "3      1562\n",
       "4      1600\n",
       "       ... \n",
       "726    2114\n",
       "727    3095\n",
       "728    1341\n",
       "729    1796\n",
       "730    2729\n",
       "Name: cnt, Length: 731, dtype: int64"
      ]
     },
     "execution_count": 15,
     "metadata": {},
     "output_type": "execute_result"
    }
   ],
   "source": [
    "y"
   ]
  },
  {
   "cell_type": "code",
   "execution_count": 16,
   "id": "d562f2d1",
   "metadata": {
    "_cell_guid": "70659f9d-060f-4279-9c62-9da4d5ca4d75",
    "_uuid": "bbf8619c-ebca-4f2f-81ef-ad4c8ba5e03d",
    "collapsed": false,
    "execution": {
     "iopub.execute_input": "2022-09-30T22:46:36.273951Z",
     "iopub.status.busy": "2022-09-30T22:46:36.273579Z",
     "iopub.status.idle": "2022-09-30T22:46:36.280982Z",
     "shell.execute_reply": "2022-09-30T22:46:36.279884Z"
    },
    "jupyter": {
     "outputs_hidden": false
    },
    "papermill": {
     "duration": 0.023676,
     "end_time": "2022-09-30T22:46:36.283275",
     "exception": false,
     "start_time": "2022-09-30T22:46:36.259599",
     "status": "completed"
    },
    "tags": []
   },
   "outputs": [],
   "source": [
    "X_train, X_test, y_train, y_test = train_test_split(X, y, test_size=0.3, random_state=42)"
   ]
  },
  {
   "cell_type": "code",
   "execution_count": 17,
   "id": "c3eb0c71",
   "metadata": {
    "_cell_guid": "8bb57773-01c9-4194-a7cd-6c34adcc6127",
    "_uuid": "f0dc72ff-52ee-483c-91db-24c11e915c73",
    "collapsed": false,
    "execution": {
     "iopub.execute_input": "2022-09-30T22:46:36.308650Z",
     "iopub.status.busy": "2022-09-30T22:46:36.308271Z",
     "iopub.status.idle": "2022-09-30T22:46:36.384217Z",
     "shell.execute_reply": "2022-09-30T22:46:36.382847Z"
    },
    "jupyter": {
     "outputs_hidden": false
    },
    "papermill": {
     "duration": 0.092733,
     "end_time": "2022-09-30T22:46:36.387874",
     "exception": false,
     "start_time": "2022-09-30T22:46:36.295141",
     "status": "completed"
    },
    "tags": []
   },
   "outputs": [],
   "source": [
    "from sklearn.linear_model import LinearRegression"
   ]
  },
  {
   "cell_type": "code",
   "execution_count": 18,
   "id": "b4d8c1f4",
   "metadata": {
    "_cell_guid": "ccd23d47-34ae-4202-8146-c21f89410662",
    "_uuid": "8d688102-4969-4acf-a23b-4aefbd35247c",
    "collapsed": false,
    "execution": {
     "iopub.execute_input": "2022-09-30T22:46:36.418286Z",
     "iopub.status.busy": "2022-09-30T22:46:36.417612Z",
     "iopub.status.idle": "2022-09-30T22:46:36.422889Z",
     "shell.execute_reply": "2022-09-30T22:46:36.421917Z"
    },
    "jupyter": {
     "outputs_hidden": false
    },
    "papermill": {
     "duration": 0.022601,
     "end_time": "2022-09-30T22:46:36.425392",
     "exception": false,
     "start_time": "2022-09-30T22:46:36.402791",
     "status": "completed"
    },
    "tags": []
   },
   "outputs": [],
   "source": [
    "LR = LinearRegression()"
   ]
  },
  {
   "cell_type": "code",
   "execution_count": 19,
   "id": "b3884ac5",
   "metadata": {
    "_cell_guid": "0b152974-58db-4c83-a3c2-35776691e45c",
    "_uuid": "530b4383-6391-405f-90e0-9370a002ba80",
    "collapsed": false,
    "execution": {
     "iopub.execute_input": "2022-09-30T22:46:36.457711Z",
     "iopub.status.busy": "2022-09-30T22:46:36.457208Z",
     "iopub.status.idle": "2022-09-30T22:46:36.500095Z",
     "shell.execute_reply": "2022-09-30T22:46:36.498879Z"
    },
    "jupyter": {
     "outputs_hidden": false
    },
    "papermill": {
     "duration": 0.062345,
     "end_time": "2022-09-30T22:46:36.503505",
     "exception": false,
     "start_time": "2022-09-30T22:46:36.441160",
     "status": "completed"
    },
    "tags": []
   },
   "outputs": [
    {
     "data": {
      "text/plain": [
       "LinearRegression()"
      ]
     },
     "execution_count": 19,
     "metadata": {},
     "output_type": "execute_result"
    }
   ],
   "source": [
    "LR.fit(X_train, y_train)"
   ]
  },
  {
   "cell_type": "code",
   "execution_count": 20,
   "id": "0537750e",
   "metadata": {
    "execution": {
     "iopub.execute_input": "2022-09-30T22:46:36.599030Z",
     "iopub.status.busy": "2022-09-30T22:46:36.585895Z",
     "iopub.status.idle": "2022-09-30T22:46:36.614470Z",
     "shell.execute_reply": "2022-09-30T22:46:36.613262Z"
    },
    "papermill": {
     "duration": 0.086969,
     "end_time": "2022-09-30T22:46:36.616819",
     "exception": false,
     "start_time": "2022-09-30T22:46:36.529850",
     "status": "completed"
    },
    "tags": []
   },
   "outputs": [
    {
     "data": {
      "text/plain": [
       "array([-1.22890549e+16,  1.84050000e+03, -6.52083811e+02, -1.10960252e+03,\n",
       "       -9.46236603e+02,  1.10402434e+02,  1.16859425e+02,  7.86333604e+02,\n",
       "       -9.91436156e+02,  9.71052084e+02, -7.61286502e+01,  5.92396907e+01,\n",
       "        4.90914051e+02,  8.37791449e+01,  3.26381701e+02,  1.47548247e+01,\n",
       "       -5.47806058e+02, -2.31291306e+02,  5.58128836e+02,  1.83645124e+02,\n",
       "       -4.26070831e+02, -3.40710852e+02,  2.85023358e+02, -2.90367108e+02,\n",
       "        1.17002260e+02, -3.42486123e+02, -5.21637419e+01, -4.73031381e+01,\n",
       "        6.56444483e+01,  6.77283970e+01,  1.36528345e+02,  2.31578465e+02,\n",
       "        7.52826270e+02, -1.04573438e+03,  1.22890549e+16,  1.90175000e+03,\n",
       "       -6.93265625e+02, -1.15386719e+03])"
      ]
     },
     "execution_count": 20,
     "metadata": {},
     "output_type": "execute_result"
    }
   ],
   "source": [
    "LR.coef_"
   ]
  },
  {
   "cell_type": "code",
   "execution_count": 21,
   "id": "829ac74f",
   "metadata": {
    "_cell_guid": "31b8c3bd-3793-493a-a328-6d2a32efe2a9",
    "_uuid": "f27359ee-189f-4579-9493-f7ba484a8505",
    "collapsed": false,
    "execution": {
     "iopub.execute_input": "2022-09-30T22:46:36.644094Z",
     "iopub.status.busy": "2022-09-30T22:46:36.643337Z",
     "iopub.status.idle": "2022-09-30T22:46:36.666293Z",
     "shell.execute_reply": "2022-09-30T22:46:36.665163Z"
    },
    "jupyter": {
     "outputs_hidden": false
    },
    "papermill": {
     "duration": 0.040239,
     "end_time": "2022-09-30T22:46:36.669810",
     "exception": false,
     "start_time": "2022-09-30T22:46:36.629571",
     "status": "completed"
    },
    "tags": []
   },
   "outputs": [],
   "source": [
    "pred = LR.predict(X_train)"
   ]
  },
  {
   "cell_type": "code",
   "execution_count": 22,
   "id": "917b6e64",
   "metadata": {
    "execution": {
     "iopub.execute_input": "2022-09-30T22:46:36.748123Z",
     "iopub.status.busy": "2022-09-30T22:46:36.747429Z",
     "iopub.status.idle": "2022-09-30T22:46:36.753510Z",
     "shell.execute_reply": "2022-09-30T22:46:36.752297Z"
    },
    "papermill": {
     "duration": 0.052804,
     "end_time": "2022-09-30T22:46:36.759206",
     "exception": false,
     "start_time": "2022-09-30T22:46:36.706402",
     "status": "completed"
    },
    "tags": []
   },
   "outputs": [],
   "source": [
    "from sklearn.metrics import mean_squared_error,r2_score"
   ]
  },
  {
   "cell_type": "markdown",
   "id": "f62f620f",
   "metadata": {
    "papermill": {
     "duration": 0.014061,
     "end_time": "2022-09-30T22:46:36.800207",
     "exception": false,
     "start_time": "2022-09-30T22:46:36.786146",
     "status": "completed"
    },
    "tags": []
   },
   "source": [
    "**Question 4. c)**\n",
    "\n",
    "The rmse and r^2 value for training dataset using Linear Regression and Random Forest are:"
   ]
  },
  {
   "cell_type": "code",
   "execution_count": 23,
   "id": "5dadccab",
   "metadata": {
    "_cell_guid": "138452f7-ede1-4386-b6f4-26b87dc24bda",
    "_uuid": "15a0d3b5-20c2-49e6-aee1-d068e15f6234",
    "collapsed": false,
    "execution": {
     "iopub.execute_input": "2022-09-30T22:46:36.826452Z",
     "iopub.status.busy": "2022-09-30T22:46:36.826011Z",
     "iopub.status.idle": "2022-09-30T22:46:36.837412Z",
     "shell.execute_reply": "2022-09-30T22:46:36.834246Z"
    },
    "jupyter": {
     "outputs_hidden": false
    },
    "papermill": {
     "duration": 0.027745,
     "end_time": "2022-09-30T22:46:36.840162",
     "exception": false,
     "start_time": "2022-09-30T22:46:36.812417",
     "status": "completed"
    },
    "tags": []
   },
   "outputs": [
    {
     "data": {
      "text/plain": [
       "759.0600752359645"
      ]
     },
     "execution_count": 23,
     "metadata": {},
     "output_type": "execute_result"
    }
   ],
   "source": [
    "mean_squared_error(y_train, pred,squared=False)"
   ]
  },
  {
   "cell_type": "code",
   "execution_count": 24,
   "id": "eafcbb98",
   "metadata": {
    "_cell_guid": "6fab633d-fb85-499b-a3ad-562a0c1fd422",
    "_uuid": "24b978a6-b3b0-4ad2-9277-591433a71fdf",
    "collapsed": false,
    "execution": {
     "iopub.execute_input": "2022-09-30T22:46:36.872468Z",
     "iopub.status.busy": "2022-09-30T22:46:36.871994Z",
     "iopub.status.idle": "2022-09-30T22:46:36.880570Z",
     "shell.execute_reply": "2022-09-30T22:46:36.879454Z"
    },
    "jupyter": {
     "outputs_hidden": false
    },
    "papermill": {
     "duration": 0.027061,
     "end_time": "2022-09-30T22:46:36.882850",
     "exception": false,
     "start_time": "2022-09-30T22:46:36.855789",
     "status": "completed"
    },
    "tags": []
   },
   "outputs": [
    {
     "data": {
      "text/plain": [
       "0.8416632435493496"
      ]
     },
     "execution_count": 24,
     "metadata": {},
     "output_type": "execute_result"
    }
   ],
   "source": [
    "r2_score(y_train, pred)"
   ]
  },
  {
   "cell_type": "code",
   "execution_count": 25,
   "id": "e008bd0f",
   "metadata": {
    "execution": {
     "iopub.execute_input": "2022-09-30T22:46:36.909444Z",
     "iopub.status.busy": "2022-09-30T22:46:36.908365Z",
     "iopub.status.idle": "2022-09-30T22:46:37.050228Z",
     "shell.execute_reply": "2022-09-30T22:46:37.048947Z"
    },
    "papermill": {
     "duration": 0.157931,
     "end_time": "2022-09-30T22:46:37.053192",
     "exception": false,
     "start_time": "2022-09-30T22:46:36.895261",
     "status": "completed"
    },
    "tags": []
   },
   "outputs": [],
   "source": [
    "from sklearn.ensemble import RandomForestRegressor"
   ]
  },
  {
   "cell_type": "code",
   "execution_count": 26,
   "id": "c2b8a969",
   "metadata": {
    "execution": {
     "iopub.execute_input": "2022-09-30T22:46:37.079148Z",
     "iopub.status.busy": "2022-09-30T22:46:37.078720Z",
     "iopub.status.idle": "2022-09-30T22:46:37.083546Z",
     "shell.execute_reply": "2022-09-30T22:46:37.082386Z"
    },
    "papermill": {
     "duration": 0.020453,
     "end_time": "2022-09-30T22:46:37.085841",
     "exception": false,
     "start_time": "2022-09-30T22:46:37.065388",
     "status": "completed"
    },
    "tags": []
   },
   "outputs": [],
   "source": [
    "RF = RandomForestRegressor()"
   ]
  },
  {
   "cell_type": "code",
   "execution_count": 27,
   "id": "fa646df3",
   "metadata": {
    "execution": {
     "iopub.execute_input": "2022-09-30T22:46:37.112076Z",
     "iopub.status.busy": "2022-09-30T22:46:37.111664Z",
     "iopub.status.idle": "2022-09-30T22:46:37.582051Z",
     "shell.execute_reply": "2022-09-30T22:46:37.580711Z"
    },
    "papermill": {
     "duration": 0.486684,
     "end_time": "2022-09-30T22:46:37.584797",
     "exception": false,
     "start_time": "2022-09-30T22:46:37.098113",
     "status": "completed"
    },
    "tags": []
   },
   "outputs": [
    {
     "data": {
      "text/plain": [
       "RandomForestRegressor()"
      ]
     },
     "execution_count": 27,
     "metadata": {},
     "output_type": "execute_result"
    }
   ],
   "source": [
    "RF.fit(X_train,y_train)"
   ]
  },
  {
   "cell_type": "code",
   "execution_count": 28,
   "id": "0d0bebcf",
   "metadata": {
    "execution": {
     "iopub.execute_input": "2022-09-30T22:46:37.610808Z",
     "iopub.status.busy": "2022-09-30T22:46:37.610382Z",
     "iopub.status.idle": "2022-09-30T22:46:37.637477Z",
     "shell.execute_reply": "2022-09-30T22:46:37.636396Z"
    },
    "papermill": {
     "duration": 0.042894,
     "end_time": "2022-09-30T22:46:37.639924",
     "exception": false,
     "start_time": "2022-09-30T22:46:37.597030",
     "status": "completed"
    },
    "tags": []
   },
   "outputs": [
    {
     "data": {
      "text/plain": [
       "272.3434028449924"
      ]
     },
     "execution_count": 28,
     "metadata": {},
     "output_type": "execute_result"
    }
   ],
   "source": [
    "mean_squared_error(y_train, RF.predict(X_train),squared=False)"
   ]
  },
  {
   "cell_type": "code",
   "execution_count": 29,
   "id": "f225ee3f",
   "metadata": {
    "execution": {
     "iopub.execute_input": "2022-09-30T22:46:37.667168Z",
     "iopub.status.busy": "2022-09-30T22:46:37.666738Z",
     "iopub.status.idle": "2022-09-30T22:46:37.693899Z",
     "shell.execute_reply": "2022-09-30T22:46:37.692762Z"
    },
    "papermill": {
     "duration": 0.044044,
     "end_time": "2022-09-30T22:46:37.696531",
     "exception": false,
     "start_time": "2022-09-30T22:46:37.652487",
     "status": "completed"
    },
    "tags": []
   },
   "outputs": [
    {
     "data": {
      "text/plain": [
       "0.9796172318329988"
      ]
     },
     "execution_count": 29,
     "metadata": {},
     "output_type": "execute_result"
    }
   ],
   "source": [
    "r2_score(y_train,RF.predict(X_train))"
   ]
  },
  {
   "cell_type": "code",
   "execution_count": 30,
   "id": "538095bc",
   "metadata": {
    "_cell_guid": "1103ebfd-5b43-410a-b9e2-f1451641d0c4",
    "_uuid": "3ed5fd52-3240-4b3a-939b-c08e9b301e2e",
    "collapsed": false,
    "execution": {
     "iopub.execute_input": "2022-09-30T22:46:37.723668Z",
     "iopub.status.busy": "2022-09-30T22:46:37.722498Z",
     "iopub.status.idle": "2022-09-30T22:46:37.730377Z",
     "shell.execute_reply": "2022-09-30T22:46:37.729218Z"
    },
    "jupyter": {
     "outputs_hidden": false
    },
    "papermill": {
     "duration": 0.024267,
     "end_time": "2022-09-30T22:46:37.733085",
     "exception": false,
     "start_time": "2022-09-30T22:46:37.708818",
     "status": "completed"
    },
    "tags": []
   },
   "outputs": [],
   "source": [
    "y_pred = LR.predict(X_test)"
   ]
  },
  {
   "cell_type": "markdown",
   "id": "49dbc2dd",
   "metadata": {
    "papermill": {
     "duration": 0.012124,
     "end_time": "2022-09-30T22:46:37.758388",
     "exception": false,
     "start_time": "2022-09-30T22:46:37.746264",
     "status": "completed"
    },
    "tags": []
   },
   "source": [
    "**Question 4. d)**\n",
    "\n",
    "The rmse and r^2 value for test using Linear Regression and Random Forest are:"
   ]
  },
  {
   "cell_type": "code",
   "execution_count": 31,
   "id": "835f2bda",
   "metadata": {
    "_cell_guid": "0da80469-0753-4ad7-aa41-454724050843",
    "_uuid": "1ef2e5e2-8418-43e0-8697-a72ad6d65f8f",
    "collapsed": false,
    "execution": {
     "iopub.execute_input": "2022-09-30T22:46:37.785306Z",
     "iopub.status.busy": "2022-09-30T22:46:37.784210Z",
     "iopub.status.idle": "2022-09-30T22:46:37.791026Z",
     "shell.execute_reply": "2022-09-30T22:46:37.790198Z"
    },
    "jupyter": {
     "outputs_hidden": false
    },
    "papermill": {
     "duration": 0.022436,
     "end_time": "2022-09-30T22:46:37.793083",
     "exception": false,
     "start_time": "2022-09-30T22:46:37.770647",
     "status": "completed"
    },
    "tags": []
   },
   "outputs": [
    {
     "data": {
      "text/plain": [
       "774.1783135397773"
      ]
     },
     "execution_count": 31,
     "metadata": {},
     "output_type": "execute_result"
    }
   ],
   "source": [
    "mean_squared_error(y_test, y_pred,squared=False)"
   ]
  },
  {
   "cell_type": "code",
   "execution_count": 32,
   "id": "112d3fe5",
   "metadata": {
    "_cell_guid": "a8435401-5e4c-430d-b807-2f4eb29f8f30",
    "_uuid": "4c590e5c-03c7-4e4c-8a2b-b09d57e17a24",
    "collapsed": false,
    "execution": {
     "iopub.execute_input": "2022-09-30T22:46:37.820235Z",
     "iopub.status.busy": "2022-09-30T22:46:37.819181Z",
     "iopub.status.idle": "2022-09-30T22:46:37.826134Z",
     "shell.execute_reply": "2022-09-30T22:46:37.825105Z"
    },
    "jupyter": {
     "outputs_hidden": false
    },
    "papermill": {
     "duration": 0.022685,
     "end_time": "2022-09-30T22:46:37.828183",
     "exception": false,
     "start_time": "2022-09-30T22:46:37.805498",
     "status": "completed"
    },
    "tags": []
   },
   "outputs": [
    {
     "data": {
      "text/plain": [
       "0.8493698992205666"
      ]
     },
     "execution_count": 32,
     "metadata": {},
     "output_type": "execute_result"
    }
   ],
   "source": [
    "r2_score(y_test,y_pred)"
   ]
  },
  {
   "cell_type": "code",
   "execution_count": 33,
   "id": "a5223b49",
   "metadata": {
    "execution": {
     "iopub.execute_input": "2022-09-30T22:46:37.855285Z",
     "iopub.status.busy": "2022-09-30T22:46:37.854647Z",
     "iopub.status.idle": "2022-09-30T22:46:38.087473Z",
     "shell.execute_reply": "2022-09-30T22:46:38.086322Z"
    },
    "papermill": {
     "duration": 0.249126,
     "end_time": "2022-09-30T22:46:38.089883",
     "exception": false,
     "start_time": "2022-09-30T22:46:37.840757",
     "status": "completed"
    },
    "tags": []
   },
   "outputs": [
    {
     "data": {
      "text/plain": [
       "RandomForestRegressor()"
      ]
     },
     "execution_count": 33,
     "metadata": {},
     "output_type": "execute_result"
    }
   ],
   "source": [
    "RF.fit(X_test,y_test)"
   ]
  },
  {
   "cell_type": "code",
   "execution_count": 34,
   "id": "b4d146d5",
   "metadata": {
    "execution": {
     "iopub.execute_input": "2022-09-30T22:46:38.117232Z",
     "iopub.status.busy": "2022-09-30T22:46:38.116800Z",
     "iopub.status.idle": "2022-09-30T22:46:38.140053Z",
     "shell.execute_reply": "2022-09-30T22:46:38.138893Z"
    },
    "papermill": {
     "duration": 0.03978,
     "end_time": "2022-09-30T22:46:38.142513",
     "exception": false,
     "start_time": "2022-09-30T22:46:38.102733",
     "status": "completed"
    },
    "tags": []
   },
   "outputs": [
    {
     "data": {
      "text/plain": [
       "287.6877860024648"
      ]
     },
     "execution_count": 34,
     "metadata": {},
     "output_type": "execute_result"
    }
   ],
   "source": [
    "mean_squared_error(y_test, RF.predict(X_test),squared=False)"
   ]
  },
  {
   "cell_type": "code",
   "execution_count": 35,
   "id": "540ad4ee",
   "metadata": {
    "_cell_guid": "bba1bd91-cca0-4bb6-b9e2-6ebb7751d6e9",
    "_uuid": "303ac0d8-c25e-4904-b6aa-377f910fea48",
    "collapsed": false,
    "execution": {
     "iopub.execute_input": "2022-09-30T22:46:38.171720Z",
     "iopub.status.busy": "2022-09-30T22:46:38.170586Z",
     "iopub.status.idle": "2022-09-30T22:46:38.194276Z",
     "shell.execute_reply": "2022-09-30T22:46:38.192923Z"
    },
    "jupyter": {
     "outputs_hidden": false
    },
    "papermill": {
     "duration": 0.040739,
     "end_time": "2022-09-30T22:46:38.196688",
     "exception": false,
     "start_time": "2022-09-30T22:46:38.155949",
     "status": "completed"
    },
    "tags": []
   },
   "outputs": [
    {
     "data": {
      "text/plain": [
       "0.979199555709627"
      ]
     },
     "execution_count": 35,
     "metadata": {},
     "output_type": "execute_result"
    }
   ],
   "source": [
    "r2_score(y_test,RF.predict(X_test))"
   ]
  },
  {
   "cell_type": "markdown",
   "id": "e41d050b",
   "metadata": {
    "_cell_guid": "a0a2b805-7db3-4fb9-b640-2b80a2af8e33",
    "_uuid": "562b49b1-533c-4472-afd1-25fcb73d2edf",
    "papermill": {
     "duration": 0.013136,
     "end_time": "2022-09-30T22:46:38.223105",
     "exception": false,
     "start_time": "2022-09-30T22:46:38.209969",
     "status": "completed"
    },
    "tags": []
   },
   "source": [
    "**Question 4. e)**\n",
    "\n",
    "**atemp has the highest positive correlation and windspeed has the highest negative correlation, these are the features which give significant contribution.**\n",
    "\n",
    "**The model has a good fit with r square value of 0.979 while using Random Forest and 0.849 using Linear Regression.**\n",
    "\n",
    "**The same goes for rmse value.**\n",
    "\n",
    "**This indicates that Random Forest has a better fit as compared to Linear Regression for this model.**\n",
    "\n",
    "**The model fits the data well using Linear Regression which answers to the question how well the model fits.**"
   ]
  }
 ],
 "metadata": {
  "kernelspec": {
   "display_name": "Python 3",
   "language": "python",
   "name": "python3"
  },
  "language_info": {
   "codemirror_mode": {
    "name": "ipython",
    "version": 3
   },
   "file_extension": ".py",
   "mimetype": "text/x-python",
   "name": "python",
   "nbconvert_exporter": "python",
   "pygments_lexer": "ipython3",
   "version": "3.7.12"
  },
  "papermill": {
   "default_parameters": {},
   "duration": 13.766194,
   "end_time": "2022-09-30T22:46:38.959033",
   "environment_variables": {},
   "exception": null,
   "input_path": "__notebook__.ipynb",
   "output_path": "__notebook__.ipynb",
   "parameters": {},
   "start_time": "2022-09-30T22:46:25.192839",
   "version": "2.3.4"
  }
 },
 "nbformat": 4,
 "nbformat_minor": 5
}
