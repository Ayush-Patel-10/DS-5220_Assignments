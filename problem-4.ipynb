{
 "cells": [
  {
   "cell_type": "code",
   "execution_count": 1,
   "id": "f2c8b7f7",
   "metadata": {
    "_cell_guid": "7754c37c-cac3-41db-a751-9411d740a623",
    "_uuid": "d1915725-acd3-4f7e-b399-56c66192534c",
    "collapsed": false,
    "execution": {
     "iopub.execute_input": "2022-09-29T21:17:20.211036Z",
     "iopub.status.busy": "2022-09-29T21:17:20.210562Z",
     "iopub.status.idle": "2022-09-29T21:17:20.238127Z",
     "shell.execute_reply": "2022-09-29T21:17:20.236964Z"
    },
    "jupyter": {
     "outputs_hidden": false
    },
    "papermill": {
     "duration": 0.042019,
     "end_time": "2022-09-29T21:17:20.241131",
     "exception": false,
     "start_time": "2022-09-29T21:17:20.199112",
     "status": "completed"
    },
    "tags": []
   },
   "outputs": [
    {
     "name": "stdout",
     "output_type": "stream",
     "text": [
      "/kaggle/input/bike-sharing-dataset/hour.csv\n",
      "/kaggle/input/bike-sharing-dataset/Readme.txt\n",
      "/kaggle/input/bike-sharing-dataset/day.csv\n",
      "/kaggle/input/bike-sharing-dataset/bike-sharing-dataset/hour.csv\n",
      "/kaggle/input/bike-sharing-dataset/bike-sharing-dataset/Readme.txt\n",
      "/kaggle/input/bike-sharing-dataset/bike-sharing-dataset/day.csv\n"
     ]
    }
   ],
   "source": [
    "# This Python 3 environment comes with many helpful analytics libraries installed\n",
    "# It is defined by the kaggle/python Docker image: https://github.com/kaggle/docker-python\n",
    "# For example, here's several helpful packages to load\n",
    "\n",
    "import numpy as np # linear algebra\n",
    "import pandas as pd # data processing, CSV file I/O (e.g. pd.read_csv)\n",
    "\n",
    "# Input data files are available in the read-only \"../input/\" directory\n",
    "# For example, running this (by clicking run or pressing Shift+Enter) will list all files under the input directory\n",
    "\n",
    "import os\n",
    "for dirname, _, filenames in os.walk('/kaggle/input'):\n",
    "    for filename in filenames:\n",
    "        print(os.path.join(dirname, filename))\n",
    "\n",
    "# You can write up to 20GB to the current directory (/kaggle/working/) that gets preserved as output when you create a version using \"Save & Run All\" \n",
    "# You can also write temporary files to /kaggle/temp/, but they won't be saved outside of the current session"
   ]
  },
  {
   "cell_type": "code",
   "execution_count": 2,
   "id": "e3c34d60",
   "metadata": {
    "execution": {
     "iopub.execute_input": "2022-09-29T21:17:20.260892Z",
     "iopub.status.busy": "2022-09-29T21:17:20.260160Z",
     "iopub.status.idle": "2022-09-29T21:17:21.448750Z",
     "shell.execute_reply": "2022-09-29T21:17:21.447460Z"
    },
    "papermill": {
     "duration": 1.201766,
     "end_time": "2022-09-29T21:17:21.451740",
     "exception": false,
     "start_time": "2022-09-29T21:17:20.249974",
     "status": "completed"
    },
    "tags": []
   },
   "outputs": [],
   "source": [
    "from numpy import argmax\n",
    "from sklearn.preprocessing import LabelEncoder\n",
    "from sklearn.preprocessing import OneHotEncoder"
   ]
  },
  {
   "cell_type": "code",
   "execution_count": 3,
   "id": "44be7073",
   "metadata": {
    "_cell_guid": "6e425efa-7eed-4396-a3c0-3ad477f7d8ec",
    "_uuid": "304c716b-f1c2-4e4c-9f61-a7468fc9ceaf",
    "collapsed": false,
    "execution": {
     "iopub.execute_input": "2022-09-29T21:17:21.471618Z",
     "iopub.status.busy": "2022-09-29T21:17:21.471164Z",
     "iopub.status.idle": "2022-09-29T21:17:21.496551Z",
     "shell.execute_reply": "2022-09-29T21:17:21.495024Z"
    },
    "jupyter": {
     "outputs_hidden": false
    },
    "papermill": {
     "duration": 0.038465,
     "end_time": "2022-09-29T21:17:21.499461",
     "exception": false,
     "start_time": "2022-09-29T21:17:21.460996",
     "status": "completed"
    },
    "tags": []
   },
   "outputs": [],
   "source": [
    "df = pd.read_csv(\"../input/bike-sharing-dataset/day.csv\")"
   ]
  },
  {
   "cell_type": "code",
   "execution_count": 4,
   "id": "fe90b6df",
   "metadata": {
    "_cell_guid": "bb5f6659-f8cb-4e8e-b5b3-440b741b95aa",
    "_uuid": "37a3a90f-ade8-4efb-91d1-13ccaec7e3ff",
    "collapsed": false,
    "execution": {
     "iopub.execute_input": "2022-09-29T21:17:21.519156Z",
     "iopub.status.busy": "2022-09-29T21:17:21.518106Z",
     "iopub.status.idle": "2022-09-29T21:17:21.546318Z",
     "shell.execute_reply": "2022-09-29T21:17:21.545039Z"
    },
    "jupyter": {
     "outputs_hidden": false
    },
    "papermill": {
     "duration": 0.040942,
     "end_time": "2022-09-29T21:17:21.549022",
     "exception": false,
     "start_time": "2022-09-29T21:17:21.508080",
     "status": "completed"
    },
    "tags": []
   },
   "outputs": [
    {
     "data": {
      "text/html": [
       "<div>\n",
       "<style scoped>\n",
       "    .dataframe tbody tr th:only-of-type {\n",
       "        vertical-align: middle;\n",
       "    }\n",
       "\n",
       "    .dataframe tbody tr th {\n",
       "        vertical-align: top;\n",
       "    }\n",
       "\n",
       "    .dataframe thead th {\n",
       "        text-align: right;\n",
       "    }\n",
       "</style>\n",
       "<table border=\"1\" class=\"dataframe\">\n",
       "  <thead>\n",
       "    <tr style=\"text-align: right;\">\n",
       "      <th></th>\n",
       "      <th>instant</th>\n",
       "      <th>dteday</th>\n",
       "      <th>season</th>\n",
       "      <th>yr</th>\n",
       "      <th>mnth</th>\n",
       "      <th>holiday</th>\n",
       "      <th>weekday</th>\n",
       "      <th>workingday</th>\n",
       "      <th>weathersit</th>\n",
       "      <th>temp</th>\n",
       "      <th>atemp</th>\n",
       "      <th>hum</th>\n",
       "      <th>windspeed</th>\n",
       "      <th>casual</th>\n",
       "      <th>registered</th>\n",
       "      <th>cnt</th>\n",
       "    </tr>\n",
       "  </thead>\n",
       "  <tbody>\n",
       "    <tr>\n",
       "      <th>0</th>\n",
       "      <td>1</td>\n",
       "      <td>2011-01-01</td>\n",
       "      <td>1</td>\n",
       "      <td>0</td>\n",
       "      <td>1</td>\n",
       "      <td>0</td>\n",
       "      <td>6</td>\n",
       "      <td>0</td>\n",
       "      <td>2</td>\n",
       "      <td>0.344167</td>\n",
       "      <td>0.363625</td>\n",
       "      <td>0.805833</td>\n",
       "      <td>0.160446</td>\n",
       "      <td>331</td>\n",
       "      <td>654</td>\n",
       "      <td>985</td>\n",
       "    </tr>\n",
       "    <tr>\n",
       "      <th>1</th>\n",
       "      <td>2</td>\n",
       "      <td>2011-01-02</td>\n",
       "      <td>1</td>\n",
       "      <td>0</td>\n",
       "      <td>1</td>\n",
       "      <td>0</td>\n",
       "      <td>0</td>\n",
       "      <td>0</td>\n",
       "      <td>2</td>\n",
       "      <td>0.363478</td>\n",
       "      <td>0.353739</td>\n",
       "      <td>0.696087</td>\n",
       "      <td>0.248539</td>\n",
       "      <td>131</td>\n",
       "      <td>670</td>\n",
       "      <td>801</td>\n",
       "    </tr>\n",
       "    <tr>\n",
       "      <th>2</th>\n",
       "      <td>3</td>\n",
       "      <td>2011-01-03</td>\n",
       "      <td>1</td>\n",
       "      <td>0</td>\n",
       "      <td>1</td>\n",
       "      <td>0</td>\n",
       "      <td>1</td>\n",
       "      <td>1</td>\n",
       "      <td>1</td>\n",
       "      <td>0.196364</td>\n",
       "      <td>0.189405</td>\n",
       "      <td>0.437273</td>\n",
       "      <td>0.248309</td>\n",
       "      <td>120</td>\n",
       "      <td>1229</td>\n",
       "      <td>1349</td>\n",
       "    </tr>\n",
       "    <tr>\n",
       "      <th>3</th>\n",
       "      <td>4</td>\n",
       "      <td>2011-01-04</td>\n",
       "      <td>1</td>\n",
       "      <td>0</td>\n",
       "      <td>1</td>\n",
       "      <td>0</td>\n",
       "      <td>2</td>\n",
       "      <td>1</td>\n",
       "      <td>1</td>\n",
       "      <td>0.200000</td>\n",
       "      <td>0.212122</td>\n",
       "      <td>0.590435</td>\n",
       "      <td>0.160296</td>\n",
       "      <td>108</td>\n",
       "      <td>1454</td>\n",
       "      <td>1562</td>\n",
       "    </tr>\n",
       "    <tr>\n",
       "      <th>4</th>\n",
       "      <td>5</td>\n",
       "      <td>2011-01-05</td>\n",
       "      <td>1</td>\n",
       "      <td>0</td>\n",
       "      <td>1</td>\n",
       "      <td>0</td>\n",
       "      <td>3</td>\n",
       "      <td>1</td>\n",
       "      <td>1</td>\n",
       "      <td>0.226957</td>\n",
       "      <td>0.229270</td>\n",
       "      <td>0.436957</td>\n",
       "      <td>0.186900</td>\n",
       "      <td>82</td>\n",
       "      <td>1518</td>\n",
       "      <td>1600</td>\n",
       "    </tr>\n",
       "  </tbody>\n",
       "</table>\n",
       "</div>"
      ],
      "text/plain": [
       "   instant      dteday  season  yr  mnth  holiday  weekday  workingday  \\\n",
       "0        1  2011-01-01       1   0     1        0        6           0   \n",
       "1        2  2011-01-02       1   0     1        0        0           0   \n",
       "2        3  2011-01-03       1   0     1        0        1           1   \n",
       "3        4  2011-01-04       1   0     1        0        2           1   \n",
       "4        5  2011-01-05       1   0     1        0        3           1   \n",
       "\n",
       "   weathersit      temp     atemp       hum  windspeed  casual  registered  \\\n",
       "0           2  0.344167  0.363625  0.805833   0.160446     331         654   \n",
       "1           2  0.363478  0.353739  0.696087   0.248539     131         670   \n",
       "2           1  0.196364  0.189405  0.437273   0.248309     120        1229   \n",
       "3           1  0.200000  0.212122  0.590435   0.160296     108        1454   \n",
       "4           1  0.226957  0.229270  0.436957   0.186900      82        1518   \n",
       "\n",
       "    cnt  \n",
       "0   985  \n",
       "1   801  \n",
       "2  1349  \n",
       "3  1562  \n",
       "4  1600  "
      ]
     },
     "execution_count": 4,
     "metadata": {},
     "output_type": "execute_result"
    }
   ],
   "source": [
    "df.head()"
   ]
  },
  {
   "cell_type": "code",
   "execution_count": 5,
   "id": "6dd6cdf7",
   "metadata": {
    "_cell_guid": "21d1485a-1cc5-4a19-8b61-a3224156fe31",
    "_uuid": "2bcc139d-d84e-4c87-83d5-e25f9bd22d14",
    "collapsed": false,
    "execution": {
     "iopub.execute_input": "2022-09-29T21:17:21.568373Z",
     "iopub.status.busy": "2022-09-29T21:17:21.567934Z",
     "iopub.status.idle": "2022-09-29T21:17:21.576118Z",
     "shell.execute_reply": "2022-09-29T21:17:21.574753Z"
    },
    "jupyter": {
     "outputs_hidden": false
    },
    "papermill": {
     "duration": 0.020779,
     "end_time": "2022-09-29T21:17:21.578679",
     "exception": false,
     "start_time": "2022-09-29T21:17:21.557900",
     "status": "completed"
    },
    "tags": []
   },
   "outputs": [
    {
     "data": {
      "text/plain": [
       "Index(['instant', 'dteday', 'season', 'yr', 'mnth', 'holiday', 'weekday',\n",
       "       'workingday', 'weathersit', 'temp', 'atemp', 'hum', 'windspeed',\n",
       "       'casual', 'registered', 'cnt'],\n",
       "      dtype='object')"
      ]
     },
     "execution_count": 5,
     "metadata": {},
     "output_type": "execute_result"
    }
   ],
   "source": [
    "df.columns"
   ]
  },
  {
   "cell_type": "code",
   "execution_count": 6,
   "id": "d51ad17e",
   "metadata": {
    "_cell_guid": "2b6b464d-7d10-49a3-8aa3-bcb863e2b9f1",
    "_uuid": "b87f031a-4cef-40da-abc0-b60c77923a1f",
    "collapsed": false,
    "execution": {
     "iopub.execute_input": "2022-09-29T21:17:21.601019Z",
     "iopub.status.busy": "2022-09-29T21:17:21.600321Z",
     "iopub.status.idle": "2022-09-29T21:17:21.613826Z",
     "shell.execute_reply": "2022-09-29T21:17:21.612388Z"
    },
    "jupyter": {
     "outputs_hidden": false
    },
    "papermill": {
     "duration": 0.027574,
     "end_time": "2022-09-29T21:17:21.617025",
     "exception": false,
     "start_time": "2022-09-29T21:17:21.589451",
     "status": "completed"
    },
    "tags": []
   },
   "outputs": [],
   "source": [
    "df.drop(['instant', 'dteday'], inplace=True ,axis=1)"
   ]
  },
  {
   "cell_type": "code",
   "execution_count": 7,
   "id": "d6d72228",
   "metadata": {
    "_cell_guid": "b17ee383-55e6-41bc-9b0a-37bb7441fdfb",
    "_uuid": "e1bc743e-4617-45e2-acab-4f5d699c0bd4",
    "collapsed": false,
    "execution": {
     "iopub.execute_input": "2022-09-29T21:17:21.637226Z",
     "iopub.status.busy": "2022-09-29T21:17:21.636604Z",
     "iopub.status.idle": "2022-09-29T21:17:21.654311Z",
     "shell.execute_reply": "2022-09-29T21:17:21.652990Z"
    },
    "jupyter": {
     "outputs_hidden": false
    },
    "papermill": {
     "duration": 0.030901,
     "end_time": "2022-09-29T21:17:21.657076",
     "exception": false,
     "start_time": "2022-09-29T21:17:21.626175",
     "status": "completed"
    },
    "tags": []
   },
   "outputs": [
    {
     "name": "stdout",
     "output_type": "stream",
     "text": [
      "season        0.406100\n",
      "yr            0.566710\n",
      "mnth          0.279977\n",
      "holiday      -0.068348\n",
      "weekday       0.067443\n",
      "workingday    0.061156\n",
      "weathersit   -0.297391\n",
      "temp          0.627494\n",
      "atemp         0.631066\n",
      "hum          -0.100659\n",
      "windspeed    -0.234545\n",
      "casual        0.672804\n",
      "registered    0.945517\n",
      "cnt           1.000000\n",
      "dtype: float64\n"
     ]
    }
   ],
   "source": [
    "correlations = df.corrwith(df['cnt'])\n",
    "print(correlations)"
   ]
  },
  {
   "cell_type": "markdown",
   "id": "9ed79406",
   "metadata": {
    "_cell_guid": "8aba4077-ca1d-4984-ab9d-cd3da0a8b987",
    "_uuid": "6dfe76cf-8efb-4865-aa4a-a26964bd05bc",
    "papermill": {
     "duration": 0.008668,
     "end_time": "2022-09-29T21:17:21.674918",
     "exception": false,
     "start_time": "2022-09-29T21:17:21.666250",
     "status": "completed"
    },
    "tags": []
   },
   "source": [
    "Features with positive correlation are: \n",
    "* **season**\n",
    "* **yr**: year\n",
    "* **mnth**: mmonths\n",
    "* **weekday**: days of the week\n",
    "* **workingday**: whether the day is neither a weekend nor holiday\n",
    "* **temp**: temperature in Celsius\n",
    "* **atemp**: \"feels like\" temperature in Celsius\n",
    "* **casual**: number of non-registered user rentals initiated\n",
    "* **registered**: number of registered user rentals initiated\n",
    "\n",
    "The feature with highest correlation is **'registered'**."
   ]
  },
  {
   "cell_type": "markdown",
   "id": "aadf62bd",
   "metadata": {
    "_cell_guid": "01170ec7-7229-419f-8875-4419f9890731",
    "_uuid": "c7bc3fd5-ea51-43e0-a449-3b6ae3d2272e",
    "papermill": {
     "duration": 0.008708,
     "end_time": "2022-09-29T21:17:21.692612",
     "exception": false,
     "start_time": "2022-09-29T21:17:21.683904",
     "status": "completed"
    },
    "tags": []
   },
   "source": [
    "Features with negative correlation are: \n",
    "* **holiday**: whether the day is considered a holiday\n",
    "* **weathersit**\n",
    "* **hum**: humidity\n",
    "* **windspeed**"
   ]
  },
  {
   "cell_type": "code",
   "execution_count": 8,
   "id": "f0bfa48b",
   "metadata": {
    "execution": {
     "iopub.execute_input": "2022-09-29T21:17:21.712645Z",
     "iopub.status.busy": "2022-09-29T21:17:21.712166Z",
     "iopub.status.idle": "2022-09-29T21:17:21.721126Z",
     "shell.execute_reply": "2022-09-29T21:17:21.719678Z"
    },
    "papermill": {
     "duration": 0.022103,
     "end_time": "2022-09-29T21:17:21.723729",
     "exception": false,
     "start_time": "2022-09-29T21:17:21.701626",
     "status": "completed"
    },
    "tags": []
   },
   "outputs": [],
   "source": [
    "df.drop(['casual', 'registered'], inplace=True ,axis=1)"
   ]
  },
  {
   "cell_type": "code",
   "execution_count": 9,
   "id": "90d18bb6",
   "metadata": {
    "execution": {
     "iopub.execute_input": "2022-09-29T21:17:21.744305Z",
     "iopub.status.busy": "2022-09-29T21:17:21.743855Z",
     "iopub.status.idle": "2022-09-29T21:17:21.761248Z",
     "shell.execute_reply": "2022-09-29T21:17:21.759848Z"
    },
    "papermill": {
     "duration": 0.030441,
     "end_time": "2022-09-29T21:17:21.763810",
     "exception": false,
     "start_time": "2022-09-29T21:17:21.733369",
     "status": "completed"
    },
    "tags": []
   },
   "outputs": [
    {
     "data": {
      "text/html": [
       "<div>\n",
       "<style scoped>\n",
       "    .dataframe tbody tr th:only-of-type {\n",
       "        vertical-align: middle;\n",
       "    }\n",
       "\n",
       "    .dataframe tbody tr th {\n",
       "        vertical-align: top;\n",
       "    }\n",
       "\n",
       "    .dataframe thead th {\n",
       "        text-align: right;\n",
       "    }\n",
       "</style>\n",
       "<table border=\"1\" class=\"dataframe\">\n",
       "  <thead>\n",
       "    <tr style=\"text-align: right;\">\n",
       "      <th></th>\n",
       "      <th>season</th>\n",
       "      <th>yr</th>\n",
       "      <th>mnth</th>\n",
       "      <th>holiday</th>\n",
       "      <th>weekday</th>\n",
       "      <th>workingday</th>\n",
       "      <th>weathersit</th>\n",
       "      <th>temp</th>\n",
       "      <th>atemp</th>\n",
       "      <th>hum</th>\n",
       "      <th>windspeed</th>\n",
       "      <th>cnt</th>\n",
       "    </tr>\n",
       "  </thead>\n",
       "  <tbody>\n",
       "    <tr>\n",
       "      <th>0</th>\n",
       "      <td>1</td>\n",
       "      <td>0</td>\n",
       "      <td>1</td>\n",
       "      <td>0</td>\n",
       "      <td>6</td>\n",
       "      <td>0</td>\n",
       "      <td>2</td>\n",
       "      <td>0.344167</td>\n",
       "      <td>0.363625</td>\n",
       "      <td>0.805833</td>\n",
       "      <td>0.160446</td>\n",
       "      <td>985</td>\n",
       "    </tr>\n",
       "    <tr>\n",
       "      <th>1</th>\n",
       "      <td>1</td>\n",
       "      <td>0</td>\n",
       "      <td>1</td>\n",
       "      <td>0</td>\n",
       "      <td>0</td>\n",
       "      <td>0</td>\n",
       "      <td>2</td>\n",
       "      <td>0.363478</td>\n",
       "      <td>0.353739</td>\n",
       "      <td>0.696087</td>\n",
       "      <td>0.248539</td>\n",
       "      <td>801</td>\n",
       "    </tr>\n",
       "    <tr>\n",
       "      <th>2</th>\n",
       "      <td>1</td>\n",
       "      <td>0</td>\n",
       "      <td>1</td>\n",
       "      <td>0</td>\n",
       "      <td>1</td>\n",
       "      <td>1</td>\n",
       "      <td>1</td>\n",
       "      <td>0.196364</td>\n",
       "      <td>0.189405</td>\n",
       "      <td>0.437273</td>\n",
       "      <td>0.248309</td>\n",
       "      <td>1349</td>\n",
       "    </tr>\n",
       "    <tr>\n",
       "      <th>3</th>\n",
       "      <td>1</td>\n",
       "      <td>0</td>\n",
       "      <td>1</td>\n",
       "      <td>0</td>\n",
       "      <td>2</td>\n",
       "      <td>1</td>\n",
       "      <td>1</td>\n",
       "      <td>0.200000</td>\n",
       "      <td>0.212122</td>\n",
       "      <td>0.590435</td>\n",
       "      <td>0.160296</td>\n",
       "      <td>1562</td>\n",
       "    </tr>\n",
       "    <tr>\n",
       "      <th>4</th>\n",
       "      <td>1</td>\n",
       "      <td>0</td>\n",
       "      <td>1</td>\n",
       "      <td>0</td>\n",
       "      <td>3</td>\n",
       "      <td>1</td>\n",
       "      <td>1</td>\n",
       "      <td>0.226957</td>\n",
       "      <td>0.229270</td>\n",
       "      <td>0.436957</td>\n",
       "      <td>0.186900</td>\n",
       "      <td>1600</td>\n",
       "    </tr>\n",
       "  </tbody>\n",
       "</table>\n",
       "</div>"
      ],
      "text/plain": [
       "   season  yr  mnth  holiday  weekday  workingday  weathersit      temp  \\\n",
       "0       1   0     1        0        6           0           2  0.344167   \n",
       "1       1   0     1        0        0           0           2  0.363478   \n",
       "2       1   0     1        0        1           1           1  0.196364   \n",
       "3       1   0     1        0        2           1           1  0.200000   \n",
       "4       1   0     1        0        3           1           1  0.226957   \n",
       "\n",
       "      atemp       hum  windspeed   cnt  \n",
       "0  0.363625  0.805833   0.160446   985  \n",
       "1  0.353739  0.696087   0.248539   801  \n",
       "2  0.189405  0.437273   0.248309  1349  \n",
       "3  0.212122  0.590435   0.160296  1562  \n",
       "4  0.229270  0.436957   0.186900  1600  "
      ]
     },
     "execution_count": 9,
     "metadata": {},
     "output_type": "execute_result"
    }
   ],
   "source": [
    "df.head()\n"
   ]
  },
  {
   "cell_type": "code",
   "execution_count": 10,
   "id": "2b05aff0",
   "metadata": {
    "execution": {
     "iopub.execute_input": "2022-09-29T21:17:21.784574Z",
     "iopub.status.busy": "2022-09-29T21:17:21.784136Z",
     "iopub.status.idle": "2022-09-29T21:17:22.022512Z",
     "shell.execute_reply": "2022-09-29T21:17:22.021335Z"
    },
    "papermill": {
     "duration": 0.252036,
     "end_time": "2022-09-29T21:17:22.025317",
     "exception": false,
     "start_time": "2022-09-29T21:17:21.773281",
     "status": "completed"
    },
    "tags": []
   },
   "outputs": [],
   "source": [
    "import category_encoders as ce"
   ]
  },
  {
   "cell_type": "code",
   "execution_count": 11,
   "id": "c02de552",
   "metadata": {
    "execution": {
     "iopub.execute_input": "2022-09-29T21:17:22.045732Z",
     "iopub.status.busy": "2022-09-29T21:17:22.045293Z",
     "iopub.status.idle": "2022-09-29T21:17:22.051657Z",
     "shell.execute_reply": "2022-09-29T21:17:22.050329Z"
    },
    "papermill": {
     "duration": 0.019906,
     "end_time": "2022-09-29T21:17:22.054444",
     "exception": false,
     "start_time": "2022-09-29T21:17:22.034538",
     "status": "completed"
    },
    "tags": []
   },
   "outputs": [],
   "source": [
    "encoder = ce.OneHotEncoder(cols=('season','yr','mnth','holiday','weekday','weathersit'), use_cat_names = True)"
   ]
  },
  {
   "cell_type": "code",
   "execution_count": 12,
   "id": "d6b100b0",
   "metadata": {
    "_cell_guid": "3ce10598-fcb0-4fd7-9c24-fa3b2502afb3",
    "_uuid": "823c1808-d019-4fde-aee6-e91fbb374e5a",
    "collapsed": false,
    "execution": {
     "iopub.execute_input": "2022-09-29T21:17:22.075841Z",
     "iopub.status.busy": "2022-09-29T21:17:22.074901Z",
     "iopub.status.idle": "2022-09-29T21:17:22.140909Z",
     "shell.execute_reply": "2022-09-29T21:17:22.139779Z"
    },
    "jupyter": {
     "outputs_hidden": false
    },
    "papermill": {
     "duration": 0.079583,
     "end_time": "2022-09-29T21:17:22.143798",
     "exception": false,
     "start_time": "2022-09-29T21:17:22.064215",
     "status": "completed"
    },
    "tags": []
   },
   "outputs": [],
   "source": [
    "from sklearn.model_selection import train_test_split\n"
   ]
  },
  {
   "cell_type": "code",
   "execution_count": 13,
   "id": "b45ada0a",
   "metadata": {
    "execution": {
     "iopub.execute_input": "2022-09-29T21:17:22.166048Z",
     "iopub.status.busy": "2022-09-29T21:17:22.165601Z",
     "iopub.status.idle": "2022-09-29T21:17:22.266689Z",
     "shell.execute_reply": "2022-09-29T21:17:22.265348Z"
    },
    "papermill": {
     "duration": 0.116721,
     "end_time": "2022-09-29T21:17:22.270531",
     "exception": false,
     "start_time": "2022-09-29T21:17:22.153810",
     "status": "completed"
    },
    "tags": []
   },
   "outputs": [],
   "source": [
    "encoded = encoder.fit_transform(df)\n",
    "new_df = pd.concat([df.drop(['season','yr','mnth','holiday','weekday','weathersit'],axis=1),encoded],axis=1)"
   ]
  },
  {
   "cell_type": "code",
   "execution_count": 14,
   "id": "3163c9bd",
   "metadata": {
    "execution": {
     "iopub.execute_input": "2022-09-29T21:17:22.303624Z",
     "iopub.status.busy": "2022-09-29T21:17:22.303035Z",
     "iopub.status.idle": "2022-09-29T21:17:22.329442Z",
     "shell.execute_reply": "2022-09-29T21:17:22.328106Z"
    },
    "papermill": {
     "duration": 0.045636,
     "end_time": "2022-09-29T21:17:22.333067",
     "exception": false,
     "start_time": "2022-09-29T21:17:22.287431",
     "status": "completed"
    },
    "tags": []
   },
   "outputs": [
    {
     "data": {
      "text/html": [
       "<div>\n",
       "<style scoped>\n",
       "    .dataframe tbody tr th:only-of-type {\n",
       "        vertical-align: middle;\n",
       "    }\n",
       "\n",
       "    .dataframe tbody tr th {\n",
       "        vertical-align: top;\n",
       "    }\n",
       "\n",
       "    .dataframe thead th {\n",
       "        text-align: right;\n",
       "    }\n",
       "</style>\n",
       "<table border=\"1\" class=\"dataframe\">\n",
       "  <thead>\n",
       "    <tr style=\"text-align: right;\">\n",
       "      <th></th>\n",
       "      <th>workingday</th>\n",
       "      <th>temp</th>\n",
       "      <th>atemp</th>\n",
       "      <th>hum</th>\n",
       "      <th>windspeed</th>\n",
       "      <th>cnt</th>\n",
       "      <th>season_1.0</th>\n",
       "      <th>season_2.0</th>\n",
       "      <th>season_3.0</th>\n",
       "      <th>season_4.0</th>\n",
       "      <th>...</th>\n",
       "      <th>weekday_5.0</th>\n",
       "      <th>workingday</th>\n",
       "      <th>weathersit_2.0</th>\n",
       "      <th>weathersit_1.0</th>\n",
       "      <th>weathersit_3.0</th>\n",
       "      <th>temp</th>\n",
       "      <th>atemp</th>\n",
       "      <th>hum</th>\n",
       "      <th>windspeed</th>\n",
       "      <th>cnt</th>\n",
       "    </tr>\n",
       "  </thead>\n",
       "  <tbody>\n",
       "    <tr>\n",
       "      <th>0</th>\n",
       "      <td>0</td>\n",
       "      <td>0.344167</td>\n",
       "      <td>0.363625</td>\n",
       "      <td>0.805833</td>\n",
       "      <td>0.160446</td>\n",
       "      <td>985</td>\n",
       "      <td>1</td>\n",
       "      <td>0</td>\n",
       "      <td>0</td>\n",
       "      <td>0</td>\n",
       "      <td>...</td>\n",
       "      <td>0</td>\n",
       "      <td>0</td>\n",
       "      <td>1</td>\n",
       "      <td>0</td>\n",
       "      <td>0</td>\n",
       "      <td>0.344167</td>\n",
       "      <td>0.363625</td>\n",
       "      <td>0.805833</td>\n",
       "      <td>0.160446</td>\n",
       "      <td>985</td>\n",
       "    </tr>\n",
       "    <tr>\n",
       "      <th>1</th>\n",
       "      <td>0</td>\n",
       "      <td>0.363478</td>\n",
       "      <td>0.353739</td>\n",
       "      <td>0.696087</td>\n",
       "      <td>0.248539</td>\n",
       "      <td>801</td>\n",
       "      <td>1</td>\n",
       "      <td>0</td>\n",
       "      <td>0</td>\n",
       "      <td>0</td>\n",
       "      <td>...</td>\n",
       "      <td>0</td>\n",
       "      <td>0</td>\n",
       "      <td>1</td>\n",
       "      <td>0</td>\n",
       "      <td>0</td>\n",
       "      <td>0.363478</td>\n",
       "      <td>0.353739</td>\n",
       "      <td>0.696087</td>\n",
       "      <td>0.248539</td>\n",
       "      <td>801</td>\n",
       "    </tr>\n",
       "    <tr>\n",
       "      <th>2</th>\n",
       "      <td>1</td>\n",
       "      <td>0.196364</td>\n",
       "      <td>0.189405</td>\n",
       "      <td>0.437273</td>\n",
       "      <td>0.248309</td>\n",
       "      <td>1349</td>\n",
       "      <td>1</td>\n",
       "      <td>0</td>\n",
       "      <td>0</td>\n",
       "      <td>0</td>\n",
       "      <td>...</td>\n",
       "      <td>0</td>\n",
       "      <td>1</td>\n",
       "      <td>0</td>\n",
       "      <td>1</td>\n",
       "      <td>0</td>\n",
       "      <td>0.196364</td>\n",
       "      <td>0.189405</td>\n",
       "      <td>0.437273</td>\n",
       "      <td>0.248309</td>\n",
       "      <td>1349</td>\n",
       "    </tr>\n",
       "    <tr>\n",
       "      <th>3</th>\n",
       "      <td>1</td>\n",
       "      <td>0.200000</td>\n",
       "      <td>0.212122</td>\n",
       "      <td>0.590435</td>\n",
       "      <td>0.160296</td>\n",
       "      <td>1562</td>\n",
       "      <td>1</td>\n",
       "      <td>0</td>\n",
       "      <td>0</td>\n",
       "      <td>0</td>\n",
       "      <td>...</td>\n",
       "      <td>0</td>\n",
       "      <td>1</td>\n",
       "      <td>0</td>\n",
       "      <td>1</td>\n",
       "      <td>0</td>\n",
       "      <td>0.200000</td>\n",
       "      <td>0.212122</td>\n",
       "      <td>0.590435</td>\n",
       "      <td>0.160296</td>\n",
       "      <td>1562</td>\n",
       "    </tr>\n",
       "    <tr>\n",
       "      <th>4</th>\n",
       "      <td>1</td>\n",
       "      <td>0.226957</td>\n",
       "      <td>0.229270</td>\n",
       "      <td>0.436957</td>\n",
       "      <td>0.186900</td>\n",
       "      <td>1600</td>\n",
       "      <td>1</td>\n",
       "      <td>0</td>\n",
       "      <td>0</td>\n",
       "      <td>0</td>\n",
       "      <td>...</td>\n",
       "      <td>0</td>\n",
       "      <td>1</td>\n",
       "      <td>0</td>\n",
       "      <td>1</td>\n",
       "      <td>0</td>\n",
       "      <td>0.226957</td>\n",
       "      <td>0.229270</td>\n",
       "      <td>0.436957</td>\n",
       "      <td>0.186900</td>\n",
       "      <td>1600</td>\n",
       "    </tr>\n",
       "  </tbody>\n",
       "</table>\n",
       "<p>5 rows × 42 columns</p>\n",
       "</div>"
      ],
      "text/plain": [
       "   workingday      temp     atemp       hum  windspeed   cnt  season_1.0  \\\n",
       "0           0  0.344167  0.363625  0.805833   0.160446   985           1   \n",
       "1           0  0.363478  0.353739  0.696087   0.248539   801           1   \n",
       "2           1  0.196364  0.189405  0.437273   0.248309  1349           1   \n",
       "3           1  0.200000  0.212122  0.590435   0.160296  1562           1   \n",
       "4           1  0.226957  0.229270  0.436957   0.186900  1600           1   \n",
       "\n",
       "   season_2.0  season_3.0  season_4.0  ...  weekday_5.0  workingday  \\\n",
       "0           0           0           0  ...            0           0   \n",
       "1           0           0           0  ...            0           0   \n",
       "2           0           0           0  ...            0           1   \n",
       "3           0           0           0  ...            0           1   \n",
       "4           0           0           0  ...            0           1   \n",
       "\n",
       "   weathersit_2.0  weathersit_1.0  weathersit_3.0      temp     atemp  \\\n",
       "0               1               0               0  0.344167  0.363625   \n",
       "1               1               0               0  0.363478  0.353739   \n",
       "2               0               1               0  0.196364  0.189405   \n",
       "3               0               1               0  0.200000  0.212122   \n",
       "4               0               1               0  0.226957  0.229270   \n",
       "\n",
       "        hum  windspeed   cnt  \n",
       "0  0.805833   0.160446   985  \n",
       "1  0.696087   0.248539   801  \n",
       "2  0.437273   0.248309  1349  \n",
       "3  0.590435   0.160296  1562  \n",
       "4  0.436957   0.186900  1600  \n",
       "\n",
       "[5 rows x 42 columns]"
      ]
     },
     "execution_count": 14,
     "metadata": {},
     "output_type": "execute_result"
    }
   ],
   "source": [
    "new_df.head()"
   ]
  },
  {
   "cell_type": "code",
   "execution_count": 15,
   "id": "cd88eaba",
   "metadata": {
    "_cell_guid": "79fda334-0f33-4418-ae63-ba35a23ff066",
    "_uuid": "b792fcab-92ae-4a6e-96c4-7f414e43d505",
    "collapsed": false,
    "execution": {
     "iopub.execute_input": "2022-09-29T21:17:22.363354Z",
     "iopub.status.busy": "2022-09-29T21:17:22.362366Z",
     "iopub.status.idle": "2022-09-29T21:17:22.376551Z",
     "shell.execute_reply": "2022-09-29T21:17:22.375112Z"
    },
    "jupyter": {
     "outputs_hidden": false
    },
    "papermill": {
     "duration": 0.033655,
     "end_time": "2022-09-29T21:17:22.380335",
     "exception": false,
     "start_time": "2022-09-29T21:17:22.346680",
     "status": "completed"
    },
    "tags": []
   },
   "outputs": [],
   "source": [
    "X = new_df.drop(['cnt','workingday'], axis = 1)\n",
    "y = new_df['cnt']"
   ]
  },
  {
   "cell_type": "code",
   "execution_count": 16,
   "id": "62c13e3e",
   "metadata": {
    "_cell_guid": "70659f9d-060f-4279-9c62-9da4d5ca4d75",
    "_uuid": "bbf8619c-ebca-4f2f-81ef-ad4c8ba5e03d",
    "collapsed": false,
    "execution": {
     "iopub.execute_input": "2022-09-29T21:17:22.408121Z",
     "iopub.status.busy": "2022-09-29T21:17:22.407620Z",
     "iopub.status.idle": "2022-09-29T21:17:22.416681Z",
     "shell.execute_reply": "2022-09-29T21:17:22.415469Z"
    },
    "jupyter": {
     "outputs_hidden": false
    },
    "papermill": {
     "duration": 0.024376,
     "end_time": "2022-09-29T21:17:22.419230",
     "exception": false,
     "start_time": "2022-09-29T21:17:22.394854",
     "status": "completed"
    },
    "tags": []
   },
   "outputs": [],
   "source": [
    "X_train, X_test, y_train, y_test = train_test_split(X, y, test_size=0.3, random_state=42)"
   ]
  },
  {
   "cell_type": "code",
   "execution_count": 17,
   "id": "4ccad108",
   "metadata": {
    "_cell_guid": "8bb57773-01c9-4194-a7cd-6c34adcc6127",
    "_uuid": "f0dc72ff-52ee-483c-91db-24c11e915c73",
    "collapsed": false,
    "execution": {
     "iopub.execute_input": "2022-09-29T21:17:22.442495Z",
     "iopub.status.busy": "2022-09-29T21:17:22.441196Z",
     "iopub.status.idle": "2022-09-29T21:17:22.540785Z",
     "shell.execute_reply": "2022-09-29T21:17:22.539422Z"
    },
    "jupyter": {
     "outputs_hidden": false
    },
    "papermill": {
     "duration": 0.114247,
     "end_time": "2022-09-29T21:17:22.543721",
     "exception": false,
     "start_time": "2022-09-29T21:17:22.429474",
     "status": "completed"
    },
    "tags": []
   },
   "outputs": [],
   "source": [
    "from sklearn.linear_model import LinearRegression"
   ]
  },
  {
   "cell_type": "code",
   "execution_count": 18,
   "id": "45eeec58",
   "metadata": {
    "_cell_guid": "ccd23d47-34ae-4202-8146-c21f89410662",
    "_uuid": "8d688102-4969-4acf-a23b-4aefbd35247c",
    "collapsed": false,
    "execution": {
     "iopub.execute_input": "2022-09-29T21:17:22.565381Z",
     "iopub.status.busy": "2022-09-29T21:17:22.564968Z",
     "iopub.status.idle": "2022-09-29T21:17:22.570338Z",
     "shell.execute_reply": "2022-09-29T21:17:22.569015Z"
    },
    "jupyter": {
     "outputs_hidden": false
    },
    "papermill": {
     "duration": 0.018906,
     "end_time": "2022-09-29T21:17:22.572646",
     "exception": false,
     "start_time": "2022-09-29T21:17:22.553740",
     "status": "completed"
    },
    "tags": []
   },
   "outputs": [],
   "source": [
    "LR = LinearRegression()"
   ]
  },
  {
   "cell_type": "code",
   "execution_count": 19,
   "id": "878a8081",
   "metadata": {
    "_cell_guid": "0b152974-58db-4c83-a3c2-35776691e45c",
    "_uuid": "530b4383-6391-405f-90e0-9370a002ba80",
    "collapsed": false,
    "execution": {
     "iopub.execute_input": "2022-09-29T21:17:22.596463Z",
     "iopub.status.busy": "2022-09-29T21:17:22.595598Z",
     "iopub.status.idle": "2022-09-29T21:17:22.635174Z",
     "shell.execute_reply": "2022-09-29T21:17:22.633609Z"
    },
    "jupyter": {
     "outputs_hidden": false
    },
    "papermill": {
     "duration": 0.056548,
     "end_time": "2022-09-29T21:17:22.639315",
     "exception": false,
     "start_time": "2022-09-29T21:17:22.582767",
     "status": "completed"
    },
    "tags": []
   },
   "outputs": [
    {
     "data": {
      "text/plain": [
       "LinearRegression()"
      ]
     },
     "execution_count": 19,
     "metadata": {},
     "output_type": "execute_result"
    }
   ],
   "source": [
    "LR.fit(X_train, y_train)"
   ]
  },
  {
   "cell_type": "code",
   "execution_count": 20,
   "id": "a570851a",
   "metadata": {
    "_cell_guid": "31b8c3bd-3793-493a-a328-6d2a32efe2a9",
    "_uuid": "f27359ee-189f-4579-9493-f7ba484a8505",
    "collapsed": false,
    "execution": {
     "iopub.execute_input": "2022-09-29T21:17:22.712237Z",
     "iopub.status.busy": "2022-09-29T21:17:22.711460Z",
     "iopub.status.idle": "2022-09-29T21:17:22.722139Z",
     "shell.execute_reply": "2022-09-29T21:17:22.721009Z"
    },
    "jupyter": {
     "outputs_hidden": false
    },
    "papermill": {
     "duration": 0.056591,
     "end_time": "2022-09-29T21:17:22.726080",
     "exception": false,
     "start_time": "2022-09-29T21:17:22.669489",
     "status": "completed"
    },
    "tags": []
   },
   "outputs": [],
   "source": [
    "pred = LR.predict(X_train)"
   ]
  },
  {
   "cell_type": "code",
   "execution_count": 21,
   "id": "ff1bc533",
   "metadata": {
    "execution": {
     "iopub.execute_input": "2022-09-29T21:17:22.758279Z",
     "iopub.status.busy": "2022-09-29T21:17:22.757768Z",
     "iopub.status.idle": "2022-09-29T21:17:22.763510Z",
     "shell.execute_reply": "2022-09-29T21:17:22.762441Z"
    },
    "papermill": {
     "duration": 0.019334,
     "end_time": "2022-09-29T21:17:22.765754",
     "exception": false,
     "start_time": "2022-09-29T21:17:22.746420",
     "status": "completed"
    },
    "tags": []
   },
   "outputs": [],
   "source": [
    "from sklearn.metrics import mean_squared_error,r2_score"
   ]
  },
  {
   "cell_type": "code",
   "execution_count": 22,
   "id": "851ad545",
   "metadata": {
    "_cell_guid": "138452f7-ede1-4386-b6f4-26b87dc24bda",
    "_uuid": "15a0d3b5-20c2-49e6-aee1-d068e15f6234",
    "collapsed": false,
    "execution": {
     "iopub.execute_input": "2022-09-29T21:17:22.788406Z",
     "iopub.status.busy": "2022-09-29T21:17:22.787121Z",
     "iopub.status.idle": "2022-09-29T21:17:22.798377Z",
     "shell.execute_reply": "2022-09-29T21:17:22.797295Z"
    },
    "jupyter": {
     "outputs_hidden": false
    },
    "papermill": {
     "duration": 0.025215,
     "end_time": "2022-09-29T21:17:22.800774",
     "exception": false,
     "start_time": "2022-09-29T21:17:22.775559",
     "status": "completed"
    },
    "tags": []
   },
   "outputs": [
    {
     "data": {
      "text/plain": [
       "758.9883042942054"
      ]
     },
     "execution_count": 22,
     "metadata": {},
     "output_type": "execute_result"
    }
   ],
   "source": [
    "mean_squared_error(y_train, pred,squared=False)"
   ]
  },
  {
   "cell_type": "code",
   "execution_count": 23,
   "id": "efe91f22",
   "metadata": {
    "_cell_guid": "6fab633d-fb85-499b-a3ad-562a0c1fd422",
    "_uuid": "24b978a6-b3b0-4ad2-9277-591433a71fdf",
    "collapsed": false,
    "execution": {
     "iopub.execute_input": "2022-09-29T21:17:22.825200Z",
     "iopub.status.busy": "2022-09-29T21:17:22.823871Z",
     "iopub.status.idle": "2022-09-29T21:17:22.834912Z",
     "shell.execute_reply": "2022-09-29T21:17:22.833939Z"
    },
    "jupyter": {
     "outputs_hidden": false
    },
    "papermill": {
     "duration": 0.027008,
     "end_time": "2022-09-29T21:17:22.837862",
     "exception": false,
     "start_time": "2022-09-29T21:17:22.810854",
     "status": "completed"
    },
    "tags": []
   },
   "outputs": [
    {
     "data": {
      "text/plain": [
       "0.8416931843702429"
      ]
     },
     "execution_count": 23,
     "metadata": {},
     "output_type": "execute_result"
    }
   ],
   "source": [
    "r2_score(y_train, pred)"
   ]
  },
  {
   "cell_type": "code",
   "execution_count": 24,
   "id": "e6d79f0f",
   "metadata": {
    "execution": {
     "iopub.execute_input": "2022-09-29T21:17:22.866478Z",
     "iopub.status.busy": "2022-09-29T21:17:22.864827Z",
     "iopub.status.idle": "2022-09-29T21:17:22.899744Z",
     "shell.execute_reply": "2022-09-29T21:17:22.898438Z"
    },
    "papermill": {
     "duration": 0.049987,
     "end_time": "2022-09-29T21:17:22.902773",
     "exception": false,
     "start_time": "2022-09-29T21:17:22.852786",
     "status": "completed"
    },
    "tags": []
   },
   "outputs": [
    {
     "data": {
      "text/html": [
       "<div>\n",
       "<style scoped>\n",
       "    .dataframe tbody tr th:only-of-type {\n",
       "        vertical-align: middle;\n",
       "    }\n",
       "\n",
       "    .dataframe tbody tr th {\n",
       "        vertical-align: top;\n",
       "    }\n",
       "\n",
       "    .dataframe thead th {\n",
       "        text-align: right;\n",
       "    }\n",
       "</style>\n",
       "<table border=\"1\" class=\"dataframe\">\n",
       "  <thead>\n",
       "    <tr style=\"text-align: right;\">\n",
       "      <th></th>\n",
       "      <th>temp</th>\n",
       "      <th>atemp</th>\n",
       "      <th>hum</th>\n",
       "      <th>windspeed</th>\n",
       "      <th>season_1.0</th>\n",
       "      <th>season_2.0</th>\n",
       "      <th>season_3.0</th>\n",
       "      <th>season_4.0</th>\n",
       "      <th>yr_0.0</th>\n",
       "      <th>yr_1.0</th>\n",
       "      <th>...</th>\n",
       "      <th>weekday_3.0</th>\n",
       "      <th>weekday_4.0</th>\n",
       "      <th>weekday_5.0</th>\n",
       "      <th>weathersit_2.0</th>\n",
       "      <th>weathersit_1.0</th>\n",
       "      <th>weathersit_3.0</th>\n",
       "      <th>temp</th>\n",
       "      <th>atemp</th>\n",
       "      <th>hum</th>\n",
       "      <th>windspeed</th>\n",
       "    </tr>\n",
       "  </thead>\n",
       "  <tbody>\n",
       "    <tr>\n",
       "      <th>703</th>\n",
       "      <td>0.475833</td>\n",
       "      <td>0.469054</td>\n",
       "      <td>0.733750</td>\n",
       "      <td>0.174129</td>\n",
       "      <td>0</td>\n",
       "      <td>0</td>\n",
       "      <td>0</td>\n",
       "      <td>1</td>\n",
       "      <td>0</td>\n",
       "      <td>1</td>\n",
       "      <td>...</td>\n",
       "      <td>0</td>\n",
       "      <td>0</td>\n",
       "      <td>0</td>\n",
       "      <td>0</td>\n",
       "      <td>1</td>\n",
       "      <td>0</td>\n",
       "      <td>0.475833</td>\n",
       "      <td>0.469054</td>\n",
       "      <td>0.733750</td>\n",
       "      <td>0.174129</td>\n",
       "    </tr>\n",
       "    <tr>\n",
       "      <th>33</th>\n",
       "      <td>0.186957</td>\n",
       "      <td>0.177878</td>\n",
       "      <td>0.437826</td>\n",
       "      <td>0.277752</td>\n",
       "      <td>1</td>\n",
       "      <td>0</td>\n",
       "      <td>0</td>\n",
       "      <td>0</td>\n",
       "      <td>1</td>\n",
       "      <td>0</td>\n",
       "      <td>...</td>\n",
       "      <td>0</td>\n",
       "      <td>1</td>\n",
       "      <td>0</td>\n",
       "      <td>0</td>\n",
       "      <td>1</td>\n",
       "      <td>0</td>\n",
       "      <td>0.186957</td>\n",
       "      <td>0.177878</td>\n",
       "      <td>0.437826</td>\n",
       "      <td>0.277752</td>\n",
       "    </tr>\n",
       "    <tr>\n",
       "      <th>300</th>\n",
       "      <td>0.330833</td>\n",
       "      <td>0.318812</td>\n",
       "      <td>0.585833</td>\n",
       "      <td>0.229479</td>\n",
       "      <td>0</td>\n",
       "      <td>0</td>\n",
       "      <td>0</td>\n",
       "      <td>1</td>\n",
       "      <td>1</td>\n",
       "      <td>0</td>\n",
       "      <td>...</td>\n",
       "      <td>0</td>\n",
       "      <td>0</td>\n",
       "      <td>1</td>\n",
       "      <td>1</td>\n",
       "      <td>0</td>\n",
       "      <td>0</td>\n",
       "      <td>0.330833</td>\n",
       "      <td>0.318812</td>\n",
       "      <td>0.585833</td>\n",
       "      <td>0.229479</td>\n",
       "    </tr>\n",
       "    <tr>\n",
       "      <th>456</th>\n",
       "      <td>0.425833</td>\n",
       "      <td>0.417287</td>\n",
       "      <td>0.676250</td>\n",
       "      <td>0.172267</td>\n",
       "      <td>0</td>\n",
       "      <td>1</td>\n",
       "      <td>0</td>\n",
       "      <td>0</td>\n",
       "      <td>0</td>\n",
       "      <td>1</td>\n",
       "      <td>...</td>\n",
       "      <td>0</td>\n",
       "      <td>0</td>\n",
       "      <td>0</td>\n",
       "      <td>1</td>\n",
       "      <td>0</td>\n",
       "      <td>0</td>\n",
       "      <td>0.425833</td>\n",
       "      <td>0.417287</td>\n",
       "      <td>0.676250</td>\n",
       "      <td>0.172267</td>\n",
       "    </tr>\n",
       "    <tr>\n",
       "      <th>633</th>\n",
       "      <td>0.550000</td>\n",
       "      <td>0.544179</td>\n",
       "      <td>0.570000</td>\n",
       "      <td>0.236321</td>\n",
       "      <td>0</td>\n",
       "      <td>0</td>\n",
       "      <td>0</td>\n",
       "      <td>1</td>\n",
       "      <td>0</td>\n",
       "      <td>1</td>\n",
       "      <td>...</td>\n",
       "      <td>0</td>\n",
       "      <td>0</td>\n",
       "      <td>0</td>\n",
       "      <td>0</td>\n",
       "      <td>1</td>\n",
       "      <td>0</td>\n",
       "      <td>0.550000</td>\n",
       "      <td>0.544179</td>\n",
       "      <td>0.570000</td>\n",
       "      <td>0.236321</td>\n",
       "    </tr>\n",
       "    <tr>\n",
       "      <th>...</th>\n",
       "      <td>...</td>\n",
       "      <td>...</td>\n",
       "      <td>...</td>\n",
       "      <td>...</td>\n",
       "      <td>...</td>\n",
       "      <td>...</td>\n",
       "      <td>...</td>\n",
       "      <td>...</td>\n",
       "      <td>...</td>\n",
       "      <td>...</td>\n",
       "      <td>...</td>\n",
       "      <td>...</td>\n",
       "      <td>...</td>\n",
       "      <td>...</td>\n",
       "      <td>...</td>\n",
       "      <td>...</td>\n",
       "      <td>...</td>\n",
       "      <td>...</td>\n",
       "      <td>...</td>\n",
       "      <td>...</td>\n",
       "      <td>...</td>\n",
       "    </tr>\n",
       "    <tr>\n",
       "      <th>299</th>\n",
       "      <td>0.470000</td>\n",
       "      <td>0.457046</td>\n",
       "      <td>0.812917</td>\n",
       "      <td>0.197763</td>\n",
       "      <td>0</td>\n",
       "      <td>0</td>\n",
       "      <td>0</td>\n",
       "      <td>1</td>\n",
       "      <td>1</td>\n",
       "      <td>0</td>\n",
       "      <td>...</td>\n",
       "      <td>0</td>\n",
       "      <td>1</td>\n",
       "      <td>0</td>\n",
       "      <td>1</td>\n",
       "      <td>0</td>\n",
       "      <td>0</td>\n",
       "      <td>0.470000</td>\n",
       "      <td>0.457046</td>\n",
       "      <td>0.812917</td>\n",
       "      <td>0.197763</td>\n",
       "    </tr>\n",
       "    <tr>\n",
       "      <th>516</th>\n",
       "      <td>0.680000</td>\n",
       "      <td>0.631329</td>\n",
       "      <td>0.492917</td>\n",
       "      <td>0.195279</td>\n",
       "      <td>0</td>\n",
       "      <td>1</td>\n",
       "      <td>0</td>\n",
       "      <td>0</td>\n",
       "      <td>0</td>\n",
       "      <td>1</td>\n",
       "      <td>...</td>\n",
       "      <td>0</td>\n",
       "      <td>1</td>\n",
       "      <td>0</td>\n",
       "      <td>0</td>\n",
       "      <td>1</td>\n",
       "      <td>0</td>\n",
       "      <td>0.680000</td>\n",
       "      <td>0.631329</td>\n",
       "      <td>0.492917</td>\n",
       "      <td>0.195279</td>\n",
       "    </tr>\n",
       "    <tr>\n",
       "      <th>533</th>\n",
       "      <td>0.592500</td>\n",
       "      <td>0.571975</td>\n",
       "      <td>0.598750</td>\n",
       "      <td>0.144904</td>\n",
       "      <td>0</td>\n",
       "      <td>1</td>\n",
       "      <td>0</td>\n",
       "      <td>0</td>\n",
       "      <td>0</td>\n",
       "      <td>1</td>\n",
       "      <td>...</td>\n",
       "      <td>0</td>\n",
       "      <td>0</td>\n",
       "      <td>0</td>\n",
       "      <td>0</td>\n",
       "      <td>1</td>\n",
       "      <td>0</td>\n",
       "      <td>0.592500</td>\n",
       "      <td>0.571975</td>\n",
       "      <td>0.598750</td>\n",
       "      <td>0.144904</td>\n",
       "    </tr>\n",
       "    <tr>\n",
       "      <th>264</th>\n",
       "      <td>0.628333</td>\n",
       "      <td>0.554963</td>\n",
       "      <td>0.902083</td>\n",
       "      <td>0.128125</td>\n",
       "      <td>0</td>\n",
       "      <td>0</td>\n",
       "      <td>1</td>\n",
       "      <td>0</td>\n",
       "      <td>1</td>\n",
       "      <td>0</td>\n",
       "      <td>...</td>\n",
       "      <td>0</td>\n",
       "      <td>1</td>\n",
       "      <td>0</td>\n",
       "      <td>1</td>\n",
       "      <td>0</td>\n",
       "      <td>0</td>\n",
       "      <td>0.628333</td>\n",
       "      <td>0.554963</td>\n",
       "      <td>0.902083</td>\n",
       "      <td>0.128125</td>\n",
       "    </tr>\n",
       "    <tr>\n",
       "      <th>137</th>\n",
       "      <td>0.550000</td>\n",
       "      <td>0.527158</td>\n",
       "      <td>0.870000</td>\n",
       "      <td>0.201492</td>\n",
       "      <td>0</td>\n",
       "      <td>1</td>\n",
       "      <td>0</td>\n",
       "      <td>0</td>\n",
       "      <td>1</td>\n",
       "      <td>0</td>\n",
       "      <td>...</td>\n",
       "      <td>1</td>\n",
       "      <td>0</td>\n",
       "      <td>0</td>\n",
       "      <td>1</td>\n",
       "      <td>0</td>\n",
       "      <td>0</td>\n",
       "      <td>0.550000</td>\n",
       "      <td>0.527158</td>\n",
       "      <td>0.870000</td>\n",
       "      <td>0.201492</td>\n",
       "    </tr>\n",
       "  </tbody>\n",
       "</table>\n",
       "<p>220 rows × 38 columns</p>\n",
       "</div>"
      ],
      "text/plain": [
       "         temp     atemp       hum  windspeed  season_1.0  season_2.0  \\\n",
       "703  0.475833  0.469054  0.733750   0.174129           0           0   \n",
       "33   0.186957  0.177878  0.437826   0.277752           1           0   \n",
       "300  0.330833  0.318812  0.585833   0.229479           0           0   \n",
       "456  0.425833  0.417287  0.676250   0.172267           0           1   \n",
       "633  0.550000  0.544179  0.570000   0.236321           0           0   \n",
       "..        ...       ...       ...        ...         ...         ...   \n",
       "299  0.470000  0.457046  0.812917   0.197763           0           0   \n",
       "516  0.680000  0.631329  0.492917   0.195279           0           1   \n",
       "533  0.592500  0.571975  0.598750   0.144904           0           1   \n",
       "264  0.628333  0.554963  0.902083   0.128125           0           0   \n",
       "137  0.550000  0.527158  0.870000   0.201492           0           1   \n",
       "\n",
       "     season_3.0  season_4.0  yr_0.0  yr_1.0  ...  weekday_3.0  weekday_4.0  \\\n",
       "703           0           1       0       1  ...            0            0   \n",
       "33            0           0       1       0  ...            0            1   \n",
       "300           0           1       1       0  ...            0            0   \n",
       "456           0           0       0       1  ...            0            0   \n",
       "633           0           1       0       1  ...            0            0   \n",
       "..          ...         ...     ...     ...  ...          ...          ...   \n",
       "299           0           1       1       0  ...            0            1   \n",
       "516           0           0       0       1  ...            0            1   \n",
       "533           0           0       0       1  ...            0            0   \n",
       "264           1           0       1       0  ...            0            1   \n",
       "137           0           0       1       0  ...            1            0   \n",
       "\n",
       "     weekday_5.0  weathersit_2.0  weathersit_1.0  weathersit_3.0      temp  \\\n",
       "703            0               0               1               0  0.475833   \n",
       "33             0               0               1               0  0.186957   \n",
       "300            1               1               0               0  0.330833   \n",
       "456            0               1               0               0  0.425833   \n",
       "633            0               0               1               0  0.550000   \n",
       "..           ...             ...             ...             ...       ...   \n",
       "299            0               1               0               0  0.470000   \n",
       "516            0               0               1               0  0.680000   \n",
       "533            0               0               1               0  0.592500   \n",
       "264            0               1               0               0  0.628333   \n",
       "137            0               1               0               0  0.550000   \n",
       "\n",
       "        atemp       hum  windspeed  \n",
       "703  0.469054  0.733750   0.174129  \n",
       "33   0.177878  0.437826   0.277752  \n",
       "300  0.318812  0.585833   0.229479  \n",
       "456  0.417287  0.676250   0.172267  \n",
       "633  0.544179  0.570000   0.236321  \n",
       "..        ...       ...        ...  \n",
       "299  0.457046  0.812917   0.197763  \n",
       "516  0.631329  0.492917   0.195279  \n",
       "533  0.571975  0.598750   0.144904  \n",
       "264  0.554963  0.902083   0.128125  \n",
       "137  0.527158  0.870000   0.201492  \n",
       "\n",
       "[220 rows x 38 columns]"
      ]
     },
     "execution_count": 24,
     "metadata": {},
     "output_type": "execute_result"
    }
   ],
   "source": [
    "X_test"
   ]
  },
  {
   "cell_type": "code",
   "execution_count": 25,
   "id": "b5a09dab",
   "metadata": {
    "_cell_guid": "1103ebfd-5b43-410a-b9e2-f1451641d0c4",
    "_uuid": "3ed5fd52-3240-4b3a-939b-c08e9b301e2e",
    "collapsed": false,
    "execution": {
     "iopub.execute_input": "2022-09-29T21:17:22.931248Z",
     "iopub.status.busy": "2022-09-29T21:17:22.930160Z",
     "iopub.status.idle": "2022-09-29T21:17:22.939743Z",
     "shell.execute_reply": "2022-09-29T21:17:22.938544Z"
    },
    "jupyter": {
     "outputs_hidden": false
    },
    "papermill": {
     "duration": 0.025723,
     "end_time": "2022-09-29T21:17:22.942614",
     "exception": false,
     "start_time": "2022-09-29T21:17:22.916891",
     "status": "completed"
    },
    "tags": []
   },
   "outputs": [],
   "source": [
    "y_pred = LR.predict(X_test)"
   ]
  },
  {
   "cell_type": "code",
   "execution_count": 26,
   "id": "772135a6",
   "metadata": {
    "_cell_guid": "0da80469-0753-4ad7-aa41-454724050843",
    "_uuid": "1ef2e5e2-8418-43e0-8697-a72ad6d65f8f",
    "collapsed": false,
    "execution": {
     "iopub.execute_input": "2022-09-29T21:17:22.966287Z",
     "iopub.status.busy": "2022-09-29T21:17:22.965727Z",
     "iopub.status.idle": "2022-09-29T21:17:22.976776Z",
     "shell.execute_reply": "2022-09-29T21:17:22.975586Z"
    },
    "jupyter": {
     "outputs_hidden": false
    },
    "papermill": {
     "duration": 0.026636,
     "end_time": "2022-09-29T21:17:22.979655",
     "exception": false,
     "start_time": "2022-09-29T21:17:22.953019",
     "status": "completed"
    },
    "tags": []
   },
   "outputs": [
    {
     "data": {
      "text/plain": [
       "774.1964948492608"
      ]
     },
     "execution_count": 26,
     "metadata": {},
     "output_type": "execute_result"
    }
   ],
   "source": [
    "mean_squared_error(y_test, y_pred,squared=False)"
   ]
  },
  {
   "cell_type": "code",
   "execution_count": 27,
   "id": "3a712eba",
   "metadata": {
    "_cell_guid": "a8435401-5e4c-430d-b807-2f4eb29f8f30",
    "_uuid": "4c590e5c-03c7-4e4c-8a2b-b09d57e17a24",
    "collapsed": false,
    "execution": {
     "iopub.execute_input": "2022-09-29T21:17:23.010729Z",
     "iopub.status.busy": "2022-09-29T21:17:23.009331Z",
     "iopub.status.idle": "2022-09-29T21:17:23.020270Z",
     "shell.execute_reply": "2022-09-29T21:17:23.019173Z"
    },
    "jupyter": {
     "outputs_hidden": false
    },
    "papermill": {
     "duration": 0.026904,
     "end_time": "2022-09-29T21:17:23.023112",
     "exception": false,
     "start_time": "2022-09-29T21:17:22.996208",
     "status": "completed"
    },
    "tags": []
   },
   "outputs": [
    {
     "data": {
      "text/plain": [
       "0.8493628241460262"
      ]
     },
     "execution_count": 27,
     "metadata": {},
     "output_type": "execute_result"
    }
   ],
   "source": [
    "r2_score(y_test,y_pred)"
   ]
  },
  {
   "cell_type": "code",
   "execution_count": 28,
   "id": "10ee57a1",
   "metadata": {
    "_cell_guid": "bba1bd91-cca0-4bb6-b9e2-6ebb7751d6e9",
    "_uuid": "303ac0d8-c25e-4904-b6aa-377f910fea48",
    "collapsed": false,
    "execution": {
     "iopub.execute_input": "2022-09-29T21:17:23.048180Z",
     "iopub.status.busy": "2022-09-29T21:17:23.047217Z",
     "iopub.status.idle": "2022-09-29T21:17:23.056482Z",
     "shell.execute_reply": "2022-09-29T21:17:23.055347Z"
    },
    "jupyter": {
     "outputs_hidden": false
    },
    "papermill": {
     "duration": 0.024318,
     "end_time": "2022-09-29T21:17:23.058942",
     "exception": false,
     "start_time": "2022-09-29T21:17:23.034624",
     "status": "completed"
    },
    "tags": []
   },
   "outputs": [
    {
     "data": {
      "text/plain": [
       "array([[-1.22890549e+16,  1.84100000e+03, -6.51938310e+02,\n",
       "        -1.10939306e+03, -9.48828901e+02,  1.09947277e+02,\n",
       "         1.17238032e+02,  7.86377452e+02, -9.91556146e+02,\n",
       "         9.70672074e+02, -7.63143963e+01,  5.96582083e+01,\n",
       "         4.90967465e+02,  8.27721023e+01,  3.26250494e+02,\n",
       "         1.46371573e+01, -5.47520814e+02, -2.31204325e+02,\n",
       "         5.57430099e+02,  1.84265251e+02, -4.26014361e+02,\n",
       "        -3.40743551e+02,  2.85314650e+02, -2.90658400e+02,\n",
       "         1.16649238e+02, -3.42685196e+02, -5.20241838e+01,\n",
       "        -4.69504437e+01,  6.56330329e+01,  6.73055989e+01,\n",
       "         1.36605409e+02,  2.31689529e+02,  7.52749021e+02,\n",
       "        -1.04601562e+03,  1.22890549e+16,  1.90237500e+03,\n",
       "        -6.93437500e+02, -1.15376562e+03],\n",
       "       [-1.22890549e+16,  1.84100000e+03, -6.51938310e+02,\n",
       "        -1.10939306e+03, -9.48828901e+02,  1.09947277e+02,\n",
       "         1.17238032e+02,  7.86377452e+02, -9.91556146e+02,\n",
       "         9.70672074e+02, -7.63143963e+01,  5.96582083e+01,\n",
       "         4.90967465e+02,  8.27721023e+01,  3.26250494e+02,\n",
       "         1.46371573e+01, -5.47520814e+02, -2.31204325e+02,\n",
       "         5.57430099e+02,  1.84265251e+02, -4.26014361e+02,\n",
       "        -3.40743551e+02,  2.85314650e+02, -2.90658400e+02,\n",
       "         1.16649238e+02, -3.42685196e+02, -5.20241838e+01,\n",
       "        -4.69504437e+01,  6.56330329e+01,  6.73055989e+01,\n",
       "         1.36605409e+02,  2.31689529e+02,  7.52749021e+02,\n",
       "        -1.04601562e+03,  1.22890549e+16,  1.90237500e+03,\n",
       "        -6.93437500e+02, -1.15376562e+03]])"
      ]
     },
     "execution_count": 28,
     "metadata": {},
     "output_type": "execute_result"
    }
   ],
   "source": [
    "LR.coef_"
   ]
  },
  {
   "cell_type": "markdown",
   "id": "41a47b4d",
   "metadata": {
    "_cell_guid": "a0a2b805-7db3-4fb9-b640-2b80a2af8e33",
    "_uuid": "562b49b1-533c-4472-afd1-25fcb73d2edf",
    "papermill": {
     "duration": 0.010666,
     "end_time": "2022-09-29T21:17:23.081010",
     "exception": false,
     "start_time": "2022-09-29T21:17:23.070344",
     "status": "completed"
    },
    "tags": []
   },
   "source": [
    "**Year & Holiday** these are the features which have significant contribution. **The model has a good fit with respect to the dataset.**"
   ]
  },
  {
   "cell_type": "code",
   "execution_count": null,
   "id": "9d89c07b",
   "metadata": {
    "papermill": {
     "duration": 0.01075,
     "end_time": "2022-09-29T21:17:23.103402",
     "exception": false,
     "start_time": "2022-09-29T21:17:23.092652",
     "status": "completed"
    },
    "tags": []
   },
   "outputs": [],
   "source": []
  }
 ],
 "metadata": {
  "kernelspec": {
   "display_name": "Python 3",
   "language": "python",
   "name": "python3"
  },
  "language_info": {
   "codemirror_mode": {
    "name": "ipython",
    "version": 3
   },
   "file_extension": ".py",
   "mimetype": "text/x-python",
   "name": "python",
   "nbconvert_exporter": "python",
   "pygments_lexer": "ipython3",
   "version": "3.7.12"
  },
  "papermill": {
   "default_parameters": {},
   "duration": 14.07677,
   "end_time": "2022-09-29T21:17:23.939417",
   "environment_variables": {},
   "exception": null,
   "input_path": "__notebook__.ipynb",
   "output_path": "__notebook__.ipynb",
   "parameters": {},
   "start_time": "2022-09-29T21:17:09.862647",
   "version": "2.3.4"
  }
 },
 "nbformat": 4,
 "nbformat_minor": 5
}
