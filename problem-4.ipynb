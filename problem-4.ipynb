{
 "cells": [
  {
   "cell_type": "code",
   "execution_count": 1,
   "id": "db2ecea5",
   "metadata": {
    "_cell_guid": "7754c37c-cac3-41db-a751-9411d740a623",
    "_uuid": "d1915725-acd3-4f7e-b399-56c66192534c",
    "collapsed": false,
    "execution": {
     "iopub.execute_input": "2022-09-27T22:10:58.141519Z",
     "iopub.status.busy": "2022-09-27T22:10:58.140633Z",
     "iopub.status.idle": "2022-09-27T22:10:58.165084Z",
     "shell.execute_reply": "2022-09-27T22:10:58.163935Z"
    },
    "jupyter": {
     "outputs_hidden": false
    },
    "papermill": {
     "duration": 0.041542,
     "end_time": "2022-09-27T22:10:58.169353",
     "exception": false,
     "start_time": "2022-09-27T22:10:58.127811",
     "status": "completed"
    },
    "tags": []
   },
   "outputs": [
    {
     "name": "stdout",
     "output_type": "stream",
     "text": [
      "/kaggle/input/bike-sharing-dataset/hour.csv\n",
      "/kaggle/input/bike-sharing-dataset/Readme.txt\n",
      "/kaggle/input/bike-sharing-dataset/day.csv\n",
      "/kaggle/input/bike-sharing-dataset/bike-sharing-dataset/hour.csv\n",
      "/kaggle/input/bike-sharing-dataset/bike-sharing-dataset/Readme.txt\n",
      "/kaggle/input/bike-sharing-dataset/bike-sharing-dataset/day.csv\n"
     ]
    }
   ],
   "source": [
    "# This Python 3 environment comes with many helpful analytics libraries installed\n",
    "# It is defined by the kaggle/python Docker image: https://github.com/kaggle/docker-python\n",
    "# For example, here's several helpful packages to load\n",
    "\n",
    "import numpy as np # linear algebra\n",
    "import pandas as pd # data processing, CSV file I/O (e.g. pd.read_csv)\n",
    "\n",
    "# Input data files are available in the read-only \"../input/\" directory\n",
    "# For example, running this (by clicking run or pressing Shift+Enter) will list all files under the input directory\n",
    "\n",
    "import os\n",
    "for dirname, _, filenames in os.walk('/kaggle/input'):\n",
    "    for filename in filenames:\n",
    "        print(os.path.join(dirname, filename))\n",
    "\n",
    "# You can write up to 20GB to the current directory (/kaggle/working/) that gets preserved as output when you create a version using \"Save & Run All\" \n",
    "# You can also write temporary files to /kaggle/temp/, but they won't be saved outside of the current session"
   ]
  },
  {
   "cell_type": "code",
   "execution_count": 2,
   "id": "a339ffca",
   "metadata": {
    "execution": {
     "iopub.execute_input": "2022-09-27T22:10:58.196170Z",
     "iopub.status.busy": "2022-09-27T22:10:58.194697Z",
     "iopub.status.idle": "2022-09-27T22:10:59.302206Z",
     "shell.execute_reply": "2022-09-27T22:10:59.300999Z"
    },
    "papermill": {
     "duration": 1.124527,
     "end_time": "2022-09-27T22:10:59.305213",
     "exception": false,
     "start_time": "2022-09-27T22:10:58.180686",
     "status": "completed"
    },
    "tags": []
   },
   "outputs": [],
   "source": [
    "from numpy import argmax\n",
    "from sklearn.preprocessing import LabelEncoder\n",
    "from sklearn.preprocessing import OneHotEncoder"
   ]
  },
  {
   "cell_type": "code",
   "execution_count": 3,
   "id": "fe6e86a1",
   "metadata": {
    "_cell_guid": "6e425efa-7eed-4396-a3c0-3ad477f7d8ec",
    "_uuid": "304c716b-f1c2-4e4c-9f61-a7468fc9ceaf",
    "collapsed": false,
    "execution": {
     "iopub.execute_input": "2022-09-27T22:10:59.324372Z",
     "iopub.status.busy": "2022-09-27T22:10:59.323408Z",
     "iopub.status.idle": "2022-09-27T22:10:59.346869Z",
     "shell.execute_reply": "2022-09-27T22:10:59.345457Z"
    },
    "jupyter": {
     "outputs_hidden": false
    },
    "papermill": {
     "duration": 0.036182,
     "end_time": "2022-09-27T22:10:59.349930",
     "exception": false,
     "start_time": "2022-09-27T22:10:59.313748",
     "status": "completed"
    },
    "tags": []
   },
   "outputs": [],
   "source": [
    "df = pd.read_csv(\"../input/bike-sharing-dataset/day.csv\")"
   ]
  },
  {
   "cell_type": "code",
   "execution_count": 4,
   "id": "47fffd7a",
   "metadata": {
    "_cell_guid": "bb5f6659-f8cb-4e8e-b5b3-440b741b95aa",
    "_uuid": "37a3a90f-ade8-4efb-91d1-13ccaec7e3ff",
    "collapsed": false,
    "execution": {
     "iopub.execute_input": "2022-09-27T22:10:59.370073Z",
     "iopub.status.busy": "2022-09-27T22:10:59.369128Z",
     "iopub.status.idle": "2022-09-27T22:10:59.397291Z",
     "shell.execute_reply": "2022-09-27T22:10:59.396333Z"
    },
    "jupyter": {
     "outputs_hidden": false
    },
    "papermill": {
     "duration": 0.040765,
     "end_time": "2022-09-27T22:10:59.399651",
     "exception": false,
     "start_time": "2022-09-27T22:10:59.358886",
     "status": "completed"
    },
    "tags": []
   },
   "outputs": [
    {
     "data": {
      "text/html": [
       "<div>\n",
       "<style scoped>\n",
       "    .dataframe tbody tr th:only-of-type {\n",
       "        vertical-align: middle;\n",
       "    }\n",
       "\n",
       "    .dataframe tbody tr th {\n",
       "        vertical-align: top;\n",
       "    }\n",
       "\n",
       "    .dataframe thead th {\n",
       "        text-align: right;\n",
       "    }\n",
       "</style>\n",
       "<table border=\"1\" class=\"dataframe\">\n",
       "  <thead>\n",
       "    <tr style=\"text-align: right;\">\n",
       "      <th></th>\n",
       "      <th>instant</th>\n",
       "      <th>dteday</th>\n",
       "      <th>season</th>\n",
       "      <th>yr</th>\n",
       "      <th>mnth</th>\n",
       "      <th>holiday</th>\n",
       "      <th>weekday</th>\n",
       "      <th>workingday</th>\n",
       "      <th>weathersit</th>\n",
       "      <th>temp</th>\n",
       "      <th>atemp</th>\n",
       "      <th>hum</th>\n",
       "      <th>windspeed</th>\n",
       "      <th>casual</th>\n",
       "      <th>registered</th>\n",
       "      <th>cnt</th>\n",
       "    </tr>\n",
       "  </thead>\n",
       "  <tbody>\n",
       "    <tr>\n",
       "      <th>0</th>\n",
       "      <td>1</td>\n",
       "      <td>2011-01-01</td>\n",
       "      <td>1</td>\n",
       "      <td>0</td>\n",
       "      <td>1</td>\n",
       "      <td>0</td>\n",
       "      <td>6</td>\n",
       "      <td>0</td>\n",
       "      <td>2</td>\n",
       "      <td>0.344167</td>\n",
       "      <td>0.363625</td>\n",
       "      <td>0.805833</td>\n",
       "      <td>0.160446</td>\n",
       "      <td>331</td>\n",
       "      <td>654</td>\n",
       "      <td>985</td>\n",
       "    </tr>\n",
       "    <tr>\n",
       "      <th>1</th>\n",
       "      <td>2</td>\n",
       "      <td>2011-01-02</td>\n",
       "      <td>1</td>\n",
       "      <td>0</td>\n",
       "      <td>1</td>\n",
       "      <td>0</td>\n",
       "      <td>0</td>\n",
       "      <td>0</td>\n",
       "      <td>2</td>\n",
       "      <td>0.363478</td>\n",
       "      <td>0.353739</td>\n",
       "      <td>0.696087</td>\n",
       "      <td>0.248539</td>\n",
       "      <td>131</td>\n",
       "      <td>670</td>\n",
       "      <td>801</td>\n",
       "    </tr>\n",
       "    <tr>\n",
       "      <th>2</th>\n",
       "      <td>3</td>\n",
       "      <td>2011-01-03</td>\n",
       "      <td>1</td>\n",
       "      <td>0</td>\n",
       "      <td>1</td>\n",
       "      <td>0</td>\n",
       "      <td>1</td>\n",
       "      <td>1</td>\n",
       "      <td>1</td>\n",
       "      <td>0.196364</td>\n",
       "      <td>0.189405</td>\n",
       "      <td>0.437273</td>\n",
       "      <td>0.248309</td>\n",
       "      <td>120</td>\n",
       "      <td>1229</td>\n",
       "      <td>1349</td>\n",
       "    </tr>\n",
       "    <tr>\n",
       "      <th>3</th>\n",
       "      <td>4</td>\n",
       "      <td>2011-01-04</td>\n",
       "      <td>1</td>\n",
       "      <td>0</td>\n",
       "      <td>1</td>\n",
       "      <td>0</td>\n",
       "      <td>2</td>\n",
       "      <td>1</td>\n",
       "      <td>1</td>\n",
       "      <td>0.200000</td>\n",
       "      <td>0.212122</td>\n",
       "      <td>0.590435</td>\n",
       "      <td>0.160296</td>\n",
       "      <td>108</td>\n",
       "      <td>1454</td>\n",
       "      <td>1562</td>\n",
       "    </tr>\n",
       "    <tr>\n",
       "      <th>4</th>\n",
       "      <td>5</td>\n",
       "      <td>2011-01-05</td>\n",
       "      <td>1</td>\n",
       "      <td>0</td>\n",
       "      <td>1</td>\n",
       "      <td>0</td>\n",
       "      <td>3</td>\n",
       "      <td>1</td>\n",
       "      <td>1</td>\n",
       "      <td>0.226957</td>\n",
       "      <td>0.229270</td>\n",
       "      <td>0.436957</td>\n",
       "      <td>0.186900</td>\n",
       "      <td>82</td>\n",
       "      <td>1518</td>\n",
       "      <td>1600</td>\n",
       "    </tr>\n",
       "  </tbody>\n",
       "</table>\n",
       "</div>"
      ],
      "text/plain": [
       "   instant      dteday  season  yr  mnth  holiday  weekday  workingday  \\\n",
       "0        1  2011-01-01       1   0     1        0        6           0   \n",
       "1        2  2011-01-02       1   0     1        0        0           0   \n",
       "2        3  2011-01-03       1   0     1        0        1           1   \n",
       "3        4  2011-01-04       1   0     1        0        2           1   \n",
       "4        5  2011-01-05       1   0     1        0        3           1   \n",
       "\n",
       "   weathersit      temp     atemp       hum  windspeed  casual  registered  \\\n",
       "0           2  0.344167  0.363625  0.805833   0.160446     331         654   \n",
       "1           2  0.363478  0.353739  0.696087   0.248539     131         670   \n",
       "2           1  0.196364  0.189405  0.437273   0.248309     120        1229   \n",
       "3           1  0.200000  0.212122  0.590435   0.160296     108        1454   \n",
       "4           1  0.226957  0.229270  0.436957   0.186900      82        1518   \n",
       "\n",
       "    cnt  \n",
       "0   985  \n",
       "1   801  \n",
       "2  1349  \n",
       "3  1562  \n",
       "4  1600  "
      ]
     },
     "execution_count": 4,
     "metadata": {},
     "output_type": "execute_result"
    }
   ],
   "source": [
    "df.head()"
   ]
  },
  {
   "cell_type": "code",
   "execution_count": 5,
   "id": "8ce945da",
   "metadata": {
    "_cell_guid": "21d1485a-1cc5-4a19-8b61-a3224156fe31",
    "_uuid": "2bcc139d-d84e-4c87-83d5-e25f9bd22d14",
    "collapsed": false,
    "execution": {
     "iopub.execute_input": "2022-09-27T22:10:59.419437Z",
     "iopub.status.busy": "2022-09-27T22:10:59.419023Z",
     "iopub.status.idle": "2022-09-27T22:10:59.426845Z",
     "shell.execute_reply": "2022-09-27T22:10:59.425549Z"
    },
    "jupyter": {
     "outputs_hidden": false
    },
    "papermill": {
     "duration": 0.020747,
     "end_time": "2022-09-27T22:10:59.429300",
     "exception": false,
     "start_time": "2022-09-27T22:10:59.408553",
     "status": "completed"
    },
    "tags": []
   },
   "outputs": [
    {
     "data": {
      "text/plain": [
       "Index(['instant', 'dteday', 'season', 'yr', 'mnth', 'holiday', 'weekday',\n",
       "       'workingday', 'weathersit', 'temp', 'atemp', 'hum', 'windspeed',\n",
       "       'casual', 'registered', 'cnt'],\n",
       "      dtype='object')"
      ]
     },
     "execution_count": 5,
     "metadata": {},
     "output_type": "execute_result"
    }
   ],
   "source": [
    "df.columns"
   ]
  },
  {
   "cell_type": "code",
   "execution_count": 6,
   "id": "dda5585d",
   "metadata": {
    "_cell_guid": "2b6b464d-7d10-49a3-8aa3-bcb863e2b9f1",
    "_uuid": "b87f031a-4cef-40da-abc0-b60c77923a1f",
    "collapsed": false,
    "execution": {
     "iopub.execute_input": "2022-09-27T22:10:59.452283Z",
     "iopub.status.busy": "2022-09-27T22:10:59.451305Z",
     "iopub.status.idle": "2022-09-27T22:10:59.462841Z",
     "shell.execute_reply": "2022-09-27T22:10:59.461962Z"
    },
    "jupyter": {
     "outputs_hidden": false
    },
    "papermill": {
     "duration": 0.024449,
     "end_time": "2022-09-27T22:10:59.465347",
     "exception": false,
     "start_time": "2022-09-27T22:10:59.440898",
     "status": "completed"
    },
    "tags": []
   },
   "outputs": [],
   "source": [
    "df.drop(['instant', 'dteday'], inplace=True ,axis=1)"
   ]
  },
  {
   "cell_type": "code",
   "execution_count": 7,
   "id": "f97b64bd",
   "metadata": {
    "_cell_guid": "b17ee383-55e6-41bc-9b0a-37bb7441fdfb",
    "_uuid": "e1bc743e-4617-45e2-acab-4f5d699c0bd4",
    "collapsed": false,
    "execution": {
     "iopub.execute_input": "2022-09-27T22:10:59.487219Z",
     "iopub.status.busy": "2022-09-27T22:10:59.485973Z",
     "iopub.status.idle": "2022-09-27T22:10:59.503807Z",
     "shell.execute_reply": "2022-09-27T22:10:59.502570Z"
    },
    "jupyter": {
     "outputs_hidden": false
    },
    "papermill": {
     "duration": 0.031289,
     "end_time": "2022-09-27T22:10:59.506650",
     "exception": false,
     "start_time": "2022-09-27T22:10:59.475361",
     "status": "completed"
    },
    "tags": []
   },
   "outputs": [
    {
     "name": "stdout",
     "output_type": "stream",
     "text": [
      "season        0.406100\n",
      "yr            0.566710\n",
      "mnth          0.279977\n",
      "holiday      -0.068348\n",
      "weekday       0.067443\n",
      "workingday    0.061156\n",
      "weathersit   -0.297391\n",
      "temp          0.627494\n",
      "atemp         0.631066\n",
      "hum          -0.100659\n",
      "windspeed    -0.234545\n",
      "casual        0.672804\n",
      "registered    0.945517\n",
      "cnt           1.000000\n",
      "dtype: float64\n"
     ]
    }
   ],
   "source": [
    "correlations = df.corrwith(df['cnt'])\n",
    "print(correlations)"
   ]
  },
  {
   "cell_type": "markdown",
   "id": "e9281c65",
   "metadata": {
    "_cell_guid": "8aba4077-ca1d-4984-ab9d-cd3da0a8b987",
    "_uuid": "6dfe76cf-8efb-4865-aa4a-a26964bd05bc",
    "papermill": {
     "duration": 0.008672,
     "end_time": "2022-09-27T22:10:59.524731",
     "exception": false,
     "start_time": "2022-09-27T22:10:59.516059",
     "status": "completed"
    },
    "tags": []
   },
   "source": [
    "Features with positive correlation are: \n",
    "* **season**\n",
    "* **yr**: year\n",
    "* **mnth**: mmonths\n",
    "* **weekday**: days of the week\n",
    "* **workingday**: whether the day is neither a weekend nor holiday\n",
    "* **temp**: temperature in Celsius\n",
    "* **atemp**: \"feels like\" temperature in Celsius\n",
    "* **casual**: number of non-registered user rentals initiated\n",
    "* **registered**: number of registered user rentals initiated\n",
    "\n",
    "The feature with highest correlation is **'registered'**."
   ]
  },
  {
   "cell_type": "markdown",
   "id": "80900bdd",
   "metadata": {
    "_cell_guid": "01170ec7-7229-419f-8875-4419f9890731",
    "_uuid": "c7bc3fd5-ea51-43e0-a449-3b6ae3d2272e",
    "papermill": {
     "duration": 0.008912,
     "end_time": "2022-09-27T22:10:59.542797",
     "exception": false,
     "start_time": "2022-09-27T22:10:59.533885",
     "status": "completed"
    },
    "tags": []
   },
   "source": [
    "Features with negative correlation are: \n",
    "* **holiday**: whether the day is considered a holiday\n",
    "* **weathersit**\n",
    "* **hum**: humidity\n",
    "* **windspeed**"
   ]
  },
  {
   "cell_type": "code",
   "execution_count": 8,
   "id": "a72b5ba1",
   "metadata": {
    "execution": {
     "iopub.execute_input": "2022-09-27T22:10:59.562813Z",
     "iopub.status.busy": "2022-09-27T22:10:59.562391Z",
     "iopub.status.idle": "2022-09-27T22:10:59.570015Z",
     "shell.execute_reply": "2022-09-27T22:10:59.568880Z"
    },
    "papermill": {
     "duration": 0.020248,
     "end_time": "2022-09-27T22:10:59.572108",
     "exception": false,
     "start_time": "2022-09-27T22:10:59.551860",
     "status": "completed"
    },
    "tags": []
   },
   "outputs": [],
   "source": [
    "df.drop(['casual', 'registered'], inplace=True ,axis=1)"
   ]
  },
  {
   "cell_type": "code",
   "execution_count": 9,
   "id": "bba3ba96",
   "metadata": {
    "execution": {
     "iopub.execute_input": "2022-09-27T22:10:59.592914Z",
     "iopub.status.busy": "2022-09-27T22:10:59.591630Z",
     "iopub.status.idle": "2022-09-27T22:10:59.607652Z",
     "shell.execute_reply": "2022-09-27T22:10:59.606365Z"
    },
    "papermill": {
     "duration": 0.029106,
     "end_time": "2022-09-27T22:10:59.610344",
     "exception": false,
     "start_time": "2022-09-27T22:10:59.581238",
     "status": "completed"
    },
    "tags": []
   },
   "outputs": [
    {
     "data": {
      "text/html": [
       "<div>\n",
       "<style scoped>\n",
       "    .dataframe tbody tr th:only-of-type {\n",
       "        vertical-align: middle;\n",
       "    }\n",
       "\n",
       "    .dataframe tbody tr th {\n",
       "        vertical-align: top;\n",
       "    }\n",
       "\n",
       "    .dataframe thead th {\n",
       "        text-align: right;\n",
       "    }\n",
       "</style>\n",
       "<table border=\"1\" class=\"dataframe\">\n",
       "  <thead>\n",
       "    <tr style=\"text-align: right;\">\n",
       "      <th></th>\n",
       "      <th>season</th>\n",
       "      <th>yr</th>\n",
       "      <th>mnth</th>\n",
       "      <th>holiday</th>\n",
       "      <th>weekday</th>\n",
       "      <th>workingday</th>\n",
       "      <th>weathersit</th>\n",
       "      <th>temp</th>\n",
       "      <th>atemp</th>\n",
       "      <th>hum</th>\n",
       "      <th>windspeed</th>\n",
       "      <th>cnt</th>\n",
       "    </tr>\n",
       "  </thead>\n",
       "  <tbody>\n",
       "    <tr>\n",
       "      <th>0</th>\n",
       "      <td>1</td>\n",
       "      <td>0</td>\n",
       "      <td>1</td>\n",
       "      <td>0</td>\n",
       "      <td>6</td>\n",
       "      <td>0</td>\n",
       "      <td>2</td>\n",
       "      <td>0.344167</td>\n",
       "      <td>0.363625</td>\n",
       "      <td>0.805833</td>\n",
       "      <td>0.160446</td>\n",
       "      <td>985</td>\n",
       "    </tr>\n",
       "    <tr>\n",
       "      <th>1</th>\n",
       "      <td>1</td>\n",
       "      <td>0</td>\n",
       "      <td>1</td>\n",
       "      <td>0</td>\n",
       "      <td>0</td>\n",
       "      <td>0</td>\n",
       "      <td>2</td>\n",
       "      <td>0.363478</td>\n",
       "      <td>0.353739</td>\n",
       "      <td>0.696087</td>\n",
       "      <td>0.248539</td>\n",
       "      <td>801</td>\n",
       "    </tr>\n",
       "    <tr>\n",
       "      <th>2</th>\n",
       "      <td>1</td>\n",
       "      <td>0</td>\n",
       "      <td>1</td>\n",
       "      <td>0</td>\n",
       "      <td>1</td>\n",
       "      <td>1</td>\n",
       "      <td>1</td>\n",
       "      <td>0.196364</td>\n",
       "      <td>0.189405</td>\n",
       "      <td>0.437273</td>\n",
       "      <td>0.248309</td>\n",
       "      <td>1349</td>\n",
       "    </tr>\n",
       "    <tr>\n",
       "      <th>3</th>\n",
       "      <td>1</td>\n",
       "      <td>0</td>\n",
       "      <td>1</td>\n",
       "      <td>0</td>\n",
       "      <td>2</td>\n",
       "      <td>1</td>\n",
       "      <td>1</td>\n",
       "      <td>0.200000</td>\n",
       "      <td>0.212122</td>\n",
       "      <td>0.590435</td>\n",
       "      <td>0.160296</td>\n",
       "      <td>1562</td>\n",
       "    </tr>\n",
       "    <tr>\n",
       "      <th>4</th>\n",
       "      <td>1</td>\n",
       "      <td>0</td>\n",
       "      <td>1</td>\n",
       "      <td>0</td>\n",
       "      <td>3</td>\n",
       "      <td>1</td>\n",
       "      <td>1</td>\n",
       "      <td>0.226957</td>\n",
       "      <td>0.229270</td>\n",
       "      <td>0.436957</td>\n",
       "      <td>0.186900</td>\n",
       "      <td>1600</td>\n",
       "    </tr>\n",
       "  </tbody>\n",
       "</table>\n",
       "</div>"
      ],
      "text/plain": [
       "   season  yr  mnth  holiday  weekday  workingday  weathersit      temp  \\\n",
       "0       1   0     1        0        6           0           2  0.344167   \n",
       "1       1   0     1        0        0           0           2  0.363478   \n",
       "2       1   0     1        0        1           1           1  0.196364   \n",
       "3       1   0     1        0        2           1           1  0.200000   \n",
       "4       1   0     1        0        3           1           1  0.226957   \n",
       "\n",
       "      atemp       hum  windspeed   cnt  \n",
       "0  0.363625  0.805833   0.160446   985  \n",
       "1  0.353739  0.696087   0.248539   801  \n",
       "2  0.189405  0.437273   0.248309  1349  \n",
       "3  0.212122  0.590435   0.160296  1562  \n",
       "4  0.229270  0.436957   0.186900  1600  "
      ]
     },
     "execution_count": 9,
     "metadata": {},
     "output_type": "execute_result"
    }
   ],
   "source": [
    "df.head()\n"
   ]
  },
  {
   "cell_type": "code",
   "execution_count": 10,
   "id": "ad9bd6c2",
   "metadata": {
    "execution": {
     "iopub.execute_input": "2022-09-27T22:10:59.631423Z",
     "iopub.status.busy": "2022-09-27T22:10:59.630472Z",
     "iopub.status.idle": "2022-09-27T22:10:59.840967Z",
     "shell.execute_reply": "2022-09-27T22:10:59.839899Z"
    },
    "papermill": {
     "duration": 0.224054,
     "end_time": "2022-09-27T22:10:59.843769",
     "exception": false,
     "start_time": "2022-09-27T22:10:59.619715",
     "status": "completed"
    },
    "tags": []
   },
   "outputs": [],
   "source": [
    "import category_encoders as ce"
   ]
  },
  {
   "cell_type": "code",
   "execution_count": 11,
   "id": "6e3103f2",
   "metadata": {
    "execution": {
     "iopub.execute_input": "2022-09-27T22:10:59.864427Z",
     "iopub.status.busy": "2022-09-27T22:10:59.864032Z",
     "iopub.status.idle": "2022-09-27T22:10:59.869849Z",
     "shell.execute_reply": "2022-09-27T22:10:59.868563Z"
    },
    "papermill": {
     "duration": 0.01899,
     "end_time": "2022-09-27T22:10:59.872306",
     "exception": false,
     "start_time": "2022-09-27T22:10:59.853316",
     "status": "completed"
    },
    "tags": []
   },
   "outputs": [],
   "source": [
    "encoder = ce.OneHotEncoder(cols=('season','yr','mnth','holiday','weekday','workingday','weathersit'), use_cat_names = True)"
   ]
  },
  {
   "cell_type": "code",
   "execution_count": 12,
   "id": "0dacf93b",
   "metadata": {
    "_cell_guid": "3ce10598-fcb0-4fd7-9c24-fa3b2502afb3",
    "_uuid": "823c1808-d019-4fde-aee6-e91fbb374e5a",
    "collapsed": false,
    "execution": {
     "iopub.execute_input": "2022-09-27T22:10:59.893536Z",
     "iopub.status.busy": "2022-09-27T22:10:59.892424Z",
     "iopub.status.idle": "2022-09-27T22:10:59.951112Z",
     "shell.execute_reply": "2022-09-27T22:10:59.950080Z"
    },
    "jupyter": {
     "outputs_hidden": false
    },
    "papermill": {
     "duration": 0.07203,
     "end_time": "2022-09-27T22:10:59.953910",
     "exception": false,
     "start_time": "2022-09-27T22:10:59.881880",
     "status": "completed"
    },
    "tags": []
   },
   "outputs": [],
   "source": [
    "from sklearn.model_selection import train_test_split\n"
   ]
  },
  {
   "cell_type": "code",
   "execution_count": 13,
   "id": "d92d2e8c",
   "metadata": {
    "execution": {
     "iopub.execute_input": "2022-09-27T22:10:59.976574Z",
     "iopub.status.busy": "2022-09-27T22:10:59.975895Z",
     "iopub.status.idle": "2022-09-27T22:10:59.982940Z",
     "shell.execute_reply": "2022-09-27T22:10:59.981884Z"
    },
    "papermill": {
     "duration": 0.022092,
     "end_time": "2022-09-27T22:10:59.985316",
     "exception": false,
     "start_time": "2022-09-27T22:10:59.963224",
     "status": "completed"
    },
    "tags": []
   },
   "outputs": [],
   "source": [
    "train, test = train_test_split(df, random_state=42)"
   ]
  },
  {
   "cell_type": "code",
   "execution_count": 14,
   "id": "b8a40965",
   "metadata": {
    "execution": {
     "iopub.execute_input": "2022-09-27T22:11:00.005822Z",
     "iopub.status.busy": "2022-09-27T22:11:00.004873Z",
     "iopub.status.idle": "2022-09-27T22:11:00.123878Z",
     "shell.execute_reply": "2022-09-27T22:11:00.123000Z"
    },
    "papermill": {
     "duration": 0.13211,
     "end_time": "2022-09-27T22:11:00.126569",
     "exception": false,
     "start_time": "2022-09-27T22:10:59.994459",
     "status": "completed"
    },
    "tags": []
   },
   "outputs": [],
   "source": [
    "train_encoded = encoder.fit_transform(train)"
   ]
  },
  {
   "cell_type": "code",
   "execution_count": 15,
   "id": "0ac773ce",
   "metadata": {
    "execution": {
     "iopub.execute_input": "2022-09-27T22:11:00.149611Z",
     "iopub.status.busy": "2022-09-27T22:11:00.149139Z",
     "iopub.status.idle": "2022-09-27T22:11:00.172338Z",
     "shell.execute_reply": "2022-09-27T22:11:00.171270Z"
    },
    "papermill": {
     "duration": 0.037387,
     "end_time": "2022-09-27T22:11:00.174971",
     "exception": false,
     "start_time": "2022-09-27T22:11:00.137584",
     "status": "completed"
    },
    "tags": []
   },
   "outputs": [
    {
     "data": {
      "text/html": [
       "<div>\n",
       "<style scoped>\n",
       "    .dataframe tbody tr th:only-of-type {\n",
       "        vertical-align: middle;\n",
       "    }\n",
       "\n",
       "    .dataframe tbody tr th {\n",
       "        vertical-align: top;\n",
       "    }\n",
       "\n",
       "    .dataframe thead th {\n",
       "        text-align: right;\n",
       "    }\n",
       "</style>\n",
       "<table border=\"1\" class=\"dataframe\">\n",
       "  <thead>\n",
       "    <tr style=\"text-align: right;\">\n",
       "      <th></th>\n",
       "      <th>season_4.0</th>\n",
       "      <th>season_2.0</th>\n",
       "      <th>season_1.0</th>\n",
       "      <th>season_3.0</th>\n",
       "      <th>yr_1.0</th>\n",
       "      <th>yr_0.0</th>\n",
       "      <th>mnth_11.0</th>\n",
       "      <th>mnth_10.0</th>\n",
       "      <th>mnth_9.0</th>\n",
       "      <th>mnth_6.0</th>\n",
       "      <th>...</th>\n",
       "      <th>workingday_1.0</th>\n",
       "      <th>workingday_0.0</th>\n",
       "      <th>weathersit_2.0</th>\n",
       "      <th>weathersit_1.0</th>\n",
       "      <th>weathersit_3.0</th>\n",
       "      <th>temp</th>\n",
       "      <th>atemp</th>\n",
       "      <th>hum</th>\n",
       "      <th>windspeed</th>\n",
       "      <th>cnt</th>\n",
       "    </tr>\n",
       "  </thead>\n",
       "  <tbody>\n",
       "    <tr>\n",
       "      <th>688</th>\n",
       "      <td>1</td>\n",
       "      <td>0</td>\n",
       "      <td>0</td>\n",
       "      <td>0</td>\n",
       "      <td>1</td>\n",
       "      <td>0</td>\n",
       "      <td>1</td>\n",
       "      <td>0</td>\n",
       "      <td>0</td>\n",
       "      <td>0</td>\n",
       "      <td>...</td>\n",
       "      <td>1</td>\n",
       "      <td>0</td>\n",
       "      <td>1</td>\n",
       "      <td>0</td>\n",
       "      <td>0</td>\n",
       "      <td>0.380833</td>\n",
       "      <td>0.375621</td>\n",
       "      <td>0.623333</td>\n",
       "      <td>0.235067</td>\n",
       "      <td>5499</td>\n",
       "    </tr>\n",
       "    <tr>\n",
       "      <th>649</th>\n",
       "      <td>1</td>\n",
       "      <td>0</td>\n",
       "      <td>0</td>\n",
       "      <td>0</td>\n",
       "      <td>1</td>\n",
       "      <td>0</td>\n",
       "      <td>0</td>\n",
       "      <td>1</td>\n",
       "      <td>0</td>\n",
       "      <td>0</td>\n",
       "      <td>...</td>\n",
       "      <td>1</td>\n",
       "      <td>0</td>\n",
       "      <td>0</td>\n",
       "      <td>1</td>\n",
       "      <td>0</td>\n",
       "      <td>0.435000</td>\n",
       "      <td>0.431167</td>\n",
       "      <td>0.463333</td>\n",
       "      <td>0.181596</td>\n",
       "      <td>7570</td>\n",
       "    </tr>\n",
       "    <tr>\n",
       "      <th>637</th>\n",
       "      <td>1</td>\n",
       "      <td>0</td>\n",
       "      <td>0</td>\n",
       "      <td>0</td>\n",
       "      <td>1</td>\n",
       "      <td>0</td>\n",
       "      <td>0</td>\n",
       "      <td>0</td>\n",
       "      <td>1</td>\n",
       "      <td>0</td>\n",
       "      <td>...</td>\n",
       "      <td>0</td>\n",
       "      <td>1</td>\n",
       "      <td>0</td>\n",
       "      <td>1</td>\n",
       "      <td>0</td>\n",
       "      <td>0.542500</td>\n",
       "      <td>0.530296</td>\n",
       "      <td>0.542917</td>\n",
       "      <td>0.227604</td>\n",
       "      <td>8555</td>\n",
       "    </tr>\n",
       "    <tr>\n",
       "      <th>525</th>\n",
       "      <td>0</td>\n",
       "      <td>1</td>\n",
       "      <td>0</td>\n",
       "      <td>0</td>\n",
       "      <td>1</td>\n",
       "      <td>0</td>\n",
       "      <td>0</td>\n",
       "      <td>0</td>\n",
       "      <td>0</td>\n",
       "      <td>1</td>\n",
       "      <td>...</td>\n",
       "      <td>0</td>\n",
       "      <td>1</td>\n",
       "      <td>0</td>\n",
       "      <td>1</td>\n",
       "      <td>0</td>\n",
       "      <td>0.710833</td>\n",
       "      <td>0.648367</td>\n",
       "      <td>0.437083</td>\n",
       "      <td>0.144287</td>\n",
       "      <td>7498</td>\n",
       "    </tr>\n",
       "    <tr>\n",
       "      <th>367</th>\n",
       "      <td>0</td>\n",
       "      <td>0</td>\n",
       "      <td>1</td>\n",
       "      <td>0</td>\n",
       "      <td>1</td>\n",
       "      <td>0</td>\n",
       "      <td>0</td>\n",
       "      <td>0</td>\n",
       "      <td>0</td>\n",
       "      <td>0</td>\n",
       "      <td>...</td>\n",
       "      <td>1</td>\n",
       "      <td>0</td>\n",
       "      <td>0</td>\n",
       "      <td>1</td>\n",
       "      <td>0</td>\n",
       "      <td>0.150000</td>\n",
       "      <td>0.126275</td>\n",
       "      <td>0.441250</td>\n",
       "      <td>0.365671</td>\n",
       "      <td>2236</td>\n",
       "    </tr>\n",
       "  </tbody>\n",
       "</table>\n",
       "<p>5 rows × 37 columns</p>\n",
       "</div>"
      ],
      "text/plain": [
       "     season_4.0  season_2.0  season_1.0  season_3.0  yr_1.0  yr_0.0  \\\n",
       "688           1           0           0           0       1       0   \n",
       "649           1           0           0           0       1       0   \n",
       "637           1           0           0           0       1       0   \n",
       "525           0           1           0           0       1       0   \n",
       "367           0           0           1           0       1       0   \n",
       "\n",
       "     mnth_11.0  mnth_10.0  mnth_9.0  mnth_6.0  ...  workingday_1.0  \\\n",
       "688          1          0         0         0  ...               1   \n",
       "649          0          1         0         0  ...               1   \n",
       "637          0          0         1         0  ...               0   \n",
       "525          0          0         0         1  ...               0   \n",
       "367          0          0         0         0  ...               1   \n",
       "\n",
       "     workingday_0.0  weathersit_2.0  weathersit_1.0  weathersit_3.0      temp  \\\n",
       "688               0               1               0               0  0.380833   \n",
       "649               0               0               1               0  0.435000   \n",
       "637               1               0               1               0  0.542500   \n",
       "525               1               0               1               0  0.710833   \n",
       "367               0               0               1               0  0.150000   \n",
       "\n",
       "        atemp       hum  windspeed   cnt  \n",
       "688  0.375621  0.623333   0.235067  5499  \n",
       "649  0.431167  0.463333   0.181596  7570  \n",
       "637  0.530296  0.542917   0.227604  8555  \n",
       "525  0.648367  0.437083   0.144287  7498  \n",
       "367  0.126275  0.441250   0.365671  2236  \n",
       "\n",
       "[5 rows x 37 columns]"
      ]
     },
     "execution_count": 15,
     "metadata": {},
     "output_type": "execute_result"
    }
   ],
   "source": [
    "train_encoded.head()"
   ]
  },
  {
   "cell_type": "code",
   "execution_count": 16,
   "id": "e0f43291",
   "metadata": {
    "_cell_guid": "79fda334-0f33-4418-ae63-ba35a23ff066",
    "_uuid": "b792fcab-92ae-4a6e-96c4-7f414e43d505",
    "collapsed": false,
    "execution": {
     "iopub.execute_input": "2022-09-27T22:11:00.196429Z",
     "iopub.status.busy": "2022-09-27T22:11:00.195808Z",
     "iopub.status.idle": "2022-09-27T22:11:00.202429Z",
     "shell.execute_reply": "2022-09-27T22:11:00.201459Z"
    },
    "jupyter": {
     "outputs_hidden": false
    },
    "papermill": {
     "duration": 0.020036,
     "end_time": "2022-09-27T22:11:00.204759",
     "exception": false,
     "start_time": "2022-09-27T22:11:00.184723",
     "status": "completed"
    },
    "tags": []
   },
   "outputs": [],
   "source": [
    "X = df.drop('cnt', axis = 1)\n",
    "y = df['cnt']"
   ]
  },
  {
   "cell_type": "code",
   "execution_count": 17,
   "id": "12b0bae2",
   "metadata": {
    "_cell_guid": "70659f9d-060f-4279-9c62-9da4d5ca4d75",
    "_uuid": "bbf8619c-ebca-4f2f-81ef-ad4c8ba5e03d",
    "collapsed": false,
    "execution": {
     "iopub.execute_input": "2022-09-27T22:11:00.228093Z",
     "iopub.status.busy": "2022-09-27T22:11:00.227676Z",
     "iopub.status.idle": "2022-09-27T22:11:00.234196Z",
     "shell.execute_reply": "2022-09-27T22:11:00.233430Z"
    },
    "jupyter": {
     "outputs_hidden": false
    },
    "papermill": {
     "duration": 0.020985,
     "end_time": "2022-09-27T22:11:00.236390",
     "exception": false,
     "start_time": "2022-09-27T22:11:00.215405",
     "status": "completed"
    },
    "tags": []
   },
   "outputs": [],
   "source": [
    "X_train, X_test, y_train, y_test = train_test_split(X, y, test_size=0.3, random_state=42)"
   ]
  },
  {
   "cell_type": "code",
   "execution_count": 18,
   "id": "d6e46cdf",
   "metadata": {
    "_cell_guid": "8bb57773-01c9-4194-a7cd-6c34adcc6127",
    "_uuid": "f0dc72ff-52ee-483c-91db-24c11e915c73",
    "collapsed": false,
    "execution": {
     "iopub.execute_input": "2022-09-27T22:11:00.259153Z",
     "iopub.status.busy": "2022-09-27T22:11:00.258006Z",
     "iopub.status.idle": "2022-09-27T22:11:00.335597Z",
     "shell.execute_reply": "2022-09-27T22:11:00.334296Z"
    },
    "jupyter": {
     "outputs_hidden": false
    },
    "papermill": {
     "duration": 0.092062,
     "end_time": "2022-09-27T22:11:00.338767",
     "exception": false,
     "start_time": "2022-09-27T22:11:00.246705",
     "status": "completed"
    },
    "tags": []
   },
   "outputs": [],
   "source": [
    "from sklearn.linear_model import LinearRegression"
   ]
  },
  {
   "cell_type": "code",
   "execution_count": 19,
   "id": "89277568",
   "metadata": {
    "_cell_guid": "ccd23d47-34ae-4202-8146-c21f89410662",
    "_uuid": "8d688102-4969-4acf-a23b-4aefbd35247c",
    "collapsed": false,
    "execution": {
     "iopub.execute_input": "2022-09-27T22:11:00.361373Z",
     "iopub.status.busy": "2022-09-27T22:11:00.360944Z",
     "iopub.status.idle": "2022-09-27T22:11:00.364849Z",
     "shell.execute_reply": "2022-09-27T22:11:00.364050Z"
    },
    "jupyter": {
     "outputs_hidden": false
    },
    "papermill": {
     "duration": 0.018017,
     "end_time": "2022-09-27T22:11:00.367154",
     "exception": false,
     "start_time": "2022-09-27T22:11:00.349137",
     "status": "completed"
    },
    "tags": []
   },
   "outputs": [],
   "source": [
    "LR = LinearRegression()"
   ]
  },
  {
   "cell_type": "code",
   "execution_count": 20,
   "id": "84a86da4",
   "metadata": {
    "_cell_guid": "0b152974-58db-4c83-a3c2-35776691e45c",
    "_uuid": "530b4383-6391-405f-90e0-9370a002ba80",
    "collapsed": false,
    "execution": {
     "iopub.execute_input": "2022-09-27T22:11:00.389574Z",
     "iopub.status.busy": "2022-09-27T22:11:00.388742Z",
     "iopub.status.idle": "2022-09-27T22:11:00.416367Z",
     "shell.execute_reply": "2022-09-27T22:11:00.415247Z"
    },
    "jupyter": {
     "outputs_hidden": false
    },
    "papermill": {
     "duration": 0.041413,
     "end_time": "2022-09-27T22:11:00.418952",
     "exception": false,
     "start_time": "2022-09-27T22:11:00.377539",
     "status": "completed"
    },
    "tags": []
   },
   "outputs": [
    {
     "data": {
      "text/plain": [
       "LinearRegression()"
      ]
     },
     "execution_count": 20,
     "metadata": {},
     "output_type": "execute_result"
    }
   ],
   "source": [
    "LR.fit(X_train, y_train)"
   ]
  },
  {
   "cell_type": "code",
   "execution_count": 21,
   "id": "e227ee23",
   "metadata": {
    "_cell_guid": "31b8c3bd-3793-493a-a328-6d2a32efe2a9",
    "_uuid": "f27359ee-189f-4579-9493-f7ba484a8505",
    "collapsed": false,
    "execution": {
     "iopub.execute_input": "2022-09-27T22:11:00.440035Z",
     "iopub.status.busy": "2022-09-27T22:11:00.439651Z",
     "iopub.status.idle": "2022-09-27T22:11:00.447498Z",
     "shell.execute_reply": "2022-09-27T22:11:00.446633Z"
    },
    "jupyter": {
     "outputs_hidden": false
    },
    "papermill": {
     "duration": 0.020938,
     "end_time": "2022-09-27T22:11:00.449648",
     "exception": false,
     "start_time": "2022-09-27T22:11:00.428710",
     "status": "completed"
    },
    "tags": []
   },
   "outputs": [],
   "source": [
    "pred = LR.predict(X_train)"
   ]
  },
  {
   "cell_type": "code",
   "execution_count": 22,
   "id": "949afdf0",
   "metadata": {
    "execution": {
     "iopub.execute_input": "2022-09-27T22:11:00.471118Z",
     "iopub.status.busy": "2022-09-27T22:11:00.470288Z",
     "iopub.status.idle": "2022-09-27T22:11:00.475555Z",
     "shell.execute_reply": "2022-09-27T22:11:00.474770Z"
    },
    "papermill": {
     "duration": 0.018371,
     "end_time": "2022-09-27T22:11:00.477703",
     "exception": false,
     "start_time": "2022-09-27T22:11:00.459332",
     "status": "completed"
    },
    "tags": []
   },
   "outputs": [],
   "source": [
    "from sklearn.metrics import mean_squared_error,r2_score"
   ]
  },
  {
   "cell_type": "code",
   "execution_count": 23,
   "id": "55c6929c",
   "metadata": {
    "_cell_guid": "138452f7-ede1-4386-b6f4-26b87dc24bda",
    "_uuid": "15a0d3b5-20c2-49e6-aee1-d068e15f6234",
    "collapsed": false,
    "execution": {
     "iopub.execute_input": "2022-09-27T22:11:00.498589Z",
     "iopub.status.busy": "2022-09-27T22:11:00.498162Z",
     "iopub.status.idle": "2022-09-27T22:11:00.506204Z",
     "shell.execute_reply": "2022-09-27T22:11:00.505165Z"
    },
    "jupyter": {
     "outputs_hidden": false
    },
    "papermill": {
     "duration": 0.021216,
     "end_time": "2022-09-27T22:11:00.508530",
     "exception": false,
     "start_time": "2022-09-27T22:11:00.487314",
     "status": "completed"
    },
    "tags": []
   },
   "outputs": [
    {
     "data": {
      "text/plain": [
       "767408.9969051768"
      ]
     },
     "execution_count": 23,
     "metadata": {},
     "output_type": "execute_result"
    }
   ],
   "source": [
    "mean_squared_error(y_train, pred)"
   ]
  },
  {
   "cell_type": "code",
   "execution_count": 24,
   "id": "50130666",
   "metadata": {
    "_cell_guid": "6fab633d-fb85-499b-a3ad-562a0c1fd422",
    "_uuid": "24b978a6-b3b0-4ad2-9277-591433a71fdf",
    "collapsed": false,
    "execution": {
     "iopub.execute_input": "2022-09-27T22:11:00.531081Z",
     "iopub.status.busy": "2022-09-27T22:11:00.530658Z",
     "iopub.status.idle": "2022-09-27T22:11:00.539856Z",
     "shell.execute_reply": "2022-09-27T22:11:00.538652Z"
    },
    "jupyter": {
     "outputs_hidden": false
    },
    "papermill": {
     "duration": 0.023199,
     "end_time": "2022-09-27T22:11:00.542225",
     "exception": false,
     "start_time": "2022-09-27T22:11:00.519026",
     "status": "completed"
    },
    "tags": []
   },
   "outputs": [
    {
     "data": {
      "text/plain": [
       "0.7891098322665724"
      ]
     },
     "execution_count": 24,
     "metadata": {},
     "output_type": "execute_result"
    }
   ],
   "source": [
    "r2_score(y_train, pred)"
   ]
  },
  {
   "cell_type": "code",
   "execution_count": 25,
   "id": "5e40e434",
   "metadata": {
    "_cell_guid": "1103ebfd-5b43-410a-b9e2-f1451641d0c4",
    "_uuid": "3ed5fd52-3240-4b3a-939b-c08e9b301e2e",
    "collapsed": false,
    "execution": {
     "iopub.execute_input": "2022-09-27T22:11:00.565034Z",
     "iopub.status.busy": "2022-09-27T22:11:00.564618Z",
     "iopub.status.idle": "2022-09-27T22:11:00.571292Z",
     "shell.execute_reply": "2022-09-27T22:11:00.570255Z"
    },
    "jupyter": {
     "outputs_hidden": false
    },
    "papermill": {
     "duration": 0.021134,
     "end_time": "2022-09-27T22:11:00.573934",
     "exception": false,
     "start_time": "2022-09-27T22:11:00.552800",
     "status": "completed"
    },
    "tags": []
   },
   "outputs": [],
   "source": [
    "y_pred = LR.predict(X_test)"
   ]
  },
  {
   "cell_type": "code",
   "execution_count": 26,
   "id": "c659ef5b",
   "metadata": {
    "_cell_guid": "0da80469-0753-4ad7-aa41-454724050843",
    "_uuid": "1ef2e5e2-8418-43e0-8697-a72ad6d65f8f",
    "collapsed": false,
    "execution": {
     "iopub.execute_input": "2022-09-27T22:11:00.596713Z",
     "iopub.status.busy": "2022-09-27T22:11:00.596234Z",
     "iopub.status.idle": "2022-09-27T22:11:00.605143Z",
     "shell.execute_reply": "2022-09-27T22:11:00.604014Z"
    },
    "jupyter": {
     "outputs_hidden": false
    },
    "papermill": {
     "duration": 0.023229,
     "end_time": "2022-09-27T22:11:00.607592",
     "exception": false,
     "start_time": "2022-09-27T22:11:00.584363",
     "status": "completed"
    },
    "tags": []
   },
   "outputs": [
    {
     "data": {
      "text/plain": [
       "751126.2310636705"
      ]
     },
     "execution_count": 26,
     "metadata": {},
     "output_type": "execute_result"
    }
   ],
   "source": [
    "mean_squared_error(y_test, y_pred)"
   ]
  },
  {
   "cell_type": "code",
   "execution_count": 27,
   "id": "8919330a",
   "metadata": {
    "_cell_guid": "a8435401-5e4c-430d-b807-2f4eb29f8f30",
    "_uuid": "4c590e5c-03c7-4e4c-8a2b-b09d57e17a24",
    "collapsed": false,
    "execution": {
     "iopub.execute_input": "2022-09-27T22:11:00.630545Z",
     "iopub.status.busy": "2022-09-27T22:11:00.630129Z",
     "iopub.status.idle": "2022-09-27T22:11:00.639558Z",
     "shell.execute_reply": "2022-09-27T22:11:00.638238Z"
    },
    "jupyter": {
     "outputs_hidden": false
    },
    "papermill": {
     "duration": 0.023751,
     "end_time": "2022-09-27T22:11:00.641942",
     "exception": false,
     "start_time": "2022-09-27T22:11:00.618191",
     "status": "completed"
    },
    "tags": []
   },
   "outputs": [
    {
     "data": {
      "text/plain": [
       "0.811225776607647"
      ]
     },
     "execution_count": 27,
     "metadata": {},
     "output_type": "execute_result"
    }
   ],
   "source": [
    "r2_score(y_test,y_pred)"
   ]
  },
  {
   "cell_type": "code",
   "execution_count": 28,
   "id": "52351f62",
   "metadata": {
    "_cell_guid": "bba1bd91-cca0-4bb6-b9e2-6ebb7751d6e9",
    "_uuid": "303ac0d8-c25e-4904-b6aa-377f910fea48",
    "collapsed": false,
    "execution": {
     "iopub.execute_input": "2022-09-27T22:11:00.664114Z",
     "iopub.status.busy": "2022-09-27T22:11:00.663730Z",
     "iopub.status.idle": "2022-09-27T22:11:00.671952Z",
     "shell.execute_reply": "2022-09-27T22:11:00.670341Z"
    },
    "jupyter": {
     "outputs_hidden": false
    },
    "papermill": {
     "duration": 0.022062,
     "end_time": "2022-09-27T22:11:00.674103",
     "exception": false,
     "start_time": "2022-09-27T22:11:00.652041",
     "status": "completed"
    },
    "tags": []
   },
   "outputs": [
    {
     "data": {
      "text/plain": [
       "array([  532.81457002,  1981.84189358,   -45.73568804,  -386.37928782,\n",
       "          68.41529588,   161.51159788,  -598.60038909, -2463.45125556,\n",
       "        8751.38948003,  -965.27937163, -1956.16024225])"
      ]
     },
     "execution_count": 28,
     "metadata": {},
     "output_type": "execute_result"
    }
   ],
   "source": [
    "LR.coef_"
   ]
  },
  {
   "cell_type": "markdown",
   "id": "f14ad20a",
   "metadata": {
    "_cell_guid": "a0a2b805-7db3-4fb9-b640-2b80a2af8e33",
    "_uuid": "562b49b1-533c-4472-afd1-25fcb73d2edf",
    "papermill": {
     "duration": 0.009878,
     "end_time": "2022-09-27T22:11:00.694030",
     "exception": false,
     "start_time": "2022-09-27T22:11:00.684152",
     "status": "completed"
    },
    "tags": []
   },
   "source": [
    "**Year & Holiday** these are the features which have significant contribution. **The model is perfectly fitting the dataset.**"
   ]
  },
  {
   "cell_type": "code",
   "execution_count": null,
   "id": "e8ba88c3",
   "metadata": {
    "papermill": {
     "duration": 0.009575,
     "end_time": "2022-09-27T22:11:00.713441",
     "exception": false,
     "start_time": "2022-09-27T22:11:00.703866",
     "status": "completed"
    },
    "tags": []
   },
   "outputs": [],
   "source": []
  }
 ],
 "metadata": {
  "kernelspec": {
   "display_name": "Python 3",
   "language": "python",
   "name": "python3"
  },
  "language_info": {
   "codemirror_mode": {
    "name": "ipython",
    "version": 3
   },
   "file_extension": ".py",
   "mimetype": "text/x-python",
   "name": "python",
   "nbconvert_exporter": "python",
   "pygments_lexer": "ipython3",
   "version": "3.7.12"
  },
  "papermill": {
   "default_parameters": {},
   "duration": 12.561408,
   "end_time": "2022-09-27T22:11:01.546953",
   "environment_variables": {},
   "exception": null,
   "input_path": "__notebook__.ipynb",
   "output_path": "__notebook__.ipynb",
   "parameters": {},
   "start_time": "2022-09-27T22:10:48.985545",
   "version": "2.3.4"
  }
 },
 "nbformat": 4,
 "nbformat_minor": 5
}
