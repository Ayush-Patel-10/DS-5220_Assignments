{
 "cells": [
  {
   "cell_type": "code",
   "execution_count": 1,
   "id": "960c74cf",
   "metadata": {
    "_cell_guid": "7754c37c-cac3-41db-a751-9411d740a623",
    "_uuid": "d1915725-acd3-4f7e-b399-56c66192534c",
    "collapsed": false,
    "execution": {
     "iopub.execute_input": "2022-09-30T22:19:12.185396Z",
     "iopub.status.busy": "2022-09-30T22:19:12.184474Z",
     "iopub.status.idle": "2022-09-30T22:19:12.209805Z",
     "shell.execute_reply": "2022-09-30T22:19:12.208450Z"
    },
    "jupyter": {
     "outputs_hidden": false
    },
    "papermill": {
     "duration": 0.044008,
     "end_time": "2022-09-30T22:19:12.213630",
     "exception": false,
     "start_time": "2022-09-30T22:19:12.169622",
     "status": "completed"
    },
    "tags": []
   },
   "outputs": [
    {
     "name": "stdout",
     "output_type": "stream",
     "text": [
      "/kaggle/input/bike-sharing-dataset/hour.csv\n",
      "/kaggle/input/bike-sharing-dataset/Readme.txt\n",
      "/kaggle/input/bike-sharing-dataset/day.csv\n",
      "/kaggle/input/bike-sharing-dataset/bike-sharing-dataset/hour.csv\n",
      "/kaggle/input/bike-sharing-dataset/bike-sharing-dataset/Readme.txt\n",
      "/kaggle/input/bike-sharing-dataset/bike-sharing-dataset/day.csv\n"
     ]
    }
   ],
   "source": [
    "# This Python 3 environment comes with many helpful analytics libraries installed\n",
    "# It is defined by the kaggle/python Docker image: https://github.com/kaggle/docker-python\n",
    "# For example, here's several helpful packages to load\n",
    "\n",
    "import numpy as np # linear algebra\n",
    "import pandas as pd # data processing, CSV file I/O (e.g. pd.read_csv)\n",
    "\n",
    "# Input data files are available in the read-only \"../input/\" directory\n",
    "# For example, running this (by clicking run or pressing Shift+Enter) will list all files under the input directory\n",
    "\n",
    "import os\n",
    "for dirname, _, filenames in os.walk('/kaggle/input'):\n",
    "    for filename in filenames:\n",
    "        print(os.path.join(dirname, filename))\n",
    "\n",
    "# You can write up to 20GB to the current directory (/kaggle/working/) that gets preserved as output when you create a version using \"Save & Run All\" \n",
    "# You can also write temporary files to /kaggle/temp/, but they won't be saved outside of the current session"
   ]
  },
  {
   "cell_type": "code",
   "execution_count": 2,
   "id": "4dc7e4c8",
   "metadata": {
    "execution": {
     "iopub.execute_input": "2022-09-30T22:19:12.242059Z",
     "iopub.status.busy": "2022-09-30T22:19:12.241133Z",
     "iopub.status.idle": "2022-09-30T22:19:13.258221Z",
     "shell.execute_reply": "2022-09-30T22:19:13.257121Z"
    },
    "papermill": {
     "duration": 1.035278,
     "end_time": "2022-09-30T22:19:13.261424",
     "exception": false,
     "start_time": "2022-09-30T22:19:12.226146",
     "status": "completed"
    },
    "tags": []
   },
   "outputs": [],
   "source": [
    "from numpy import argmax\n",
    "from sklearn.preprocessing import LabelEncoder\n",
    "from sklearn.preprocessing import OneHotEncoder"
   ]
  },
  {
   "cell_type": "code",
   "execution_count": 3,
   "id": "7a4e29eb",
   "metadata": {
    "_cell_guid": "6e425efa-7eed-4396-a3c0-3ad477f7d8ec",
    "_uuid": "304c716b-f1c2-4e4c-9f61-a7468fc9ceaf",
    "collapsed": false,
    "execution": {
     "iopub.execute_input": "2022-09-30T22:19:13.289184Z",
     "iopub.status.busy": "2022-09-30T22:19:13.287855Z",
     "iopub.status.idle": "2022-09-30T22:19:13.311467Z",
     "shell.execute_reply": "2022-09-30T22:19:13.310555Z"
    },
    "jupyter": {
     "outputs_hidden": false
    },
    "papermill": {
     "duration": 0.041757,
     "end_time": "2022-09-30T22:19:13.314448",
     "exception": false,
     "start_time": "2022-09-30T22:19:13.272691",
     "status": "completed"
    },
    "tags": []
   },
   "outputs": [],
   "source": [
    "df = pd.read_csv(\"../input/bike-sharing-dataset/day.csv\")"
   ]
  },
  {
   "cell_type": "code",
   "execution_count": 4,
   "id": "1e242baa",
   "metadata": {
    "_cell_guid": "bb5f6659-f8cb-4e8e-b5b3-440b741b95aa",
    "_uuid": "37a3a90f-ade8-4efb-91d1-13ccaec7e3ff",
    "collapsed": false,
    "execution": {
     "iopub.execute_input": "2022-09-30T22:19:13.340019Z",
     "iopub.status.busy": "2022-09-30T22:19:13.339162Z",
     "iopub.status.idle": "2022-09-30T22:19:13.368809Z",
     "shell.execute_reply": "2022-09-30T22:19:13.367694Z"
    },
    "jupyter": {
     "outputs_hidden": false
    },
    "papermill": {
     "duration": 0.045432,
     "end_time": "2022-09-30T22:19:13.371656",
     "exception": false,
     "start_time": "2022-09-30T22:19:13.326224",
     "status": "completed"
    },
    "tags": []
   },
   "outputs": [
    {
     "data": {
      "text/html": [
       "<div>\n",
       "<style scoped>\n",
       "    .dataframe tbody tr th:only-of-type {\n",
       "        vertical-align: middle;\n",
       "    }\n",
       "\n",
       "    .dataframe tbody tr th {\n",
       "        vertical-align: top;\n",
       "    }\n",
       "\n",
       "    .dataframe thead th {\n",
       "        text-align: right;\n",
       "    }\n",
       "</style>\n",
       "<table border=\"1\" class=\"dataframe\">\n",
       "  <thead>\n",
       "    <tr style=\"text-align: right;\">\n",
       "      <th></th>\n",
       "      <th>instant</th>\n",
       "      <th>dteday</th>\n",
       "      <th>season</th>\n",
       "      <th>yr</th>\n",
       "      <th>mnth</th>\n",
       "      <th>holiday</th>\n",
       "      <th>weekday</th>\n",
       "      <th>workingday</th>\n",
       "      <th>weathersit</th>\n",
       "      <th>temp</th>\n",
       "      <th>atemp</th>\n",
       "      <th>hum</th>\n",
       "      <th>windspeed</th>\n",
       "      <th>casual</th>\n",
       "      <th>registered</th>\n",
       "      <th>cnt</th>\n",
       "    </tr>\n",
       "  </thead>\n",
       "  <tbody>\n",
       "    <tr>\n",
       "      <th>0</th>\n",
       "      <td>1</td>\n",
       "      <td>2011-01-01</td>\n",
       "      <td>1</td>\n",
       "      <td>0</td>\n",
       "      <td>1</td>\n",
       "      <td>0</td>\n",
       "      <td>6</td>\n",
       "      <td>0</td>\n",
       "      <td>2</td>\n",
       "      <td>0.344167</td>\n",
       "      <td>0.363625</td>\n",
       "      <td>0.805833</td>\n",
       "      <td>0.160446</td>\n",
       "      <td>331</td>\n",
       "      <td>654</td>\n",
       "      <td>985</td>\n",
       "    </tr>\n",
       "    <tr>\n",
       "      <th>1</th>\n",
       "      <td>2</td>\n",
       "      <td>2011-01-02</td>\n",
       "      <td>1</td>\n",
       "      <td>0</td>\n",
       "      <td>1</td>\n",
       "      <td>0</td>\n",
       "      <td>0</td>\n",
       "      <td>0</td>\n",
       "      <td>2</td>\n",
       "      <td>0.363478</td>\n",
       "      <td>0.353739</td>\n",
       "      <td>0.696087</td>\n",
       "      <td>0.248539</td>\n",
       "      <td>131</td>\n",
       "      <td>670</td>\n",
       "      <td>801</td>\n",
       "    </tr>\n",
       "    <tr>\n",
       "      <th>2</th>\n",
       "      <td>3</td>\n",
       "      <td>2011-01-03</td>\n",
       "      <td>1</td>\n",
       "      <td>0</td>\n",
       "      <td>1</td>\n",
       "      <td>0</td>\n",
       "      <td>1</td>\n",
       "      <td>1</td>\n",
       "      <td>1</td>\n",
       "      <td>0.196364</td>\n",
       "      <td>0.189405</td>\n",
       "      <td>0.437273</td>\n",
       "      <td>0.248309</td>\n",
       "      <td>120</td>\n",
       "      <td>1229</td>\n",
       "      <td>1349</td>\n",
       "    </tr>\n",
       "    <tr>\n",
       "      <th>3</th>\n",
       "      <td>4</td>\n",
       "      <td>2011-01-04</td>\n",
       "      <td>1</td>\n",
       "      <td>0</td>\n",
       "      <td>1</td>\n",
       "      <td>0</td>\n",
       "      <td>2</td>\n",
       "      <td>1</td>\n",
       "      <td>1</td>\n",
       "      <td>0.200000</td>\n",
       "      <td>0.212122</td>\n",
       "      <td>0.590435</td>\n",
       "      <td>0.160296</td>\n",
       "      <td>108</td>\n",
       "      <td>1454</td>\n",
       "      <td>1562</td>\n",
       "    </tr>\n",
       "    <tr>\n",
       "      <th>4</th>\n",
       "      <td>5</td>\n",
       "      <td>2011-01-05</td>\n",
       "      <td>1</td>\n",
       "      <td>0</td>\n",
       "      <td>1</td>\n",
       "      <td>0</td>\n",
       "      <td>3</td>\n",
       "      <td>1</td>\n",
       "      <td>1</td>\n",
       "      <td>0.226957</td>\n",
       "      <td>0.229270</td>\n",
       "      <td>0.436957</td>\n",
       "      <td>0.186900</td>\n",
       "      <td>82</td>\n",
       "      <td>1518</td>\n",
       "      <td>1600</td>\n",
       "    </tr>\n",
       "  </tbody>\n",
       "</table>\n",
       "</div>"
      ],
      "text/plain": [
       "   instant      dteday  season  yr  mnth  holiday  weekday  workingday  \\\n",
       "0        1  2011-01-01       1   0     1        0        6           0   \n",
       "1        2  2011-01-02       1   0     1        0        0           0   \n",
       "2        3  2011-01-03       1   0     1        0        1           1   \n",
       "3        4  2011-01-04       1   0     1        0        2           1   \n",
       "4        5  2011-01-05       1   0     1        0        3           1   \n",
       "\n",
       "   weathersit      temp     atemp       hum  windspeed  casual  registered  \\\n",
       "0           2  0.344167  0.363625  0.805833   0.160446     331         654   \n",
       "1           2  0.363478  0.353739  0.696087   0.248539     131         670   \n",
       "2           1  0.196364  0.189405  0.437273   0.248309     120        1229   \n",
       "3           1  0.200000  0.212122  0.590435   0.160296     108        1454   \n",
       "4           1  0.226957  0.229270  0.436957   0.186900      82        1518   \n",
       "\n",
       "    cnt  \n",
       "0   985  \n",
       "1   801  \n",
       "2  1349  \n",
       "3  1562  \n",
       "4  1600  "
      ]
     },
     "execution_count": 4,
     "metadata": {},
     "output_type": "execute_result"
    }
   ],
   "source": [
    "df.head()"
   ]
  },
  {
   "cell_type": "code",
   "execution_count": 5,
   "id": "6d436dd4",
   "metadata": {
    "_cell_guid": "21d1485a-1cc5-4a19-8b61-a3224156fe31",
    "_uuid": "2bcc139d-d84e-4c87-83d5-e25f9bd22d14",
    "collapsed": false,
    "execution": {
     "iopub.execute_input": "2022-09-30T22:19:13.397297Z",
     "iopub.status.busy": "2022-09-30T22:19:13.396341Z",
     "iopub.status.idle": "2022-09-30T22:19:13.404037Z",
     "shell.execute_reply": "2022-09-30T22:19:13.403172Z"
    },
    "jupyter": {
     "outputs_hidden": false
    },
    "papermill": {
     "duration": 0.022926,
     "end_time": "2022-09-30T22:19:13.406213",
     "exception": false,
     "start_time": "2022-09-30T22:19:13.383287",
     "status": "completed"
    },
    "tags": []
   },
   "outputs": [
    {
     "data": {
      "text/plain": [
       "Index(['instant', 'dteday', 'season', 'yr', 'mnth', 'holiday', 'weekday',\n",
       "       'workingday', 'weathersit', 'temp', 'atemp', 'hum', 'windspeed',\n",
       "       'casual', 'registered', 'cnt'],\n",
       "      dtype='object')"
      ]
     },
     "execution_count": 5,
     "metadata": {},
     "output_type": "execute_result"
    }
   ],
   "source": [
    "df.columns"
   ]
  },
  {
   "cell_type": "code",
   "execution_count": 6,
   "id": "f638881a",
   "metadata": {
    "_cell_guid": "2b6b464d-7d10-49a3-8aa3-bcb863e2b9f1",
    "_uuid": "b87f031a-4cef-40da-abc0-b60c77923a1f",
    "collapsed": false,
    "execution": {
     "iopub.execute_input": "2022-09-30T22:19:13.431411Z",
     "iopub.status.busy": "2022-09-30T22:19:13.430602Z",
     "iopub.status.idle": "2022-09-30T22:19:13.442694Z",
     "shell.execute_reply": "2022-09-30T22:19:13.441537Z"
    },
    "jupyter": {
     "outputs_hidden": false
    },
    "papermill": {
     "duration": 0.028062,
     "end_time": "2022-09-30T22:19:13.445710",
     "exception": false,
     "start_time": "2022-09-30T22:19:13.417648",
     "status": "completed"
    },
    "tags": []
   },
   "outputs": [],
   "source": [
    "df.drop(['instant', 'dteday','casual','registered'], inplace=True ,axis=1)"
   ]
  },
  {
   "cell_type": "markdown",
   "id": "15053893",
   "metadata": {
    "papermill": {
     "duration": 0.010767,
     "end_time": "2022-09-30T22:19:13.467982",
     "exception": false,
     "start_time": "2022-09-30T22:19:13.457215",
     "status": "completed"
    },
    "tags": []
   },
   "source": [
    "**Question 4. a)**"
   ]
  },
  {
   "cell_type": "code",
   "execution_count": 7,
   "id": "12eb1cdd",
   "metadata": {
    "_cell_guid": "b17ee383-55e6-41bc-9b0a-37bb7441fdfb",
    "_uuid": "e1bc743e-4617-45e2-acab-4f5d699c0bd4",
    "collapsed": false,
    "execution": {
     "iopub.execute_input": "2022-09-30T22:19:13.492383Z",
     "iopub.status.busy": "2022-09-30T22:19:13.491896Z",
     "iopub.status.idle": "2022-09-30T22:19:13.509737Z",
     "shell.execute_reply": "2022-09-30T22:19:13.508347Z"
    },
    "jupyter": {
     "outputs_hidden": false
    },
    "papermill": {
     "duration": 0.034718,
     "end_time": "2022-09-30T22:19:13.513791",
     "exception": false,
     "start_time": "2022-09-30T22:19:13.479073",
     "status": "completed"
    },
    "tags": []
   },
   "outputs": [
    {
     "name": "stdout",
     "output_type": "stream",
     "text": [
      "season        0.406100\n",
      "yr            0.566710\n",
      "mnth          0.279977\n",
      "holiday      -0.068348\n",
      "weekday       0.067443\n",
      "workingday    0.061156\n",
      "weathersit   -0.297391\n",
      "temp          0.627494\n",
      "atemp         0.631066\n",
      "hum          -0.100659\n",
      "windspeed    -0.234545\n",
      "cnt           1.000000\n",
      "dtype: float64\n"
     ]
    }
   ],
   "source": [
    "correlations = df.corrwith(df['cnt'])\n",
    "print(correlations)"
   ]
  },
  {
   "cell_type": "markdown",
   "id": "0d0f837d",
   "metadata": {
    "_cell_guid": "8aba4077-ca1d-4984-ab9d-cd3da0a8b987",
    "_uuid": "6dfe76cf-8efb-4865-aa4a-a26964bd05bc",
    "papermill": {
     "duration": 0.01105,
     "end_time": "2022-09-30T22:19:13.537059",
     "exception": false,
     "start_time": "2022-09-30T22:19:13.526009",
     "status": "completed"
    },
    "tags": []
   },
   "source": [
    "Features with positive correlation are: \n",
    "* **season**\n",
    "* **yr**: year\n",
    "* **mnth**: mmonths\n",
    "* **weekday**: days of the week\n",
    "* **workingday**: whether the day is neither a weekend nor holiday\n",
    "* **temp**: temperature in Celsius\n",
    "* **atemp**: \"feels like\" temperature in Celsius\n",
    "\n",
    "The feature with highest correlation is **'atemp'**."
   ]
  },
  {
   "cell_type": "markdown",
   "id": "dfd2dc8c",
   "metadata": {
    "papermill": {
     "duration": 0.012107,
     "end_time": "2022-09-30T22:19:13.560632",
     "exception": false,
     "start_time": "2022-09-30T22:19:13.548525",
     "status": "completed"
    },
    "tags": []
   },
   "source": [
    "**Question 4. b)**"
   ]
  },
  {
   "cell_type": "markdown",
   "id": "41c95ac1",
   "metadata": {
    "_cell_guid": "01170ec7-7229-419f-8875-4419f9890731",
    "_uuid": "c7bc3fd5-ea51-43e0-a449-3b6ae3d2272e",
    "papermill": {
     "duration": 0.011073,
     "end_time": "2022-09-30T22:19:13.584240",
     "exception": false,
     "start_time": "2022-09-30T22:19:13.573167",
     "status": "completed"
    },
    "tags": []
   },
   "source": [
    "Features with negative correlation are: \n",
    "* **holiday**: whether the day is considered a holiday\n",
    "* **weathersit**\n",
    "* **hum**: humidity\n",
    "* **windspeed**"
   ]
  },
  {
   "cell_type": "code",
   "execution_count": 8,
   "id": "3e0a5c97",
   "metadata": {
    "execution": {
     "iopub.execute_input": "2022-09-30T22:19:13.609519Z",
     "iopub.status.busy": "2022-09-30T22:19:13.608689Z",
     "iopub.status.idle": "2022-09-30T22:19:13.623852Z",
     "shell.execute_reply": "2022-09-30T22:19:13.622991Z"
    },
    "papermill": {
     "duration": 0.030568,
     "end_time": "2022-09-30T22:19:13.626253",
     "exception": false,
     "start_time": "2022-09-30T22:19:13.595685",
     "status": "completed"
    },
    "tags": []
   },
   "outputs": [
    {
     "data": {
      "text/html": [
       "<div>\n",
       "<style scoped>\n",
       "    .dataframe tbody tr th:only-of-type {\n",
       "        vertical-align: middle;\n",
       "    }\n",
       "\n",
       "    .dataframe tbody tr th {\n",
       "        vertical-align: top;\n",
       "    }\n",
       "\n",
       "    .dataframe thead th {\n",
       "        text-align: right;\n",
       "    }\n",
       "</style>\n",
       "<table border=\"1\" class=\"dataframe\">\n",
       "  <thead>\n",
       "    <tr style=\"text-align: right;\">\n",
       "      <th></th>\n",
       "      <th>season</th>\n",
       "      <th>yr</th>\n",
       "      <th>mnth</th>\n",
       "      <th>holiday</th>\n",
       "      <th>weekday</th>\n",
       "      <th>workingday</th>\n",
       "      <th>weathersit</th>\n",
       "      <th>temp</th>\n",
       "      <th>atemp</th>\n",
       "      <th>hum</th>\n",
       "      <th>windspeed</th>\n",
       "      <th>cnt</th>\n",
       "    </tr>\n",
       "  </thead>\n",
       "  <tbody>\n",
       "    <tr>\n",
       "      <th>0</th>\n",
       "      <td>1</td>\n",
       "      <td>0</td>\n",
       "      <td>1</td>\n",
       "      <td>0</td>\n",
       "      <td>6</td>\n",
       "      <td>0</td>\n",
       "      <td>2</td>\n",
       "      <td>0.344167</td>\n",
       "      <td>0.363625</td>\n",
       "      <td>0.805833</td>\n",
       "      <td>0.160446</td>\n",
       "      <td>985</td>\n",
       "    </tr>\n",
       "    <tr>\n",
       "      <th>1</th>\n",
       "      <td>1</td>\n",
       "      <td>0</td>\n",
       "      <td>1</td>\n",
       "      <td>0</td>\n",
       "      <td>0</td>\n",
       "      <td>0</td>\n",
       "      <td>2</td>\n",
       "      <td>0.363478</td>\n",
       "      <td>0.353739</td>\n",
       "      <td>0.696087</td>\n",
       "      <td>0.248539</td>\n",
       "      <td>801</td>\n",
       "    </tr>\n",
       "    <tr>\n",
       "      <th>2</th>\n",
       "      <td>1</td>\n",
       "      <td>0</td>\n",
       "      <td>1</td>\n",
       "      <td>0</td>\n",
       "      <td>1</td>\n",
       "      <td>1</td>\n",
       "      <td>1</td>\n",
       "      <td>0.196364</td>\n",
       "      <td>0.189405</td>\n",
       "      <td>0.437273</td>\n",
       "      <td>0.248309</td>\n",
       "      <td>1349</td>\n",
       "    </tr>\n",
       "    <tr>\n",
       "      <th>3</th>\n",
       "      <td>1</td>\n",
       "      <td>0</td>\n",
       "      <td>1</td>\n",
       "      <td>0</td>\n",
       "      <td>2</td>\n",
       "      <td>1</td>\n",
       "      <td>1</td>\n",
       "      <td>0.200000</td>\n",
       "      <td>0.212122</td>\n",
       "      <td>0.590435</td>\n",
       "      <td>0.160296</td>\n",
       "      <td>1562</td>\n",
       "    </tr>\n",
       "    <tr>\n",
       "      <th>4</th>\n",
       "      <td>1</td>\n",
       "      <td>0</td>\n",
       "      <td>1</td>\n",
       "      <td>0</td>\n",
       "      <td>3</td>\n",
       "      <td>1</td>\n",
       "      <td>1</td>\n",
       "      <td>0.226957</td>\n",
       "      <td>0.229270</td>\n",
       "      <td>0.436957</td>\n",
       "      <td>0.186900</td>\n",
       "      <td>1600</td>\n",
       "    </tr>\n",
       "  </tbody>\n",
       "</table>\n",
       "</div>"
      ],
      "text/plain": [
       "   season  yr  mnth  holiday  weekday  workingday  weathersit      temp  \\\n",
       "0       1   0     1        0        6           0           2  0.344167   \n",
       "1       1   0     1        0        0           0           2  0.363478   \n",
       "2       1   0     1        0        1           1           1  0.196364   \n",
       "3       1   0     1        0        2           1           1  0.200000   \n",
       "4       1   0     1        0        3           1           1  0.226957   \n",
       "\n",
       "      atemp       hum  windspeed   cnt  \n",
       "0  0.363625  0.805833   0.160446   985  \n",
       "1  0.353739  0.696087   0.248539   801  \n",
       "2  0.189405  0.437273   0.248309  1349  \n",
       "3  0.212122  0.590435   0.160296  1562  \n",
       "4  0.229270  0.436957   0.186900  1600  "
      ]
     },
     "execution_count": 8,
     "metadata": {},
     "output_type": "execute_result"
    }
   ],
   "source": [
    "df.head()"
   ]
  },
  {
   "cell_type": "markdown",
   "id": "a79f8f96",
   "metadata": {
    "papermill": {
     "duration": 0.01115,
     "end_time": "2022-09-30T22:19:13.649212",
     "exception": false,
     "start_time": "2022-09-30T22:19:13.638062",
     "status": "completed"
    },
    "tags": []
   },
   "source": [
    "**Question 4.c)**"
   ]
  },
  {
   "cell_type": "code",
   "execution_count": 9,
   "id": "3857d8d8",
   "metadata": {
    "execution": {
     "iopub.execute_input": "2022-09-30T22:19:13.679466Z",
     "iopub.status.busy": "2022-09-30T22:19:13.678136Z",
     "iopub.status.idle": "2022-09-30T22:19:13.890920Z",
     "shell.execute_reply": "2022-09-30T22:19:13.889824Z"
    },
    "papermill": {
     "duration": 0.231741,
     "end_time": "2022-09-30T22:19:13.893804",
     "exception": false,
     "start_time": "2022-09-30T22:19:13.662063",
     "status": "completed"
    },
    "tags": []
   },
   "outputs": [],
   "source": [
    "import category_encoders as ce"
   ]
  },
  {
   "cell_type": "code",
   "execution_count": 10,
   "id": "a16ebe98",
   "metadata": {
    "execution": {
     "iopub.execute_input": "2022-09-30T22:19:13.919378Z",
     "iopub.status.busy": "2022-09-30T22:19:13.918895Z",
     "iopub.status.idle": "2022-09-30T22:19:13.924917Z",
     "shell.execute_reply": "2022-09-30T22:19:13.923703Z"
    },
    "papermill": {
     "duration": 0.021604,
     "end_time": "2022-09-30T22:19:13.927265",
     "exception": false,
     "start_time": "2022-09-30T22:19:13.905661",
     "status": "completed"
    },
    "tags": []
   },
   "outputs": [],
   "source": [
    "encoder = ce.OneHotEncoder(cols=('season','yr','mnth','holiday','weekday','weathersit'), use_cat_names = True)"
   ]
  },
  {
   "cell_type": "code",
   "execution_count": 11,
   "id": "8870e479",
   "metadata": {
    "_cell_guid": "3ce10598-fcb0-4fd7-9c24-fa3b2502afb3",
    "_uuid": "823c1808-d019-4fde-aee6-e91fbb374e5a",
    "collapsed": false,
    "execution": {
     "iopub.execute_input": "2022-09-30T22:19:13.954054Z",
     "iopub.status.busy": "2022-09-30T22:19:13.953535Z",
     "iopub.status.idle": "2022-09-30T22:19:14.004661Z",
     "shell.execute_reply": "2022-09-30T22:19:14.003320Z"
    },
    "jupyter": {
     "outputs_hidden": false
    },
    "papermill": {
     "duration": 0.068952,
     "end_time": "2022-09-30T22:19:14.008013",
     "exception": false,
     "start_time": "2022-09-30T22:19:13.939061",
     "status": "completed"
    },
    "tags": []
   },
   "outputs": [],
   "source": [
    "from sklearn.model_selection import train_test_split"
   ]
  },
  {
   "cell_type": "code",
   "execution_count": 12,
   "id": "af85ba9a",
   "metadata": {
    "execution": {
     "iopub.execute_input": "2022-09-30T22:19:14.034367Z",
     "iopub.status.busy": "2022-09-30T22:19:14.033861Z",
     "iopub.status.idle": "2022-09-30T22:19:14.121235Z",
     "shell.execute_reply": "2022-09-30T22:19:14.119940Z"
    },
    "papermill": {
     "duration": 0.10429,
     "end_time": "2022-09-30T22:19:14.124385",
     "exception": false,
     "start_time": "2022-09-30T22:19:14.020095",
     "status": "completed"
    },
    "tags": []
   },
   "outputs": [],
   "source": [
    "encoded = encoder.fit_transform(df)\n",
    "new_df = pd.concat([df.drop(['season','yr','mnth','holiday','weekday','weathersit'],axis=1),encoded],axis=1)"
   ]
  },
  {
   "cell_type": "code",
   "execution_count": 13,
   "id": "42c7c51b",
   "metadata": {
    "execution": {
     "iopub.execute_input": "2022-09-30T22:19:14.151090Z",
     "iopub.status.busy": "2022-09-30T22:19:14.149644Z",
     "iopub.status.idle": "2022-09-30T22:19:14.176795Z",
     "shell.execute_reply": "2022-09-30T22:19:14.175449Z"
    },
    "papermill": {
     "duration": 0.043399,
     "end_time": "2022-09-30T22:19:14.179641",
     "exception": false,
     "start_time": "2022-09-30T22:19:14.136242",
     "status": "completed"
    },
    "tags": []
   },
   "outputs": [
    {
     "data": {
      "text/html": [
       "<div>\n",
       "<style scoped>\n",
       "    .dataframe tbody tr th:only-of-type {\n",
       "        vertical-align: middle;\n",
       "    }\n",
       "\n",
       "    .dataframe tbody tr th {\n",
       "        vertical-align: top;\n",
       "    }\n",
       "\n",
       "    .dataframe thead th {\n",
       "        text-align: right;\n",
       "    }\n",
       "</style>\n",
       "<table border=\"1\" class=\"dataframe\">\n",
       "  <thead>\n",
       "    <tr style=\"text-align: right;\">\n",
       "      <th></th>\n",
       "      <th>workingday</th>\n",
       "      <th>temp</th>\n",
       "      <th>atemp</th>\n",
       "      <th>hum</th>\n",
       "      <th>windspeed</th>\n",
       "      <th>cnt</th>\n",
       "      <th>season_1.0</th>\n",
       "      <th>season_2.0</th>\n",
       "      <th>season_3.0</th>\n",
       "      <th>season_4.0</th>\n",
       "      <th>...</th>\n",
       "      <th>weekday_5.0</th>\n",
       "      <th>workingday</th>\n",
       "      <th>weathersit_2.0</th>\n",
       "      <th>weathersit_1.0</th>\n",
       "      <th>weathersit_3.0</th>\n",
       "      <th>temp</th>\n",
       "      <th>atemp</th>\n",
       "      <th>hum</th>\n",
       "      <th>windspeed</th>\n",
       "      <th>cnt</th>\n",
       "    </tr>\n",
       "  </thead>\n",
       "  <tbody>\n",
       "    <tr>\n",
       "      <th>0</th>\n",
       "      <td>0</td>\n",
       "      <td>0.344167</td>\n",
       "      <td>0.363625</td>\n",
       "      <td>0.805833</td>\n",
       "      <td>0.160446</td>\n",
       "      <td>985</td>\n",
       "      <td>1</td>\n",
       "      <td>0</td>\n",
       "      <td>0</td>\n",
       "      <td>0</td>\n",
       "      <td>...</td>\n",
       "      <td>0</td>\n",
       "      <td>0</td>\n",
       "      <td>1</td>\n",
       "      <td>0</td>\n",
       "      <td>0</td>\n",
       "      <td>0.344167</td>\n",
       "      <td>0.363625</td>\n",
       "      <td>0.805833</td>\n",
       "      <td>0.160446</td>\n",
       "      <td>985</td>\n",
       "    </tr>\n",
       "    <tr>\n",
       "      <th>1</th>\n",
       "      <td>0</td>\n",
       "      <td>0.363478</td>\n",
       "      <td>0.353739</td>\n",
       "      <td>0.696087</td>\n",
       "      <td>0.248539</td>\n",
       "      <td>801</td>\n",
       "      <td>1</td>\n",
       "      <td>0</td>\n",
       "      <td>0</td>\n",
       "      <td>0</td>\n",
       "      <td>...</td>\n",
       "      <td>0</td>\n",
       "      <td>0</td>\n",
       "      <td>1</td>\n",
       "      <td>0</td>\n",
       "      <td>0</td>\n",
       "      <td>0.363478</td>\n",
       "      <td>0.353739</td>\n",
       "      <td>0.696087</td>\n",
       "      <td>0.248539</td>\n",
       "      <td>801</td>\n",
       "    </tr>\n",
       "    <tr>\n",
       "      <th>2</th>\n",
       "      <td>1</td>\n",
       "      <td>0.196364</td>\n",
       "      <td>0.189405</td>\n",
       "      <td>0.437273</td>\n",
       "      <td>0.248309</td>\n",
       "      <td>1349</td>\n",
       "      <td>1</td>\n",
       "      <td>0</td>\n",
       "      <td>0</td>\n",
       "      <td>0</td>\n",
       "      <td>...</td>\n",
       "      <td>0</td>\n",
       "      <td>1</td>\n",
       "      <td>0</td>\n",
       "      <td>1</td>\n",
       "      <td>0</td>\n",
       "      <td>0.196364</td>\n",
       "      <td>0.189405</td>\n",
       "      <td>0.437273</td>\n",
       "      <td>0.248309</td>\n",
       "      <td>1349</td>\n",
       "    </tr>\n",
       "    <tr>\n",
       "      <th>3</th>\n",
       "      <td>1</td>\n",
       "      <td>0.200000</td>\n",
       "      <td>0.212122</td>\n",
       "      <td>0.590435</td>\n",
       "      <td>0.160296</td>\n",
       "      <td>1562</td>\n",
       "      <td>1</td>\n",
       "      <td>0</td>\n",
       "      <td>0</td>\n",
       "      <td>0</td>\n",
       "      <td>...</td>\n",
       "      <td>0</td>\n",
       "      <td>1</td>\n",
       "      <td>0</td>\n",
       "      <td>1</td>\n",
       "      <td>0</td>\n",
       "      <td>0.200000</td>\n",
       "      <td>0.212122</td>\n",
       "      <td>0.590435</td>\n",
       "      <td>0.160296</td>\n",
       "      <td>1562</td>\n",
       "    </tr>\n",
       "    <tr>\n",
       "      <th>4</th>\n",
       "      <td>1</td>\n",
       "      <td>0.226957</td>\n",
       "      <td>0.229270</td>\n",
       "      <td>0.436957</td>\n",
       "      <td>0.186900</td>\n",
       "      <td>1600</td>\n",
       "      <td>1</td>\n",
       "      <td>0</td>\n",
       "      <td>0</td>\n",
       "      <td>0</td>\n",
       "      <td>...</td>\n",
       "      <td>0</td>\n",
       "      <td>1</td>\n",
       "      <td>0</td>\n",
       "      <td>1</td>\n",
       "      <td>0</td>\n",
       "      <td>0.226957</td>\n",
       "      <td>0.229270</td>\n",
       "      <td>0.436957</td>\n",
       "      <td>0.186900</td>\n",
       "      <td>1600</td>\n",
       "    </tr>\n",
       "  </tbody>\n",
       "</table>\n",
       "<p>5 rows × 42 columns</p>\n",
       "</div>"
      ],
      "text/plain": [
       "   workingday      temp     atemp       hum  windspeed   cnt  season_1.0  \\\n",
       "0           0  0.344167  0.363625  0.805833   0.160446   985           1   \n",
       "1           0  0.363478  0.353739  0.696087   0.248539   801           1   \n",
       "2           1  0.196364  0.189405  0.437273   0.248309  1349           1   \n",
       "3           1  0.200000  0.212122  0.590435   0.160296  1562           1   \n",
       "4           1  0.226957  0.229270  0.436957   0.186900  1600           1   \n",
       "\n",
       "   season_2.0  season_3.0  season_4.0  ...  weekday_5.0  workingday  \\\n",
       "0           0           0           0  ...            0           0   \n",
       "1           0           0           0  ...            0           0   \n",
       "2           0           0           0  ...            0           1   \n",
       "3           0           0           0  ...            0           1   \n",
       "4           0           0           0  ...            0           1   \n",
       "\n",
       "   weathersit_2.0  weathersit_1.0  weathersit_3.0      temp     atemp  \\\n",
       "0               1               0               0  0.344167  0.363625   \n",
       "1               1               0               0  0.363478  0.353739   \n",
       "2               0               1               0  0.196364  0.189405   \n",
       "3               0               1               0  0.200000  0.212122   \n",
       "4               0               1               0  0.226957  0.229270   \n",
       "\n",
       "        hum  windspeed   cnt  \n",
       "0  0.805833   0.160446   985  \n",
       "1  0.696087   0.248539   801  \n",
       "2  0.437273   0.248309  1349  \n",
       "3  0.590435   0.160296  1562  \n",
       "4  0.436957   0.186900  1600  \n",
       "\n",
       "[5 rows x 42 columns]"
      ]
     },
     "execution_count": 13,
     "metadata": {},
     "output_type": "execute_result"
    }
   ],
   "source": [
    "new_df.head()"
   ]
  },
  {
   "cell_type": "code",
   "execution_count": 14,
   "id": "1cce52bd",
   "metadata": {
    "_cell_guid": "79fda334-0f33-4418-ae63-ba35a23ff066",
    "_uuid": "b792fcab-92ae-4a6e-96c4-7f414e43d505",
    "collapsed": false,
    "execution": {
     "iopub.execute_input": "2022-09-30T22:19:14.206363Z",
     "iopub.status.busy": "2022-09-30T22:19:14.205867Z",
     "iopub.status.idle": "2022-09-30T22:19:14.217382Z",
     "shell.execute_reply": "2022-09-30T22:19:14.216303Z"
    },
    "jupyter": {
     "outputs_hidden": false
    },
    "papermill": {
     "duration": 0.027757,
     "end_time": "2022-09-30T22:19:14.219724",
     "exception": false,
     "start_time": "2022-09-30T22:19:14.191967",
     "status": "completed"
    },
    "tags": []
   },
   "outputs": [],
   "source": [
    "X = new_df.drop(['cnt','workingday'], axis = 1)\n",
    "y = new_df['cnt']"
   ]
  },
  {
   "cell_type": "markdown",
   "id": "2f04eeca",
   "metadata": {
    "papermill": {
     "duration": 0.011783,
     "end_time": "2022-09-30T22:19:14.243740",
     "exception": false,
     "start_time": "2022-09-30T22:19:14.231957",
     "status": "completed"
    },
    "tags": []
   },
   "source": [
    "**Workingday** is dropped because it is related with holiday "
   ]
  },
  {
   "cell_type": "code",
   "execution_count": 15,
   "id": "3207ffa1",
   "metadata": {
    "_cell_guid": "70659f9d-060f-4279-9c62-9da4d5ca4d75",
    "_uuid": "bbf8619c-ebca-4f2f-81ef-ad4c8ba5e03d",
    "collapsed": false,
    "execution": {
     "iopub.execute_input": "2022-09-30T22:19:14.271822Z",
     "iopub.status.busy": "2022-09-30T22:19:14.270907Z",
     "iopub.status.idle": "2022-09-30T22:19:14.278970Z",
     "shell.execute_reply": "2022-09-30T22:19:14.277730Z"
    },
    "jupyter": {
     "outputs_hidden": false
    },
    "papermill": {
     "duration": 0.024809,
     "end_time": "2022-09-30T22:19:14.281280",
     "exception": false,
     "start_time": "2022-09-30T22:19:14.256471",
     "status": "completed"
    },
    "tags": []
   },
   "outputs": [],
   "source": [
    "X_train, X_test, y_train, y_test = train_test_split(X, y, test_size=0.3, random_state=42)"
   ]
  },
  {
   "cell_type": "code",
   "execution_count": 16,
   "id": "c5bf97d8",
   "metadata": {
    "_cell_guid": "8bb57773-01c9-4194-a7cd-6c34adcc6127",
    "_uuid": "f0dc72ff-52ee-483c-91db-24c11e915c73",
    "collapsed": false,
    "execution": {
     "iopub.execute_input": "2022-09-30T22:19:14.308582Z",
     "iopub.status.busy": "2022-09-30T22:19:14.307460Z",
     "iopub.status.idle": "2022-09-30T22:19:14.382071Z",
     "shell.execute_reply": "2022-09-30T22:19:14.380984Z"
    },
    "jupyter": {
     "outputs_hidden": false
    },
    "papermill": {
     "duration": 0.091334,
     "end_time": "2022-09-30T22:19:14.385104",
     "exception": false,
     "start_time": "2022-09-30T22:19:14.293770",
     "status": "completed"
    },
    "tags": []
   },
   "outputs": [],
   "source": [
    "from sklearn.linear_model import LinearRegression"
   ]
  },
  {
   "cell_type": "code",
   "execution_count": 17,
   "id": "09456a29",
   "metadata": {
    "_cell_guid": "ccd23d47-34ae-4202-8146-c21f89410662",
    "_uuid": "8d688102-4969-4acf-a23b-4aefbd35247c",
    "collapsed": false,
    "execution": {
     "iopub.execute_input": "2022-09-30T22:19:14.412660Z",
     "iopub.status.busy": "2022-09-30T22:19:14.411152Z",
     "iopub.status.idle": "2022-09-30T22:19:14.417003Z",
     "shell.execute_reply": "2022-09-30T22:19:14.415884Z"
    },
    "jupyter": {
     "outputs_hidden": false
    },
    "papermill": {
     "duration": 0.022525,
     "end_time": "2022-09-30T22:19:14.419910",
     "exception": false,
     "start_time": "2022-09-30T22:19:14.397385",
     "status": "completed"
    },
    "tags": []
   },
   "outputs": [],
   "source": [
    "LR = LinearRegression()"
   ]
  },
  {
   "cell_type": "code",
   "execution_count": 18,
   "id": "bf33ebe5",
   "metadata": {
    "_cell_guid": "0b152974-58db-4c83-a3c2-35776691e45c",
    "_uuid": "530b4383-6391-405f-90e0-9370a002ba80",
    "collapsed": false,
    "execution": {
     "iopub.execute_input": "2022-09-30T22:19:14.447560Z",
     "iopub.status.busy": "2022-09-30T22:19:14.446620Z",
     "iopub.status.idle": "2022-09-30T22:19:14.484514Z",
     "shell.execute_reply": "2022-09-30T22:19:14.482743Z"
    },
    "jupyter": {
     "outputs_hidden": false
    },
    "papermill": {
     "duration": 0.057076,
     "end_time": "2022-09-30T22:19:14.489272",
     "exception": false,
     "start_time": "2022-09-30T22:19:14.432196",
     "status": "completed"
    },
    "tags": []
   },
   "outputs": [
    {
     "data": {
      "text/plain": [
       "LinearRegression()"
      ]
     },
     "execution_count": 18,
     "metadata": {},
     "output_type": "execute_result"
    }
   ],
   "source": [
    "LR.fit(X_train, y_train)"
   ]
  },
  {
   "cell_type": "code",
   "execution_count": 19,
   "id": "7d8309a9",
   "metadata": {
    "execution": {
     "iopub.execute_input": "2022-09-30T22:19:14.555466Z",
     "iopub.status.busy": "2022-09-30T22:19:14.554572Z",
     "iopub.status.idle": "2022-09-30T22:19:14.570217Z",
     "shell.execute_reply": "2022-09-30T22:19:14.568467Z"
    },
    "papermill": {
     "duration": 0.053802,
     "end_time": "2022-09-30T22:19:14.574596",
     "exception": false,
     "start_time": "2022-09-30T22:19:14.520794",
     "status": "completed"
    },
    "tags": []
   },
   "outputs": [
    {
     "data": {
      "text/plain": [
       "array([[-1.22890549e+16,  1.84100000e+03, -6.51938310e+02,\n",
       "        -1.10939306e+03, -9.48828901e+02,  1.09947277e+02,\n",
       "         1.17238032e+02,  7.86377452e+02, -9.91556146e+02,\n",
       "         9.70672074e+02, -7.63143963e+01,  5.96582083e+01,\n",
       "         4.90967465e+02,  8.27721023e+01,  3.26250494e+02,\n",
       "         1.46371573e+01, -5.47520814e+02, -2.31204325e+02,\n",
       "         5.57430099e+02,  1.84265251e+02, -4.26014361e+02,\n",
       "        -3.40743551e+02,  2.85314650e+02, -2.90658400e+02,\n",
       "         1.16649238e+02, -3.42685196e+02, -5.20241838e+01,\n",
       "        -4.69504437e+01,  6.56330329e+01,  6.73055989e+01,\n",
       "         1.36605409e+02,  2.31689529e+02,  7.52749021e+02,\n",
       "        -1.04601562e+03,  1.22890549e+16,  1.90237500e+03,\n",
       "        -6.93437500e+02, -1.15376562e+03],\n",
       "       [-1.22890549e+16,  1.84100000e+03, -6.51938310e+02,\n",
       "        -1.10939306e+03, -9.48828901e+02,  1.09947277e+02,\n",
       "         1.17238032e+02,  7.86377452e+02, -9.91556146e+02,\n",
       "         9.70672074e+02, -7.63143963e+01,  5.96582083e+01,\n",
       "         4.90967465e+02,  8.27721023e+01,  3.26250494e+02,\n",
       "         1.46371573e+01, -5.47520814e+02, -2.31204325e+02,\n",
       "         5.57430099e+02,  1.84265251e+02, -4.26014361e+02,\n",
       "        -3.40743551e+02,  2.85314650e+02, -2.90658400e+02,\n",
       "         1.16649238e+02, -3.42685196e+02, -5.20241838e+01,\n",
       "        -4.69504437e+01,  6.56330329e+01,  6.73055989e+01,\n",
       "         1.36605409e+02,  2.31689529e+02,  7.52749021e+02,\n",
       "        -1.04601562e+03,  1.22890549e+16,  1.90237500e+03,\n",
       "        -6.93437500e+02, -1.15376562e+03]])"
      ]
     },
     "execution_count": 19,
     "metadata": {},
     "output_type": "execute_result"
    }
   ],
   "source": [
    "LR.coef_"
   ]
  },
  {
   "cell_type": "code",
   "execution_count": 20,
   "id": "d25abfd1",
   "metadata": {
    "execution": {
     "iopub.execute_input": "2022-09-30T22:19:14.611077Z",
     "iopub.status.busy": "2022-09-30T22:19:14.610554Z",
     "iopub.status.idle": "2022-09-30T22:19:14.618040Z",
     "shell.execute_reply": "2022-09-30T22:19:14.617058Z"
    },
    "papermill": {
     "duration": 0.023646,
     "end_time": "2022-09-30T22:19:14.620116",
     "exception": false,
     "start_time": "2022-09-30T22:19:14.596470",
     "status": "completed"
    },
    "tags": []
   },
   "outputs": [
    {
     "data": {
      "text/plain": [
       "array(['temp', 'atemp', 'hum', 'windspeed', 'season_1.0', 'season_2.0',\n",
       "       'season_3.0', 'season_4.0', 'yr_0.0', 'yr_1.0', 'mnth_1.0',\n",
       "       'mnth_2.0', 'mnth_3.0', 'mnth_4.0', 'mnth_5.0', 'mnth_6.0',\n",
       "       'mnth_7.0', 'mnth_8.0', 'mnth_9.0', 'mnth_10.0', 'mnth_11.0',\n",
       "       'mnth_12.0', 'holiday_0.0', 'holiday_1.0', 'weekday_6.0',\n",
       "       'weekday_0.0', 'weekday_1.0', 'weekday_2.0', 'weekday_3.0',\n",
       "       'weekday_4.0', 'weekday_5.0', 'weathersit_2.0', 'weathersit_1.0',\n",
       "       'weathersit_3.0', 'temp', 'atemp', 'hum', 'windspeed'],\n",
       "      dtype=object)"
      ]
     },
     "execution_count": 20,
     "metadata": {},
     "output_type": "execute_result"
    }
   ],
   "source": [
    "LR.feature_names_in_"
   ]
  },
  {
   "cell_type": "code",
   "execution_count": 21,
   "id": "c2f07874",
   "metadata": {
    "_cell_guid": "31b8c3bd-3793-493a-a328-6d2a32efe2a9",
    "_uuid": "f27359ee-189f-4579-9493-f7ba484a8505",
    "collapsed": false,
    "execution": {
     "iopub.execute_input": "2022-09-30T22:19:14.647756Z",
     "iopub.status.busy": "2022-09-30T22:19:14.646763Z",
     "iopub.status.idle": "2022-09-30T22:19:14.657145Z",
     "shell.execute_reply": "2022-09-30T22:19:14.655575Z"
    },
    "jupyter": {
     "outputs_hidden": false
    },
    "papermill": {
     "duration": 0.027743,
     "end_time": "2022-09-30T22:19:14.660340",
     "exception": false,
     "start_time": "2022-09-30T22:19:14.632597",
     "status": "completed"
    },
    "tags": []
   },
   "outputs": [],
   "source": [
    "pred = LR.predict(X_train)"
   ]
  },
  {
   "cell_type": "code",
   "execution_count": 22,
   "id": "eb45a559",
   "metadata": {
    "execution": {
     "iopub.execute_input": "2022-09-30T22:19:14.688120Z",
     "iopub.status.busy": "2022-09-30T22:19:14.687581Z",
     "iopub.status.idle": "2022-09-30T22:19:14.693569Z",
     "shell.execute_reply": "2022-09-30T22:19:14.692333Z"
    },
    "papermill": {
     "duration": 0.022449,
     "end_time": "2022-09-30T22:19:14.695864",
     "exception": false,
     "start_time": "2022-09-30T22:19:14.673415",
     "status": "completed"
    },
    "tags": []
   },
   "outputs": [],
   "source": [
    "from sklearn.metrics import mean_squared_error,r2_score"
   ]
  },
  {
   "cell_type": "markdown",
   "id": "7dc856a0",
   "metadata": {
    "papermill": {
     "duration": 0.013019,
     "end_time": "2022-09-30T22:19:14.721754",
     "exception": false,
     "start_time": "2022-09-30T22:19:14.708735",
     "status": "completed"
    },
    "tags": []
   },
   "source": [
    "**Question 4. c)**\n",
    "\n",
    "The rmse and r^2 value for training dataset using Linear Regression and Random Forest are:"
   ]
  },
  {
   "cell_type": "code",
   "execution_count": 23,
   "id": "d8f59bce",
   "metadata": {
    "_cell_guid": "138452f7-ede1-4386-b6f4-26b87dc24bda",
    "_uuid": "15a0d3b5-20c2-49e6-aee1-d068e15f6234",
    "collapsed": false,
    "execution": {
     "iopub.execute_input": "2022-09-30T22:19:14.748775Z",
     "iopub.status.busy": "2022-09-30T22:19:14.748256Z",
     "iopub.status.idle": "2022-09-30T22:19:14.758513Z",
     "shell.execute_reply": "2022-09-30T22:19:14.757656Z"
    },
    "jupyter": {
     "outputs_hidden": false
    },
    "papermill": {
     "duration": 0.026441,
     "end_time": "2022-09-30T22:19:14.760679",
     "exception": false,
     "start_time": "2022-09-30T22:19:14.734238",
     "status": "completed"
    },
    "tags": []
   },
   "outputs": [
    {
     "data": {
      "text/plain": [
       "758.9883042942054"
      ]
     },
     "execution_count": 23,
     "metadata": {},
     "output_type": "execute_result"
    }
   ],
   "source": [
    "mean_squared_error(y_train, pred,squared=False)"
   ]
  },
  {
   "cell_type": "code",
   "execution_count": 24,
   "id": "ea3de7c2",
   "metadata": {
    "_cell_guid": "6fab633d-fb85-499b-a3ad-562a0c1fd422",
    "_uuid": "24b978a6-b3b0-4ad2-9277-591433a71fdf",
    "collapsed": false,
    "execution": {
     "iopub.execute_input": "2022-09-30T22:19:14.788437Z",
     "iopub.status.busy": "2022-09-30T22:19:14.787475Z",
     "iopub.status.idle": "2022-09-30T22:19:14.798928Z",
     "shell.execute_reply": "2022-09-30T22:19:14.797711Z"
    },
    "jupyter": {
     "outputs_hidden": false
    },
    "papermill": {
     "duration": 0.027899,
     "end_time": "2022-09-30T22:19:14.801305",
     "exception": false,
     "start_time": "2022-09-30T22:19:14.773406",
     "status": "completed"
    },
    "tags": []
   },
   "outputs": [
    {
     "data": {
      "text/plain": [
       "0.8416931843702429"
      ]
     },
     "execution_count": 24,
     "metadata": {},
     "output_type": "execute_result"
    }
   ],
   "source": [
    "r2_score(y_train, pred)"
   ]
  },
  {
   "cell_type": "code",
   "execution_count": 25,
   "id": "be13399b",
   "metadata": {
    "execution": {
     "iopub.execute_input": "2022-09-30T22:19:14.829603Z",
     "iopub.status.busy": "2022-09-30T22:19:14.828649Z",
     "iopub.status.idle": "2022-09-30T22:19:14.967711Z",
     "shell.execute_reply": "2022-09-30T22:19:14.966340Z"
    },
    "papermill": {
     "duration": 0.156128,
     "end_time": "2022-09-30T22:19:14.970684",
     "exception": false,
     "start_time": "2022-09-30T22:19:14.814556",
     "status": "completed"
    },
    "tags": []
   },
   "outputs": [],
   "source": [
    "from sklearn.ensemble import RandomForestRegressor"
   ]
  },
  {
   "cell_type": "code",
   "execution_count": 26,
   "id": "c0bea9d1",
   "metadata": {
    "execution": {
     "iopub.execute_input": "2022-09-30T22:19:14.998142Z",
     "iopub.status.busy": "2022-09-30T22:19:14.997612Z",
     "iopub.status.idle": "2022-09-30T22:19:15.002838Z",
     "shell.execute_reply": "2022-09-30T22:19:15.001832Z"
    },
    "papermill": {
     "duration": 0.021687,
     "end_time": "2022-09-30T22:19:15.005069",
     "exception": false,
     "start_time": "2022-09-30T22:19:14.983382",
     "status": "completed"
    },
    "tags": []
   },
   "outputs": [],
   "source": [
    "RF = RandomForestRegressor()"
   ]
  },
  {
   "cell_type": "code",
   "execution_count": 27,
   "id": "3deaf361",
   "metadata": {
    "execution": {
     "iopub.execute_input": "2022-09-30T22:19:15.033581Z",
     "iopub.status.busy": "2022-09-30T22:19:15.033040Z",
     "iopub.status.idle": "2022-09-30T22:19:15.522901Z",
     "shell.execute_reply": "2022-09-30T22:19:15.521683Z"
    },
    "papermill": {
     "duration": 0.507981,
     "end_time": "2022-09-30T22:19:15.525783",
     "exception": false,
     "start_time": "2022-09-30T22:19:15.017802",
     "status": "completed"
    },
    "tags": []
   },
   "outputs": [
    {
     "data": {
      "text/plain": [
       "RandomForestRegressor()"
      ]
     },
     "execution_count": 27,
     "metadata": {},
     "output_type": "execute_result"
    }
   ],
   "source": [
    "RF.fit(X_train,y_train)"
   ]
  },
  {
   "cell_type": "code",
   "execution_count": 28,
   "id": "acd7d43d",
   "metadata": {
    "execution": {
     "iopub.execute_input": "2022-09-30T22:19:15.553537Z",
     "iopub.status.busy": "2022-09-30T22:19:15.553003Z",
     "iopub.status.idle": "2022-09-30T22:19:15.585203Z",
     "shell.execute_reply": "2022-09-30T22:19:15.584213Z"
    },
    "papermill": {
     "duration": 0.04903,
     "end_time": "2022-09-30T22:19:15.587597",
     "exception": false,
     "start_time": "2022-09-30T22:19:15.538567",
     "status": "completed"
    },
    "tags": []
   },
   "outputs": [
    {
     "data": {
      "text/plain": [
       "278.4570282945891"
      ]
     },
     "execution_count": 28,
     "metadata": {},
     "output_type": "execute_result"
    }
   ],
   "source": [
    "mean_squared_error(y_train, RF.predict(X_train),squared=False)"
   ]
  },
  {
   "cell_type": "code",
   "execution_count": 29,
   "id": "554c21af",
   "metadata": {
    "execution": {
     "iopub.execute_input": "2022-09-30T22:19:15.615603Z",
     "iopub.status.busy": "2022-09-30T22:19:15.615091Z",
     "iopub.status.idle": "2022-09-30T22:19:15.648029Z",
     "shell.execute_reply": "2022-09-30T22:19:15.646779Z"
    },
    "papermill": {
     "duration": 0.049969,
     "end_time": "2022-09-30T22:19:15.650536",
     "exception": false,
     "start_time": "2022-09-30T22:19:15.600567",
     "status": "completed"
    },
    "tags": []
   },
   "outputs": [
    {
     "data": {
      "text/plain": [
       "0.9786918466412438"
      ]
     },
     "execution_count": 29,
     "metadata": {},
     "output_type": "execute_result"
    }
   ],
   "source": [
    "r2_score(y_train,RF.predict(X_train))"
   ]
  },
  {
   "cell_type": "code",
   "execution_count": 30,
   "id": "d0bfc5f2",
   "metadata": {
    "_cell_guid": "1103ebfd-5b43-410a-b9e2-f1451641d0c4",
    "_uuid": "3ed5fd52-3240-4b3a-939b-c08e9b301e2e",
    "collapsed": false,
    "execution": {
     "iopub.execute_input": "2022-09-30T22:19:15.678653Z",
     "iopub.status.busy": "2022-09-30T22:19:15.678092Z",
     "iopub.status.idle": "2022-09-30T22:19:15.685994Z",
     "shell.execute_reply": "2022-09-30T22:19:15.684879Z"
    },
    "jupyter": {
     "outputs_hidden": false
    },
    "papermill": {
     "duration": 0.025159,
     "end_time": "2022-09-30T22:19:15.688485",
     "exception": false,
     "start_time": "2022-09-30T22:19:15.663326",
     "status": "completed"
    },
    "tags": []
   },
   "outputs": [],
   "source": [
    "y_pred = LR.predict(X_test)"
   ]
  },
  {
   "cell_type": "markdown",
   "id": "e0e859cc",
   "metadata": {
    "papermill": {
     "duration": 0.012667,
     "end_time": "2022-09-30T22:19:15.714278",
     "exception": false,
     "start_time": "2022-09-30T22:19:15.701611",
     "status": "completed"
    },
    "tags": []
   },
   "source": [
    "**Question 4. d)**\n",
    "\n",
    "The rmse and r^2 value for test using Linear Regression and Random Forest are:"
   ]
  },
  {
   "cell_type": "code",
   "execution_count": 31,
   "id": "95e13bc0",
   "metadata": {
    "_cell_guid": "0da80469-0753-4ad7-aa41-454724050843",
    "_uuid": "1ef2e5e2-8418-43e0-8697-a72ad6d65f8f",
    "collapsed": false,
    "execution": {
     "iopub.execute_input": "2022-09-30T22:19:15.743063Z",
     "iopub.status.busy": "2022-09-30T22:19:15.742278Z",
     "iopub.status.idle": "2022-09-30T22:19:15.752537Z",
     "shell.execute_reply": "2022-09-30T22:19:15.751248Z"
    },
    "jupyter": {
     "outputs_hidden": false
    },
    "papermill": {
     "duration": 0.027715,
     "end_time": "2022-09-30T22:19:15.755158",
     "exception": false,
     "start_time": "2022-09-30T22:19:15.727443",
     "status": "completed"
    },
    "tags": []
   },
   "outputs": [
    {
     "data": {
      "text/plain": [
       "774.1964948492608"
      ]
     },
     "execution_count": 31,
     "metadata": {},
     "output_type": "execute_result"
    }
   ],
   "source": [
    "mean_squared_error(y_test, y_pred,squared=False)"
   ]
  },
  {
   "cell_type": "code",
   "execution_count": 32,
   "id": "d2249c75",
   "metadata": {
    "_cell_guid": "a8435401-5e4c-430d-b807-2f4eb29f8f30",
    "_uuid": "4c590e5c-03c7-4e4c-8a2b-b09d57e17a24",
    "collapsed": false,
    "execution": {
     "iopub.execute_input": "2022-09-30T22:19:15.783515Z",
     "iopub.status.busy": "2022-09-30T22:19:15.783010Z",
     "iopub.status.idle": "2022-09-30T22:19:15.792748Z",
     "shell.execute_reply": "2022-09-30T22:19:15.791594Z"
    },
    "jupyter": {
     "outputs_hidden": false
    },
    "papermill": {
     "duration": 0.027227,
     "end_time": "2022-09-30T22:19:15.795326",
     "exception": false,
     "start_time": "2022-09-30T22:19:15.768099",
     "status": "completed"
    },
    "tags": []
   },
   "outputs": [
    {
     "data": {
      "text/plain": [
       "0.8493628241460262"
      ]
     },
     "execution_count": 32,
     "metadata": {},
     "output_type": "execute_result"
    }
   ],
   "source": [
    "r2_score(y_test,y_pred)"
   ]
  },
  {
   "cell_type": "code",
   "execution_count": 33,
   "id": "cccc0e8b",
   "metadata": {
    "execution": {
     "iopub.execute_input": "2022-09-30T22:19:15.825261Z",
     "iopub.status.busy": "2022-09-30T22:19:15.824297Z",
     "iopub.status.idle": "2022-09-30T22:19:16.078108Z",
     "shell.execute_reply": "2022-09-30T22:19:16.076712Z"
    },
    "papermill": {
     "duration": 0.272063,
     "end_time": "2022-09-30T22:19:16.080974",
     "exception": false,
     "start_time": "2022-09-30T22:19:15.808911",
     "status": "completed"
    },
    "tags": []
   },
   "outputs": [
    {
     "data": {
      "text/plain": [
       "RandomForestRegressor()"
      ]
     },
     "execution_count": 33,
     "metadata": {},
     "output_type": "execute_result"
    }
   ],
   "source": [
    "RF.fit(X_test,y_test)"
   ]
  },
  {
   "cell_type": "code",
   "execution_count": 34,
   "id": "93feee82",
   "metadata": {
    "execution": {
     "iopub.execute_input": "2022-09-30T22:19:16.110249Z",
     "iopub.status.busy": "2022-09-30T22:19:16.109331Z",
     "iopub.status.idle": "2022-09-30T22:19:16.139356Z",
     "shell.execute_reply": "2022-09-30T22:19:16.138259Z"
    },
    "papermill": {
     "duration": 0.048611,
     "end_time": "2022-09-30T22:19:16.142957",
     "exception": false,
     "start_time": "2022-09-30T22:19:16.094346",
     "status": "completed"
    },
    "tags": []
   },
   "outputs": [
    {
     "data": {
      "text/plain": [
       "305.5722050358222"
      ]
     },
     "execution_count": 34,
     "metadata": {},
     "output_type": "execute_result"
    }
   ],
   "source": [
    "mean_squared_error(y_test, RF.predict(X_test),squared=False)"
   ]
  },
  {
   "cell_type": "code",
   "execution_count": 35,
   "id": "d2ca15ad",
   "metadata": {
    "_cell_guid": "bba1bd91-cca0-4bb6-b9e2-6ebb7751d6e9",
    "_uuid": "303ac0d8-c25e-4904-b6aa-377f910fea48",
    "collapsed": false,
    "execution": {
     "iopub.execute_input": "2022-09-30T22:19:16.172226Z",
     "iopub.status.busy": "2022-09-30T22:19:16.171301Z",
     "iopub.status.idle": "2022-09-30T22:19:16.197888Z",
     "shell.execute_reply": "2022-09-30T22:19:16.196576Z"
    },
    "jupyter": {
     "outputs_hidden": false
    },
    "papermill": {
     "duration": 0.044699,
     "end_time": "2022-09-30T22:19:16.201182",
     "exception": false,
     "start_time": "2022-09-30T22:19:16.156483",
     "status": "completed"
    },
    "tags": []
   },
   "outputs": [
    {
     "data": {
      "text/plain": [
       "0.9765330061410947"
      ]
     },
     "execution_count": 35,
     "metadata": {},
     "output_type": "execute_result"
    }
   ],
   "source": [
    "r2_score(y_test,RF.predict(X_test))"
   ]
  },
  {
   "cell_type": "markdown",
   "id": "6dbf69a0",
   "metadata": {
    "_cell_guid": "a0a2b805-7db3-4fb9-b640-2b80a2af8e33",
    "_uuid": "562b49b1-533c-4472-afd1-25fcb73d2edf",
    "papermill": {
     "duration": 0.013273,
     "end_time": "2022-09-30T22:19:16.228082",
     "exception": false,
     "start_time": "2022-09-30T22:19:16.214809",
     "status": "completed"
    },
    "tags": []
   },
   "source": [
    "**Question 4. e)**\n",
    "\n",
    "**atemp and temp these are the features which have significant contribution.**\n",
    "\n",
    "**The model has a good fit with r square value of 0.979 while using Random Forest and 0.849 using Linear Regression.**\n",
    "\n",
    "**The same goes for rmse value.**\n",
    "\n",
    "**This indicates that Random Forest has a better fit as compared to Linear Regression for this model.**\n",
    "\n",
    "**The model fits the data well using Linear Regression which answers to the question how well the model fits.**"
   ]
  },
  {
   "cell_type": "code",
   "execution_count": null,
   "id": "adec195b",
   "metadata": {
    "papermill": {
     "duration": 0.013709,
     "end_time": "2022-09-30T22:19:16.255430",
     "exception": false,
     "start_time": "2022-09-30T22:19:16.241721",
     "status": "completed"
    },
    "tags": []
   },
   "outputs": [],
   "source": []
  }
 ],
 "metadata": {
  "kernelspec": {
   "display_name": "Python 3",
   "language": "python",
   "name": "python3"
  },
  "language_info": {
   "codemirror_mode": {
    "name": "ipython",
    "version": 3
   },
   "file_extension": ".py",
   "mimetype": "text/x-python",
   "name": "python",
   "nbconvert_exporter": "python",
   "pygments_lexer": "ipython3",
   "version": "3.7.12"
  },
  "papermill": {
   "default_parameters": {},
   "duration": 14.370263,
   "end_time": "2022-09-30T22:19:17.394855",
   "environment_variables": {},
   "exception": null,
   "input_path": "__notebook__.ipynb",
   "output_path": "__notebook__.ipynb",
   "parameters": {},
   "start_time": "2022-09-30T22:19:03.024592",
   "version": "2.3.4"
  }
 },
 "nbformat": 4,
 "nbformat_minor": 5
}
