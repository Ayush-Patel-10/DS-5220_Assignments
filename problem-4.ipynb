{
 "cells": [
  {
   "cell_type": "code",
   "execution_count": 1,
   "id": "82d325e7",
   "metadata": {
    "_cell_guid": "7754c37c-cac3-41db-a751-9411d740a623",
    "_uuid": "d1915725-acd3-4f7e-b399-56c66192534c",
    "collapsed": false,
    "execution": {
     "iopub.execute_input": "2022-09-27T22:02:09.469285Z",
     "iopub.status.busy": "2022-09-27T22:02:09.468305Z",
     "iopub.status.idle": "2022-09-27T22:02:09.494501Z",
     "shell.execute_reply": "2022-09-27T22:02:09.493403Z"
    },
    "jupyter": {
     "outputs_hidden": false
    },
    "papermill": {
     "duration": 0.038291,
     "end_time": "2022-09-27T22:02:09.496806",
     "exception": false,
     "start_time": "2022-09-27T22:02:09.458515",
     "status": "completed"
    },
    "tags": []
   },
   "outputs": [
    {
     "name": "stdout",
     "output_type": "stream",
     "text": [
      "/kaggle/input/bike-sharing-dataset/hour.csv\n",
      "/kaggle/input/bike-sharing-dataset/Readme.txt\n",
      "/kaggle/input/bike-sharing-dataset/day.csv\n",
      "/kaggle/input/bike-sharing-dataset/bike-sharing-dataset/hour.csv\n",
      "/kaggle/input/bike-sharing-dataset/bike-sharing-dataset/Readme.txt\n",
      "/kaggle/input/bike-sharing-dataset/bike-sharing-dataset/day.csv\n"
     ]
    }
   ],
   "source": [
    "# This Python 3 environment comes with many helpful analytics libraries installed\n",
    "# It is defined by the kaggle/python Docker image: https://github.com/kaggle/docker-python\n",
    "# For example, here's several helpful packages to load\n",
    "\n",
    "import numpy as np # linear algebra\n",
    "import pandas as pd # data processing, CSV file I/O (e.g. pd.read_csv)\n",
    "\n",
    "# Input data files are available in the read-only \"../input/\" directory\n",
    "# For example, running this (by clicking run or pressing Shift+Enter) will list all files under the input directory\n",
    "\n",
    "import os\n",
    "for dirname, _, filenames in os.walk('/kaggle/input'):\n",
    "    for filename in filenames:\n",
    "        print(os.path.join(dirname, filename))\n",
    "\n",
    "# You can write up to 20GB to the current directory (/kaggle/working/) that gets preserved as output when you create a version using \"Save & Run All\" \n",
    "# You can also write temporary files to /kaggle/temp/, but they won't be saved outside of the current session"
   ]
  },
  {
   "cell_type": "code",
   "execution_count": 2,
   "id": "c2855462",
   "metadata": {
    "execution": {
     "iopub.execute_input": "2022-09-27T22:02:09.513497Z",
     "iopub.status.busy": "2022-09-27T22:02:09.513095Z",
     "iopub.status.idle": "2022-09-27T22:02:10.390460Z",
     "shell.execute_reply": "2022-09-27T22:02:10.389519Z"
    },
    "papermill": {
     "duration": 0.888102,
     "end_time": "2022-09-27T22:02:10.392816",
     "exception": false,
     "start_time": "2022-09-27T22:02:09.504714",
     "status": "completed"
    },
    "tags": []
   },
   "outputs": [],
   "source": [
    "from numpy import argmax\n",
    "from sklearn.preprocessing import LabelEncoder\n",
    "from sklearn.preprocessing import OneHotEncoder"
   ]
  },
  {
   "cell_type": "code",
   "execution_count": 3,
   "id": "b75ceb0b",
   "metadata": {
    "_cell_guid": "6e425efa-7eed-4396-a3c0-3ad477f7d8ec",
    "_uuid": "304c716b-f1c2-4e4c-9f61-a7468fc9ceaf",
    "collapsed": false,
    "execution": {
     "iopub.execute_input": "2022-09-27T22:02:10.409412Z",
     "iopub.status.busy": "2022-09-27T22:02:10.409049Z",
     "iopub.status.idle": "2022-09-27T22:02:10.427927Z",
     "shell.execute_reply": "2022-09-27T22:02:10.427108Z"
    },
    "jupyter": {
     "outputs_hidden": false
    },
    "papermill": {
     "duration": 0.029727,
     "end_time": "2022-09-27T22:02:10.430117",
     "exception": false,
     "start_time": "2022-09-27T22:02:10.400390",
     "status": "completed"
    },
    "tags": []
   },
   "outputs": [],
   "source": [
    "df = pd.read_csv(\"../input/bike-sharing-dataset/day.csv\")"
   ]
  },
  {
   "cell_type": "code",
   "execution_count": 4,
   "id": "642ae83f",
   "metadata": {
    "_cell_guid": "bb5f6659-f8cb-4e8e-b5b3-440b741b95aa",
    "_uuid": "37a3a90f-ade8-4efb-91d1-13ccaec7e3ff",
    "collapsed": false,
    "execution": {
     "iopub.execute_input": "2022-09-27T22:02:10.446706Z",
     "iopub.status.busy": "2022-09-27T22:02:10.445835Z",
     "iopub.status.idle": "2022-09-27T22:02:10.470814Z",
     "shell.execute_reply": "2022-09-27T22:02:10.469990Z"
    },
    "jupyter": {
     "outputs_hidden": false
    },
    "papermill": {
     "duration": 0.035334,
     "end_time": "2022-09-27T22:02:10.472897",
     "exception": false,
     "start_time": "2022-09-27T22:02:10.437563",
     "status": "completed"
    },
    "tags": []
   },
   "outputs": [
    {
     "data": {
      "text/html": [
       "<div>\n",
       "<style scoped>\n",
       "    .dataframe tbody tr th:only-of-type {\n",
       "        vertical-align: middle;\n",
       "    }\n",
       "\n",
       "    .dataframe tbody tr th {\n",
       "        vertical-align: top;\n",
       "    }\n",
       "\n",
       "    .dataframe thead th {\n",
       "        text-align: right;\n",
       "    }\n",
       "</style>\n",
       "<table border=\"1\" class=\"dataframe\">\n",
       "  <thead>\n",
       "    <tr style=\"text-align: right;\">\n",
       "      <th></th>\n",
       "      <th>instant</th>\n",
       "      <th>dteday</th>\n",
       "      <th>season</th>\n",
       "      <th>yr</th>\n",
       "      <th>mnth</th>\n",
       "      <th>holiday</th>\n",
       "      <th>weekday</th>\n",
       "      <th>workingday</th>\n",
       "      <th>weathersit</th>\n",
       "      <th>temp</th>\n",
       "      <th>atemp</th>\n",
       "      <th>hum</th>\n",
       "      <th>windspeed</th>\n",
       "      <th>casual</th>\n",
       "      <th>registered</th>\n",
       "      <th>cnt</th>\n",
       "    </tr>\n",
       "  </thead>\n",
       "  <tbody>\n",
       "    <tr>\n",
       "      <th>0</th>\n",
       "      <td>1</td>\n",
       "      <td>2011-01-01</td>\n",
       "      <td>1</td>\n",
       "      <td>0</td>\n",
       "      <td>1</td>\n",
       "      <td>0</td>\n",
       "      <td>6</td>\n",
       "      <td>0</td>\n",
       "      <td>2</td>\n",
       "      <td>0.344167</td>\n",
       "      <td>0.363625</td>\n",
       "      <td>0.805833</td>\n",
       "      <td>0.160446</td>\n",
       "      <td>331</td>\n",
       "      <td>654</td>\n",
       "      <td>985</td>\n",
       "    </tr>\n",
       "    <tr>\n",
       "      <th>1</th>\n",
       "      <td>2</td>\n",
       "      <td>2011-01-02</td>\n",
       "      <td>1</td>\n",
       "      <td>0</td>\n",
       "      <td>1</td>\n",
       "      <td>0</td>\n",
       "      <td>0</td>\n",
       "      <td>0</td>\n",
       "      <td>2</td>\n",
       "      <td>0.363478</td>\n",
       "      <td>0.353739</td>\n",
       "      <td>0.696087</td>\n",
       "      <td>0.248539</td>\n",
       "      <td>131</td>\n",
       "      <td>670</td>\n",
       "      <td>801</td>\n",
       "    </tr>\n",
       "    <tr>\n",
       "      <th>2</th>\n",
       "      <td>3</td>\n",
       "      <td>2011-01-03</td>\n",
       "      <td>1</td>\n",
       "      <td>0</td>\n",
       "      <td>1</td>\n",
       "      <td>0</td>\n",
       "      <td>1</td>\n",
       "      <td>1</td>\n",
       "      <td>1</td>\n",
       "      <td>0.196364</td>\n",
       "      <td>0.189405</td>\n",
       "      <td>0.437273</td>\n",
       "      <td>0.248309</td>\n",
       "      <td>120</td>\n",
       "      <td>1229</td>\n",
       "      <td>1349</td>\n",
       "    </tr>\n",
       "    <tr>\n",
       "      <th>3</th>\n",
       "      <td>4</td>\n",
       "      <td>2011-01-04</td>\n",
       "      <td>1</td>\n",
       "      <td>0</td>\n",
       "      <td>1</td>\n",
       "      <td>0</td>\n",
       "      <td>2</td>\n",
       "      <td>1</td>\n",
       "      <td>1</td>\n",
       "      <td>0.200000</td>\n",
       "      <td>0.212122</td>\n",
       "      <td>0.590435</td>\n",
       "      <td>0.160296</td>\n",
       "      <td>108</td>\n",
       "      <td>1454</td>\n",
       "      <td>1562</td>\n",
       "    </tr>\n",
       "    <tr>\n",
       "      <th>4</th>\n",
       "      <td>5</td>\n",
       "      <td>2011-01-05</td>\n",
       "      <td>1</td>\n",
       "      <td>0</td>\n",
       "      <td>1</td>\n",
       "      <td>0</td>\n",
       "      <td>3</td>\n",
       "      <td>1</td>\n",
       "      <td>1</td>\n",
       "      <td>0.226957</td>\n",
       "      <td>0.229270</td>\n",
       "      <td>0.436957</td>\n",
       "      <td>0.186900</td>\n",
       "      <td>82</td>\n",
       "      <td>1518</td>\n",
       "      <td>1600</td>\n",
       "    </tr>\n",
       "  </tbody>\n",
       "</table>\n",
       "</div>"
      ],
      "text/plain": [
       "   instant      dteday  season  yr  mnth  holiday  weekday  workingday  \\\n",
       "0        1  2011-01-01       1   0     1        0        6           0   \n",
       "1        2  2011-01-02       1   0     1        0        0           0   \n",
       "2        3  2011-01-03       1   0     1        0        1           1   \n",
       "3        4  2011-01-04       1   0     1        0        2           1   \n",
       "4        5  2011-01-05       1   0     1        0        3           1   \n",
       "\n",
       "   weathersit      temp     atemp       hum  windspeed  casual  registered  \\\n",
       "0           2  0.344167  0.363625  0.805833   0.160446     331         654   \n",
       "1           2  0.363478  0.353739  0.696087   0.248539     131         670   \n",
       "2           1  0.196364  0.189405  0.437273   0.248309     120        1229   \n",
       "3           1  0.200000  0.212122  0.590435   0.160296     108        1454   \n",
       "4           1  0.226957  0.229270  0.436957   0.186900      82        1518   \n",
       "\n",
       "    cnt  \n",
       "0   985  \n",
       "1   801  \n",
       "2  1349  \n",
       "3  1562  \n",
       "4  1600  "
      ]
     },
     "execution_count": 4,
     "metadata": {},
     "output_type": "execute_result"
    }
   ],
   "source": [
    "df.head()"
   ]
  },
  {
   "cell_type": "code",
   "execution_count": 5,
   "id": "ece624ec",
   "metadata": {
    "_cell_guid": "21d1485a-1cc5-4a19-8b61-a3224156fe31",
    "_uuid": "2bcc139d-d84e-4c87-83d5-e25f9bd22d14",
    "collapsed": false,
    "execution": {
     "iopub.execute_input": "2022-09-27T22:02:10.490462Z",
     "iopub.status.busy": "2022-09-27T22:02:10.489580Z",
     "iopub.status.idle": "2022-09-27T22:02:10.496126Z",
     "shell.execute_reply": "2022-09-27T22:02:10.495336Z"
    },
    "jupyter": {
     "outputs_hidden": false
    },
    "papermill": {
     "duration": 0.017162,
     "end_time": "2022-09-27T22:02:10.497914",
     "exception": false,
     "start_time": "2022-09-27T22:02:10.480752",
     "status": "completed"
    },
    "tags": []
   },
   "outputs": [
    {
     "data": {
      "text/plain": [
       "Index(['instant', 'dteday', 'season', 'yr', 'mnth', 'holiday', 'weekday',\n",
       "       'workingday', 'weathersit', 'temp', 'atemp', 'hum', 'windspeed',\n",
       "       'casual', 'registered', 'cnt'],\n",
       "      dtype='object')"
      ]
     },
     "execution_count": 5,
     "metadata": {},
     "output_type": "execute_result"
    }
   ],
   "source": [
    "df.columns"
   ]
  },
  {
   "cell_type": "code",
   "execution_count": 6,
   "id": "64b2b045",
   "metadata": {
    "_cell_guid": "2b6b464d-7d10-49a3-8aa3-bcb863e2b9f1",
    "_uuid": "b87f031a-4cef-40da-abc0-b60c77923a1f",
    "collapsed": false,
    "execution": {
     "iopub.execute_input": "2022-09-27T22:02:10.516685Z",
     "iopub.status.busy": "2022-09-27T22:02:10.515588Z",
     "iopub.status.idle": "2022-09-27T22:02:10.526883Z",
     "shell.execute_reply": "2022-09-27T22:02:10.525588Z"
    },
    "jupyter": {
     "outputs_hidden": false
    },
    "papermill": {
     "duration": 0.022492,
     "end_time": "2022-09-27T22:02:10.529179",
     "exception": false,
     "start_time": "2022-09-27T22:02:10.506687",
     "status": "completed"
    },
    "tags": []
   },
   "outputs": [],
   "source": [
    "df.drop(['instant', 'dteday'], inplace=True ,axis=1)"
   ]
  },
  {
   "cell_type": "code",
   "execution_count": 7,
   "id": "44bdf6b9",
   "metadata": {
    "_cell_guid": "b17ee383-55e6-41bc-9b0a-37bb7441fdfb",
    "_uuid": "e1bc743e-4617-45e2-acab-4f5d699c0bd4",
    "collapsed": false,
    "execution": {
     "iopub.execute_input": "2022-09-27T22:02:10.546487Z",
     "iopub.status.busy": "2022-09-27T22:02:10.545768Z",
     "iopub.status.idle": "2022-09-27T22:02:10.561168Z",
     "shell.execute_reply": "2022-09-27T22:02:10.560269Z"
    },
    "jupyter": {
     "outputs_hidden": false
    },
    "papermill": {
     "duration": 0.026262,
     "end_time": "2022-09-27T22:02:10.563270",
     "exception": false,
     "start_time": "2022-09-27T22:02:10.537008",
     "status": "completed"
    },
    "tags": []
   },
   "outputs": [
    {
     "name": "stdout",
     "output_type": "stream",
     "text": [
      "season        0.406100\n",
      "yr            0.566710\n",
      "mnth          0.279977\n",
      "holiday      -0.068348\n",
      "weekday       0.067443\n",
      "workingday    0.061156\n",
      "weathersit   -0.297391\n",
      "temp          0.627494\n",
      "atemp         0.631066\n",
      "hum          -0.100659\n",
      "windspeed    -0.234545\n",
      "casual        0.672804\n",
      "registered    0.945517\n",
      "cnt           1.000000\n",
      "dtype: float64\n"
     ]
    }
   ],
   "source": [
    "correlations = df.corrwith(df['cnt'])\n",
    "print(correlations)"
   ]
  },
  {
   "cell_type": "markdown",
   "id": "0b6465e4",
   "metadata": {
    "_cell_guid": "8aba4077-ca1d-4984-ab9d-cd3da0a8b987",
    "_uuid": "6dfe76cf-8efb-4865-aa4a-a26964bd05bc",
    "papermill": {
     "duration": 0.007752,
     "end_time": "2022-09-27T22:02:10.579361",
     "exception": false,
     "start_time": "2022-09-27T22:02:10.571609",
     "status": "completed"
    },
    "tags": []
   },
   "source": [
    "Features with positive correlation are: \n",
    "* **season**\n",
    "* **yr**: year\n",
    "* **mnth**: mmonths\n",
    "* **weekday**: days of the week\n",
    "* **workingday**: whether the day is neither a weekend nor holiday\n",
    "* **temp**: temperature in Celsius\n",
    "* **atemp**: \"feels like\" temperature in Celsius\n",
    "* **casual**: number of non-registered user rentals initiated\n",
    "* **registered**: number of registered user rentals initiated\n",
    "\n",
    "The feature with highest correlation is **'registered'**."
   ]
  },
  {
   "cell_type": "markdown",
   "id": "35ea5bd3",
   "metadata": {
    "_cell_guid": "01170ec7-7229-419f-8875-4419f9890731",
    "_uuid": "c7bc3fd5-ea51-43e0-a449-3b6ae3d2272e",
    "papermill": {
     "duration": 0.007693,
     "end_time": "2022-09-27T22:02:10.595050",
     "exception": false,
     "start_time": "2022-09-27T22:02:10.587357",
     "status": "completed"
    },
    "tags": []
   },
   "source": [
    "Features with negative correlation are: \n",
    "* **holiday**: whether the day is considered a holiday\n",
    "* **weathersit**\n",
    "* **hum**: humidity\n",
    "* **windspeed**"
   ]
  },
  {
   "cell_type": "code",
   "execution_count": 8,
   "id": "bae5dcfb",
   "metadata": {
    "execution": {
     "iopub.execute_input": "2022-09-27T22:02:10.612160Z",
     "iopub.status.busy": "2022-09-27T22:02:10.611786Z",
     "iopub.status.idle": "2022-09-27T22:02:10.619153Z",
     "shell.execute_reply": "2022-09-27T22:02:10.618014Z"
    },
    "papermill": {
     "duration": 0.01866,
     "end_time": "2022-09-27T22:02:10.621474",
     "exception": false,
     "start_time": "2022-09-27T22:02:10.602814",
     "status": "completed"
    },
    "tags": []
   },
   "outputs": [],
   "source": [
    "df.drop(['casual', 'registered'], inplace=True ,axis=1)"
   ]
  },
  {
   "cell_type": "code",
   "execution_count": 9,
   "id": "10e6f32f",
   "metadata": {
    "execution": {
     "iopub.execute_input": "2022-09-27T22:02:10.639112Z",
     "iopub.status.busy": "2022-09-27T22:02:10.638767Z",
     "iopub.status.idle": "2022-09-27T22:02:10.653434Z",
     "shell.execute_reply": "2022-09-27T22:02:10.652357Z"
    },
    "papermill": {
     "duration": 0.025646,
     "end_time": "2022-09-27T22:02:10.655379",
     "exception": false,
     "start_time": "2022-09-27T22:02:10.629733",
     "status": "completed"
    },
    "tags": []
   },
   "outputs": [
    {
     "data": {
      "text/html": [
       "<div>\n",
       "<style scoped>\n",
       "    .dataframe tbody tr th:only-of-type {\n",
       "        vertical-align: middle;\n",
       "    }\n",
       "\n",
       "    .dataframe tbody tr th {\n",
       "        vertical-align: top;\n",
       "    }\n",
       "\n",
       "    .dataframe thead th {\n",
       "        text-align: right;\n",
       "    }\n",
       "</style>\n",
       "<table border=\"1\" class=\"dataframe\">\n",
       "  <thead>\n",
       "    <tr style=\"text-align: right;\">\n",
       "      <th></th>\n",
       "      <th>season</th>\n",
       "      <th>yr</th>\n",
       "      <th>mnth</th>\n",
       "      <th>holiday</th>\n",
       "      <th>weekday</th>\n",
       "      <th>workingday</th>\n",
       "      <th>weathersit</th>\n",
       "      <th>temp</th>\n",
       "      <th>atemp</th>\n",
       "      <th>hum</th>\n",
       "      <th>windspeed</th>\n",
       "      <th>cnt</th>\n",
       "    </tr>\n",
       "  </thead>\n",
       "  <tbody>\n",
       "    <tr>\n",
       "      <th>0</th>\n",
       "      <td>1</td>\n",
       "      <td>0</td>\n",
       "      <td>1</td>\n",
       "      <td>0</td>\n",
       "      <td>6</td>\n",
       "      <td>0</td>\n",
       "      <td>2</td>\n",
       "      <td>0.344167</td>\n",
       "      <td>0.363625</td>\n",
       "      <td>0.805833</td>\n",
       "      <td>0.160446</td>\n",
       "      <td>985</td>\n",
       "    </tr>\n",
       "    <tr>\n",
       "      <th>1</th>\n",
       "      <td>1</td>\n",
       "      <td>0</td>\n",
       "      <td>1</td>\n",
       "      <td>0</td>\n",
       "      <td>0</td>\n",
       "      <td>0</td>\n",
       "      <td>2</td>\n",
       "      <td>0.363478</td>\n",
       "      <td>0.353739</td>\n",
       "      <td>0.696087</td>\n",
       "      <td>0.248539</td>\n",
       "      <td>801</td>\n",
       "    </tr>\n",
       "    <tr>\n",
       "      <th>2</th>\n",
       "      <td>1</td>\n",
       "      <td>0</td>\n",
       "      <td>1</td>\n",
       "      <td>0</td>\n",
       "      <td>1</td>\n",
       "      <td>1</td>\n",
       "      <td>1</td>\n",
       "      <td>0.196364</td>\n",
       "      <td>0.189405</td>\n",
       "      <td>0.437273</td>\n",
       "      <td>0.248309</td>\n",
       "      <td>1349</td>\n",
       "    </tr>\n",
       "    <tr>\n",
       "      <th>3</th>\n",
       "      <td>1</td>\n",
       "      <td>0</td>\n",
       "      <td>1</td>\n",
       "      <td>0</td>\n",
       "      <td>2</td>\n",
       "      <td>1</td>\n",
       "      <td>1</td>\n",
       "      <td>0.200000</td>\n",
       "      <td>0.212122</td>\n",
       "      <td>0.590435</td>\n",
       "      <td>0.160296</td>\n",
       "      <td>1562</td>\n",
       "    </tr>\n",
       "    <tr>\n",
       "      <th>4</th>\n",
       "      <td>1</td>\n",
       "      <td>0</td>\n",
       "      <td>1</td>\n",
       "      <td>0</td>\n",
       "      <td>3</td>\n",
       "      <td>1</td>\n",
       "      <td>1</td>\n",
       "      <td>0.226957</td>\n",
       "      <td>0.229270</td>\n",
       "      <td>0.436957</td>\n",
       "      <td>0.186900</td>\n",
       "      <td>1600</td>\n",
       "    </tr>\n",
       "  </tbody>\n",
       "</table>\n",
       "</div>"
      ],
      "text/plain": [
       "   season  yr  mnth  holiday  weekday  workingday  weathersit      temp  \\\n",
       "0       1   0     1        0        6           0           2  0.344167   \n",
       "1       1   0     1        0        0           0           2  0.363478   \n",
       "2       1   0     1        0        1           1           1  0.196364   \n",
       "3       1   0     1        0        2           1           1  0.200000   \n",
       "4       1   0     1        0        3           1           1  0.226957   \n",
       "\n",
       "      atemp       hum  windspeed   cnt  \n",
       "0  0.363625  0.805833   0.160446   985  \n",
       "1  0.353739  0.696087   0.248539   801  \n",
       "2  0.189405  0.437273   0.248309  1349  \n",
       "3  0.212122  0.590435   0.160296  1562  \n",
       "4  0.229270  0.436957   0.186900  1600  "
      ]
     },
     "execution_count": 9,
     "metadata": {},
     "output_type": "execute_result"
    }
   ],
   "source": [
    "df.head()\n"
   ]
  },
  {
   "cell_type": "code",
   "execution_count": 10,
   "id": "05b31ad2",
   "metadata": {
    "execution": {
     "iopub.execute_input": "2022-09-27T22:02:10.673751Z",
     "iopub.status.busy": "2022-09-27T22:02:10.673395Z",
     "iopub.status.idle": "2022-09-27T22:02:10.862296Z",
     "shell.execute_reply": "2022-09-27T22:02:10.860736Z"
    },
    "papermill": {
     "duration": 0.200808,
     "end_time": "2022-09-27T22:02:10.864712",
     "exception": false,
     "start_time": "2022-09-27T22:02:10.663904",
     "status": "completed"
    },
    "tags": []
   },
   "outputs": [],
   "source": [
    "import category_encoders as ce"
   ]
  },
  {
   "cell_type": "code",
   "execution_count": 11,
   "id": "a1db4fde",
   "metadata": {
    "execution": {
     "iopub.execute_input": "2022-09-27T22:02:10.883027Z",
     "iopub.status.busy": "2022-09-27T22:02:10.882678Z",
     "iopub.status.idle": "2022-09-27T22:02:10.886934Z",
     "shell.execute_reply": "2022-09-27T22:02:10.886347Z"
    },
    "papermill": {
     "duration": 0.015043,
     "end_time": "2022-09-27T22:02:10.888592",
     "exception": false,
     "start_time": "2022-09-27T22:02:10.873549",
     "status": "completed"
    },
    "tags": []
   },
   "outputs": [],
   "source": [
    "encoder = ce.OneHotEncoder(cols=('season','yr','mnth','holiday','weekday','workingday','weathersit'), use_cat_names = True)"
   ]
  },
  {
   "cell_type": "code",
   "execution_count": 12,
   "id": "94199285",
   "metadata": {
    "_cell_guid": "3ce10598-fcb0-4fd7-9c24-fa3b2502afb3",
    "_uuid": "823c1808-d019-4fde-aee6-e91fbb374e5a",
    "collapsed": false,
    "execution": {
     "iopub.execute_input": "2022-09-27T22:02:10.906347Z",
     "iopub.status.busy": "2022-09-27T22:02:10.905509Z",
     "iopub.status.idle": "2022-09-27T22:02:10.955124Z",
     "shell.execute_reply": "2022-09-27T22:02:10.954246Z"
    },
    "jupyter": {
     "outputs_hidden": false
    },
    "papermill": {
     "duration": 0.060629,
     "end_time": "2022-09-27T22:02:10.957508",
     "exception": false,
     "start_time": "2022-09-27T22:02:10.896879",
     "status": "completed"
    },
    "tags": []
   },
   "outputs": [],
   "source": [
    "from sklearn.model_selection import train_test_split\n"
   ]
  },
  {
   "cell_type": "code",
   "execution_count": 13,
   "id": "63e959d0",
   "metadata": {
    "execution": {
     "iopub.execute_input": "2022-09-27T22:02:10.975982Z",
     "iopub.status.busy": "2022-09-27T22:02:10.975347Z",
     "iopub.status.idle": "2022-09-27T22:02:10.980317Z",
     "shell.execute_reply": "2022-09-27T22:02:10.979717Z"
    },
    "papermill": {
     "duration": 0.016201,
     "end_time": "2022-09-27T22:02:10.981960",
     "exception": false,
     "start_time": "2022-09-27T22:02:10.965759",
     "status": "completed"
    },
    "tags": []
   },
   "outputs": [],
   "source": [
    "train, test = train_test_split(df, random_state=42)"
   ]
  },
  {
   "cell_type": "code",
   "execution_count": 14,
   "id": "89760e6b",
   "metadata": {
    "execution": {
     "iopub.execute_input": "2022-09-27T22:02:10.999121Z",
     "iopub.status.busy": "2022-09-27T22:02:10.998815Z",
     "iopub.status.idle": "2022-09-27T22:02:11.073257Z",
     "shell.execute_reply": "2022-09-27T22:02:11.072383Z"
    },
    "papermill": {
     "duration": 0.085459,
     "end_time": "2022-09-27T22:02:11.075353",
     "exception": false,
     "start_time": "2022-09-27T22:02:10.989894",
     "status": "completed"
    },
    "tags": []
   },
   "outputs": [],
   "source": [
    "train_encoded = encoder.fit_transform(train)"
   ]
  },
  {
   "cell_type": "code",
   "execution_count": 15,
   "id": "5827bf18",
   "metadata": {
    "execution": {
     "iopub.execute_input": "2022-09-27T22:02:11.092472Z",
     "iopub.status.busy": "2022-09-27T22:02:11.091995Z",
     "iopub.status.idle": "2022-09-27T22:02:11.107662Z",
     "shell.execute_reply": "2022-09-27T22:02:11.107064Z"
    },
    "papermill": {
     "duration": 0.025902,
     "end_time": "2022-09-27T22:02:11.109321",
     "exception": false,
     "start_time": "2022-09-27T22:02:11.083419",
     "status": "completed"
    },
    "tags": []
   },
   "outputs": [
    {
     "data": {
      "text/html": [
       "<div>\n",
       "<style scoped>\n",
       "    .dataframe tbody tr th:only-of-type {\n",
       "        vertical-align: middle;\n",
       "    }\n",
       "\n",
       "    .dataframe tbody tr th {\n",
       "        vertical-align: top;\n",
       "    }\n",
       "\n",
       "    .dataframe thead th {\n",
       "        text-align: right;\n",
       "    }\n",
       "</style>\n",
       "<table border=\"1\" class=\"dataframe\">\n",
       "  <thead>\n",
       "    <tr style=\"text-align: right;\">\n",
       "      <th></th>\n",
       "      <th>season_4.0</th>\n",
       "      <th>season_2.0</th>\n",
       "      <th>season_1.0</th>\n",
       "      <th>season_3.0</th>\n",
       "      <th>yr_1.0</th>\n",
       "      <th>yr_0.0</th>\n",
       "      <th>mnth_11.0</th>\n",
       "      <th>mnth_10.0</th>\n",
       "      <th>mnth_9.0</th>\n",
       "      <th>mnth_6.0</th>\n",
       "      <th>...</th>\n",
       "      <th>workingday_1.0</th>\n",
       "      <th>workingday_0.0</th>\n",
       "      <th>weathersit_2.0</th>\n",
       "      <th>weathersit_1.0</th>\n",
       "      <th>weathersit_3.0</th>\n",
       "      <th>temp</th>\n",
       "      <th>atemp</th>\n",
       "      <th>hum</th>\n",
       "      <th>windspeed</th>\n",
       "      <th>cnt</th>\n",
       "    </tr>\n",
       "  </thead>\n",
       "  <tbody>\n",
       "    <tr>\n",
       "      <th>688</th>\n",
       "      <td>1</td>\n",
       "      <td>0</td>\n",
       "      <td>0</td>\n",
       "      <td>0</td>\n",
       "      <td>1</td>\n",
       "      <td>0</td>\n",
       "      <td>1</td>\n",
       "      <td>0</td>\n",
       "      <td>0</td>\n",
       "      <td>0</td>\n",
       "      <td>...</td>\n",
       "      <td>1</td>\n",
       "      <td>0</td>\n",
       "      <td>1</td>\n",
       "      <td>0</td>\n",
       "      <td>0</td>\n",
       "      <td>0.380833</td>\n",
       "      <td>0.375621</td>\n",
       "      <td>0.623333</td>\n",
       "      <td>0.235067</td>\n",
       "      <td>5499</td>\n",
       "    </tr>\n",
       "    <tr>\n",
       "      <th>649</th>\n",
       "      <td>1</td>\n",
       "      <td>0</td>\n",
       "      <td>0</td>\n",
       "      <td>0</td>\n",
       "      <td>1</td>\n",
       "      <td>0</td>\n",
       "      <td>0</td>\n",
       "      <td>1</td>\n",
       "      <td>0</td>\n",
       "      <td>0</td>\n",
       "      <td>...</td>\n",
       "      <td>1</td>\n",
       "      <td>0</td>\n",
       "      <td>0</td>\n",
       "      <td>1</td>\n",
       "      <td>0</td>\n",
       "      <td>0.435000</td>\n",
       "      <td>0.431167</td>\n",
       "      <td>0.463333</td>\n",
       "      <td>0.181596</td>\n",
       "      <td>7570</td>\n",
       "    </tr>\n",
       "    <tr>\n",
       "      <th>637</th>\n",
       "      <td>1</td>\n",
       "      <td>0</td>\n",
       "      <td>0</td>\n",
       "      <td>0</td>\n",
       "      <td>1</td>\n",
       "      <td>0</td>\n",
       "      <td>0</td>\n",
       "      <td>0</td>\n",
       "      <td>1</td>\n",
       "      <td>0</td>\n",
       "      <td>...</td>\n",
       "      <td>0</td>\n",
       "      <td>1</td>\n",
       "      <td>0</td>\n",
       "      <td>1</td>\n",
       "      <td>0</td>\n",
       "      <td>0.542500</td>\n",
       "      <td>0.530296</td>\n",
       "      <td>0.542917</td>\n",
       "      <td>0.227604</td>\n",
       "      <td>8555</td>\n",
       "    </tr>\n",
       "    <tr>\n",
       "      <th>525</th>\n",
       "      <td>0</td>\n",
       "      <td>1</td>\n",
       "      <td>0</td>\n",
       "      <td>0</td>\n",
       "      <td>1</td>\n",
       "      <td>0</td>\n",
       "      <td>0</td>\n",
       "      <td>0</td>\n",
       "      <td>0</td>\n",
       "      <td>1</td>\n",
       "      <td>...</td>\n",
       "      <td>0</td>\n",
       "      <td>1</td>\n",
       "      <td>0</td>\n",
       "      <td>1</td>\n",
       "      <td>0</td>\n",
       "      <td>0.710833</td>\n",
       "      <td>0.648367</td>\n",
       "      <td>0.437083</td>\n",
       "      <td>0.144287</td>\n",
       "      <td>7498</td>\n",
       "    </tr>\n",
       "    <tr>\n",
       "      <th>367</th>\n",
       "      <td>0</td>\n",
       "      <td>0</td>\n",
       "      <td>1</td>\n",
       "      <td>0</td>\n",
       "      <td>1</td>\n",
       "      <td>0</td>\n",
       "      <td>0</td>\n",
       "      <td>0</td>\n",
       "      <td>0</td>\n",
       "      <td>0</td>\n",
       "      <td>...</td>\n",
       "      <td>1</td>\n",
       "      <td>0</td>\n",
       "      <td>0</td>\n",
       "      <td>1</td>\n",
       "      <td>0</td>\n",
       "      <td>0.150000</td>\n",
       "      <td>0.126275</td>\n",
       "      <td>0.441250</td>\n",
       "      <td>0.365671</td>\n",
       "      <td>2236</td>\n",
       "    </tr>\n",
       "  </tbody>\n",
       "</table>\n",
       "<p>5 rows × 37 columns</p>\n",
       "</div>"
      ],
      "text/plain": [
       "     season_4.0  season_2.0  season_1.0  season_3.0  yr_1.0  yr_0.0  \\\n",
       "688           1           0           0           0       1       0   \n",
       "649           1           0           0           0       1       0   \n",
       "637           1           0           0           0       1       0   \n",
       "525           0           1           0           0       1       0   \n",
       "367           0           0           1           0       1       0   \n",
       "\n",
       "     mnth_11.0  mnth_10.0  mnth_9.0  mnth_6.0  ...  workingday_1.0  \\\n",
       "688          1          0         0         0  ...               1   \n",
       "649          0          1         0         0  ...               1   \n",
       "637          0          0         1         0  ...               0   \n",
       "525          0          0         0         1  ...               0   \n",
       "367          0          0         0         0  ...               1   \n",
       "\n",
       "     workingday_0.0  weathersit_2.0  weathersit_1.0  weathersit_3.0      temp  \\\n",
       "688               0               1               0               0  0.380833   \n",
       "649               0               0               1               0  0.435000   \n",
       "637               1               0               1               0  0.542500   \n",
       "525               1               0               1               0  0.710833   \n",
       "367               0               0               1               0  0.150000   \n",
       "\n",
       "        atemp       hum  windspeed   cnt  \n",
       "688  0.375621  0.623333   0.235067  5499  \n",
       "649  0.431167  0.463333   0.181596  7570  \n",
       "637  0.530296  0.542917   0.227604  8555  \n",
       "525  0.648367  0.437083   0.144287  7498  \n",
       "367  0.126275  0.441250   0.365671  2236  \n",
       "\n",
       "[5 rows x 37 columns]"
      ]
     },
     "execution_count": 15,
     "metadata": {},
     "output_type": "execute_result"
    }
   ],
   "source": [
    "train_encoded.head()"
   ]
  },
  {
   "cell_type": "code",
   "execution_count": 16,
   "id": "7774fc1b",
   "metadata": {
    "_cell_guid": "79fda334-0f33-4418-ae63-ba35a23ff066",
    "_uuid": "b792fcab-92ae-4a6e-96c4-7f414e43d505",
    "collapsed": false,
    "execution": {
     "iopub.execute_input": "2022-09-27T22:02:11.127568Z",
     "iopub.status.busy": "2022-09-27T22:02:11.126910Z",
     "iopub.status.idle": "2022-09-27T22:02:11.132182Z",
     "shell.execute_reply": "2022-09-27T22:02:11.131253Z"
    },
    "jupyter": {
     "outputs_hidden": false
    },
    "papermill": {
     "duration": 0.016735,
     "end_time": "2022-09-27T22:02:11.134271",
     "exception": false,
     "start_time": "2022-09-27T22:02:11.117536",
     "status": "completed"
    },
    "tags": []
   },
   "outputs": [],
   "source": [
    "X = df.drop('cnt', axis = 1)\n",
    "y = df['cnt']"
   ]
  },
  {
   "cell_type": "code",
   "execution_count": 17,
   "id": "ee63c0d4",
   "metadata": {
    "_cell_guid": "70659f9d-060f-4279-9c62-9da4d5ca4d75",
    "_uuid": "bbf8619c-ebca-4f2f-81ef-ad4c8ba5e03d",
    "collapsed": false,
    "execution": {
     "iopub.execute_input": "2022-09-27T22:02:11.153433Z",
     "iopub.status.busy": "2022-09-27T22:02:11.152563Z",
     "iopub.status.idle": "2022-09-27T22:02:11.160927Z",
     "shell.execute_reply": "2022-09-27T22:02:11.159887Z"
    },
    "jupyter": {
     "outputs_hidden": false
    },
    "papermill": {
     "duration": 0.02062,
     "end_time": "2022-09-27T22:02:11.162929",
     "exception": false,
     "start_time": "2022-09-27T22:02:11.142309",
     "status": "completed"
    },
    "tags": []
   },
   "outputs": [],
   "source": [
    "X_train, X_test, y_train, y_test = train_test_split(X, y, test_size=0.3, random_state=42)"
   ]
  },
  {
   "cell_type": "code",
   "execution_count": 18,
   "id": "0d454399",
   "metadata": {
    "_cell_guid": "8bb57773-01c9-4194-a7cd-6c34adcc6127",
    "_uuid": "f0dc72ff-52ee-483c-91db-24c11e915c73",
    "collapsed": false,
    "execution": {
     "iopub.execute_input": "2022-09-27T22:02:11.185089Z",
     "iopub.status.busy": "2022-09-27T22:02:11.184291Z",
     "iopub.status.idle": "2022-09-27T22:02:11.256016Z",
     "shell.execute_reply": "2022-09-27T22:02:11.254963Z"
    },
    "jupyter": {
     "outputs_hidden": false
    },
    "papermill": {
     "duration": 0.084721,
     "end_time": "2022-09-27T22:02:11.258390",
     "exception": false,
     "start_time": "2022-09-27T22:02:11.173669",
     "status": "completed"
    },
    "tags": []
   },
   "outputs": [],
   "source": [
    "from sklearn.linear_model import LinearRegression"
   ]
  },
  {
   "cell_type": "code",
   "execution_count": 19,
   "id": "86dc1a10",
   "metadata": {
    "_cell_guid": "ccd23d47-34ae-4202-8146-c21f89410662",
    "_uuid": "8d688102-4969-4acf-a23b-4aefbd35247c",
    "collapsed": false,
    "execution": {
     "iopub.execute_input": "2022-09-27T22:02:11.277053Z",
     "iopub.status.busy": "2022-09-27T22:02:11.276710Z",
     "iopub.status.idle": "2022-09-27T22:02:11.281112Z",
     "shell.execute_reply": "2022-09-27T22:02:11.280237Z"
    },
    "jupyter": {
     "outputs_hidden": false
    },
    "papermill": {
     "duration": 0.015833,
     "end_time": "2022-09-27T22:02:11.282952",
     "exception": false,
     "start_time": "2022-09-27T22:02:11.267119",
     "status": "completed"
    },
    "tags": []
   },
   "outputs": [],
   "source": [
    "LR = LinearRegression()"
   ]
  },
  {
   "cell_type": "code",
   "execution_count": 20,
   "id": "429bb5b2",
   "metadata": {
    "_cell_guid": "0b152974-58db-4c83-a3c2-35776691e45c",
    "_uuid": "530b4383-6391-405f-90e0-9370a002ba80",
    "collapsed": false,
    "execution": {
     "iopub.execute_input": "2022-09-27T22:02:11.300702Z",
     "iopub.status.busy": "2022-09-27T22:02:11.300390Z",
     "iopub.status.idle": "2022-09-27T22:02:11.332236Z",
     "shell.execute_reply": "2022-09-27T22:02:11.331163Z"
    },
    "jupyter": {
     "outputs_hidden": false
    },
    "papermill": {
     "duration": 0.043,
     "end_time": "2022-09-27T22:02:11.334392",
     "exception": false,
     "start_time": "2022-09-27T22:02:11.291392",
     "status": "completed"
    },
    "tags": []
   },
   "outputs": [
    {
     "data": {
      "text/plain": [
       "LinearRegression()"
      ]
     },
     "execution_count": 20,
     "metadata": {},
     "output_type": "execute_result"
    }
   ],
   "source": [
    "LR.fit(X_train, y_train)"
   ]
  },
  {
   "cell_type": "code",
   "execution_count": 21,
   "id": "d5eda153",
   "metadata": {
    "_cell_guid": "31b8c3bd-3793-493a-a328-6d2a32efe2a9",
    "_uuid": "f27359ee-189f-4579-9493-f7ba484a8505",
    "collapsed": false,
    "execution": {
     "iopub.execute_input": "2022-09-27T22:02:11.353445Z",
     "iopub.status.busy": "2022-09-27T22:02:11.353089Z",
     "iopub.status.idle": "2022-09-27T22:02:11.360155Z",
     "shell.execute_reply": "2022-09-27T22:02:11.358795Z"
    },
    "jupyter": {
     "outputs_hidden": false
    },
    "papermill": {
     "duration": 0.019667,
     "end_time": "2022-09-27T22:02:11.362840",
     "exception": false,
     "start_time": "2022-09-27T22:02:11.343173",
     "status": "completed"
    },
    "tags": []
   },
   "outputs": [],
   "source": [
    "pred = LR.predict(X_train)"
   ]
  },
  {
   "cell_type": "code",
   "execution_count": 22,
   "id": "d927cb28",
   "metadata": {
    "execution": {
     "iopub.execute_input": "2022-09-27T22:02:11.381992Z",
     "iopub.status.busy": "2022-09-27T22:02:11.381655Z",
     "iopub.status.idle": "2022-09-27T22:02:11.386013Z",
     "shell.execute_reply": "2022-09-27T22:02:11.385128Z"
    },
    "papermill": {
     "duration": 0.015803,
     "end_time": "2022-09-27T22:02:11.387762",
     "exception": false,
     "start_time": "2022-09-27T22:02:11.371959",
     "status": "completed"
    },
    "tags": []
   },
   "outputs": [],
   "source": [
    "from sklearn.metrics import mean_squared_error,r2_score"
   ]
  },
  {
   "cell_type": "code",
   "execution_count": 23,
   "id": "3177e20c",
   "metadata": {
    "_cell_guid": "138452f7-ede1-4386-b6f4-26b87dc24bda",
    "_uuid": "15a0d3b5-20c2-49e6-aee1-d068e15f6234",
    "collapsed": false,
    "execution": {
     "iopub.execute_input": "2022-09-27T22:02:11.407980Z",
     "iopub.status.busy": "2022-09-27T22:02:11.407078Z",
     "iopub.status.idle": "2022-09-27T22:02:11.413575Z",
     "shell.execute_reply": "2022-09-27T22:02:11.412766Z"
    },
    "jupyter": {
     "outputs_hidden": false
    },
    "papermill": {
     "duration": 0.019833,
     "end_time": "2022-09-27T22:02:11.415795",
     "exception": false,
     "start_time": "2022-09-27T22:02:11.395962",
     "status": "completed"
    },
    "tags": []
   },
   "outputs": [
    {
     "data": {
      "text/plain": [
       "767408.9969051768"
      ]
     },
     "execution_count": 23,
     "metadata": {},
     "output_type": "execute_result"
    }
   ],
   "source": [
    "mean_squared_error(y_train, pred)"
   ]
  },
  {
   "cell_type": "code",
   "execution_count": 24,
   "id": "8fc06a6c",
   "metadata": {
    "_cell_guid": "6fab633d-fb85-499b-a3ad-562a0c1fd422",
    "_uuid": "24b978a6-b3b0-4ad2-9277-591433a71fdf",
    "collapsed": false,
    "execution": {
     "iopub.execute_input": "2022-09-27T22:02:11.434940Z",
     "iopub.status.busy": "2022-09-27T22:02:11.434642Z",
     "iopub.status.idle": "2022-09-27T22:02:11.439995Z",
     "shell.execute_reply": "2022-09-27T22:02:11.439252Z"
    },
    "jupyter": {
     "outputs_hidden": false
    },
    "papermill": {
     "duration": 0.016351,
     "end_time": "2022-09-27T22:02:11.441649",
     "exception": false,
     "start_time": "2022-09-27T22:02:11.425298",
     "status": "completed"
    },
    "tags": []
   },
   "outputs": [
    {
     "data": {
      "text/plain": [
       "0.7891098322665724"
      ]
     },
     "execution_count": 24,
     "metadata": {},
     "output_type": "execute_result"
    }
   ],
   "source": [
    "r2_score(y_train, pred)"
   ]
  },
  {
   "cell_type": "code",
   "execution_count": 25,
   "id": "a5e45454",
   "metadata": {
    "_cell_guid": "1103ebfd-5b43-410a-b9e2-f1451641d0c4",
    "_uuid": "3ed5fd52-3240-4b3a-939b-c08e9b301e2e",
    "collapsed": false,
    "execution": {
     "iopub.execute_input": "2022-09-27T22:02:11.459849Z",
     "iopub.status.busy": "2022-09-27T22:02:11.459334Z",
     "iopub.status.idle": "2022-09-27T22:02:11.465594Z",
     "shell.execute_reply": "2022-09-27T22:02:11.464818Z"
    },
    "jupyter": {
     "outputs_hidden": false
    },
    "papermill": {
     "duration": 0.017299,
     "end_time": "2022-09-27T22:02:11.467276",
     "exception": false,
     "start_time": "2022-09-27T22:02:11.449977",
     "status": "completed"
    },
    "tags": []
   },
   "outputs": [],
   "source": [
    "y_pred = LR.predict(X_test)"
   ]
  },
  {
   "cell_type": "code",
   "execution_count": 26,
   "id": "0c22d293",
   "metadata": {
    "_cell_guid": "0da80469-0753-4ad7-aa41-454724050843",
    "_uuid": "1ef2e5e2-8418-43e0-8697-a72ad6d65f8f",
    "collapsed": false,
    "execution": {
     "iopub.execute_input": "2022-09-27T22:02:11.485592Z",
     "iopub.status.busy": "2022-09-27T22:02:11.485248Z",
     "iopub.status.idle": "2022-09-27T22:02:11.491504Z",
     "shell.execute_reply": "2022-09-27T22:02:11.490734Z"
    },
    "jupyter": {
     "outputs_hidden": false
    },
    "papermill": {
     "duration": 0.017461,
     "end_time": "2022-09-27T22:02:11.493055",
     "exception": false,
     "start_time": "2022-09-27T22:02:11.475594",
     "status": "completed"
    },
    "tags": []
   },
   "outputs": [
    {
     "data": {
      "text/plain": [
       "751126.2310636705"
      ]
     },
     "execution_count": 26,
     "metadata": {},
     "output_type": "execute_result"
    }
   ],
   "source": [
    "mean_squared_error(y_test, y_pred)"
   ]
  },
  {
   "cell_type": "code",
   "execution_count": 27,
   "id": "7cd6f565",
   "metadata": {
    "_cell_guid": "a8435401-5e4c-430d-b807-2f4eb29f8f30",
    "_uuid": "4c590e5c-03c7-4e4c-8a2b-b09d57e17a24",
    "collapsed": false,
    "execution": {
     "iopub.execute_input": "2022-09-27T22:02:11.510800Z",
     "iopub.status.busy": "2022-09-27T22:02:11.510504Z",
     "iopub.status.idle": "2022-09-27T22:02:11.516770Z",
     "shell.execute_reply": "2022-09-27T22:02:11.515959Z"
    },
    "jupyter": {
     "outputs_hidden": false
    },
    "papermill": {
     "duration": 0.017912,
     "end_time": "2022-09-27T22:02:11.519225",
     "exception": false,
     "start_time": "2022-09-27T22:02:11.501313",
     "status": "completed"
    },
    "tags": []
   },
   "outputs": [
    {
     "data": {
      "text/plain": [
       "0.811225776607647"
      ]
     },
     "execution_count": 27,
     "metadata": {},
     "output_type": "execute_result"
    }
   ],
   "source": [
    "r2_score(y_test,y_pred)"
   ]
  },
  {
   "cell_type": "code",
   "execution_count": 28,
   "id": "da335350",
   "metadata": {
    "_cell_guid": "bba1bd91-cca0-4bb6-b9e2-6ebb7751d6e9",
    "_uuid": "303ac0d8-c25e-4904-b6aa-377f910fea48",
    "collapsed": false,
    "execution": {
     "iopub.execute_input": "2022-09-27T22:02:11.543543Z",
     "iopub.status.busy": "2022-09-27T22:02:11.543115Z",
     "iopub.status.idle": "2022-09-27T22:02:11.549277Z",
     "shell.execute_reply": "2022-09-27T22:02:11.548499Z"
    },
    "jupyter": {
     "outputs_hidden": false
    },
    "papermill": {
     "duration": 0.019364,
     "end_time": "2022-09-27T22:02:11.550994",
     "exception": false,
     "start_time": "2022-09-27T22:02:11.531630",
     "status": "completed"
    },
    "tags": []
   },
   "outputs": [
    {
     "data": {
      "text/plain": [
       "array([  532.81457002,  1981.84189358,   -45.73568804,  -386.37928782,\n",
       "          68.41529588,   161.51159788,  -598.60038909, -2463.45125556,\n",
       "        8751.38948003,  -965.27937163, -1956.16024225])"
      ]
     },
     "execution_count": 28,
     "metadata": {},
     "output_type": "execute_result"
    }
   ],
   "source": [
    "LR.coef_"
   ]
  },
  {
   "cell_type": "markdown",
   "id": "aa1d819b",
   "metadata": {
    "_cell_guid": "a0a2b805-7db3-4fb9-b640-2b80a2af8e33",
    "_uuid": "562b49b1-533c-4472-afd1-25fcb73d2edf",
    "papermill": {
     "duration": 0.008704,
     "end_time": "2022-09-27T22:02:11.570314",
     "exception": false,
     "start_time": "2022-09-27T22:02:11.561610",
     "status": "completed"
    },
    "tags": []
   },
   "source": [
    "**Year & Holiday** these are the features which have significant contribution. **The model is perfectly fitting the dataset.**"
   ]
  },
  {
   "cell_type": "code",
   "execution_count": null,
   "id": "a8bd76b5",
   "metadata": {
    "papermill": {
     "duration": 0.0096,
     "end_time": "2022-09-27T22:02:11.588664",
     "exception": false,
     "start_time": "2022-09-27T22:02:11.579064",
     "status": "completed"
    },
    "tags": []
   },
   "outputs": [],
   "source": []
  }
 ],
 "metadata": {
  "kernelspec": {
   "display_name": "Python 3",
   "language": "python",
   "name": "python3"
  },
  "language_info": {
   "codemirror_mode": {
    "name": "ipython",
    "version": 3
   },
   "file_extension": ".py",
   "mimetype": "text/x-python",
   "name": "python",
   "nbconvert_exporter": "python",
   "pygments_lexer": "ipython3",
   "version": "3.7.12"
  },
  "papermill": {
   "default_parameters": {},
   "duration": 10.225513,
   "end_time": "2022-09-27T22:02:12.316842",
   "environment_variables": {},
   "exception": null,
   "input_path": "__notebook__.ipynb",
   "output_path": "__notebook__.ipynb",
   "parameters": {},
   "start_time": "2022-09-27T22:02:02.091329",
   "version": "2.3.4"
  }
 },
 "nbformat": 4,
 "nbformat_minor": 5
}
