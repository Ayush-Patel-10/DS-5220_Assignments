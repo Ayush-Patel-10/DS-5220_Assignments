{
 "cells": [
  {
   "cell_type": "code",
   "execution_count": 1,
   "id": "a5b1493b",
   "metadata": {
    "_cell_guid": "7754c37c-cac3-41db-a751-9411d740a623",
    "_uuid": "d1915725-acd3-4f7e-b399-56c66192534c",
    "collapsed": false,
    "execution": {
     "iopub.execute_input": "2022-09-29T21:27:32.432538Z",
     "iopub.status.busy": "2022-09-29T21:27:32.431379Z",
     "iopub.status.idle": "2022-09-29T21:27:32.454155Z",
     "shell.execute_reply": "2022-09-29T21:27:32.453289Z"
    },
    "jupyter": {
     "outputs_hidden": false
    },
    "papermill": {
     "duration": 0.037719,
     "end_time": "2022-09-29T21:27:32.457394",
     "exception": false,
     "start_time": "2022-09-29T21:27:32.419675",
     "status": "completed"
    },
    "tags": []
   },
   "outputs": [
    {
     "name": "stdout",
     "output_type": "stream",
     "text": [
      "/kaggle/input/bike-sharing-dataset/hour.csv\n",
      "/kaggle/input/bike-sharing-dataset/Readme.txt\n",
      "/kaggle/input/bike-sharing-dataset/day.csv\n",
      "/kaggle/input/bike-sharing-dataset/bike-sharing-dataset/hour.csv\n",
      "/kaggle/input/bike-sharing-dataset/bike-sharing-dataset/Readme.txt\n",
      "/kaggle/input/bike-sharing-dataset/bike-sharing-dataset/day.csv\n"
     ]
    }
   ],
   "source": [
    "# This Python 3 environment comes with many helpful analytics libraries installed\n",
    "# It is defined by the kaggle/python Docker image: https://github.com/kaggle/docker-python\n",
    "# For example, here's several helpful packages to load\n",
    "\n",
    "import numpy as np # linear algebra\n",
    "import pandas as pd # data processing, CSV file I/O (e.g. pd.read_csv)\n",
    "\n",
    "# Input data files are available in the read-only \"../input/\" directory\n",
    "# For example, running this (by clicking run or pressing Shift+Enter) will list all files under the input directory\n",
    "\n",
    "import os\n",
    "for dirname, _, filenames in os.walk('/kaggle/input'):\n",
    "    for filename in filenames:\n",
    "        print(os.path.join(dirname, filename))\n",
    "\n",
    "# You can write up to 20GB to the current directory (/kaggle/working/) that gets preserved as output when you create a version using \"Save & Run All\" \n",
    "# You can also write temporary files to /kaggle/temp/, but they won't be saved outside of the current session"
   ]
  },
  {
   "cell_type": "code",
   "execution_count": 2,
   "id": "6e05cc89",
   "metadata": {
    "execution": {
     "iopub.execute_input": "2022-09-29T21:27:32.477452Z",
     "iopub.status.busy": "2022-09-29T21:27:32.476723Z",
     "iopub.status.idle": "2022-09-29T21:27:33.540097Z",
     "shell.execute_reply": "2022-09-29T21:27:33.538885Z"
    },
    "papermill": {
     "duration": 1.076056,
     "end_time": "2022-09-29T21:27:33.543040",
     "exception": false,
     "start_time": "2022-09-29T21:27:32.466984",
     "status": "completed"
    },
    "tags": []
   },
   "outputs": [],
   "source": [
    "from numpy import argmax\n",
    "from sklearn.preprocessing import LabelEncoder\n",
    "from sklearn.preprocessing import OneHotEncoder"
   ]
  },
  {
   "cell_type": "code",
   "execution_count": 3,
   "id": "1d11350b",
   "metadata": {
    "_cell_guid": "6e425efa-7eed-4396-a3c0-3ad477f7d8ec",
    "_uuid": "304c716b-f1c2-4e4c-9f61-a7468fc9ceaf",
    "collapsed": false,
    "execution": {
     "iopub.execute_input": "2022-09-29T21:27:33.562467Z",
     "iopub.status.busy": "2022-09-29T21:27:33.561987Z",
     "iopub.status.idle": "2022-09-29T21:27:33.582489Z",
     "shell.execute_reply": "2022-09-29T21:27:33.581288Z"
    },
    "jupyter": {
     "outputs_hidden": false
    },
    "papermill": {
     "duration": 0.033436,
     "end_time": "2022-09-29T21:27:33.585489",
     "exception": false,
     "start_time": "2022-09-29T21:27:33.552053",
     "status": "completed"
    },
    "tags": []
   },
   "outputs": [],
   "source": [
    "df = pd.read_csv(\"../input/bike-sharing-dataset/day.csv\")"
   ]
  },
  {
   "cell_type": "code",
   "execution_count": 4,
   "id": "e07f89c9",
   "metadata": {
    "_cell_guid": "bb5f6659-f8cb-4e8e-b5b3-440b741b95aa",
    "_uuid": "37a3a90f-ade8-4efb-91d1-13ccaec7e3ff",
    "collapsed": false,
    "execution": {
     "iopub.execute_input": "2022-09-29T21:27:33.604487Z",
     "iopub.status.busy": "2022-09-29T21:27:33.604051Z",
     "iopub.status.idle": "2022-09-29T21:27:33.629776Z",
     "shell.execute_reply": "2022-09-29T21:27:33.628573Z"
    },
    "jupyter": {
     "outputs_hidden": false
    },
    "papermill": {
     "duration": 0.038221,
     "end_time": "2022-09-29T21:27:33.632264",
     "exception": false,
     "start_time": "2022-09-29T21:27:33.594043",
     "status": "completed"
    },
    "tags": []
   },
   "outputs": [
    {
     "data": {
      "text/html": [
       "<div>\n",
       "<style scoped>\n",
       "    .dataframe tbody tr th:only-of-type {\n",
       "        vertical-align: middle;\n",
       "    }\n",
       "\n",
       "    .dataframe tbody tr th {\n",
       "        vertical-align: top;\n",
       "    }\n",
       "\n",
       "    .dataframe thead th {\n",
       "        text-align: right;\n",
       "    }\n",
       "</style>\n",
       "<table border=\"1\" class=\"dataframe\">\n",
       "  <thead>\n",
       "    <tr style=\"text-align: right;\">\n",
       "      <th></th>\n",
       "      <th>instant</th>\n",
       "      <th>dteday</th>\n",
       "      <th>season</th>\n",
       "      <th>yr</th>\n",
       "      <th>mnth</th>\n",
       "      <th>holiday</th>\n",
       "      <th>weekday</th>\n",
       "      <th>workingday</th>\n",
       "      <th>weathersit</th>\n",
       "      <th>temp</th>\n",
       "      <th>atemp</th>\n",
       "      <th>hum</th>\n",
       "      <th>windspeed</th>\n",
       "      <th>casual</th>\n",
       "      <th>registered</th>\n",
       "      <th>cnt</th>\n",
       "    </tr>\n",
       "  </thead>\n",
       "  <tbody>\n",
       "    <tr>\n",
       "      <th>0</th>\n",
       "      <td>1</td>\n",
       "      <td>2011-01-01</td>\n",
       "      <td>1</td>\n",
       "      <td>0</td>\n",
       "      <td>1</td>\n",
       "      <td>0</td>\n",
       "      <td>6</td>\n",
       "      <td>0</td>\n",
       "      <td>2</td>\n",
       "      <td>0.344167</td>\n",
       "      <td>0.363625</td>\n",
       "      <td>0.805833</td>\n",
       "      <td>0.160446</td>\n",
       "      <td>331</td>\n",
       "      <td>654</td>\n",
       "      <td>985</td>\n",
       "    </tr>\n",
       "    <tr>\n",
       "      <th>1</th>\n",
       "      <td>2</td>\n",
       "      <td>2011-01-02</td>\n",
       "      <td>1</td>\n",
       "      <td>0</td>\n",
       "      <td>1</td>\n",
       "      <td>0</td>\n",
       "      <td>0</td>\n",
       "      <td>0</td>\n",
       "      <td>2</td>\n",
       "      <td>0.363478</td>\n",
       "      <td>0.353739</td>\n",
       "      <td>0.696087</td>\n",
       "      <td>0.248539</td>\n",
       "      <td>131</td>\n",
       "      <td>670</td>\n",
       "      <td>801</td>\n",
       "    </tr>\n",
       "    <tr>\n",
       "      <th>2</th>\n",
       "      <td>3</td>\n",
       "      <td>2011-01-03</td>\n",
       "      <td>1</td>\n",
       "      <td>0</td>\n",
       "      <td>1</td>\n",
       "      <td>0</td>\n",
       "      <td>1</td>\n",
       "      <td>1</td>\n",
       "      <td>1</td>\n",
       "      <td>0.196364</td>\n",
       "      <td>0.189405</td>\n",
       "      <td>0.437273</td>\n",
       "      <td>0.248309</td>\n",
       "      <td>120</td>\n",
       "      <td>1229</td>\n",
       "      <td>1349</td>\n",
       "    </tr>\n",
       "    <tr>\n",
       "      <th>3</th>\n",
       "      <td>4</td>\n",
       "      <td>2011-01-04</td>\n",
       "      <td>1</td>\n",
       "      <td>0</td>\n",
       "      <td>1</td>\n",
       "      <td>0</td>\n",
       "      <td>2</td>\n",
       "      <td>1</td>\n",
       "      <td>1</td>\n",
       "      <td>0.200000</td>\n",
       "      <td>0.212122</td>\n",
       "      <td>0.590435</td>\n",
       "      <td>0.160296</td>\n",
       "      <td>108</td>\n",
       "      <td>1454</td>\n",
       "      <td>1562</td>\n",
       "    </tr>\n",
       "    <tr>\n",
       "      <th>4</th>\n",
       "      <td>5</td>\n",
       "      <td>2011-01-05</td>\n",
       "      <td>1</td>\n",
       "      <td>0</td>\n",
       "      <td>1</td>\n",
       "      <td>0</td>\n",
       "      <td>3</td>\n",
       "      <td>1</td>\n",
       "      <td>1</td>\n",
       "      <td>0.226957</td>\n",
       "      <td>0.229270</td>\n",
       "      <td>0.436957</td>\n",
       "      <td>0.186900</td>\n",
       "      <td>82</td>\n",
       "      <td>1518</td>\n",
       "      <td>1600</td>\n",
       "    </tr>\n",
       "  </tbody>\n",
       "</table>\n",
       "</div>"
      ],
      "text/plain": [
       "   instant      dteday  season  yr  mnth  holiday  weekday  workingday  \\\n",
       "0        1  2011-01-01       1   0     1        0        6           0   \n",
       "1        2  2011-01-02       1   0     1        0        0           0   \n",
       "2        3  2011-01-03       1   0     1        0        1           1   \n",
       "3        4  2011-01-04       1   0     1        0        2           1   \n",
       "4        5  2011-01-05       1   0     1        0        3           1   \n",
       "\n",
       "   weathersit      temp     atemp       hum  windspeed  casual  registered  \\\n",
       "0           2  0.344167  0.363625  0.805833   0.160446     331         654   \n",
       "1           2  0.363478  0.353739  0.696087   0.248539     131         670   \n",
       "2           1  0.196364  0.189405  0.437273   0.248309     120        1229   \n",
       "3           1  0.200000  0.212122  0.590435   0.160296     108        1454   \n",
       "4           1  0.226957  0.229270  0.436957   0.186900      82        1518   \n",
       "\n",
       "    cnt  \n",
       "0   985  \n",
       "1   801  \n",
       "2  1349  \n",
       "3  1562  \n",
       "4  1600  "
      ]
     },
     "execution_count": 4,
     "metadata": {},
     "output_type": "execute_result"
    }
   ],
   "source": [
    "df.head()"
   ]
  },
  {
   "cell_type": "code",
   "execution_count": 5,
   "id": "faa7f4be",
   "metadata": {
    "_cell_guid": "21d1485a-1cc5-4a19-8b61-a3224156fe31",
    "_uuid": "2bcc139d-d84e-4c87-83d5-e25f9bd22d14",
    "collapsed": false,
    "execution": {
     "iopub.execute_input": "2022-09-29T21:27:33.651793Z",
     "iopub.status.busy": "2022-09-29T21:27:33.651364Z",
     "iopub.status.idle": "2022-09-29T21:27:33.658628Z",
     "shell.execute_reply": "2022-09-29T21:27:33.657495Z"
    },
    "jupyter": {
     "outputs_hidden": false
    },
    "papermill": {
     "duration": 0.019391,
     "end_time": "2022-09-29T21:27:33.660752",
     "exception": false,
     "start_time": "2022-09-29T21:27:33.641361",
     "status": "completed"
    },
    "tags": []
   },
   "outputs": [
    {
     "data": {
      "text/plain": [
       "Index(['instant', 'dteday', 'season', 'yr', 'mnth', 'holiday', 'weekday',\n",
       "       'workingday', 'weathersit', 'temp', 'atemp', 'hum', 'windspeed',\n",
       "       'casual', 'registered', 'cnt'],\n",
       "      dtype='object')"
      ]
     },
     "execution_count": 5,
     "metadata": {},
     "output_type": "execute_result"
    }
   ],
   "source": [
    "df.columns"
   ]
  },
  {
   "cell_type": "code",
   "execution_count": 6,
   "id": "801cba14",
   "metadata": {
    "_cell_guid": "2b6b464d-7d10-49a3-8aa3-bcb863e2b9f1",
    "_uuid": "b87f031a-4cef-40da-abc0-b60c77923a1f",
    "collapsed": false,
    "execution": {
     "iopub.execute_input": "2022-09-29T21:27:33.682852Z",
     "iopub.status.busy": "2022-09-29T21:27:33.681846Z",
     "iopub.status.idle": "2022-09-29T21:27:33.693949Z",
     "shell.execute_reply": "2022-09-29T21:27:33.692777Z"
    },
    "jupyter": {
     "outputs_hidden": false
    },
    "papermill": {
     "duration": 0.024992,
     "end_time": "2022-09-29T21:27:33.696265",
     "exception": false,
     "start_time": "2022-09-29T21:27:33.671273",
     "status": "completed"
    },
    "tags": []
   },
   "outputs": [],
   "source": [
    "df.drop(['instant', 'dteday'], inplace=True ,axis=1)"
   ]
  },
  {
   "cell_type": "code",
   "execution_count": 7,
   "id": "4d6845a2",
   "metadata": {
    "_cell_guid": "b17ee383-55e6-41bc-9b0a-37bb7441fdfb",
    "_uuid": "e1bc743e-4617-45e2-acab-4f5d699c0bd4",
    "collapsed": false,
    "execution": {
     "iopub.execute_input": "2022-09-29T21:27:33.716479Z",
     "iopub.status.busy": "2022-09-29T21:27:33.715718Z",
     "iopub.status.idle": "2022-09-29T21:27:33.733054Z",
     "shell.execute_reply": "2022-09-29T21:27:33.731274Z"
    },
    "jupyter": {
     "outputs_hidden": false
    },
    "papermill": {
     "duration": 0.030974,
     "end_time": "2022-09-29T21:27:33.736374",
     "exception": false,
     "start_time": "2022-09-29T21:27:33.705400",
     "status": "completed"
    },
    "tags": []
   },
   "outputs": [
    {
     "name": "stdout",
     "output_type": "stream",
     "text": [
      "season        0.406100\n",
      "yr            0.566710\n",
      "mnth          0.279977\n",
      "holiday      -0.068348\n",
      "weekday       0.067443\n",
      "workingday    0.061156\n",
      "weathersit   -0.297391\n",
      "temp          0.627494\n",
      "atemp         0.631066\n",
      "hum          -0.100659\n",
      "windspeed    -0.234545\n",
      "casual        0.672804\n",
      "registered    0.945517\n",
      "cnt           1.000000\n",
      "dtype: float64\n"
     ]
    }
   ],
   "source": [
    "correlations = df.corrwith(df['cnt'])\n",
    "print(correlations)"
   ]
  },
  {
   "cell_type": "markdown",
   "id": "5608745d",
   "metadata": {
    "_cell_guid": "8aba4077-ca1d-4984-ab9d-cd3da0a8b987",
    "_uuid": "6dfe76cf-8efb-4865-aa4a-a26964bd05bc",
    "papermill": {
     "duration": 0.008775,
     "end_time": "2022-09-29T21:27:33.754519",
     "exception": false,
     "start_time": "2022-09-29T21:27:33.745744",
     "status": "completed"
    },
    "tags": []
   },
   "source": [
    "Features with positive correlation are: \n",
    "* **season**\n",
    "* **yr**: year\n",
    "* **mnth**: mmonths\n",
    "* **weekday**: days of the week\n",
    "* **workingday**: whether the day is neither a weekend nor holiday\n",
    "* **temp**: temperature in Celsius\n",
    "* **atemp**: \"feels like\" temperature in Celsius\n",
    "* **casual**: number of non-registered user rentals initiated\n",
    "* **registered**: number of registered user rentals initiated\n",
    "\n",
    "The feature with highest correlation is **'registered'**."
   ]
  },
  {
   "cell_type": "markdown",
   "id": "28e68291",
   "metadata": {
    "_cell_guid": "01170ec7-7229-419f-8875-4419f9890731",
    "_uuid": "c7bc3fd5-ea51-43e0-a449-3b6ae3d2272e",
    "papermill": {
     "duration": 0.008655,
     "end_time": "2022-09-29T21:27:33.772207",
     "exception": false,
     "start_time": "2022-09-29T21:27:33.763552",
     "status": "completed"
    },
    "tags": []
   },
   "source": [
    "Features with negative correlation are: \n",
    "* **holiday**: whether the day is considered a holiday\n",
    "* **weathersit**\n",
    "* **hum**: humidity\n",
    "* **windspeed**"
   ]
  },
  {
   "cell_type": "code",
   "execution_count": 8,
   "id": "d605e001",
   "metadata": {
    "execution": {
     "iopub.execute_input": "2022-09-29T21:27:33.792564Z",
     "iopub.status.busy": "2022-09-29T21:27:33.791579Z",
     "iopub.status.idle": "2022-09-29T21:27:33.800892Z",
     "shell.execute_reply": "2022-09-29T21:27:33.799678Z"
    },
    "papermill": {
     "duration": 0.022129,
     "end_time": "2022-09-29T21:27:33.803393",
     "exception": false,
     "start_time": "2022-09-29T21:27:33.781264",
     "status": "completed"
    },
    "tags": []
   },
   "outputs": [],
   "source": [
    "df.drop(['casual', 'registered'], inplace=True ,axis=1)"
   ]
  },
  {
   "cell_type": "code",
   "execution_count": 9,
   "id": "e687b9e2",
   "metadata": {
    "execution": {
     "iopub.execute_input": "2022-09-29T21:27:33.823500Z",
     "iopub.status.busy": "2022-09-29T21:27:33.822921Z",
     "iopub.status.idle": "2022-09-29T21:27:33.839144Z",
     "shell.execute_reply": "2022-09-29T21:27:33.837719Z"
    },
    "papermill": {
     "duration": 0.02968,
     "end_time": "2022-09-29T21:27:33.842264",
     "exception": false,
     "start_time": "2022-09-29T21:27:33.812584",
     "status": "completed"
    },
    "tags": []
   },
   "outputs": [
    {
     "data": {
      "text/html": [
       "<div>\n",
       "<style scoped>\n",
       "    .dataframe tbody tr th:only-of-type {\n",
       "        vertical-align: middle;\n",
       "    }\n",
       "\n",
       "    .dataframe tbody tr th {\n",
       "        vertical-align: top;\n",
       "    }\n",
       "\n",
       "    .dataframe thead th {\n",
       "        text-align: right;\n",
       "    }\n",
       "</style>\n",
       "<table border=\"1\" class=\"dataframe\">\n",
       "  <thead>\n",
       "    <tr style=\"text-align: right;\">\n",
       "      <th></th>\n",
       "      <th>season</th>\n",
       "      <th>yr</th>\n",
       "      <th>mnth</th>\n",
       "      <th>holiday</th>\n",
       "      <th>weekday</th>\n",
       "      <th>workingday</th>\n",
       "      <th>weathersit</th>\n",
       "      <th>temp</th>\n",
       "      <th>atemp</th>\n",
       "      <th>hum</th>\n",
       "      <th>windspeed</th>\n",
       "      <th>cnt</th>\n",
       "    </tr>\n",
       "  </thead>\n",
       "  <tbody>\n",
       "    <tr>\n",
       "      <th>0</th>\n",
       "      <td>1</td>\n",
       "      <td>0</td>\n",
       "      <td>1</td>\n",
       "      <td>0</td>\n",
       "      <td>6</td>\n",
       "      <td>0</td>\n",
       "      <td>2</td>\n",
       "      <td>0.344167</td>\n",
       "      <td>0.363625</td>\n",
       "      <td>0.805833</td>\n",
       "      <td>0.160446</td>\n",
       "      <td>985</td>\n",
       "    </tr>\n",
       "    <tr>\n",
       "      <th>1</th>\n",
       "      <td>1</td>\n",
       "      <td>0</td>\n",
       "      <td>1</td>\n",
       "      <td>0</td>\n",
       "      <td>0</td>\n",
       "      <td>0</td>\n",
       "      <td>2</td>\n",
       "      <td>0.363478</td>\n",
       "      <td>0.353739</td>\n",
       "      <td>0.696087</td>\n",
       "      <td>0.248539</td>\n",
       "      <td>801</td>\n",
       "    </tr>\n",
       "    <tr>\n",
       "      <th>2</th>\n",
       "      <td>1</td>\n",
       "      <td>0</td>\n",
       "      <td>1</td>\n",
       "      <td>0</td>\n",
       "      <td>1</td>\n",
       "      <td>1</td>\n",
       "      <td>1</td>\n",
       "      <td>0.196364</td>\n",
       "      <td>0.189405</td>\n",
       "      <td>0.437273</td>\n",
       "      <td>0.248309</td>\n",
       "      <td>1349</td>\n",
       "    </tr>\n",
       "    <tr>\n",
       "      <th>3</th>\n",
       "      <td>1</td>\n",
       "      <td>0</td>\n",
       "      <td>1</td>\n",
       "      <td>0</td>\n",
       "      <td>2</td>\n",
       "      <td>1</td>\n",
       "      <td>1</td>\n",
       "      <td>0.200000</td>\n",
       "      <td>0.212122</td>\n",
       "      <td>0.590435</td>\n",
       "      <td>0.160296</td>\n",
       "      <td>1562</td>\n",
       "    </tr>\n",
       "    <tr>\n",
       "      <th>4</th>\n",
       "      <td>1</td>\n",
       "      <td>0</td>\n",
       "      <td>1</td>\n",
       "      <td>0</td>\n",
       "      <td>3</td>\n",
       "      <td>1</td>\n",
       "      <td>1</td>\n",
       "      <td>0.226957</td>\n",
       "      <td>0.229270</td>\n",
       "      <td>0.436957</td>\n",
       "      <td>0.186900</td>\n",
       "      <td>1600</td>\n",
       "    </tr>\n",
       "  </tbody>\n",
       "</table>\n",
       "</div>"
      ],
      "text/plain": [
       "   season  yr  mnth  holiday  weekday  workingday  weathersit      temp  \\\n",
       "0       1   0     1        0        6           0           2  0.344167   \n",
       "1       1   0     1        0        0           0           2  0.363478   \n",
       "2       1   0     1        0        1           1           1  0.196364   \n",
       "3       1   0     1        0        2           1           1  0.200000   \n",
       "4       1   0     1        0        3           1           1  0.226957   \n",
       "\n",
       "      atemp       hum  windspeed   cnt  \n",
       "0  0.363625  0.805833   0.160446   985  \n",
       "1  0.353739  0.696087   0.248539   801  \n",
       "2  0.189405  0.437273   0.248309  1349  \n",
       "3  0.212122  0.590435   0.160296  1562  \n",
       "4  0.229270  0.436957   0.186900  1600  "
      ]
     },
     "execution_count": 9,
     "metadata": {},
     "output_type": "execute_result"
    }
   ],
   "source": [
    "df.head()\n"
   ]
  },
  {
   "cell_type": "code",
   "execution_count": 10,
   "id": "f80d4657",
   "metadata": {
    "execution": {
     "iopub.execute_input": "2022-09-29T21:27:33.864886Z",
     "iopub.status.busy": "2022-09-29T21:27:33.863697Z",
     "iopub.status.idle": "2022-09-29T21:27:34.078785Z",
     "shell.execute_reply": "2022-09-29T21:27:34.077777Z"
    },
    "papermill": {
     "duration": 0.228929,
     "end_time": "2022-09-29T21:27:34.081539",
     "exception": false,
     "start_time": "2022-09-29T21:27:33.852610",
     "status": "completed"
    },
    "tags": []
   },
   "outputs": [],
   "source": [
    "import category_encoders as ce"
   ]
  },
  {
   "cell_type": "code",
   "execution_count": 11,
   "id": "282715ee",
   "metadata": {
    "execution": {
     "iopub.execute_input": "2022-09-29T21:27:34.102152Z",
     "iopub.status.busy": "2022-09-29T21:27:34.101715Z",
     "iopub.status.idle": "2022-09-29T21:27:34.107806Z",
     "shell.execute_reply": "2022-09-29T21:27:34.106310Z"
    },
    "papermill": {
     "duration": 0.019517,
     "end_time": "2022-09-29T21:27:34.110490",
     "exception": false,
     "start_time": "2022-09-29T21:27:34.090973",
     "status": "completed"
    },
    "tags": []
   },
   "outputs": [],
   "source": [
    "encoder = ce.OneHotEncoder(cols=('season','yr','mnth','holiday','weekday','weathersit'), use_cat_names = True)"
   ]
  },
  {
   "cell_type": "code",
   "execution_count": 12,
   "id": "a99b5430",
   "metadata": {
    "_cell_guid": "3ce10598-fcb0-4fd7-9c24-fa3b2502afb3",
    "_uuid": "823c1808-d019-4fde-aee6-e91fbb374e5a",
    "collapsed": false,
    "execution": {
     "iopub.execute_input": "2022-09-29T21:27:34.131911Z",
     "iopub.status.busy": "2022-09-29T21:27:34.130778Z",
     "iopub.status.idle": "2022-09-29T21:27:34.192472Z",
     "shell.execute_reply": "2022-09-29T21:27:34.191214Z"
    },
    "jupyter": {
     "outputs_hidden": false
    },
    "papermill": {
     "duration": 0.075269,
     "end_time": "2022-09-29T21:27:34.195393",
     "exception": false,
     "start_time": "2022-09-29T21:27:34.120124",
     "status": "completed"
    },
    "tags": []
   },
   "outputs": [],
   "source": [
    "from sklearn.model_selection import train_test_split\n"
   ]
  },
  {
   "cell_type": "code",
   "execution_count": 13,
   "id": "778c12c1",
   "metadata": {
    "execution": {
     "iopub.execute_input": "2022-09-29T21:27:34.215974Z",
     "iopub.status.busy": "2022-09-29T21:27:34.215545Z",
     "iopub.status.idle": "2022-09-29T21:27:34.303493Z",
     "shell.execute_reply": "2022-09-29T21:27:34.302412Z"
    },
    "papermill": {
     "duration": 0.101412,
     "end_time": "2022-09-29T21:27:34.306220",
     "exception": false,
     "start_time": "2022-09-29T21:27:34.204808",
     "status": "completed"
    },
    "tags": []
   },
   "outputs": [],
   "source": [
    "encoded = encoder.fit_transform(df)\n",
    "new_df = pd.concat([df.drop(['season','yr','mnth','holiday','weekday','weathersit'],axis=1),encoded],axis=1)"
   ]
  },
  {
   "cell_type": "code",
   "execution_count": 14,
   "id": "b00bf1b1",
   "metadata": {
    "execution": {
     "iopub.execute_input": "2022-09-29T21:27:34.326953Z",
     "iopub.status.busy": "2022-09-29T21:27:34.326546Z",
     "iopub.status.idle": "2022-09-29T21:27:34.350172Z",
     "shell.execute_reply": "2022-09-29T21:27:34.348852Z"
    },
    "papermill": {
     "duration": 0.037095,
     "end_time": "2022-09-29T21:27:34.352781",
     "exception": false,
     "start_time": "2022-09-29T21:27:34.315686",
     "status": "completed"
    },
    "tags": []
   },
   "outputs": [
    {
     "data": {
      "text/html": [
       "<div>\n",
       "<style scoped>\n",
       "    .dataframe tbody tr th:only-of-type {\n",
       "        vertical-align: middle;\n",
       "    }\n",
       "\n",
       "    .dataframe tbody tr th {\n",
       "        vertical-align: top;\n",
       "    }\n",
       "\n",
       "    .dataframe thead th {\n",
       "        text-align: right;\n",
       "    }\n",
       "</style>\n",
       "<table border=\"1\" class=\"dataframe\">\n",
       "  <thead>\n",
       "    <tr style=\"text-align: right;\">\n",
       "      <th></th>\n",
       "      <th>workingday</th>\n",
       "      <th>temp</th>\n",
       "      <th>atemp</th>\n",
       "      <th>hum</th>\n",
       "      <th>windspeed</th>\n",
       "      <th>cnt</th>\n",
       "      <th>season_1.0</th>\n",
       "      <th>season_2.0</th>\n",
       "      <th>season_3.0</th>\n",
       "      <th>season_4.0</th>\n",
       "      <th>...</th>\n",
       "      <th>weekday_5.0</th>\n",
       "      <th>workingday</th>\n",
       "      <th>weathersit_2.0</th>\n",
       "      <th>weathersit_1.0</th>\n",
       "      <th>weathersit_3.0</th>\n",
       "      <th>temp</th>\n",
       "      <th>atemp</th>\n",
       "      <th>hum</th>\n",
       "      <th>windspeed</th>\n",
       "      <th>cnt</th>\n",
       "    </tr>\n",
       "  </thead>\n",
       "  <tbody>\n",
       "    <tr>\n",
       "      <th>0</th>\n",
       "      <td>0</td>\n",
       "      <td>0.344167</td>\n",
       "      <td>0.363625</td>\n",
       "      <td>0.805833</td>\n",
       "      <td>0.160446</td>\n",
       "      <td>985</td>\n",
       "      <td>1</td>\n",
       "      <td>0</td>\n",
       "      <td>0</td>\n",
       "      <td>0</td>\n",
       "      <td>...</td>\n",
       "      <td>0</td>\n",
       "      <td>0</td>\n",
       "      <td>1</td>\n",
       "      <td>0</td>\n",
       "      <td>0</td>\n",
       "      <td>0.344167</td>\n",
       "      <td>0.363625</td>\n",
       "      <td>0.805833</td>\n",
       "      <td>0.160446</td>\n",
       "      <td>985</td>\n",
       "    </tr>\n",
       "    <tr>\n",
       "      <th>1</th>\n",
       "      <td>0</td>\n",
       "      <td>0.363478</td>\n",
       "      <td>0.353739</td>\n",
       "      <td>0.696087</td>\n",
       "      <td>0.248539</td>\n",
       "      <td>801</td>\n",
       "      <td>1</td>\n",
       "      <td>0</td>\n",
       "      <td>0</td>\n",
       "      <td>0</td>\n",
       "      <td>...</td>\n",
       "      <td>0</td>\n",
       "      <td>0</td>\n",
       "      <td>1</td>\n",
       "      <td>0</td>\n",
       "      <td>0</td>\n",
       "      <td>0.363478</td>\n",
       "      <td>0.353739</td>\n",
       "      <td>0.696087</td>\n",
       "      <td>0.248539</td>\n",
       "      <td>801</td>\n",
       "    </tr>\n",
       "    <tr>\n",
       "      <th>2</th>\n",
       "      <td>1</td>\n",
       "      <td>0.196364</td>\n",
       "      <td>0.189405</td>\n",
       "      <td>0.437273</td>\n",
       "      <td>0.248309</td>\n",
       "      <td>1349</td>\n",
       "      <td>1</td>\n",
       "      <td>0</td>\n",
       "      <td>0</td>\n",
       "      <td>0</td>\n",
       "      <td>...</td>\n",
       "      <td>0</td>\n",
       "      <td>1</td>\n",
       "      <td>0</td>\n",
       "      <td>1</td>\n",
       "      <td>0</td>\n",
       "      <td>0.196364</td>\n",
       "      <td>0.189405</td>\n",
       "      <td>0.437273</td>\n",
       "      <td>0.248309</td>\n",
       "      <td>1349</td>\n",
       "    </tr>\n",
       "    <tr>\n",
       "      <th>3</th>\n",
       "      <td>1</td>\n",
       "      <td>0.200000</td>\n",
       "      <td>0.212122</td>\n",
       "      <td>0.590435</td>\n",
       "      <td>0.160296</td>\n",
       "      <td>1562</td>\n",
       "      <td>1</td>\n",
       "      <td>0</td>\n",
       "      <td>0</td>\n",
       "      <td>0</td>\n",
       "      <td>...</td>\n",
       "      <td>0</td>\n",
       "      <td>1</td>\n",
       "      <td>0</td>\n",
       "      <td>1</td>\n",
       "      <td>0</td>\n",
       "      <td>0.200000</td>\n",
       "      <td>0.212122</td>\n",
       "      <td>0.590435</td>\n",
       "      <td>0.160296</td>\n",
       "      <td>1562</td>\n",
       "    </tr>\n",
       "    <tr>\n",
       "      <th>4</th>\n",
       "      <td>1</td>\n",
       "      <td>0.226957</td>\n",
       "      <td>0.229270</td>\n",
       "      <td>0.436957</td>\n",
       "      <td>0.186900</td>\n",
       "      <td>1600</td>\n",
       "      <td>1</td>\n",
       "      <td>0</td>\n",
       "      <td>0</td>\n",
       "      <td>0</td>\n",
       "      <td>...</td>\n",
       "      <td>0</td>\n",
       "      <td>1</td>\n",
       "      <td>0</td>\n",
       "      <td>1</td>\n",
       "      <td>0</td>\n",
       "      <td>0.226957</td>\n",
       "      <td>0.229270</td>\n",
       "      <td>0.436957</td>\n",
       "      <td>0.186900</td>\n",
       "      <td>1600</td>\n",
       "    </tr>\n",
       "  </tbody>\n",
       "</table>\n",
       "<p>5 rows × 42 columns</p>\n",
       "</div>"
      ],
      "text/plain": [
       "   workingday      temp     atemp       hum  windspeed   cnt  season_1.0  \\\n",
       "0           0  0.344167  0.363625  0.805833   0.160446   985           1   \n",
       "1           0  0.363478  0.353739  0.696087   0.248539   801           1   \n",
       "2           1  0.196364  0.189405  0.437273   0.248309  1349           1   \n",
       "3           1  0.200000  0.212122  0.590435   0.160296  1562           1   \n",
       "4           1  0.226957  0.229270  0.436957   0.186900  1600           1   \n",
       "\n",
       "   season_2.0  season_3.0  season_4.0  ...  weekday_5.0  workingday  \\\n",
       "0           0           0           0  ...            0           0   \n",
       "1           0           0           0  ...            0           0   \n",
       "2           0           0           0  ...            0           1   \n",
       "3           0           0           0  ...            0           1   \n",
       "4           0           0           0  ...            0           1   \n",
       "\n",
       "   weathersit_2.0  weathersit_1.0  weathersit_3.0      temp     atemp  \\\n",
       "0               1               0               0  0.344167  0.363625   \n",
       "1               1               0               0  0.363478  0.353739   \n",
       "2               0               1               0  0.196364  0.189405   \n",
       "3               0               1               0  0.200000  0.212122   \n",
       "4               0               1               0  0.226957  0.229270   \n",
       "\n",
       "        hum  windspeed   cnt  \n",
       "0  0.805833   0.160446   985  \n",
       "1  0.696087   0.248539   801  \n",
       "2  0.437273   0.248309  1349  \n",
       "3  0.590435   0.160296  1562  \n",
       "4  0.436957   0.186900  1600  \n",
       "\n",
       "[5 rows x 42 columns]"
      ]
     },
     "execution_count": 14,
     "metadata": {},
     "output_type": "execute_result"
    }
   ],
   "source": [
    "new_df.head()"
   ]
  },
  {
   "cell_type": "code",
   "execution_count": 15,
   "id": "cd4aa3ca",
   "metadata": {
    "_cell_guid": "79fda334-0f33-4418-ae63-ba35a23ff066",
    "_uuid": "b792fcab-92ae-4a6e-96c4-7f414e43d505",
    "collapsed": false,
    "execution": {
     "iopub.execute_input": "2022-09-29T21:27:34.374677Z",
     "iopub.status.busy": "2022-09-29T21:27:34.374255Z",
     "iopub.status.idle": "2022-09-29T21:27:34.386641Z",
     "shell.execute_reply": "2022-09-29T21:27:34.385055Z"
    },
    "jupyter": {
     "outputs_hidden": false
    },
    "papermill": {
     "duration": 0.02605,
     "end_time": "2022-09-29T21:27:34.389297",
     "exception": false,
     "start_time": "2022-09-29T21:27:34.363247",
     "status": "completed"
    },
    "tags": []
   },
   "outputs": [],
   "source": [
    "X = new_df.drop(['cnt','workingday'], axis = 1)\n",
    "y = new_df['cnt']"
   ]
  },
  {
   "cell_type": "code",
   "execution_count": 16,
   "id": "606ece4c",
   "metadata": {
    "_cell_guid": "70659f9d-060f-4279-9c62-9da4d5ca4d75",
    "_uuid": "bbf8619c-ebca-4f2f-81ef-ad4c8ba5e03d",
    "collapsed": false,
    "execution": {
     "iopub.execute_input": "2022-09-29T21:27:34.410996Z",
     "iopub.status.busy": "2022-09-29T21:27:34.410556Z",
     "iopub.status.idle": "2022-09-29T21:27:34.419050Z",
     "shell.execute_reply": "2022-09-29T21:27:34.417884Z"
    },
    "jupyter": {
     "outputs_hidden": false
    },
    "papermill": {
     "duration": 0.02241,
     "end_time": "2022-09-29T21:27:34.421446",
     "exception": false,
     "start_time": "2022-09-29T21:27:34.399036",
     "status": "completed"
    },
    "tags": []
   },
   "outputs": [],
   "source": [
    "X_train, X_test, y_train, y_test = train_test_split(X, y, test_size=0.3, random_state=42)"
   ]
  },
  {
   "cell_type": "code",
   "execution_count": 17,
   "id": "ec655ec8",
   "metadata": {
    "_cell_guid": "8bb57773-01c9-4194-a7cd-6c34adcc6127",
    "_uuid": "f0dc72ff-52ee-483c-91db-24c11e915c73",
    "collapsed": false,
    "execution": {
     "iopub.execute_input": "2022-09-29T21:27:34.442731Z",
     "iopub.status.busy": "2022-09-29T21:27:34.442282Z",
     "iopub.status.idle": "2022-09-29T21:27:34.523186Z",
     "shell.execute_reply": "2022-09-29T21:27:34.521816Z"
    },
    "jupyter": {
     "outputs_hidden": false
    },
    "papermill": {
     "duration": 0.09469,
     "end_time": "2022-09-29T21:27:34.525983",
     "exception": false,
     "start_time": "2022-09-29T21:27:34.431293",
     "status": "completed"
    },
    "tags": []
   },
   "outputs": [],
   "source": [
    "from sklearn.linear_model import LinearRegression"
   ]
  },
  {
   "cell_type": "code",
   "execution_count": 18,
   "id": "f6eb6899",
   "metadata": {
    "_cell_guid": "ccd23d47-34ae-4202-8146-c21f89410662",
    "_uuid": "8d688102-4969-4acf-a23b-4aefbd35247c",
    "collapsed": false,
    "execution": {
     "iopub.execute_input": "2022-09-29T21:27:34.548315Z",
     "iopub.status.busy": "2022-09-29T21:27:34.547157Z",
     "iopub.status.idle": "2022-09-29T21:27:34.552137Z",
     "shell.execute_reply": "2022-09-29T21:27:34.551299Z"
    },
    "jupyter": {
     "outputs_hidden": false
    },
    "papermill": {
     "duration": 0.018421,
     "end_time": "2022-09-29T21:27:34.554264",
     "exception": false,
     "start_time": "2022-09-29T21:27:34.535843",
     "status": "completed"
    },
    "tags": []
   },
   "outputs": [],
   "source": [
    "LR = LinearRegression()"
   ]
  },
  {
   "cell_type": "code",
   "execution_count": 19,
   "id": "589d0cce",
   "metadata": {
    "_cell_guid": "0b152974-58db-4c83-a3c2-35776691e45c",
    "_uuid": "530b4383-6391-405f-90e0-9370a002ba80",
    "collapsed": false,
    "execution": {
     "iopub.execute_input": "2022-09-29T21:27:34.575872Z",
     "iopub.status.busy": "2022-09-29T21:27:34.575377Z",
     "iopub.status.idle": "2022-09-29T21:27:34.607457Z",
     "shell.execute_reply": "2022-09-29T21:27:34.606180Z"
    },
    "jupyter": {
     "outputs_hidden": false
    },
    "papermill": {
     "duration": 0.046519,
     "end_time": "2022-09-29T21:27:34.610584",
     "exception": false,
     "start_time": "2022-09-29T21:27:34.564065",
     "status": "completed"
    },
    "tags": []
   },
   "outputs": [
    {
     "data": {
      "text/plain": [
       "LinearRegression()"
      ]
     },
     "execution_count": 19,
     "metadata": {},
     "output_type": "execute_result"
    }
   ],
   "source": [
    "LR.fit(X_train, y_train)"
   ]
  },
  {
   "cell_type": "code",
   "execution_count": 20,
   "id": "9609344f",
   "metadata": {
    "_cell_guid": "31b8c3bd-3793-493a-a328-6d2a32efe2a9",
    "_uuid": "f27359ee-189f-4579-9493-f7ba484a8505",
    "collapsed": false,
    "execution": {
     "iopub.execute_input": "2022-09-29T21:27:34.644012Z",
     "iopub.status.busy": "2022-09-29T21:27:34.643423Z",
     "iopub.status.idle": "2022-09-29T21:27:34.654607Z",
     "shell.execute_reply": "2022-09-29T21:27:34.653239Z"
    },
    "jupyter": {
     "outputs_hidden": false
    },
    "papermill": {
     "duration": 0.031549,
     "end_time": "2022-09-29T21:27:34.657806",
     "exception": false,
     "start_time": "2022-09-29T21:27:34.626257",
     "status": "completed"
    },
    "tags": []
   },
   "outputs": [],
   "source": [
    "pred = LR.predict(X_train)"
   ]
  },
  {
   "cell_type": "code",
   "execution_count": 21,
   "id": "98dcbe16",
   "metadata": {
    "execution": {
     "iopub.execute_input": "2022-09-29T21:27:34.691688Z",
     "iopub.status.busy": "2022-09-29T21:27:34.691042Z",
     "iopub.status.idle": "2022-09-29T21:27:34.697209Z",
     "shell.execute_reply": "2022-09-29T21:27:34.696058Z"
    },
    "papermill": {
     "duration": 0.026241,
     "end_time": "2022-09-29T21:27:34.700156",
     "exception": false,
     "start_time": "2022-09-29T21:27:34.673915",
     "status": "completed"
    },
    "tags": []
   },
   "outputs": [],
   "source": [
    "from sklearn.metrics import mean_squared_error,r2_score"
   ]
  },
  {
   "cell_type": "code",
   "execution_count": 22,
   "id": "c0fc7d81",
   "metadata": {
    "_cell_guid": "138452f7-ede1-4386-b6f4-26b87dc24bda",
    "_uuid": "15a0d3b5-20c2-49e6-aee1-d068e15f6234",
    "collapsed": false,
    "execution": {
     "iopub.execute_input": "2022-09-29T21:27:34.727198Z",
     "iopub.status.busy": "2022-09-29T21:27:34.726806Z",
     "iopub.status.idle": "2022-09-29T21:27:34.735428Z",
     "shell.execute_reply": "2022-09-29T21:27:34.734549Z"
    },
    "jupyter": {
     "outputs_hidden": false
    },
    "papermill": {
     "duration": 0.022108,
     "end_time": "2022-09-29T21:27:34.737812",
     "exception": false,
     "start_time": "2022-09-29T21:27:34.715704",
     "status": "completed"
    },
    "tags": []
   },
   "outputs": [
    {
     "data": {
      "text/plain": [
       "758.9883042942054"
      ]
     },
     "execution_count": 22,
     "metadata": {},
     "output_type": "execute_result"
    }
   ],
   "source": [
    "mean_squared_error(y_train, pred,squared=False)"
   ]
  },
  {
   "cell_type": "code",
   "execution_count": 23,
   "id": "4e5b3f61",
   "metadata": {
    "_cell_guid": "6fab633d-fb85-499b-a3ad-562a0c1fd422",
    "_uuid": "24b978a6-b3b0-4ad2-9277-591433a71fdf",
    "collapsed": false,
    "execution": {
     "iopub.execute_input": "2022-09-29T21:27:34.759200Z",
     "iopub.status.busy": "2022-09-29T21:27:34.758759Z",
     "iopub.status.idle": "2022-09-29T21:27:34.768436Z",
     "shell.execute_reply": "2022-09-29T21:27:34.767304Z"
    },
    "jupyter": {
     "outputs_hidden": false
    },
    "papermill": {
     "duration": 0.02292,
     "end_time": "2022-09-29T21:27:34.770636",
     "exception": false,
     "start_time": "2022-09-29T21:27:34.747716",
     "status": "completed"
    },
    "tags": []
   },
   "outputs": [
    {
     "data": {
      "text/plain": [
       "0.8416931843702429"
      ]
     },
     "execution_count": 23,
     "metadata": {},
     "output_type": "execute_result"
    }
   ],
   "source": [
    "r2_score(y_train, pred)"
   ]
  },
  {
   "cell_type": "code",
   "execution_count": 24,
   "id": "c209b21a",
   "metadata": {
    "execution": {
     "iopub.execute_input": "2022-09-29T21:27:34.793149Z",
     "iopub.status.busy": "2022-09-29T21:27:34.792019Z",
     "iopub.status.idle": "2022-09-29T21:27:34.818631Z",
     "shell.execute_reply": "2022-09-29T21:27:34.817674Z"
    },
    "papermill": {
     "duration": 0.040008,
     "end_time": "2022-09-29T21:27:34.820778",
     "exception": false,
     "start_time": "2022-09-29T21:27:34.780770",
     "status": "completed"
    },
    "tags": []
   },
   "outputs": [
    {
     "data": {
      "text/html": [
       "<div>\n",
       "<style scoped>\n",
       "    .dataframe tbody tr th:only-of-type {\n",
       "        vertical-align: middle;\n",
       "    }\n",
       "\n",
       "    .dataframe tbody tr th {\n",
       "        vertical-align: top;\n",
       "    }\n",
       "\n",
       "    .dataframe thead th {\n",
       "        text-align: right;\n",
       "    }\n",
       "</style>\n",
       "<table border=\"1\" class=\"dataframe\">\n",
       "  <thead>\n",
       "    <tr style=\"text-align: right;\">\n",
       "      <th></th>\n",
       "      <th>temp</th>\n",
       "      <th>atemp</th>\n",
       "      <th>hum</th>\n",
       "      <th>windspeed</th>\n",
       "      <th>season_1.0</th>\n",
       "      <th>season_2.0</th>\n",
       "      <th>season_3.0</th>\n",
       "      <th>season_4.0</th>\n",
       "      <th>yr_0.0</th>\n",
       "      <th>yr_1.0</th>\n",
       "      <th>...</th>\n",
       "      <th>weekday_3.0</th>\n",
       "      <th>weekday_4.0</th>\n",
       "      <th>weekday_5.0</th>\n",
       "      <th>weathersit_2.0</th>\n",
       "      <th>weathersit_1.0</th>\n",
       "      <th>weathersit_3.0</th>\n",
       "      <th>temp</th>\n",
       "      <th>atemp</th>\n",
       "      <th>hum</th>\n",
       "      <th>windspeed</th>\n",
       "    </tr>\n",
       "  </thead>\n",
       "  <tbody>\n",
       "    <tr>\n",
       "      <th>703</th>\n",
       "      <td>0.475833</td>\n",
       "      <td>0.469054</td>\n",
       "      <td>0.733750</td>\n",
       "      <td>0.174129</td>\n",
       "      <td>0</td>\n",
       "      <td>0</td>\n",
       "      <td>0</td>\n",
       "      <td>1</td>\n",
       "      <td>0</td>\n",
       "      <td>1</td>\n",
       "      <td>...</td>\n",
       "      <td>0</td>\n",
       "      <td>0</td>\n",
       "      <td>0</td>\n",
       "      <td>0</td>\n",
       "      <td>1</td>\n",
       "      <td>0</td>\n",
       "      <td>0.475833</td>\n",
       "      <td>0.469054</td>\n",
       "      <td>0.733750</td>\n",
       "      <td>0.174129</td>\n",
       "    </tr>\n",
       "    <tr>\n",
       "      <th>33</th>\n",
       "      <td>0.186957</td>\n",
       "      <td>0.177878</td>\n",
       "      <td>0.437826</td>\n",
       "      <td>0.277752</td>\n",
       "      <td>1</td>\n",
       "      <td>0</td>\n",
       "      <td>0</td>\n",
       "      <td>0</td>\n",
       "      <td>1</td>\n",
       "      <td>0</td>\n",
       "      <td>...</td>\n",
       "      <td>0</td>\n",
       "      <td>1</td>\n",
       "      <td>0</td>\n",
       "      <td>0</td>\n",
       "      <td>1</td>\n",
       "      <td>0</td>\n",
       "      <td>0.186957</td>\n",
       "      <td>0.177878</td>\n",
       "      <td>0.437826</td>\n",
       "      <td>0.277752</td>\n",
       "    </tr>\n",
       "    <tr>\n",
       "      <th>300</th>\n",
       "      <td>0.330833</td>\n",
       "      <td>0.318812</td>\n",
       "      <td>0.585833</td>\n",
       "      <td>0.229479</td>\n",
       "      <td>0</td>\n",
       "      <td>0</td>\n",
       "      <td>0</td>\n",
       "      <td>1</td>\n",
       "      <td>1</td>\n",
       "      <td>0</td>\n",
       "      <td>...</td>\n",
       "      <td>0</td>\n",
       "      <td>0</td>\n",
       "      <td>1</td>\n",
       "      <td>1</td>\n",
       "      <td>0</td>\n",
       "      <td>0</td>\n",
       "      <td>0.330833</td>\n",
       "      <td>0.318812</td>\n",
       "      <td>0.585833</td>\n",
       "      <td>0.229479</td>\n",
       "    </tr>\n",
       "    <tr>\n",
       "      <th>456</th>\n",
       "      <td>0.425833</td>\n",
       "      <td>0.417287</td>\n",
       "      <td>0.676250</td>\n",
       "      <td>0.172267</td>\n",
       "      <td>0</td>\n",
       "      <td>1</td>\n",
       "      <td>0</td>\n",
       "      <td>0</td>\n",
       "      <td>0</td>\n",
       "      <td>1</td>\n",
       "      <td>...</td>\n",
       "      <td>0</td>\n",
       "      <td>0</td>\n",
       "      <td>0</td>\n",
       "      <td>1</td>\n",
       "      <td>0</td>\n",
       "      <td>0</td>\n",
       "      <td>0.425833</td>\n",
       "      <td>0.417287</td>\n",
       "      <td>0.676250</td>\n",
       "      <td>0.172267</td>\n",
       "    </tr>\n",
       "    <tr>\n",
       "      <th>633</th>\n",
       "      <td>0.550000</td>\n",
       "      <td>0.544179</td>\n",
       "      <td>0.570000</td>\n",
       "      <td>0.236321</td>\n",
       "      <td>0</td>\n",
       "      <td>0</td>\n",
       "      <td>0</td>\n",
       "      <td>1</td>\n",
       "      <td>0</td>\n",
       "      <td>1</td>\n",
       "      <td>...</td>\n",
       "      <td>0</td>\n",
       "      <td>0</td>\n",
       "      <td>0</td>\n",
       "      <td>0</td>\n",
       "      <td>1</td>\n",
       "      <td>0</td>\n",
       "      <td>0.550000</td>\n",
       "      <td>0.544179</td>\n",
       "      <td>0.570000</td>\n",
       "      <td>0.236321</td>\n",
       "    </tr>\n",
       "    <tr>\n",
       "      <th>...</th>\n",
       "      <td>...</td>\n",
       "      <td>...</td>\n",
       "      <td>...</td>\n",
       "      <td>...</td>\n",
       "      <td>...</td>\n",
       "      <td>...</td>\n",
       "      <td>...</td>\n",
       "      <td>...</td>\n",
       "      <td>...</td>\n",
       "      <td>...</td>\n",
       "      <td>...</td>\n",
       "      <td>...</td>\n",
       "      <td>...</td>\n",
       "      <td>...</td>\n",
       "      <td>...</td>\n",
       "      <td>...</td>\n",
       "      <td>...</td>\n",
       "      <td>...</td>\n",
       "      <td>...</td>\n",
       "      <td>...</td>\n",
       "      <td>...</td>\n",
       "    </tr>\n",
       "    <tr>\n",
       "      <th>299</th>\n",
       "      <td>0.470000</td>\n",
       "      <td>0.457046</td>\n",
       "      <td>0.812917</td>\n",
       "      <td>0.197763</td>\n",
       "      <td>0</td>\n",
       "      <td>0</td>\n",
       "      <td>0</td>\n",
       "      <td>1</td>\n",
       "      <td>1</td>\n",
       "      <td>0</td>\n",
       "      <td>...</td>\n",
       "      <td>0</td>\n",
       "      <td>1</td>\n",
       "      <td>0</td>\n",
       "      <td>1</td>\n",
       "      <td>0</td>\n",
       "      <td>0</td>\n",
       "      <td>0.470000</td>\n",
       "      <td>0.457046</td>\n",
       "      <td>0.812917</td>\n",
       "      <td>0.197763</td>\n",
       "    </tr>\n",
       "    <tr>\n",
       "      <th>516</th>\n",
       "      <td>0.680000</td>\n",
       "      <td>0.631329</td>\n",
       "      <td>0.492917</td>\n",
       "      <td>0.195279</td>\n",
       "      <td>0</td>\n",
       "      <td>1</td>\n",
       "      <td>0</td>\n",
       "      <td>0</td>\n",
       "      <td>0</td>\n",
       "      <td>1</td>\n",
       "      <td>...</td>\n",
       "      <td>0</td>\n",
       "      <td>1</td>\n",
       "      <td>0</td>\n",
       "      <td>0</td>\n",
       "      <td>1</td>\n",
       "      <td>0</td>\n",
       "      <td>0.680000</td>\n",
       "      <td>0.631329</td>\n",
       "      <td>0.492917</td>\n",
       "      <td>0.195279</td>\n",
       "    </tr>\n",
       "    <tr>\n",
       "      <th>533</th>\n",
       "      <td>0.592500</td>\n",
       "      <td>0.571975</td>\n",
       "      <td>0.598750</td>\n",
       "      <td>0.144904</td>\n",
       "      <td>0</td>\n",
       "      <td>1</td>\n",
       "      <td>0</td>\n",
       "      <td>0</td>\n",
       "      <td>0</td>\n",
       "      <td>1</td>\n",
       "      <td>...</td>\n",
       "      <td>0</td>\n",
       "      <td>0</td>\n",
       "      <td>0</td>\n",
       "      <td>0</td>\n",
       "      <td>1</td>\n",
       "      <td>0</td>\n",
       "      <td>0.592500</td>\n",
       "      <td>0.571975</td>\n",
       "      <td>0.598750</td>\n",
       "      <td>0.144904</td>\n",
       "    </tr>\n",
       "    <tr>\n",
       "      <th>264</th>\n",
       "      <td>0.628333</td>\n",
       "      <td>0.554963</td>\n",
       "      <td>0.902083</td>\n",
       "      <td>0.128125</td>\n",
       "      <td>0</td>\n",
       "      <td>0</td>\n",
       "      <td>1</td>\n",
       "      <td>0</td>\n",
       "      <td>1</td>\n",
       "      <td>0</td>\n",
       "      <td>...</td>\n",
       "      <td>0</td>\n",
       "      <td>1</td>\n",
       "      <td>0</td>\n",
       "      <td>1</td>\n",
       "      <td>0</td>\n",
       "      <td>0</td>\n",
       "      <td>0.628333</td>\n",
       "      <td>0.554963</td>\n",
       "      <td>0.902083</td>\n",
       "      <td>0.128125</td>\n",
       "    </tr>\n",
       "    <tr>\n",
       "      <th>137</th>\n",
       "      <td>0.550000</td>\n",
       "      <td>0.527158</td>\n",
       "      <td>0.870000</td>\n",
       "      <td>0.201492</td>\n",
       "      <td>0</td>\n",
       "      <td>1</td>\n",
       "      <td>0</td>\n",
       "      <td>0</td>\n",
       "      <td>1</td>\n",
       "      <td>0</td>\n",
       "      <td>...</td>\n",
       "      <td>1</td>\n",
       "      <td>0</td>\n",
       "      <td>0</td>\n",
       "      <td>1</td>\n",
       "      <td>0</td>\n",
       "      <td>0</td>\n",
       "      <td>0.550000</td>\n",
       "      <td>0.527158</td>\n",
       "      <td>0.870000</td>\n",
       "      <td>0.201492</td>\n",
       "    </tr>\n",
       "  </tbody>\n",
       "</table>\n",
       "<p>220 rows × 38 columns</p>\n",
       "</div>"
      ],
      "text/plain": [
       "         temp     atemp       hum  windspeed  season_1.0  season_2.0  \\\n",
       "703  0.475833  0.469054  0.733750   0.174129           0           0   \n",
       "33   0.186957  0.177878  0.437826   0.277752           1           0   \n",
       "300  0.330833  0.318812  0.585833   0.229479           0           0   \n",
       "456  0.425833  0.417287  0.676250   0.172267           0           1   \n",
       "633  0.550000  0.544179  0.570000   0.236321           0           0   \n",
       "..        ...       ...       ...        ...         ...         ...   \n",
       "299  0.470000  0.457046  0.812917   0.197763           0           0   \n",
       "516  0.680000  0.631329  0.492917   0.195279           0           1   \n",
       "533  0.592500  0.571975  0.598750   0.144904           0           1   \n",
       "264  0.628333  0.554963  0.902083   0.128125           0           0   \n",
       "137  0.550000  0.527158  0.870000   0.201492           0           1   \n",
       "\n",
       "     season_3.0  season_4.0  yr_0.0  yr_1.0  ...  weekday_3.0  weekday_4.0  \\\n",
       "703           0           1       0       1  ...            0            0   \n",
       "33            0           0       1       0  ...            0            1   \n",
       "300           0           1       1       0  ...            0            0   \n",
       "456           0           0       0       1  ...            0            0   \n",
       "633           0           1       0       1  ...            0            0   \n",
       "..          ...         ...     ...     ...  ...          ...          ...   \n",
       "299           0           1       1       0  ...            0            1   \n",
       "516           0           0       0       1  ...            0            1   \n",
       "533           0           0       0       1  ...            0            0   \n",
       "264           1           0       1       0  ...            0            1   \n",
       "137           0           0       1       0  ...            1            0   \n",
       "\n",
       "     weekday_5.0  weathersit_2.0  weathersit_1.0  weathersit_3.0      temp  \\\n",
       "703            0               0               1               0  0.475833   \n",
       "33             0               0               1               0  0.186957   \n",
       "300            1               1               0               0  0.330833   \n",
       "456            0               1               0               0  0.425833   \n",
       "633            0               0               1               0  0.550000   \n",
       "..           ...             ...             ...             ...       ...   \n",
       "299            0               1               0               0  0.470000   \n",
       "516            0               0               1               0  0.680000   \n",
       "533            0               0               1               0  0.592500   \n",
       "264            0               1               0               0  0.628333   \n",
       "137            0               1               0               0  0.550000   \n",
       "\n",
       "        atemp       hum  windspeed  \n",
       "703  0.469054  0.733750   0.174129  \n",
       "33   0.177878  0.437826   0.277752  \n",
       "300  0.318812  0.585833   0.229479  \n",
       "456  0.417287  0.676250   0.172267  \n",
       "633  0.544179  0.570000   0.236321  \n",
       "..        ...       ...        ...  \n",
       "299  0.457046  0.812917   0.197763  \n",
       "516  0.631329  0.492917   0.195279  \n",
       "533  0.571975  0.598750   0.144904  \n",
       "264  0.554963  0.902083   0.128125  \n",
       "137  0.527158  0.870000   0.201492  \n",
       "\n",
       "[220 rows x 38 columns]"
      ]
     },
     "execution_count": 24,
     "metadata": {},
     "output_type": "execute_result"
    }
   ],
   "source": [
    "X_test"
   ]
  },
  {
   "cell_type": "code",
   "execution_count": 25,
   "id": "416d4779",
   "metadata": {
    "_cell_guid": "1103ebfd-5b43-410a-b9e2-f1451641d0c4",
    "_uuid": "3ed5fd52-3240-4b3a-939b-c08e9b301e2e",
    "collapsed": false,
    "execution": {
     "iopub.execute_input": "2022-09-29T21:27:34.844141Z",
     "iopub.status.busy": "2022-09-29T21:27:34.843361Z",
     "iopub.status.idle": "2022-09-29T21:27:34.850359Z",
     "shell.execute_reply": "2022-09-29T21:27:34.849434Z"
    },
    "jupyter": {
     "outputs_hidden": false
    },
    "papermill": {
     "duration": 0.021449,
     "end_time": "2022-09-29T21:27:34.852823",
     "exception": false,
     "start_time": "2022-09-29T21:27:34.831374",
     "status": "completed"
    },
    "tags": []
   },
   "outputs": [],
   "source": [
    "y_pred = LR.predict(X_test)"
   ]
  },
  {
   "cell_type": "code",
   "execution_count": 26,
   "id": "454a719e",
   "metadata": {
    "_cell_guid": "0da80469-0753-4ad7-aa41-454724050843",
    "_uuid": "1ef2e5e2-8418-43e0-8697-a72ad6d65f8f",
    "collapsed": false,
    "execution": {
     "iopub.execute_input": "2022-09-29T21:27:34.875857Z",
     "iopub.status.busy": "2022-09-29T21:27:34.875449Z",
     "iopub.status.idle": "2022-09-29T21:27:34.886773Z",
     "shell.execute_reply": "2022-09-29T21:27:34.885619Z"
    },
    "jupyter": {
     "outputs_hidden": false
    },
    "papermill": {
     "duration": 0.025977,
     "end_time": "2022-09-29T21:27:34.889353",
     "exception": false,
     "start_time": "2022-09-29T21:27:34.863376",
     "status": "completed"
    },
    "tags": []
   },
   "outputs": [
    {
     "data": {
      "text/plain": [
       "774.1964948492608"
      ]
     },
     "execution_count": 26,
     "metadata": {},
     "output_type": "execute_result"
    }
   ],
   "source": [
    "mean_squared_error(y_test, y_pred,squared=False)"
   ]
  },
  {
   "cell_type": "code",
   "execution_count": 27,
   "id": "d0a19000",
   "metadata": {
    "_cell_guid": "a8435401-5e4c-430d-b807-2f4eb29f8f30",
    "_uuid": "4c590e5c-03c7-4e4c-8a2b-b09d57e17a24",
    "collapsed": false,
    "execution": {
     "iopub.execute_input": "2022-09-29T21:27:34.913008Z",
     "iopub.status.busy": "2022-09-29T21:27:34.912623Z",
     "iopub.status.idle": "2022-09-29T21:27:34.921420Z",
     "shell.execute_reply": "2022-09-29T21:27:34.920302Z"
    },
    "jupyter": {
     "outputs_hidden": false
    },
    "papermill": {
     "duration": 0.023147,
     "end_time": "2022-09-29T21:27:34.923621",
     "exception": false,
     "start_time": "2022-09-29T21:27:34.900474",
     "status": "completed"
    },
    "tags": []
   },
   "outputs": [
    {
     "data": {
      "text/plain": [
       "0.8493628241460262"
      ]
     },
     "execution_count": 27,
     "metadata": {},
     "output_type": "execute_result"
    }
   ],
   "source": [
    "r2_score(y_test,y_pred)"
   ]
  },
  {
   "cell_type": "code",
   "execution_count": 28,
   "id": "032cfaf8",
   "metadata": {
    "_cell_guid": "bba1bd91-cca0-4bb6-b9e2-6ebb7751d6e9",
    "_uuid": "303ac0d8-c25e-4904-b6aa-377f910fea48",
    "collapsed": false,
    "execution": {
     "iopub.execute_input": "2022-09-29T21:27:34.946816Z",
     "iopub.status.busy": "2022-09-29T21:27:34.945925Z",
     "iopub.status.idle": "2022-09-29T21:27:34.954370Z",
     "shell.execute_reply": "2022-09-29T21:27:34.953271Z"
    },
    "jupyter": {
     "outputs_hidden": false
    },
    "papermill": {
     "duration": 0.022516,
     "end_time": "2022-09-29T21:27:34.956639",
     "exception": false,
     "start_time": "2022-09-29T21:27:34.934123",
     "status": "completed"
    },
    "tags": []
   },
   "outputs": [
    {
     "data": {
      "text/plain": [
       "array([[-1.22890549e+16,  1.84100000e+03, -6.51938310e+02,\n",
       "        -1.10939306e+03, -9.48828901e+02,  1.09947277e+02,\n",
       "         1.17238032e+02,  7.86377452e+02, -9.91556146e+02,\n",
       "         9.70672074e+02, -7.63143963e+01,  5.96582083e+01,\n",
       "         4.90967465e+02,  8.27721023e+01,  3.26250494e+02,\n",
       "         1.46371573e+01, -5.47520814e+02, -2.31204325e+02,\n",
       "         5.57430099e+02,  1.84265251e+02, -4.26014361e+02,\n",
       "        -3.40743551e+02,  2.85314650e+02, -2.90658400e+02,\n",
       "         1.16649238e+02, -3.42685196e+02, -5.20241838e+01,\n",
       "        -4.69504437e+01,  6.56330329e+01,  6.73055989e+01,\n",
       "         1.36605409e+02,  2.31689529e+02,  7.52749021e+02,\n",
       "        -1.04601562e+03,  1.22890549e+16,  1.90237500e+03,\n",
       "        -6.93437500e+02, -1.15376562e+03],\n",
       "       [-1.22890549e+16,  1.84100000e+03, -6.51938310e+02,\n",
       "        -1.10939306e+03, -9.48828901e+02,  1.09947277e+02,\n",
       "         1.17238032e+02,  7.86377452e+02, -9.91556146e+02,\n",
       "         9.70672074e+02, -7.63143963e+01,  5.96582083e+01,\n",
       "         4.90967465e+02,  8.27721023e+01,  3.26250494e+02,\n",
       "         1.46371573e+01, -5.47520814e+02, -2.31204325e+02,\n",
       "         5.57430099e+02,  1.84265251e+02, -4.26014361e+02,\n",
       "        -3.40743551e+02,  2.85314650e+02, -2.90658400e+02,\n",
       "         1.16649238e+02, -3.42685196e+02, -5.20241838e+01,\n",
       "        -4.69504437e+01,  6.56330329e+01,  6.73055989e+01,\n",
       "         1.36605409e+02,  2.31689529e+02,  7.52749021e+02,\n",
       "        -1.04601562e+03,  1.22890549e+16,  1.90237500e+03,\n",
       "        -6.93437500e+02, -1.15376562e+03]])"
      ]
     },
     "execution_count": 28,
     "metadata": {},
     "output_type": "execute_result"
    }
   ],
   "source": [
    "LR.coef_"
   ]
  },
  {
   "cell_type": "markdown",
   "id": "f7e5f21c",
   "metadata": {
    "_cell_guid": "a0a2b805-7db3-4fb9-b640-2b80a2af8e33",
    "_uuid": "562b49b1-533c-4472-afd1-25fcb73d2edf",
    "papermill": {
     "duration": 0.010161,
     "end_time": "2022-09-29T21:27:34.977507",
     "exception": false,
     "start_time": "2022-09-29T21:27:34.967346",
     "status": "completed"
    },
    "tags": []
   },
   "source": [
    "**Year & Holiday** these are the features which have significant contribution. **The model has a good fit with respect to the dataset.**"
   ]
  },
  {
   "cell_type": "code",
   "execution_count": null,
   "id": "87e354d9",
   "metadata": {
    "papermill": {
     "duration": 0.010196,
     "end_time": "2022-09-29T21:27:34.998194",
     "exception": false,
     "start_time": "2022-09-29T21:27:34.987998",
     "status": "completed"
    },
    "tags": []
   },
   "outputs": [],
   "source": []
  }
 ],
 "metadata": {
  "kernelspec": {
   "display_name": "Python 3",
   "language": "python",
   "name": "python3"
  },
  "language_info": {
   "codemirror_mode": {
    "name": "ipython",
    "version": 3
   },
   "file_extension": ".py",
   "mimetype": "text/x-python",
   "name": "python",
   "nbconvert_exporter": "python",
   "pygments_lexer": "ipython3",
   "version": "3.7.12"
  },
  "papermill": {
   "default_parameters": {},
   "duration": 13.981594,
   "end_time": "2022-09-29T21:27:35.730179",
   "environment_variables": {},
   "exception": null,
   "input_path": "__notebook__.ipynb",
   "output_path": "__notebook__.ipynb",
   "parameters": {},
   "start_time": "2022-09-29T21:27:21.748585",
   "version": "2.3.4"
  }
 },
 "nbformat": 4,
 "nbformat_minor": 5
}
