{
 "cells": [
  {
   "cell_type": "code",
   "execution_count": 1,
   "id": "4e42dd9e",
   "metadata": {
    "_cell_guid": "7754c37c-cac3-41db-a751-9411d740a623",
    "_uuid": "d1915725-acd3-4f7e-b399-56c66192534c",
    "collapsed": false,
    "execution": {
     "iopub.execute_input": "2022-09-30T22:11:54.085712Z",
     "iopub.status.busy": "2022-09-30T22:11:54.085213Z",
     "iopub.status.idle": "2022-09-30T22:11:54.115143Z",
     "shell.execute_reply": "2022-09-30T22:11:54.113749Z"
    },
    "jupyter": {
     "outputs_hidden": false
    },
    "papermill": {
     "duration": 0.049211,
     "end_time": "2022-09-30T22:11:54.119073",
     "exception": false,
     "start_time": "2022-09-30T22:11:54.069862",
     "status": "completed"
    },
    "tags": []
   },
   "outputs": [
    {
     "name": "stdout",
     "output_type": "stream",
     "text": [
      "/kaggle/input/bike-sharing-dataset/hour.csv\n",
      "/kaggle/input/bike-sharing-dataset/Readme.txt\n",
      "/kaggle/input/bike-sharing-dataset/day.csv\n",
      "/kaggle/input/bike-sharing-dataset/bike-sharing-dataset/hour.csv\n",
      "/kaggle/input/bike-sharing-dataset/bike-sharing-dataset/Readme.txt\n",
      "/kaggle/input/bike-sharing-dataset/bike-sharing-dataset/day.csv\n"
     ]
    }
   ],
   "source": [
    "# This Python 3 environment comes with many helpful analytics libraries installed\n",
    "# It is defined by the kaggle/python Docker image: https://github.com/kaggle/docker-python\n",
    "# For example, here's several helpful packages to load\n",
    "\n",
    "import numpy as np # linear algebra\n",
    "import pandas as pd # data processing, CSV file I/O (e.g. pd.read_csv)\n",
    "\n",
    "# Input data files are available in the read-only \"../input/\" directory\n",
    "# For example, running this (by clicking run or pressing Shift+Enter) will list all files under the input directory\n",
    "\n",
    "import os\n",
    "for dirname, _, filenames in os.walk('/kaggle/input'):\n",
    "    for filename in filenames:\n",
    "        print(os.path.join(dirname, filename))\n",
    "\n",
    "# You can write up to 20GB to the current directory (/kaggle/working/) that gets preserved as output when you create a version using \"Save & Run All\" \n",
    "# You can also write temporary files to /kaggle/temp/, but they won't be saved outside of the current session"
   ]
  },
  {
   "cell_type": "code",
   "execution_count": 2,
   "id": "2355f4fc",
   "metadata": {
    "execution": {
     "iopub.execute_input": "2022-09-30T22:11:54.144086Z",
     "iopub.status.busy": "2022-09-30T22:11:54.143611Z",
     "iopub.status.idle": "2022-09-30T22:11:55.225361Z",
     "shell.execute_reply": "2022-09-30T22:11:55.224391Z"
    },
    "papermill": {
     "duration": 1.097125,
     "end_time": "2022-09-30T22:11:55.228185",
     "exception": false,
     "start_time": "2022-09-30T22:11:54.131060",
     "status": "completed"
    },
    "tags": []
   },
   "outputs": [],
   "source": [
    "from numpy import argmax\n",
    "from sklearn.preprocessing import LabelEncoder\n",
    "from sklearn.preprocessing import OneHotEncoder"
   ]
  },
  {
   "cell_type": "code",
   "execution_count": 3,
   "id": "5b61f78e",
   "metadata": {
    "_cell_guid": "6e425efa-7eed-4396-a3c0-3ad477f7d8ec",
    "_uuid": "304c716b-f1c2-4e4c-9f61-a7468fc9ceaf",
    "collapsed": false,
    "execution": {
     "iopub.execute_input": "2022-09-30T22:11:55.254526Z",
     "iopub.status.busy": "2022-09-30T22:11:55.253432Z",
     "iopub.status.idle": "2022-09-30T22:11:55.276792Z",
     "shell.execute_reply": "2022-09-30T22:11:55.275712Z"
    },
    "jupyter": {
     "outputs_hidden": false
    },
    "papermill": {
     "duration": 0.040088,
     "end_time": "2022-09-30T22:11:55.279708",
     "exception": false,
     "start_time": "2022-09-30T22:11:55.239620",
     "status": "completed"
    },
    "tags": []
   },
   "outputs": [],
   "source": [
    "df = pd.read_csv(\"../input/bike-sharing-dataset/day.csv\")"
   ]
  },
  {
   "cell_type": "code",
   "execution_count": 4,
   "id": "fba0e8d2",
   "metadata": {
    "_cell_guid": "bb5f6659-f8cb-4e8e-b5b3-440b741b95aa",
    "_uuid": "37a3a90f-ade8-4efb-91d1-13ccaec7e3ff",
    "collapsed": false,
    "execution": {
     "iopub.execute_input": "2022-09-30T22:11:55.304261Z",
     "iopub.status.busy": "2022-09-30T22:11:55.303360Z",
     "iopub.status.idle": "2022-09-30T22:11:55.330029Z",
     "shell.execute_reply": "2022-09-30T22:11:55.328824Z"
    },
    "jupyter": {
     "outputs_hidden": false
    },
    "papermill": {
     "duration": 0.042068,
     "end_time": "2022-09-30T22:11:55.332710",
     "exception": false,
     "start_time": "2022-09-30T22:11:55.290642",
     "status": "completed"
    },
    "tags": []
   },
   "outputs": [
    {
     "data": {
      "text/html": [
       "<div>\n",
       "<style scoped>\n",
       "    .dataframe tbody tr th:only-of-type {\n",
       "        vertical-align: middle;\n",
       "    }\n",
       "\n",
       "    .dataframe tbody tr th {\n",
       "        vertical-align: top;\n",
       "    }\n",
       "\n",
       "    .dataframe thead th {\n",
       "        text-align: right;\n",
       "    }\n",
       "</style>\n",
       "<table border=\"1\" class=\"dataframe\">\n",
       "  <thead>\n",
       "    <tr style=\"text-align: right;\">\n",
       "      <th></th>\n",
       "      <th>instant</th>\n",
       "      <th>dteday</th>\n",
       "      <th>season</th>\n",
       "      <th>yr</th>\n",
       "      <th>mnth</th>\n",
       "      <th>holiday</th>\n",
       "      <th>weekday</th>\n",
       "      <th>workingday</th>\n",
       "      <th>weathersit</th>\n",
       "      <th>temp</th>\n",
       "      <th>atemp</th>\n",
       "      <th>hum</th>\n",
       "      <th>windspeed</th>\n",
       "      <th>casual</th>\n",
       "      <th>registered</th>\n",
       "      <th>cnt</th>\n",
       "    </tr>\n",
       "  </thead>\n",
       "  <tbody>\n",
       "    <tr>\n",
       "      <th>0</th>\n",
       "      <td>1</td>\n",
       "      <td>2011-01-01</td>\n",
       "      <td>1</td>\n",
       "      <td>0</td>\n",
       "      <td>1</td>\n",
       "      <td>0</td>\n",
       "      <td>6</td>\n",
       "      <td>0</td>\n",
       "      <td>2</td>\n",
       "      <td>0.344167</td>\n",
       "      <td>0.363625</td>\n",
       "      <td>0.805833</td>\n",
       "      <td>0.160446</td>\n",
       "      <td>331</td>\n",
       "      <td>654</td>\n",
       "      <td>985</td>\n",
       "    </tr>\n",
       "    <tr>\n",
       "      <th>1</th>\n",
       "      <td>2</td>\n",
       "      <td>2011-01-02</td>\n",
       "      <td>1</td>\n",
       "      <td>0</td>\n",
       "      <td>1</td>\n",
       "      <td>0</td>\n",
       "      <td>0</td>\n",
       "      <td>0</td>\n",
       "      <td>2</td>\n",
       "      <td>0.363478</td>\n",
       "      <td>0.353739</td>\n",
       "      <td>0.696087</td>\n",
       "      <td>0.248539</td>\n",
       "      <td>131</td>\n",
       "      <td>670</td>\n",
       "      <td>801</td>\n",
       "    </tr>\n",
       "    <tr>\n",
       "      <th>2</th>\n",
       "      <td>3</td>\n",
       "      <td>2011-01-03</td>\n",
       "      <td>1</td>\n",
       "      <td>0</td>\n",
       "      <td>1</td>\n",
       "      <td>0</td>\n",
       "      <td>1</td>\n",
       "      <td>1</td>\n",
       "      <td>1</td>\n",
       "      <td>0.196364</td>\n",
       "      <td>0.189405</td>\n",
       "      <td>0.437273</td>\n",
       "      <td>0.248309</td>\n",
       "      <td>120</td>\n",
       "      <td>1229</td>\n",
       "      <td>1349</td>\n",
       "    </tr>\n",
       "    <tr>\n",
       "      <th>3</th>\n",
       "      <td>4</td>\n",
       "      <td>2011-01-04</td>\n",
       "      <td>1</td>\n",
       "      <td>0</td>\n",
       "      <td>1</td>\n",
       "      <td>0</td>\n",
       "      <td>2</td>\n",
       "      <td>1</td>\n",
       "      <td>1</td>\n",
       "      <td>0.200000</td>\n",
       "      <td>0.212122</td>\n",
       "      <td>0.590435</td>\n",
       "      <td>0.160296</td>\n",
       "      <td>108</td>\n",
       "      <td>1454</td>\n",
       "      <td>1562</td>\n",
       "    </tr>\n",
       "    <tr>\n",
       "      <th>4</th>\n",
       "      <td>5</td>\n",
       "      <td>2011-01-05</td>\n",
       "      <td>1</td>\n",
       "      <td>0</td>\n",
       "      <td>1</td>\n",
       "      <td>0</td>\n",
       "      <td>3</td>\n",
       "      <td>1</td>\n",
       "      <td>1</td>\n",
       "      <td>0.226957</td>\n",
       "      <td>0.229270</td>\n",
       "      <td>0.436957</td>\n",
       "      <td>0.186900</td>\n",
       "      <td>82</td>\n",
       "      <td>1518</td>\n",
       "      <td>1600</td>\n",
       "    </tr>\n",
       "  </tbody>\n",
       "</table>\n",
       "</div>"
      ],
      "text/plain": [
       "   instant      dteday  season  yr  mnth  holiday  weekday  workingday  \\\n",
       "0        1  2011-01-01       1   0     1        0        6           0   \n",
       "1        2  2011-01-02       1   0     1        0        0           0   \n",
       "2        3  2011-01-03       1   0     1        0        1           1   \n",
       "3        4  2011-01-04       1   0     1        0        2           1   \n",
       "4        5  2011-01-05       1   0     1        0        3           1   \n",
       "\n",
       "   weathersit      temp     atemp       hum  windspeed  casual  registered  \\\n",
       "0           2  0.344167  0.363625  0.805833   0.160446     331         654   \n",
       "1           2  0.363478  0.353739  0.696087   0.248539     131         670   \n",
       "2           1  0.196364  0.189405  0.437273   0.248309     120        1229   \n",
       "3           1  0.200000  0.212122  0.590435   0.160296     108        1454   \n",
       "4           1  0.226957  0.229270  0.436957   0.186900      82        1518   \n",
       "\n",
       "    cnt  \n",
       "0   985  \n",
       "1   801  \n",
       "2  1349  \n",
       "3  1562  \n",
       "4  1600  "
      ]
     },
     "execution_count": 4,
     "metadata": {},
     "output_type": "execute_result"
    }
   ],
   "source": [
    "df.head()"
   ]
  },
  {
   "cell_type": "code",
   "execution_count": 5,
   "id": "c89f5e9d",
   "metadata": {
    "_cell_guid": "21d1485a-1cc5-4a19-8b61-a3224156fe31",
    "_uuid": "2bcc139d-d84e-4c87-83d5-e25f9bd22d14",
    "collapsed": false,
    "execution": {
     "iopub.execute_input": "2022-09-30T22:11:55.357037Z",
     "iopub.status.busy": "2022-09-30T22:11:55.356559Z",
     "iopub.status.idle": "2022-09-30T22:11:55.364662Z",
     "shell.execute_reply": "2022-09-30T22:11:55.363419Z"
    },
    "jupyter": {
     "outputs_hidden": false
    },
    "papermill": {
     "duration": 0.023075,
     "end_time": "2022-09-30T22:11:55.367080",
     "exception": false,
     "start_time": "2022-09-30T22:11:55.344005",
     "status": "completed"
    },
    "tags": []
   },
   "outputs": [
    {
     "data": {
      "text/plain": [
       "Index(['instant', 'dteday', 'season', 'yr', 'mnth', 'holiday', 'weekday',\n",
       "       'workingday', 'weathersit', 'temp', 'atemp', 'hum', 'windspeed',\n",
       "       'casual', 'registered', 'cnt'],\n",
       "      dtype='object')"
      ]
     },
     "execution_count": 5,
     "metadata": {},
     "output_type": "execute_result"
    }
   ],
   "source": [
    "df.columns"
   ]
  },
  {
   "cell_type": "code",
   "execution_count": 6,
   "id": "4c83f741",
   "metadata": {
    "_cell_guid": "2b6b464d-7d10-49a3-8aa3-bcb863e2b9f1",
    "_uuid": "b87f031a-4cef-40da-abc0-b60c77923a1f",
    "collapsed": false,
    "execution": {
     "iopub.execute_input": "2022-09-30T22:11:55.391428Z",
     "iopub.status.busy": "2022-09-30T22:11:55.390995Z",
     "iopub.status.idle": "2022-09-30T22:11:55.402196Z",
     "shell.execute_reply": "2022-09-30T22:11:55.401231Z"
    },
    "jupyter": {
     "outputs_hidden": false
    },
    "papermill": {
     "duration": 0.026009,
     "end_time": "2022-09-30T22:11:55.404453",
     "exception": false,
     "start_time": "2022-09-30T22:11:55.378444",
     "status": "completed"
    },
    "tags": []
   },
   "outputs": [],
   "source": [
    "df.drop(['instant', 'dteday','casual','registered'], inplace=True ,axis=1)"
   ]
  },
  {
   "cell_type": "markdown",
   "id": "7931b9b4",
   "metadata": {
    "papermill": {
     "duration": 0.010654,
     "end_time": "2022-09-30T22:11:55.426191",
     "exception": false,
     "start_time": "2022-09-30T22:11:55.415537",
     "status": "completed"
    },
    "tags": []
   },
   "source": [
    "**Question 4. a)**"
   ]
  },
  {
   "cell_type": "code",
   "execution_count": 7,
   "id": "58f3f12c",
   "metadata": {
    "_cell_guid": "b17ee383-55e6-41bc-9b0a-37bb7441fdfb",
    "_uuid": "e1bc743e-4617-45e2-acab-4f5d699c0bd4",
    "collapsed": false,
    "execution": {
     "iopub.execute_input": "2022-09-30T22:11:55.449999Z",
     "iopub.status.busy": "2022-09-30T22:11:55.449517Z",
     "iopub.status.idle": "2022-09-30T22:11:55.466688Z",
     "shell.execute_reply": "2022-09-30T22:11:55.464963Z"
    },
    "jupyter": {
     "outputs_hidden": false
    },
    "papermill": {
     "duration": 0.031929,
     "end_time": "2022-09-30T22:11:55.469067",
     "exception": false,
     "start_time": "2022-09-30T22:11:55.437138",
     "status": "completed"
    },
    "tags": []
   },
   "outputs": [
    {
     "name": "stdout",
     "output_type": "stream",
     "text": [
      "season        0.406100\n",
      "yr            0.566710\n",
      "mnth          0.279977\n",
      "holiday      -0.068348\n",
      "weekday       0.067443\n",
      "workingday    0.061156\n",
      "weathersit   -0.297391\n",
      "temp          0.627494\n",
      "atemp         0.631066\n",
      "hum          -0.100659\n",
      "windspeed    -0.234545\n",
      "cnt           1.000000\n",
      "dtype: float64\n"
     ]
    }
   ],
   "source": [
    "correlations = df.corrwith(df['cnt'])\n",
    "print(correlations)"
   ]
  },
  {
   "cell_type": "markdown",
   "id": "a55bbfe4",
   "metadata": {
    "_cell_guid": "8aba4077-ca1d-4984-ab9d-cd3da0a8b987",
    "_uuid": "6dfe76cf-8efb-4865-aa4a-a26964bd05bc",
    "papermill": {
     "duration": 0.0111,
     "end_time": "2022-09-30T22:11:55.491950",
     "exception": false,
     "start_time": "2022-09-30T22:11:55.480850",
     "status": "completed"
    },
    "tags": []
   },
   "source": [
    "Features with positive correlation are: \n",
    "* **season**\n",
    "* **yr**: year\n",
    "* **mnth**: mmonths\n",
    "* **weekday**: days of the week\n",
    "* **workingday**: whether the day is neither a weekend nor holiday\n",
    "* **temp**: temperature in Celsius\n",
    "* **atemp**: \"feels like\" temperature in Celsius\n",
    "\n",
    "The feature with highest correlation is **'atemp'**."
   ]
  },
  {
   "cell_type": "markdown",
   "id": "81f40a42",
   "metadata": {
    "papermill": {
     "duration": 0.011,
     "end_time": "2022-09-30T22:11:55.514371",
     "exception": false,
     "start_time": "2022-09-30T22:11:55.503371",
     "status": "completed"
    },
    "tags": []
   },
   "source": [
    "**Question 4. b)**"
   ]
  },
  {
   "cell_type": "markdown",
   "id": "ab4cef42",
   "metadata": {
    "_cell_guid": "01170ec7-7229-419f-8875-4419f9890731",
    "_uuid": "c7bc3fd5-ea51-43e0-a449-3b6ae3d2272e",
    "papermill": {
     "duration": 0.010985,
     "end_time": "2022-09-30T22:11:55.536806",
     "exception": false,
     "start_time": "2022-09-30T22:11:55.525821",
     "status": "completed"
    },
    "tags": []
   },
   "source": [
    "Features with negative correlation are: \n",
    "* **holiday**: whether the day is considered a holiday\n",
    "* **weathersit**\n",
    "* **hum**: humidity\n",
    "* **windspeed**"
   ]
  },
  {
   "cell_type": "code",
   "execution_count": 8,
   "id": "cfee07e0",
   "metadata": {
    "execution": {
     "iopub.execute_input": "2022-09-30T22:11:55.561890Z",
     "iopub.status.busy": "2022-09-30T22:11:55.560979Z",
     "iopub.status.idle": "2022-09-30T22:11:55.577245Z",
     "shell.execute_reply": "2022-09-30T22:11:55.576081Z"
    },
    "papermill": {
     "duration": 0.031677,
     "end_time": "2022-09-30T22:11:55.579852",
     "exception": false,
     "start_time": "2022-09-30T22:11:55.548175",
     "status": "completed"
    },
    "tags": []
   },
   "outputs": [
    {
     "data": {
      "text/html": [
       "<div>\n",
       "<style scoped>\n",
       "    .dataframe tbody tr th:only-of-type {\n",
       "        vertical-align: middle;\n",
       "    }\n",
       "\n",
       "    .dataframe tbody tr th {\n",
       "        vertical-align: top;\n",
       "    }\n",
       "\n",
       "    .dataframe thead th {\n",
       "        text-align: right;\n",
       "    }\n",
       "</style>\n",
       "<table border=\"1\" class=\"dataframe\">\n",
       "  <thead>\n",
       "    <tr style=\"text-align: right;\">\n",
       "      <th></th>\n",
       "      <th>season</th>\n",
       "      <th>yr</th>\n",
       "      <th>mnth</th>\n",
       "      <th>holiday</th>\n",
       "      <th>weekday</th>\n",
       "      <th>workingday</th>\n",
       "      <th>weathersit</th>\n",
       "      <th>temp</th>\n",
       "      <th>atemp</th>\n",
       "      <th>hum</th>\n",
       "      <th>windspeed</th>\n",
       "      <th>cnt</th>\n",
       "    </tr>\n",
       "  </thead>\n",
       "  <tbody>\n",
       "    <tr>\n",
       "      <th>0</th>\n",
       "      <td>1</td>\n",
       "      <td>0</td>\n",
       "      <td>1</td>\n",
       "      <td>0</td>\n",
       "      <td>6</td>\n",
       "      <td>0</td>\n",
       "      <td>2</td>\n",
       "      <td>0.344167</td>\n",
       "      <td>0.363625</td>\n",
       "      <td>0.805833</td>\n",
       "      <td>0.160446</td>\n",
       "      <td>985</td>\n",
       "    </tr>\n",
       "    <tr>\n",
       "      <th>1</th>\n",
       "      <td>1</td>\n",
       "      <td>0</td>\n",
       "      <td>1</td>\n",
       "      <td>0</td>\n",
       "      <td>0</td>\n",
       "      <td>0</td>\n",
       "      <td>2</td>\n",
       "      <td>0.363478</td>\n",
       "      <td>0.353739</td>\n",
       "      <td>0.696087</td>\n",
       "      <td>0.248539</td>\n",
       "      <td>801</td>\n",
       "    </tr>\n",
       "    <tr>\n",
       "      <th>2</th>\n",
       "      <td>1</td>\n",
       "      <td>0</td>\n",
       "      <td>1</td>\n",
       "      <td>0</td>\n",
       "      <td>1</td>\n",
       "      <td>1</td>\n",
       "      <td>1</td>\n",
       "      <td>0.196364</td>\n",
       "      <td>0.189405</td>\n",
       "      <td>0.437273</td>\n",
       "      <td>0.248309</td>\n",
       "      <td>1349</td>\n",
       "    </tr>\n",
       "    <tr>\n",
       "      <th>3</th>\n",
       "      <td>1</td>\n",
       "      <td>0</td>\n",
       "      <td>1</td>\n",
       "      <td>0</td>\n",
       "      <td>2</td>\n",
       "      <td>1</td>\n",
       "      <td>1</td>\n",
       "      <td>0.200000</td>\n",
       "      <td>0.212122</td>\n",
       "      <td>0.590435</td>\n",
       "      <td>0.160296</td>\n",
       "      <td>1562</td>\n",
       "    </tr>\n",
       "    <tr>\n",
       "      <th>4</th>\n",
       "      <td>1</td>\n",
       "      <td>0</td>\n",
       "      <td>1</td>\n",
       "      <td>0</td>\n",
       "      <td>3</td>\n",
       "      <td>1</td>\n",
       "      <td>1</td>\n",
       "      <td>0.226957</td>\n",
       "      <td>0.229270</td>\n",
       "      <td>0.436957</td>\n",
       "      <td>0.186900</td>\n",
       "      <td>1600</td>\n",
       "    </tr>\n",
       "  </tbody>\n",
       "</table>\n",
       "</div>"
      ],
      "text/plain": [
       "   season  yr  mnth  holiday  weekday  workingday  weathersit      temp  \\\n",
       "0       1   0     1        0        6           0           2  0.344167   \n",
       "1       1   0     1        0        0           0           2  0.363478   \n",
       "2       1   0     1        0        1           1           1  0.196364   \n",
       "3       1   0     1        0        2           1           1  0.200000   \n",
       "4       1   0     1        0        3           1           1  0.226957   \n",
       "\n",
       "      atemp       hum  windspeed   cnt  \n",
       "0  0.363625  0.805833   0.160446   985  \n",
       "1  0.353739  0.696087   0.248539   801  \n",
       "2  0.189405  0.437273   0.248309  1349  \n",
       "3  0.212122  0.590435   0.160296  1562  \n",
       "4  0.229270  0.436957   0.186900  1600  "
      ]
     },
     "execution_count": 8,
     "metadata": {},
     "output_type": "execute_result"
    }
   ],
   "source": [
    "df.head()"
   ]
  },
  {
   "cell_type": "markdown",
   "id": "edb576af",
   "metadata": {
    "papermill": {
     "duration": 0.011319,
     "end_time": "2022-09-30T22:11:55.602924",
     "exception": false,
     "start_time": "2022-09-30T22:11:55.591605",
     "status": "completed"
    },
    "tags": []
   },
   "source": [
    "**Question 4.c)**"
   ]
  },
  {
   "cell_type": "code",
   "execution_count": 9,
   "id": "46f36f1b",
   "metadata": {
    "execution": {
     "iopub.execute_input": "2022-09-30T22:11:55.628792Z",
     "iopub.status.busy": "2022-09-30T22:11:55.628294Z",
     "iopub.status.idle": "2022-09-30T22:11:55.830204Z",
     "shell.execute_reply": "2022-09-30T22:11:55.829076Z"
    },
    "papermill": {
     "duration": 0.218028,
     "end_time": "2022-09-30T22:11:55.832937",
     "exception": false,
     "start_time": "2022-09-30T22:11:55.614909",
     "status": "completed"
    },
    "tags": []
   },
   "outputs": [],
   "source": [
    "import category_encoders as ce"
   ]
  },
  {
   "cell_type": "code",
   "execution_count": 10,
   "id": "9624d790",
   "metadata": {
    "execution": {
     "iopub.execute_input": "2022-09-30T22:11:55.858815Z",
     "iopub.status.busy": "2022-09-30T22:11:55.857969Z",
     "iopub.status.idle": "2022-09-30T22:11:55.863142Z",
     "shell.execute_reply": "2022-09-30T22:11:55.862218Z"
    },
    "papermill": {
     "duration": 0.02102,
     "end_time": "2022-09-30T22:11:55.865742",
     "exception": false,
     "start_time": "2022-09-30T22:11:55.844722",
     "status": "completed"
    },
    "tags": []
   },
   "outputs": [],
   "source": [
    "encoder = ce.OneHotEncoder(cols=('season','yr','mnth','holiday','weekday','weathersit'), use_cat_names = True)"
   ]
  },
  {
   "cell_type": "code",
   "execution_count": 11,
   "id": "66093064",
   "metadata": {
    "_cell_guid": "3ce10598-fcb0-4fd7-9c24-fa3b2502afb3",
    "_uuid": "823c1808-d019-4fde-aee6-e91fbb374e5a",
    "collapsed": false,
    "execution": {
     "iopub.execute_input": "2022-09-30T22:11:55.891342Z",
     "iopub.status.busy": "2022-09-30T22:11:55.890861Z",
     "iopub.status.idle": "2022-09-30T22:11:55.944341Z",
     "shell.execute_reply": "2022-09-30T22:11:55.943136Z"
    },
    "jupyter": {
     "outputs_hidden": false
    },
    "papermill": {
     "duration": 0.069706,
     "end_time": "2022-09-30T22:11:55.947170",
     "exception": false,
     "start_time": "2022-09-30T22:11:55.877464",
     "status": "completed"
    },
    "tags": []
   },
   "outputs": [],
   "source": [
    "from sklearn.model_selection import train_test_split"
   ]
  },
  {
   "cell_type": "code",
   "execution_count": 12,
   "id": "3a7f4290",
   "metadata": {
    "execution": {
     "iopub.execute_input": "2022-09-30T22:11:55.972994Z",
     "iopub.status.busy": "2022-09-30T22:11:55.971979Z",
     "iopub.status.idle": "2022-09-30T22:11:56.067634Z",
     "shell.execute_reply": "2022-09-30T22:11:56.066266Z"
    },
    "papermill": {
     "duration": 0.112322,
     "end_time": "2022-09-30T22:11:56.071350",
     "exception": false,
     "start_time": "2022-09-30T22:11:55.959028",
     "status": "completed"
    },
    "tags": []
   },
   "outputs": [],
   "source": [
    "encoded = encoder.fit_transform(df)\n",
    "new_df = pd.concat([df.drop(['season','yr','mnth','holiday','weekday','weathersit'],axis=1),encoded],axis=1)"
   ]
  },
  {
   "cell_type": "code",
   "execution_count": 13,
   "id": "a9e0133e",
   "metadata": {
    "execution": {
     "iopub.execute_input": "2022-09-30T22:11:56.096633Z",
     "iopub.status.busy": "2022-09-30T22:11:56.096141Z",
     "iopub.status.idle": "2022-09-30T22:11:56.120977Z",
     "shell.execute_reply": "2022-09-30T22:11:56.119752Z"
    },
    "papermill": {
     "duration": 0.040591,
     "end_time": "2022-09-30T22:11:56.123752",
     "exception": false,
     "start_time": "2022-09-30T22:11:56.083161",
     "status": "completed"
    },
    "tags": []
   },
   "outputs": [
    {
     "data": {
      "text/html": [
       "<div>\n",
       "<style scoped>\n",
       "    .dataframe tbody tr th:only-of-type {\n",
       "        vertical-align: middle;\n",
       "    }\n",
       "\n",
       "    .dataframe tbody tr th {\n",
       "        vertical-align: top;\n",
       "    }\n",
       "\n",
       "    .dataframe thead th {\n",
       "        text-align: right;\n",
       "    }\n",
       "</style>\n",
       "<table border=\"1\" class=\"dataframe\">\n",
       "  <thead>\n",
       "    <tr style=\"text-align: right;\">\n",
       "      <th></th>\n",
       "      <th>workingday</th>\n",
       "      <th>temp</th>\n",
       "      <th>atemp</th>\n",
       "      <th>hum</th>\n",
       "      <th>windspeed</th>\n",
       "      <th>cnt</th>\n",
       "      <th>season_1.0</th>\n",
       "      <th>season_2.0</th>\n",
       "      <th>season_3.0</th>\n",
       "      <th>season_4.0</th>\n",
       "      <th>...</th>\n",
       "      <th>weekday_5.0</th>\n",
       "      <th>workingday</th>\n",
       "      <th>weathersit_2.0</th>\n",
       "      <th>weathersit_1.0</th>\n",
       "      <th>weathersit_3.0</th>\n",
       "      <th>temp</th>\n",
       "      <th>atemp</th>\n",
       "      <th>hum</th>\n",
       "      <th>windspeed</th>\n",
       "      <th>cnt</th>\n",
       "    </tr>\n",
       "  </thead>\n",
       "  <tbody>\n",
       "    <tr>\n",
       "      <th>0</th>\n",
       "      <td>0</td>\n",
       "      <td>0.344167</td>\n",
       "      <td>0.363625</td>\n",
       "      <td>0.805833</td>\n",
       "      <td>0.160446</td>\n",
       "      <td>985</td>\n",
       "      <td>1</td>\n",
       "      <td>0</td>\n",
       "      <td>0</td>\n",
       "      <td>0</td>\n",
       "      <td>...</td>\n",
       "      <td>0</td>\n",
       "      <td>0</td>\n",
       "      <td>1</td>\n",
       "      <td>0</td>\n",
       "      <td>0</td>\n",
       "      <td>0.344167</td>\n",
       "      <td>0.363625</td>\n",
       "      <td>0.805833</td>\n",
       "      <td>0.160446</td>\n",
       "      <td>985</td>\n",
       "    </tr>\n",
       "    <tr>\n",
       "      <th>1</th>\n",
       "      <td>0</td>\n",
       "      <td>0.363478</td>\n",
       "      <td>0.353739</td>\n",
       "      <td>0.696087</td>\n",
       "      <td>0.248539</td>\n",
       "      <td>801</td>\n",
       "      <td>1</td>\n",
       "      <td>0</td>\n",
       "      <td>0</td>\n",
       "      <td>0</td>\n",
       "      <td>...</td>\n",
       "      <td>0</td>\n",
       "      <td>0</td>\n",
       "      <td>1</td>\n",
       "      <td>0</td>\n",
       "      <td>0</td>\n",
       "      <td>0.363478</td>\n",
       "      <td>0.353739</td>\n",
       "      <td>0.696087</td>\n",
       "      <td>0.248539</td>\n",
       "      <td>801</td>\n",
       "    </tr>\n",
       "    <tr>\n",
       "      <th>2</th>\n",
       "      <td>1</td>\n",
       "      <td>0.196364</td>\n",
       "      <td>0.189405</td>\n",
       "      <td>0.437273</td>\n",
       "      <td>0.248309</td>\n",
       "      <td>1349</td>\n",
       "      <td>1</td>\n",
       "      <td>0</td>\n",
       "      <td>0</td>\n",
       "      <td>0</td>\n",
       "      <td>...</td>\n",
       "      <td>0</td>\n",
       "      <td>1</td>\n",
       "      <td>0</td>\n",
       "      <td>1</td>\n",
       "      <td>0</td>\n",
       "      <td>0.196364</td>\n",
       "      <td>0.189405</td>\n",
       "      <td>0.437273</td>\n",
       "      <td>0.248309</td>\n",
       "      <td>1349</td>\n",
       "    </tr>\n",
       "    <tr>\n",
       "      <th>3</th>\n",
       "      <td>1</td>\n",
       "      <td>0.200000</td>\n",
       "      <td>0.212122</td>\n",
       "      <td>0.590435</td>\n",
       "      <td>0.160296</td>\n",
       "      <td>1562</td>\n",
       "      <td>1</td>\n",
       "      <td>0</td>\n",
       "      <td>0</td>\n",
       "      <td>0</td>\n",
       "      <td>...</td>\n",
       "      <td>0</td>\n",
       "      <td>1</td>\n",
       "      <td>0</td>\n",
       "      <td>1</td>\n",
       "      <td>0</td>\n",
       "      <td>0.200000</td>\n",
       "      <td>0.212122</td>\n",
       "      <td>0.590435</td>\n",
       "      <td>0.160296</td>\n",
       "      <td>1562</td>\n",
       "    </tr>\n",
       "    <tr>\n",
       "      <th>4</th>\n",
       "      <td>1</td>\n",
       "      <td>0.226957</td>\n",
       "      <td>0.229270</td>\n",
       "      <td>0.436957</td>\n",
       "      <td>0.186900</td>\n",
       "      <td>1600</td>\n",
       "      <td>1</td>\n",
       "      <td>0</td>\n",
       "      <td>0</td>\n",
       "      <td>0</td>\n",
       "      <td>...</td>\n",
       "      <td>0</td>\n",
       "      <td>1</td>\n",
       "      <td>0</td>\n",
       "      <td>1</td>\n",
       "      <td>0</td>\n",
       "      <td>0.226957</td>\n",
       "      <td>0.229270</td>\n",
       "      <td>0.436957</td>\n",
       "      <td>0.186900</td>\n",
       "      <td>1600</td>\n",
       "    </tr>\n",
       "  </tbody>\n",
       "</table>\n",
       "<p>5 rows × 42 columns</p>\n",
       "</div>"
      ],
      "text/plain": [
       "   workingday      temp     atemp       hum  windspeed   cnt  season_1.0  \\\n",
       "0           0  0.344167  0.363625  0.805833   0.160446   985           1   \n",
       "1           0  0.363478  0.353739  0.696087   0.248539   801           1   \n",
       "2           1  0.196364  0.189405  0.437273   0.248309  1349           1   \n",
       "3           1  0.200000  0.212122  0.590435   0.160296  1562           1   \n",
       "4           1  0.226957  0.229270  0.436957   0.186900  1600           1   \n",
       "\n",
       "   season_2.0  season_3.0  season_4.0  ...  weekday_5.0  workingday  \\\n",
       "0           0           0           0  ...            0           0   \n",
       "1           0           0           0  ...            0           0   \n",
       "2           0           0           0  ...            0           1   \n",
       "3           0           0           0  ...            0           1   \n",
       "4           0           0           0  ...            0           1   \n",
       "\n",
       "   weathersit_2.0  weathersit_1.0  weathersit_3.0      temp     atemp  \\\n",
       "0               1               0               0  0.344167  0.363625   \n",
       "1               1               0               0  0.363478  0.353739   \n",
       "2               0               1               0  0.196364  0.189405   \n",
       "3               0               1               0  0.200000  0.212122   \n",
       "4               0               1               0  0.226957  0.229270   \n",
       "\n",
       "        hum  windspeed   cnt  \n",
       "0  0.805833   0.160446   985  \n",
       "1  0.696087   0.248539   801  \n",
       "2  0.437273   0.248309  1349  \n",
       "3  0.590435   0.160296  1562  \n",
       "4  0.436957   0.186900  1600  \n",
       "\n",
       "[5 rows x 42 columns]"
      ]
     },
     "execution_count": 13,
     "metadata": {},
     "output_type": "execute_result"
    }
   ],
   "source": [
    "new_df.head()"
   ]
  },
  {
   "cell_type": "code",
   "execution_count": 14,
   "id": "2b417ba9",
   "metadata": {
    "_cell_guid": "79fda334-0f33-4418-ae63-ba35a23ff066",
    "_uuid": "b792fcab-92ae-4a6e-96c4-7f414e43d505",
    "collapsed": false,
    "execution": {
     "iopub.execute_input": "2022-09-30T22:11:56.149864Z",
     "iopub.status.busy": "2022-09-30T22:11:56.149335Z",
     "iopub.status.idle": "2022-09-30T22:11:56.160806Z",
     "shell.execute_reply": "2022-09-30T22:11:56.159765Z"
    },
    "jupyter": {
     "outputs_hidden": false
    },
    "papermill": {
     "duration": 0.027405,
     "end_time": "2022-09-30T22:11:56.163376",
     "exception": false,
     "start_time": "2022-09-30T22:11:56.135971",
     "status": "completed"
    },
    "tags": []
   },
   "outputs": [],
   "source": [
    "X = new_df.drop(['cnt','workingday'], axis = 1)\n",
    "y = new_df['cnt']"
   ]
  },
  {
   "cell_type": "markdown",
   "id": "aa319d67",
   "metadata": {
    "papermill": {
     "duration": 0.01177,
     "end_time": "2022-09-30T22:11:56.187234",
     "exception": false,
     "start_time": "2022-09-30T22:11:56.175464",
     "status": "completed"
    },
    "tags": []
   },
   "source": [
    "**Workingday** is dropped because it is related with holiday "
   ]
  },
  {
   "cell_type": "code",
   "execution_count": 15,
   "id": "9364f8da",
   "metadata": {
    "_cell_guid": "70659f9d-060f-4279-9c62-9da4d5ca4d75",
    "_uuid": "bbf8619c-ebca-4f2f-81ef-ad4c8ba5e03d",
    "collapsed": false,
    "execution": {
     "iopub.execute_input": "2022-09-30T22:11:56.213813Z",
     "iopub.status.busy": "2022-09-30T22:11:56.213083Z",
     "iopub.status.idle": "2022-09-30T22:11:56.220606Z",
     "shell.execute_reply": "2022-09-30T22:11:56.219724Z"
    },
    "jupyter": {
     "outputs_hidden": false
    },
    "papermill": {
     "duration": 0.023697,
     "end_time": "2022-09-30T22:11:56.223030",
     "exception": false,
     "start_time": "2022-09-30T22:11:56.199333",
     "status": "completed"
    },
    "tags": []
   },
   "outputs": [],
   "source": [
    "X_train, X_test, y_train, y_test = train_test_split(X, y, test_size=0.3, random_state=42)"
   ]
  },
  {
   "cell_type": "code",
   "execution_count": 16,
   "id": "54ec90bb",
   "metadata": {
    "_cell_guid": "8bb57773-01c9-4194-a7cd-6c34adcc6127",
    "_uuid": "f0dc72ff-52ee-483c-91db-24c11e915c73",
    "collapsed": false,
    "execution": {
     "iopub.execute_input": "2022-09-30T22:11:56.255414Z",
     "iopub.status.busy": "2022-09-30T22:11:56.254769Z",
     "iopub.status.idle": "2022-09-30T22:11:56.335098Z",
     "shell.execute_reply": "2022-09-30T22:11:56.333457Z"
    },
    "jupyter": {
     "outputs_hidden": false
    },
    "papermill": {
     "duration": 0.104018,
     "end_time": "2022-09-30T22:11:56.339105",
     "exception": false,
     "start_time": "2022-09-30T22:11:56.235087",
     "status": "completed"
    },
    "tags": []
   },
   "outputs": [],
   "source": [
    "from sklearn.linear_model import LinearRegression"
   ]
  },
  {
   "cell_type": "code",
   "execution_count": 17,
   "id": "1992dfd2",
   "metadata": {
    "_cell_guid": "ccd23d47-34ae-4202-8146-c21f89410662",
    "_uuid": "8d688102-4969-4acf-a23b-4aefbd35247c",
    "collapsed": false,
    "execution": {
     "iopub.execute_input": "2022-09-30T22:11:56.367242Z",
     "iopub.status.busy": "2022-09-30T22:11:56.366720Z",
     "iopub.status.idle": "2022-09-30T22:11:56.371651Z",
     "shell.execute_reply": "2022-09-30T22:11:56.370735Z"
    },
    "jupyter": {
     "outputs_hidden": false
    },
    "papermill": {
     "duration": 0.021037,
     "end_time": "2022-09-30T22:11:56.373942",
     "exception": false,
     "start_time": "2022-09-30T22:11:56.352905",
     "status": "completed"
    },
    "tags": []
   },
   "outputs": [],
   "source": [
    "LR = LinearRegression()"
   ]
  },
  {
   "cell_type": "code",
   "execution_count": 18,
   "id": "27fe2e8c",
   "metadata": {
    "_cell_guid": "0b152974-58db-4c83-a3c2-35776691e45c",
    "_uuid": "530b4383-6391-405f-90e0-9370a002ba80",
    "collapsed": false,
    "execution": {
     "iopub.execute_input": "2022-09-30T22:11:56.401873Z",
     "iopub.status.busy": "2022-09-30T22:11:56.401125Z",
     "iopub.status.idle": "2022-09-30T22:11:56.435220Z",
     "shell.execute_reply": "2022-09-30T22:11:56.433933Z"
    },
    "jupyter": {
     "outputs_hidden": false
    },
    "papermill": {
     "duration": 0.051346,
     "end_time": "2022-09-30T22:11:56.438341",
     "exception": false,
     "start_time": "2022-09-30T22:11:56.386995",
     "status": "completed"
    },
    "tags": []
   },
   "outputs": [
    {
     "data": {
      "text/plain": [
       "LinearRegression()"
      ]
     },
     "execution_count": 18,
     "metadata": {},
     "output_type": "execute_result"
    }
   ],
   "source": [
    "LR.fit(X_train, y_train)"
   ]
  },
  {
   "cell_type": "code",
   "execution_count": 19,
   "id": "6b6dad73",
   "metadata": {
    "execution": {
     "iopub.execute_input": "2022-09-30T22:11:56.483453Z",
     "iopub.status.busy": "2022-09-30T22:11:56.481771Z",
     "iopub.status.idle": "2022-09-30T22:11:56.492720Z",
     "shell.execute_reply": "2022-09-30T22:11:56.491485Z"
    },
    "papermill": {
     "duration": 0.03691,
     "end_time": "2022-09-30T22:11:56.495727",
     "exception": false,
     "start_time": "2022-09-30T22:11:56.458817",
     "status": "completed"
    },
    "tags": []
   },
   "outputs": [
    {
     "data": {
      "text/plain": [
       "array([[-1.22890549e+16,  1.84100000e+03, -6.51938310e+02,\n",
       "        -1.10939306e+03, -9.48828901e+02,  1.09947277e+02,\n",
       "         1.17238032e+02,  7.86377452e+02, -9.91556146e+02,\n",
       "         9.70672074e+02, -7.63143963e+01,  5.96582083e+01,\n",
       "         4.90967465e+02,  8.27721023e+01,  3.26250494e+02,\n",
       "         1.46371573e+01, -5.47520814e+02, -2.31204325e+02,\n",
       "         5.57430099e+02,  1.84265251e+02, -4.26014361e+02,\n",
       "        -3.40743551e+02,  2.85314650e+02, -2.90658400e+02,\n",
       "         1.16649238e+02, -3.42685196e+02, -5.20241838e+01,\n",
       "        -4.69504437e+01,  6.56330329e+01,  6.73055989e+01,\n",
       "         1.36605409e+02,  2.31689529e+02,  7.52749021e+02,\n",
       "        -1.04601562e+03,  1.22890549e+16,  1.90237500e+03,\n",
       "        -6.93437500e+02, -1.15376562e+03],\n",
       "       [-1.22890549e+16,  1.84100000e+03, -6.51938310e+02,\n",
       "        -1.10939306e+03, -9.48828901e+02,  1.09947277e+02,\n",
       "         1.17238032e+02,  7.86377452e+02, -9.91556146e+02,\n",
       "         9.70672074e+02, -7.63143963e+01,  5.96582083e+01,\n",
       "         4.90967465e+02,  8.27721023e+01,  3.26250494e+02,\n",
       "         1.46371573e+01, -5.47520814e+02, -2.31204325e+02,\n",
       "         5.57430099e+02,  1.84265251e+02, -4.26014361e+02,\n",
       "        -3.40743551e+02,  2.85314650e+02, -2.90658400e+02,\n",
       "         1.16649238e+02, -3.42685196e+02, -5.20241838e+01,\n",
       "        -4.69504437e+01,  6.56330329e+01,  6.73055989e+01,\n",
       "         1.36605409e+02,  2.31689529e+02,  7.52749021e+02,\n",
       "        -1.04601562e+03,  1.22890549e+16,  1.90237500e+03,\n",
       "        -6.93437500e+02, -1.15376562e+03]])"
      ]
     },
     "execution_count": 19,
     "metadata": {},
     "output_type": "execute_result"
    }
   ],
   "source": [
    "LR.coef_"
   ]
  },
  {
   "cell_type": "code",
   "execution_count": 20,
   "id": "a7471ad0",
   "metadata": {
    "execution": {
     "iopub.execute_input": "2022-09-30T22:11:56.540245Z",
     "iopub.status.busy": "2022-09-30T22:11:56.539508Z",
     "iopub.status.idle": "2022-09-30T22:11:56.550397Z",
     "shell.execute_reply": "2022-09-30T22:11:56.549166Z"
    },
    "papermill": {
     "duration": 0.036466,
     "end_time": "2022-09-30T22:11:56.553087",
     "exception": false,
     "start_time": "2022-09-30T22:11:56.516621",
     "status": "completed"
    },
    "tags": []
   },
   "outputs": [
    {
     "data": {
      "text/plain": [
       "array(['temp', 'atemp', 'hum', 'windspeed', 'season_1.0', 'season_2.0',\n",
       "       'season_3.0', 'season_4.0', 'yr_0.0', 'yr_1.0', 'mnth_1.0',\n",
       "       'mnth_2.0', 'mnth_3.0', 'mnth_4.0', 'mnth_5.0', 'mnth_6.0',\n",
       "       'mnth_7.0', 'mnth_8.0', 'mnth_9.0', 'mnth_10.0', 'mnth_11.0',\n",
       "       'mnth_12.0', 'holiday_0.0', 'holiday_1.0', 'weekday_6.0',\n",
       "       'weekday_0.0', 'weekday_1.0', 'weekday_2.0', 'weekday_3.0',\n",
       "       'weekday_4.0', 'weekday_5.0', 'weathersit_2.0', 'weathersit_1.0',\n",
       "       'weathersit_3.0', 'temp', 'atemp', 'hum', 'windspeed'],\n",
       "      dtype=object)"
      ]
     },
     "execution_count": 20,
     "metadata": {},
     "output_type": "execute_result"
    }
   ],
   "source": [
    "LR.feature_names_in_"
   ]
  },
  {
   "cell_type": "code",
   "execution_count": 21,
   "id": "1c966e57",
   "metadata": {
    "_cell_guid": "31b8c3bd-3793-493a-a328-6d2a32efe2a9",
    "_uuid": "f27359ee-189f-4579-9493-f7ba484a8505",
    "collapsed": false,
    "execution": {
     "iopub.execute_input": "2022-09-30T22:11:56.579964Z",
     "iopub.status.busy": "2022-09-30T22:11:56.579478Z",
     "iopub.status.idle": "2022-09-30T22:11:56.588805Z",
     "shell.execute_reply": "2022-09-30T22:11:56.587682Z"
    },
    "jupyter": {
     "outputs_hidden": false
    },
    "papermill": {
     "duration": 0.025923,
     "end_time": "2022-09-30T22:11:56.591493",
     "exception": false,
     "start_time": "2022-09-30T22:11:56.565570",
     "status": "completed"
    },
    "tags": []
   },
   "outputs": [],
   "source": [
    "pred = LR.predict(X_train)"
   ]
  },
  {
   "cell_type": "code",
   "execution_count": 22,
   "id": "a42d912b",
   "metadata": {
    "execution": {
     "iopub.execute_input": "2022-09-30T22:11:56.618482Z",
     "iopub.status.busy": "2022-09-30T22:11:56.617576Z",
     "iopub.status.idle": "2022-09-30T22:11:56.623540Z",
     "shell.execute_reply": "2022-09-30T22:11:56.622638Z"
    },
    "papermill": {
     "duration": 0.022025,
     "end_time": "2022-09-30T22:11:56.625968",
     "exception": false,
     "start_time": "2022-09-30T22:11:56.603943",
     "status": "completed"
    },
    "tags": []
   },
   "outputs": [],
   "source": [
    "from sklearn.metrics import mean_squared_error,r2_score"
   ]
  },
  {
   "cell_type": "markdown",
   "id": "d7ce212d",
   "metadata": {
    "papermill": {
     "duration": 0.012574,
     "end_time": "2022-09-30T22:11:56.650967",
     "exception": false,
     "start_time": "2022-09-30T22:11:56.638393",
     "status": "completed"
    },
    "tags": []
   },
   "source": [
    "**Question 4. c)**\n",
    "\n",
    "The rmse and r^2 value for training dataset using Linear Regression and Random Forest are:"
   ]
  },
  {
   "cell_type": "code",
   "execution_count": 23,
   "id": "3f11dec5",
   "metadata": {
    "_cell_guid": "138452f7-ede1-4386-b6f4-26b87dc24bda",
    "_uuid": "15a0d3b5-20c2-49e6-aee1-d068e15f6234",
    "collapsed": false,
    "execution": {
     "iopub.execute_input": "2022-09-30T22:11:56.679470Z",
     "iopub.status.busy": "2022-09-30T22:11:56.678294Z",
     "iopub.status.idle": "2022-09-30T22:11:56.688323Z",
     "shell.execute_reply": "2022-09-30T22:11:56.687178Z"
    },
    "jupyter": {
     "outputs_hidden": false
    },
    "papermill": {
     "duration": 0.026689,
     "end_time": "2022-09-30T22:11:56.690876",
     "exception": false,
     "start_time": "2022-09-30T22:11:56.664187",
     "status": "completed"
    },
    "tags": []
   },
   "outputs": [
    {
     "data": {
      "text/plain": [
       "758.9883042942054"
      ]
     },
     "execution_count": 23,
     "metadata": {},
     "output_type": "execute_result"
    }
   ],
   "source": [
    "mean_squared_error(y_train, pred,squared=False)"
   ]
  },
  {
   "cell_type": "code",
   "execution_count": 24,
   "id": "02cde6a1",
   "metadata": {
    "_cell_guid": "6fab633d-fb85-499b-a3ad-562a0c1fd422",
    "_uuid": "24b978a6-b3b0-4ad2-9277-591433a71fdf",
    "collapsed": false,
    "execution": {
     "iopub.execute_input": "2022-09-30T22:11:56.718645Z",
     "iopub.status.busy": "2022-09-30T22:11:56.717474Z",
     "iopub.status.idle": "2022-09-30T22:11:56.726267Z",
     "shell.execute_reply": "2022-09-30T22:11:56.725307Z"
    },
    "jupyter": {
     "outputs_hidden": false
    },
    "papermill": {
     "duration": 0.024979,
     "end_time": "2022-09-30T22:11:56.728504",
     "exception": false,
     "start_time": "2022-09-30T22:11:56.703525",
     "status": "completed"
    },
    "tags": []
   },
   "outputs": [
    {
     "data": {
      "text/plain": [
       "0.8416931843702429"
      ]
     },
     "execution_count": 24,
     "metadata": {},
     "output_type": "execute_result"
    }
   ],
   "source": [
    "r2_score(y_train, pred)"
   ]
  },
  {
   "cell_type": "code",
   "execution_count": 25,
   "id": "445f5c5d",
   "metadata": {
    "execution": {
     "iopub.execute_input": "2022-09-30T22:11:56.756125Z",
     "iopub.status.busy": "2022-09-30T22:11:56.755143Z",
     "iopub.status.idle": "2022-09-30T22:11:56.893528Z",
     "shell.execute_reply": "2022-09-30T22:11:56.892401Z"
    },
    "papermill": {
     "duration": 0.155258,
     "end_time": "2022-09-30T22:11:56.896440",
     "exception": false,
     "start_time": "2022-09-30T22:11:56.741182",
     "status": "completed"
    },
    "tags": []
   },
   "outputs": [],
   "source": [
    "from sklearn.ensemble import RandomForestRegressor"
   ]
  },
  {
   "cell_type": "code",
   "execution_count": 26,
   "id": "292bf176",
   "metadata": {
    "execution": {
     "iopub.execute_input": "2022-09-30T22:11:56.923492Z",
     "iopub.status.busy": "2022-09-30T22:11:56.923015Z",
     "iopub.status.idle": "2022-09-30T22:11:56.928108Z",
     "shell.execute_reply": "2022-09-30T22:11:56.927128Z"
    },
    "papermill": {
     "duration": 0.020947,
     "end_time": "2022-09-30T22:11:56.930125",
     "exception": false,
     "start_time": "2022-09-30T22:11:56.909178",
     "status": "completed"
    },
    "tags": []
   },
   "outputs": [],
   "source": [
    "RF = RandomForestRegressor()"
   ]
  },
  {
   "cell_type": "code",
   "execution_count": 27,
   "id": "df06829b",
   "metadata": {
    "execution": {
     "iopub.execute_input": "2022-09-30T22:11:56.957762Z",
     "iopub.status.busy": "2022-09-30T22:11:56.956927Z",
     "iopub.status.idle": "2022-09-30T22:11:57.420674Z",
     "shell.execute_reply": "2022-09-30T22:11:57.418938Z"
    },
    "papermill": {
     "duration": 0.481245,
     "end_time": "2022-09-30T22:11:57.424170",
     "exception": false,
     "start_time": "2022-09-30T22:11:56.942925",
     "status": "completed"
    },
    "tags": []
   },
   "outputs": [
    {
     "data": {
      "text/plain": [
       "RandomForestRegressor()"
      ]
     },
     "execution_count": 27,
     "metadata": {},
     "output_type": "execute_result"
    }
   ],
   "source": [
    "RF.fit(X_train,y_train)"
   ]
  },
  {
   "cell_type": "code",
   "execution_count": 28,
   "id": "8504edba",
   "metadata": {
    "execution": {
     "iopub.execute_input": "2022-09-30T22:11:57.451235Z",
     "iopub.status.busy": "2022-09-30T22:11:57.450784Z",
     "iopub.status.idle": "2022-09-30T22:11:57.481971Z",
     "shell.execute_reply": "2022-09-30T22:11:57.480196Z"
    },
    "papermill": {
     "duration": 0.048128,
     "end_time": "2022-09-30T22:11:57.485089",
     "exception": false,
     "start_time": "2022-09-30T22:11:57.436961",
     "status": "completed"
    },
    "tags": []
   },
   "outputs": [
    {
     "data": {
      "text/plain": [
       "274.9877742640868"
      ]
     },
     "execution_count": 28,
     "metadata": {},
     "output_type": "execute_result"
    }
   ],
   "source": [
    "mean_squared_error(y_train, RF.predict(X_train),squared=False)"
   ]
  },
  {
   "cell_type": "code",
   "execution_count": 29,
   "id": "8f02e45e",
   "metadata": {
    "execution": {
     "iopub.execute_input": "2022-09-30T22:11:57.514182Z",
     "iopub.status.busy": "2022-09-30T22:11:57.513272Z",
     "iopub.status.idle": "2022-09-30T22:11:57.545126Z",
     "shell.execute_reply": "2022-09-30T22:11:57.543889Z"
    },
    "papermill": {
     "duration": 0.049154,
     "end_time": "2022-09-30T22:11:57.547793",
     "exception": false,
     "start_time": "2022-09-30T22:11:57.498639",
     "status": "completed"
    },
    "tags": []
   },
   "outputs": [
    {
     "data": {
      "text/plain": [
       "0.9792194892520802"
      ]
     },
     "execution_count": 29,
     "metadata": {},
     "output_type": "execute_result"
    }
   ],
   "source": [
    "r2_score(y_train,RF.predict(X_train))"
   ]
  },
  {
   "cell_type": "code",
   "execution_count": 30,
   "id": "600d0b93",
   "metadata": {
    "_cell_guid": "1103ebfd-5b43-410a-b9e2-f1451641d0c4",
    "_uuid": "3ed5fd52-3240-4b3a-939b-c08e9b301e2e",
    "collapsed": false,
    "execution": {
     "iopub.execute_input": "2022-09-30T22:11:57.575780Z",
     "iopub.status.busy": "2022-09-30T22:11:57.575276Z",
     "iopub.status.idle": "2022-09-30T22:11:57.584960Z",
     "shell.execute_reply": "2022-09-30T22:11:57.583666Z"
    },
    "jupyter": {
     "outputs_hidden": false
    },
    "papermill": {
     "duration": 0.026712,
     "end_time": "2022-09-30T22:11:57.587588",
     "exception": false,
     "start_time": "2022-09-30T22:11:57.560876",
     "status": "completed"
    },
    "tags": []
   },
   "outputs": [],
   "source": [
    "y_pred = LR.predict(X_test)"
   ]
  },
  {
   "cell_type": "markdown",
   "id": "d5cd343d",
   "metadata": {
    "papermill": {
     "duration": 0.0131,
     "end_time": "2022-09-30T22:11:57.613682",
     "exception": false,
     "start_time": "2022-09-30T22:11:57.600582",
     "status": "completed"
    },
    "tags": []
   },
   "source": [
    "**Question 4. d)**\n",
    "\n",
    "The rmse and r^2 value for test using Linear Regression and Random Forest are:"
   ]
  },
  {
   "cell_type": "code",
   "execution_count": 31,
   "id": "3535c109",
   "metadata": {
    "_cell_guid": "0da80469-0753-4ad7-aa41-454724050843",
    "_uuid": "1ef2e5e2-8418-43e0-8697-a72ad6d65f8f",
    "collapsed": false,
    "execution": {
     "iopub.execute_input": "2022-09-30T22:11:57.641284Z",
     "iopub.status.busy": "2022-09-30T22:11:57.640845Z",
     "iopub.status.idle": "2022-09-30T22:11:57.650124Z",
     "shell.execute_reply": "2022-09-30T22:11:57.649035Z"
    },
    "jupyter": {
     "outputs_hidden": false
    },
    "papermill": {
     "duration": 0.025678,
     "end_time": "2022-09-30T22:11:57.652329",
     "exception": false,
     "start_time": "2022-09-30T22:11:57.626651",
     "status": "completed"
    },
    "tags": []
   },
   "outputs": [
    {
     "data": {
      "text/plain": [
       "774.1964948492608"
      ]
     },
     "execution_count": 31,
     "metadata": {},
     "output_type": "execute_result"
    }
   ],
   "source": [
    "mean_squared_error(y_test, y_pred,squared=False)"
   ]
  },
  {
   "cell_type": "code",
   "execution_count": 32,
   "id": "c7bbfd39",
   "metadata": {
    "_cell_guid": "a8435401-5e4c-430d-b807-2f4eb29f8f30",
    "_uuid": "4c590e5c-03c7-4e4c-8a2b-b09d57e17a24",
    "collapsed": false,
    "execution": {
     "iopub.execute_input": "2022-09-30T22:11:57.680306Z",
     "iopub.status.busy": "2022-09-30T22:11:57.679886Z",
     "iopub.status.idle": "2022-09-30T22:11:57.689676Z",
     "shell.execute_reply": "2022-09-30T22:11:57.688389Z"
    },
    "jupyter": {
     "outputs_hidden": false
    },
    "papermill": {
     "duration": 0.026828,
     "end_time": "2022-09-30T22:11:57.692243",
     "exception": false,
     "start_time": "2022-09-30T22:11:57.665415",
     "status": "completed"
    },
    "tags": []
   },
   "outputs": [
    {
     "data": {
      "text/plain": [
       "0.8493628241460262"
      ]
     },
     "execution_count": 32,
     "metadata": {},
     "output_type": "execute_result"
    }
   ],
   "source": [
    "r2_score(y_test,y_pred)"
   ]
  },
  {
   "cell_type": "code",
   "execution_count": 33,
   "id": "4b235346",
   "metadata": {
    "execution": {
     "iopub.execute_input": "2022-09-30T22:11:57.720462Z",
     "iopub.status.busy": "2022-09-30T22:11:57.719970Z",
     "iopub.status.idle": "2022-09-30T22:11:57.964588Z",
     "shell.execute_reply": "2022-09-30T22:11:57.963351Z"
    },
    "papermill": {
     "duration": 0.261939,
     "end_time": "2022-09-30T22:11:57.967366",
     "exception": false,
     "start_time": "2022-09-30T22:11:57.705427",
     "status": "completed"
    },
    "tags": []
   },
   "outputs": [
    {
     "data": {
      "text/plain": [
       "RandomForestRegressor()"
      ]
     },
     "execution_count": 33,
     "metadata": {},
     "output_type": "execute_result"
    }
   ],
   "source": [
    "RF.fit(X_test,y_test)"
   ]
  },
  {
   "cell_type": "code",
   "execution_count": 34,
   "id": "6a715130",
   "metadata": {
    "execution": {
     "iopub.execute_input": "2022-09-30T22:11:57.995793Z",
     "iopub.status.busy": "2022-09-30T22:11:57.995291Z",
     "iopub.status.idle": "2022-09-30T22:11:58.020677Z",
     "shell.execute_reply": "2022-09-30T22:11:58.019190Z"
    },
    "papermill": {
     "duration": 0.042838,
     "end_time": "2022-09-30T22:11:58.023488",
     "exception": false,
     "start_time": "2022-09-30T22:11:57.980650",
     "status": "completed"
    },
    "tags": []
   },
   "outputs": [
    {
     "data": {
      "text/plain": [
       "317.6558029434317"
      ]
     },
     "execution_count": 34,
     "metadata": {},
     "output_type": "execute_result"
    }
   ],
   "source": [
    "mean_squared_error(y_test, RF.predict(X_test),squared=False)"
   ]
  },
  {
   "cell_type": "code",
   "execution_count": 35,
   "id": "a2ad64ff",
   "metadata": {
    "_cell_guid": "bba1bd91-cca0-4bb6-b9e2-6ebb7751d6e9",
    "_uuid": "303ac0d8-c25e-4904-b6aa-377f910fea48",
    "collapsed": false,
    "execution": {
     "iopub.execute_input": "2022-09-30T22:11:58.052029Z",
     "iopub.status.busy": "2022-09-30T22:11:58.051516Z",
     "iopub.status.idle": "2022-09-30T22:11:58.076245Z",
     "shell.execute_reply": "2022-09-30T22:11:58.074943Z"
    },
    "jupyter": {
     "outputs_hidden": false
    },
    "papermill": {
     "duration": 0.042068,
     "end_time": "2022-09-30T22:11:58.079072",
     "exception": false,
     "start_time": "2022-09-30T22:11:58.037004",
     "status": "completed"
    },
    "tags": []
   },
   "outputs": [
    {
     "data": {
      "text/plain": [
       "0.974640344452678"
      ]
     },
     "execution_count": 35,
     "metadata": {},
     "output_type": "execute_result"
    }
   ],
   "source": [
    "r2_score(y_test,RF.predict(X_test))"
   ]
  },
  {
   "cell_type": "markdown",
   "id": "cb144b42",
   "metadata": {
    "_cell_guid": "a0a2b805-7db3-4fb9-b640-2b80a2af8e33",
    "_uuid": "562b49b1-533c-4472-afd1-25fcb73d2edf",
    "papermill": {
     "duration": 0.012973,
     "end_time": "2022-09-30T22:11:58.105649",
     "exception": false,
     "start_time": "2022-09-30T22:11:58.092676",
     "status": "completed"
    },
    "tags": []
   },
   "source": [
    "**Question 4. e)**\n",
    "\n",
    "**atemp and temp these are the features which have significant contribution.**\n",
    "\n",
    "**The model has a good fit with r square value of 0.979 while using Random Forest and 0.849 using Linear Regression.**\n",
    "\n",
    "**The same goes for rmse value.**\n",
    "\n",
    "**This indicates that Random Forest has a better fit as compared to Linear Regression for this model.**\n",
    "\n",
    "**The model fits the data well using Linear Regression which answers to the question how well the model fits.**"
   ]
  },
  {
   "cell_type": "code",
   "execution_count": null,
   "id": "ee94dcdf",
   "metadata": {
    "papermill": {
     "duration": 0.012933,
     "end_time": "2022-09-30T22:11:58.132132",
     "exception": false,
     "start_time": "2022-09-30T22:11:58.119199",
     "status": "completed"
    },
    "tags": []
   },
   "outputs": [],
   "source": []
  }
 ],
 "metadata": {
  "kernelspec": {
   "display_name": "Python 3",
   "language": "python",
   "name": "python3"
  },
  "language_info": {
   "codemirror_mode": {
    "name": "ipython",
    "version": 3
   },
   "file_extension": ".py",
   "mimetype": "text/x-python",
   "name": "python",
   "nbconvert_exporter": "python",
   "pygments_lexer": "ipython3",
   "version": "3.7.12"
  },
  "papermill": {
   "default_parameters": {},
   "duration": 14.342624,
   "end_time": "2022-09-30T22:11:58.969803",
   "environment_variables": {},
   "exception": null,
   "input_path": "__notebook__.ipynb",
   "output_path": "__notebook__.ipynb",
   "parameters": {},
   "start_time": "2022-09-30T22:11:44.627179",
   "version": "2.3.4"
  }
 },
 "nbformat": 4,
 "nbformat_minor": 5
}
