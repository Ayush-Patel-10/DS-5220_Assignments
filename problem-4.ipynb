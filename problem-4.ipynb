{
 "cells": [
  {
   "cell_type": "code",
   "execution_count": 1,
   "id": "8348048a",
   "metadata": {
    "_cell_guid": "7754c37c-cac3-41db-a751-9411d740a623",
    "_uuid": "d1915725-acd3-4f7e-b399-56c66192534c",
    "collapsed": false,
    "execution": {
     "iopub.execute_input": "2022-09-27T15:49:20.270831Z",
     "iopub.status.busy": "2022-09-27T15:49:20.270202Z",
     "iopub.status.idle": "2022-09-27T15:49:20.295055Z",
     "shell.execute_reply": "2022-09-27T15:49:20.293867Z"
    },
    "jupyter": {
     "outputs_hidden": false
    },
    "papermill": {
     "duration": 0.039981,
     "end_time": "2022-09-27T15:49:20.298072",
     "exception": false,
     "start_time": "2022-09-27T15:49:20.258091",
     "status": "completed"
    },
    "tags": []
   },
   "outputs": [
    {
     "name": "stdout",
     "output_type": "stream",
     "text": [
      "/kaggle/input/bike-sharing-dataset/hour.csv\n",
      "/kaggle/input/bike-sharing-dataset/Readme.txt\n",
      "/kaggle/input/bike-sharing-dataset/day.csv\n",
      "/kaggle/input/bike-sharing-dataset/bike-sharing-dataset/hour.csv\n",
      "/kaggle/input/bike-sharing-dataset/bike-sharing-dataset/Readme.txt\n",
      "/kaggle/input/bike-sharing-dataset/bike-sharing-dataset/day.csv\n"
     ]
    }
   ],
   "source": [
    "# This Python 3 environment comes with many helpful analytics libraries installed\n",
    "# It is defined by the kaggle/python Docker image: https://github.com/kaggle/docker-python\n",
    "# For example, here's several helpful packages to load\n",
    "\n",
    "import numpy as np # linear algebra\n",
    "import pandas as pd # data processing, CSV file I/O (e.g. pd.read_csv)\n",
    "\n",
    "# Input data files are available in the read-only \"../input/\" directory\n",
    "# For example, running this (by clicking run or pressing Shift+Enter) will list all files under the input directory\n",
    "\n",
    "import os\n",
    "for dirname, _, filenames in os.walk('/kaggle/input'):\n",
    "    for filename in filenames:\n",
    "        print(os.path.join(dirname, filename))\n",
    "\n",
    "# You can write up to 20GB to the current directory (/kaggle/working/) that gets preserved as output when you create a version using \"Save & Run All\" \n",
    "# You can also write temporary files to /kaggle/temp/, but they won't be saved outside of the current session"
   ]
  },
  {
   "cell_type": "code",
   "execution_count": 2,
   "id": "cf6afd44",
   "metadata": {
    "execution": {
     "iopub.execute_input": "2022-09-27T15:49:20.318415Z",
     "iopub.status.busy": "2022-09-27T15:49:20.317986Z",
     "iopub.status.idle": "2022-09-27T15:49:21.504181Z",
     "shell.execute_reply": "2022-09-27T15:49:21.502910Z"
    },
    "papermill": {
     "duration": 1.199171,
     "end_time": "2022-09-27T15:49:21.507092",
     "exception": false,
     "start_time": "2022-09-27T15:49:20.307921",
     "status": "completed"
    },
    "tags": []
   },
   "outputs": [],
   "source": [
    "from numpy import argmax\n",
    "from sklearn.preprocessing import LabelEncoder\n",
    "from sklearn.preprocessing import OneHotEncoder"
   ]
  },
  {
   "cell_type": "code",
   "execution_count": 3,
   "id": "92e9c4d7",
   "metadata": {
    "_cell_guid": "6e425efa-7eed-4396-a3c0-3ad477f7d8ec",
    "_uuid": "304c716b-f1c2-4e4c-9f61-a7468fc9ceaf",
    "collapsed": false,
    "execution": {
     "iopub.execute_input": "2022-09-27T15:49:21.527487Z",
     "iopub.status.busy": "2022-09-27T15:49:21.525139Z",
     "iopub.status.idle": "2022-09-27T15:49:21.551938Z",
     "shell.execute_reply": "2022-09-27T15:49:21.550876Z"
    },
    "jupyter": {
     "outputs_hidden": false
    },
    "papermill": {
     "duration": 0.038861,
     "end_time": "2022-09-27T15:49:21.554487",
     "exception": false,
     "start_time": "2022-09-27T15:49:21.515626",
     "status": "completed"
    },
    "tags": []
   },
   "outputs": [],
   "source": [
    "df = pd.read_csv(\"../input/bike-sharing-dataset/day.csv\")"
   ]
  },
  {
   "cell_type": "code",
   "execution_count": 4,
   "id": "2a4e45c9",
   "metadata": {
    "_cell_guid": "bb5f6659-f8cb-4e8e-b5b3-440b741b95aa",
    "_uuid": "37a3a90f-ade8-4efb-91d1-13ccaec7e3ff",
    "collapsed": false,
    "execution": {
     "iopub.execute_input": "2022-09-27T15:49:21.574201Z",
     "iopub.status.busy": "2022-09-27T15:49:21.573158Z",
     "iopub.status.idle": "2022-09-27T15:49:21.598717Z",
     "shell.execute_reply": "2022-09-27T15:49:21.597713Z"
    },
    "jupyter": {
     "outputs_hidden": false
    },
    "papermill": {
     "duration": 0.037491,
     "end_time": "2022-09-27T15:49:21.600837",
     "exception": false,
     "start_time": "2022-09-27T15:49:21.563346",
     "status": "completed"
    },
    "tags": []
   },
   "outputs": [
    {
     "data": {
      "text/html": [
       "<div>\n",
       "<style scoped>\n",
       "    .dataframe tbody tr th:only-of-type {\n",
       "        vertical-align: middle;\n",
       "    }\n",
       "\n",
       "    .dataframe tbody tr th {\n",
       "        vertical-align: top;\n",
       "    }\n",
       "\n",
       "    .dataframe thead th {\n",
       "        text-align: right;\n",
       "    }\n",
       "</style>\n",
       "<table border=\"1\" class=\"dataframe\">\n",
       "  <thead>\n",
       "    <tr style=\"text-align: right;\">\n",
       "      <th></th>\n",
       "      <th>instant</th>\n",
       "      <th>dteday</th>\n",
       "      <th>season</th>\n",
       "      <th>yr</th>\n",
       "      <th>mnth</th>\n",
       "      <th>holiday</th>\n",
       "      <th>weekday</th>\n",
       "      <th>workingday</th>\n",
       "      <th>weathersit</th>\n",
       "      <th>temp</th>\n",
       "      <th>atemp</th>\n",
       "      <th>hum</th>\n",
       "      <th>windspeed</th>\n",
       "      <th>casual</th>\n",
       "      <th>registered</th>\n",
       "      <th>cnt</th>\n",
       "    </tr>\n",
       "  </thead>\n",
       "  <tbody>\n",
       "    <tr>\n",
       "      <th>0</th>\n",
       "      <td>1</td>\n",
       "      <td>2011-01-01</td>\n",
       "      <td>1</td>\n",
       "      <td>0</td>\n",
       "      <td>1</td>\n",
       "      <td>0</td>\n",
       "      <td>6</td>\n",
       "      <td>0</td>\n",
       "      <td>2</td>\n",
       "      <td>0.344167</td>\n",
       "      <td>0.363625</td>\n",
       "      <td>0.805833</td>\n",
       "      <td>0.160446</td>\n",
       "      <td>331</td>\n",
       "      <td>654</td>\n",
       "      <td>985</td>\n",
       "    </tr>\n",
       "    <tr>\n",
       "      <th>1</th>\n",
       "      <td>2</td>\n",
       "      <td>2011-01-02</td>\n",
       "      <td>1</td>\n",
       "      <td>0</td>\n",
       "      <td>1</td>\n",
       "      <td>0</td>\n",
       "      <td>0</td>\n",
       "      <td>0</td>\n",
       "      <td>2</td>\n",
       "      <td>0.363478</td>\n",
       "      <td>0.353739</td>\n",
       "      <td>0.696087</td>\n",
       "      <td>0.248539</td>\n",
       "      <td>131</td>\n",
       "      <td>670</td>\n",
       "      <td>801</td>\n",
       "    </tr>\n",
       "    <tr>\n",
       "      <th>2</th>\n",
       "      <td>3</td>\n",
       "      <td>2011-01-03</td>\n",
       "      <td>1</td>\n",
       "      <td>0</td>\n",
       "      <td>1</td>\n",
       "      <td>0</td>\n",
       "      <td>1</td>\n",
       "      <td>1</td>\n",
       "      <td>1</td>\n",
       "      <td>0.196364</td>\n",
       "      <td>0.189405</td>\n",
       "      <td>0.437273</td>\n",
       "      <td>0.248309</td>\n",
       "      <td>120</td>\n",
       "      <td>1229</td>\n",
       "      <td>1349</td>\n",
       "    </tr>\n",
       "    <tr>\n",
       "      <th>3</th>\n",
       "      <td>4</td>\n",
       "      <td>2011-01-04</td>\n",
       "      <td>1</td>\n",
       "      <td>0</td>\n",
       "      <td>1</td>\n",
       "      <td>0</td>\n",
       "      <td>2</td>\n",
       "      <td>1</td>\n",
       "      <td>1</td>\n",
       "      <td>0.200000</td>\n",
       "      <td>0.212122</td>\n",
       "      <td>0.590435</td>\n",
       "      <td>0.160296</td>\n",
       "      <td>108</td>\n",
       "      <td>1454</td>\n",
       "      <td>1562</td>\n",
       "    </tr>\n",
       "    <tr>\n",
       "      <th>4</th>\n",
       "      <td>5</td>\n",
       "      <td>2011-01-05</td>\n",
       "      <td>1</td>\n",
       "      <td>0</td>\n",
       "      <td>1</td>\n",
       "      <td>0</td>\n",
       "      <td>3</td>\n",
       "      <td>1</td>\n",
       "      <td>1</td>\n",
       "      <td>0.226957</td>\n",
       "      <td>0.229270</td>\n",
       "      <td>0.436957</td>\n",
       "      <td>0.186900</td>\n",
       "      <td>82</td>\n",
       "      <td>1518</td>\n",
       "      <td>1600</td>\n",
       "    </tr>\n",
       "  </tbody>\n",
       "</table>\n",
       "</div>"
      ],
      "text/plain": [
       "   instant      dteday  season  yr  mnth  holiday  weekday  workingday  \\\n",
       "0        1  2011-01-01       1   0     1        0        6           0   \n",
       "1        2  2011-01-02       1   0     1        0        0           0   \n",
       "2        3  2011-01-03       1   0     1        0        1           1   \n",
       "3        4  2011-01-04       1   0     1        0        2           1   \n",
       "4        5  2011-01-05       1   0     1        0        3           1   \n",
       "\n",
       "   weathersit      temp     atemp       hum  windspeed  casual  registered  \\\n",
       "0           2  0.344167  0.363625  0.805833   0.160446     331         654   \n",
       "1           2  0.363478  0.353739  0.696087   0.248539     131         670   \n",
       "2           1  0.196364  0.189405  0.437273   0.248309     120        1229   \n",
       "3           1  0.200000  0.212122  0.590435   0.160296     108        1454   \n",
       "4           1  0.226957  0.229270  0.436957   0.186900      82        1518   \n",
       "\n",
       "    cnt  \n",
       "0   985  \n",
       "1   801  \n",
       "2  1349  \n",
       "3  1562  \n",
       "4  1600  "
      ]
     },
     "execution_count": 4,
     "metadata": {},
     "output_type": "execute_result"
    }
   ],
   "source": [
    "df.head()"
   ]
  },
  {
   "cell_type": "code",
   "execution_count": 5,
   "id": "e369941a",
   "metadata": {
    "_cell_guid": "21d1485a-1cc5-4a19-8b61-a3224156fe31",
    "_uuid": "2bcc139d-d84e-4c87-83d5-e25f9bd22d14",
    "collapsed": false,
    "execution": {
     "iopub.execute_input": "2022-09-27T15:49:21.620620Z",
     "iopub.status.busy": "2022-09-27T15:49:21.619896Z",
     "iopub.status.idle": "2022-09-27T15:49:21.625995Z",
     "shell.execute_reply": "2022-09-27T15:49:21.625181Z"
    },
    "jupyter": {
     "outputs_hidden": false
    },
    "papermill": {
     "duration": 0.018768,
     "end_time": "2022-09-27T15:49:21.628463",
     "exception": false,
     "start_time": "2022-09-27T15:49:21.609695",
     "status": "completed"
    },
    "tags": []
   },
   "outputs": [
    {
     "data": {
      "text/plain": [
       "Index(['instant', 'dteday', 'season', 'yr', 'mnth', 'holiday', 'weekday',\n",
       "       'workingday', 'weathersit', 'temp', 'atemp', 'hum', 'windspeed',\n",
       "       'casual', 'registered', 'cnt'],\n",
       "      dtype='object')"
      ]
     },
     "execution_count": 5,
     "metadata": {},
     "output_type": "execute_result"
    }
   ],
   "source": [
    "df.columns"
   ]
  },
  {
   "cell_type": "code",
   "execution_count": 6,
   "id": "2f6d70a4",
   "metadata": {
    "_cell_guid": "2b6b464d-7d10-49a3-8aa3-bcb863e2b9f1",
    "_uuid": "b87f031a-4cef-40da-abc0-b60c77923a1f",
    "collapsed": false,
    "execution": {
     "iopub.execute_input": "2022-09-27T15:49:21.649391Z",
     "iopub.status.busy": "2022-09-27T15:49:21.648955Z",
     "iopub.status.idle": "2022-09-27T15:49:21.666782Z",
     "shell.execute_reply": "2022-09-27T15:49:21.665822Z"
    },
    "jupyter": {
     "outputs_hidden": false
    },
    "papermill": {
     "duration": 0.030215,
     "end_time": "2022-09-27T15:49:21.669053",
     "exception": false,
     "start_time": "2022-09-27T15:49:21.638838",
     "status": "completed"
    },
    "tags": []
   },
   "outputs": [],
   "source": [
    "df.drop(['instant', 'dteday'], inplace=True ,axis=1)"
   ]
  },
  {
   "cell_type": "code",
   "execution_count": 7,
   "id": "d80db100",
   "metadata": {
    "_cell_guid": "b17ee383-55e6-41bc-9b0a-37bb7441fdfb",
    "_uuid": "e1bc743e-4617-45e2-acab-4f5d699c0bd4",
    "collapsed": false,
    "execution": {
     "iopub.execute_input": "2022-09-27T15:49:21.688741Z",
     "iopub.status.busy": "2022-09-27T15:49:21.688105Z",
     "iopub.status.idle": "2022-09-27T15:49:21.712084Z",
     "shell.execute_reply": "2022-09-27T15:49:21.710646Z"
    },
    "jupyter": {
     "outputs_hidden": false
    },
    "papermill": {
     "duration": 0.037206,
     "end_time": "2022-09-27T15:49:21.714968",
     "exception": false,
     "start_time": "2022-09-27T15:49:21.677762",
     "status": "completed"
    },
    "tags": []
   },
   "outputs": [
    {
     "name": "stdout",
     "output_type": "stream",
     "text": [
      "season        0.406100\n",
      "yr            0.566710\n",
      "mnth          0.279977\n",
      "holiday      -0.068348\n",
      "weekday       0.067443\n",
      "workingday    0.061156\n",
      "weathersit   -0.297391\n",
      "temp          0.627494\n",
      "atemp         0.631066\n",
      "hum          -0.100659\n",
      "windspeed    -0.234545\n",
      "casual        0.672804\n",
      "registered    0.945517\n",
      "cnt           1.000000\n",
      "dtype: float64\n"
     ]
    }
   ],
   "source": [
    "correlations = df.corrwith(df['cnt'])\n",
    "print(correlations)"
   ]
  },
  {
   "cell_type": "markdown",
   "id": "6fd59bc7",
   "metadata": {
    "_cell_guid": "8aba4077-ca1d-4984-ab9d-cd3da0a8b987",
    "_uuid": "6dfe76cf-8efb-4865-aa4a-a26964bd05bc",
    "papermill": {
     "duration": 0.008672,
     "end_time": "2022-09-27T15:49:21.732585",
     "exception": false,
     "start_time": "2022-09-27T15:49:21.723913",
     "status": "completed"
    },
    "tags": []
   },
   "source": [
    "Features with positive correlation are: \n",
    "* **season**\n",
    "* **yr**: year\n",
    "* **mnth**: mmonths\n",
    "* **weekday**: days of the week\n",
    "* **workingday**: whether the day is neither a weekend nor holiday\n",
    "* **temp**: temperature in Celsius\n",
    "* **atemp**: \"feels like\" temperature in Celsius\n",
    "* **casual**: number of non-registered user rentals initiated\n",
    "* **registered**: number of registered user rentals initiated\n",
    "\n",
    "The feature with highest correlation is **'registered'**."
   ]
  },
  {
   "cell_type": "markdown",
   "id": "7f385ef0",
   "metadata": {
    "_cell_guid": "01170ec7-7229-419f-8875-4419f9890731",
    "_uuid": "c7bc3fd5-ea51-43e0-a449-3b6ae3d2272e",
    "papermill": {
     "duration": 0.008781,
     "end_time": "2022-09-27T15:49:21.750322",
     "exception": false,
     "start_time": "2022-09-27T15:49:21.741541",
     "status": "completed"
    },
    "tags": []
   },
   "source": [
    "Features with negative correlation are: \n",
    "* **holiday**: whether the day is considered a holiday\n",
    "* **weathersit**\n",
    "* **hum**: humidity\n",
    "* **windspeed**"
   ]
  },
  {
   "cell_type": "code",
   "execution_count": 8,
   "id": "3099b475",
   "metadata": {
    "execution": {
     "iopub.execute_input": "2022-09-27T15:49:21.770566Z",
     "iopub.status.busy": "2022-09-27T15:49:21.770130Z",
     "iopub.status.idle": "2022-09-27T15:49:21.778341Z",
     "shell.execute_reply": "2022-09-27T15:49:21.777002Z"
    },
    "papermill": {
     "duration": 0.021084,
     "end_time": "2022-09-27T15:49:21.780926",
     "exception": false,
     "start_time": "2022-09-27T15:49:21.759842",
     "status": "completed"
    },
    "tags": []
   },
   "outputs": [],
   "source": [
    "df.drop(['casual', 'registered'], inplace=True ,axis=1)"
   ]
  },
  {
   "cell_type": "code",
   "execution_count": 9,
   "id": "0958e3a9",
   "metadata": {
    "execution": {
     "iopub.execute_input": "2022-09-27T15:49:21.800951Z",
     "iopub.status.busy": "2022-09-27T15:49:21.800520Z",
     "iopub.status.idle": "2022-09-27T15:49:21.817269Z",
     "shell.execute_reply": "2022-09-27T15:49:21.816173Z"
    },
    "papermill": {
     "duration": 0.029752,
     "end_time": "2022-09-27T15:49:21.819677",
     "exception": false,
     "start_time": "2022-09-27T15:49:21.789925",
     "status": "completed"
    },
    "tags": []
   },
   "outputs": [
    {
     "data": {
      "text/html": [
       "<div>\n",
       "<style scoped>\n",
       "    .dataframe tbody tr th:only-of-type {\n",
       "        vertical-align: middle;\n",
       "    }\n",
       "\n",
       "    .dataframe tbody tr th {\n",
       "        vertical-align: top;\n",
       "    }\n",
       "\n",
       "    .dataframe thead th {\n",
       "        text-align: right;\n",
       "    }\n",
       "</style>\n",
       "<table border=\"1\" class=\"dataframe\">\n",
       "  <thead>\n",
       "    <tr style=\"text-align: right;\">\n",
       "      <th></th>\n",
       "      <th>season</th>\n",
       "      <th>yr</th>\n",
       "      <th>mnth</th>\n",
       "      <th>holiday</th>\n",
       "      <th>weekday</th>\n",
       "      <th>workingday</th>\n",
       "      <th>weathersit</th>\n",
       "      <th>temp</th>\n",
       "      <th>atemp</th>\n",
       "      <th>hum</th>\n",
       "      <th>windspeed</th>\n",
       "      <th>cnt</th>\n",
       "    </tr>\n",
       "  </thead>\n",
       "  <tbody>\n",
       "    <tr>\n",
       "      <th>0</th>\n",
       "      <td>1</td>\n",
       "      <td>0</td>\n",
       "      <td>1</td>\n",
       "      <td>0</td>\n",
       "      <td>6</td>\n",
       "      <td>0</td>\n",
       "      <td>2</td>\n",
       "      <td>0.344167</td>\n",
       "      <td>0.363625</td>\n",
       "      <td>0.805833</td>\n",
       "      <td>0.160446</td>\n",
       "      <td>985</td>\n",
       "    </tr>\n",
       "    <tr>\n",
       "      <th>1</th>\n",
       "      <td>1</td>\n",
       "      <td>0</td>\n",
       "      <td>1</td>\n",
       "      <td>0</td>\n",
       "      <td>0</td>\n",
       "      <td>0</td>\n",
       "      <td>2</td>\n",
       "      <td>0.363478</td>\n",
       "      <td>0.353739</td>\n",
       "      <td>0.696087</td>\n",
       "      <td>0.248539</td>\n",
       "      <td>801</td>\n",
       "    </tr>\n",
       "    <tr>\n",
       "      <th>2</th>\n",
       "      <td>1</td>\n",
       "      <td>0</td>\n",
       "      <td>1</td>\n",
       "      <td>0</td>\n",
       "      <td>1</td>\n",
       "      <td>1</td>\n",
       "      <td>1</td>\n",
       "      <td>0.196364</td>\n",
       "      <td>0.189405</td>\n",
       "      <td>0.437273</td>\n",
       "      <td>0.248309</td>\n",
       "      <td>1349</td>\n",
       "    </tr>\n",
       "    <tr>\n",
       "      <th>3</th>\n",
       "      <td>1</td>\n",
       "      <td>0</td>\n",
       "      <td>1</td>\n",
       "      <td>0</td>\n",
       "      <td>2</td>\n",
       "      <td>1</td>\n",
       "      <td>1</td>\n",
       "      <td>0.200000</td>\n",
       "      <td>0.212122</td>\n",
       "      <td>0.590435</td>\n",
       "      <td>0.160296</td>\n",
       "      <td>1562</td>\n",
       "    </tr>\n",
       "    <tr>\n",
       "      <th>4</th>\n",
       "      <td>1</td>\n",
       "      <td>0</td>\n",
       "      <td>1</td>\n",
       "      <td>0</td>\n",
       "      <td>3</td>\n",
       "      <td>1</td>\n",
       "      <td>1</td>\n",
       "      <td>0.226957</td>\n",
       "      <td>0.229270</td>\n",
       "      <td>0.436957</td>\n",
       "      <td>0.186900</td>\n",
       "      <td>1600</td>\n",
       "    </tr>\n",
       "  </tbody>\n",
       "</table>\n",
       "</div>"
      ],
      "text/plain": [
       "   season  yr  mnth  holiday  weekday  workingday  weathersit      temp  \\\n",
       "0       1   0     1        0        6           0           2  0.344167   \n",
       "1       1   0     1        0        0           0           2  0.363478   \n",
       "2       1   0     1        0        1           1           1  0.196364   \n",
       "3       1   0     1        0        2           1           1  0.200000   \n",
       "4       1   0     1        0        3           1           1  0.226957   \n",
       "\n",
       "      atemp       hum  windspeed   cnt  \n",
       "0  0.363625  0.805833   0.160446   985  \n",
       "1  0.353739  0.696087   0.248539   801  \n",
       "2  0.189405  0.437273   0.248309  1349  \n",
       "3  0.212122  0.590435   0.160296  1562  \n",
       "4  0.229270  0.436957   0.186900  1600  "
      ]
     },
     "execution_count": 9,
     "metadata": {},
     "output_type": "execute_result"
    }
   ],
   "source": [
    "df.head()\n"
   ]
  },
  {
   "cell_type": "code",
   "execution_count": 10,
   "id": "a80678e7",
   "metadata": {
    "execution": {
     "iopub.execute_input": "2022-09-27T15:49:21.840055Z",
     "iopub.status.busy": "2022-09-27T15:49:21.839299Z",
     "iopub.status.idle": "2022-09-27T15:49:22.079532Z",
     "shell.execute_reply": "2022-09-27T15:49:22.078047Z"
    },
    "papermill": {
     "duration": 0.253964,
     "end_time": "2022-09-27T15:49:22.082708",
     "exception": false,
     "start_time": "2022-09-27T15:49:21.828744",
     "status": "completed"
    },
    "tags": []
   },
   "outputs": [],
   "source": [
    "import category_encoders as ce"
   ]
  },
  {
   "cell_type": "code",
   "execution_count": 11,
   "id": "d0de1e48",
   "metadata": {
    "execution": {
     "iopub.execute_input": "2022-09-27T15:49:22.102806Z",
     "iopub.status.busy": "2022-09-27T15:49:22.102351Z",
     "iopub.status.idle": "2022-09-27T15:49:22.108510Z",
     "shell.execute_reply": "2022-09-27T15:49:22.107321Z"
    },
    "papermill": {
     "duration": 0.019086,
     "end_time": "2022-09-27T15:49:22.110978",
     "exception": false,
     "start_time": "2022-09-27T15:49:22.091892",
     "status": "completed"
    },
    "tags": []
   },
   "outputs": [],
   "source": [
    "encoder = ce.OneHotEncoder(cols=('season','yr','mnth','holiday','weekday','workingday','weathersit','temp','atemp','hum','windspeed','cnt'), use_cat_names = True)"
   ]
  },
  {
   "cell_type": "code",
   "execution_count": 12,
   "id": "a41a8f64",
   "metadata": {
    "_cell_guid": "3ce10598-fcb0-4fd7-9c24-fa3b2502afb3",
    "_uuid": "823c1808-d019-4fde-aee6-e91fbb374e5a",
    "collapsed": false,
    "execution": {
     "iopub.execute_input": "2022-09-27T15:49:22.131439Z",
     "iopub.status.busy": "2022-09-27T15:49:22.131037Z",
     "iopub.status.idle": "2022-09-27T15:49:22.196694Z",
     "shell.execute_reply": "2022-09-27T15:49:22.195039Z"
    },
    "jupyter": {
     "outputs_hidden": false
    },
    "papermill": {
     "duration": 0.079631,
     "end_time": "2022-09-27T15:49:22.199782",
     "exception": false,
     "start_time": "2022-09-27T15:49:22.120151",
     "status": "completed"
    },
    "tags": []
   },
   "outputs": [],
   "source": [
    "from sklearn.model_selection import train_test_split\n"
   ]
  },
  {
   "cell_type": "code",
   "execution_count": 13,
   "id": "7b819eeb",
   "metadata": {
    "execution": {
     "iopub.execute_input": "2022-09-27T15:49:22.220177Z",
     "iopub.status.busy": "2022-09-27T15:49:22.219800Z",
     "iopub.status.idle": "2022-09-27T15:49:22.226800Z",
     "shell.execute_reply": "2022-09-27T15:49:22.225710Z"
    },
    "papermill": {
     "duration": 0.020078,
     "end_time": "2022-09-27T15:49:22.229339",
     "exception": false,
     "start_time": "2022-09-27T15:49:22.209261",
     "status": "completed"
    },
    "tags": []
   },
   "outputs": [],
   "source": [
    "train, test = train_test_split(df, random_state=42)"
   ]
  },
  {
   "cell_type": "code",
   "execution_count": 14,
   "id": "4cc174b1",
   "metadata": {
    "execution": {
     "iopub.execute_input": "2022-09-27T15:49:22.249333Z",
     "iopub.status.busy": "2022-09-27T15:49:22.248920Z",
     "iopub.status.idle": "2022-09-27T15:49:22.493996Z",
     "shell.execute_reply": "2022-09-27T15:49:22.492728Z"
    },
    "papermill": {
     "duration": 0.258453,
     "end_time": "2022-09-27T15:49:22.496913",
     "exception": false,
     "start_time": "2022-09-27T15:49:22.238460",
     "status": "completed"
    },
    "tags": []
   },
   "outputs": [],
   "source": [
    "train_encoded = encoder.fit_transform(train)"
   ]
  },
  {
   "cell_type": "code",
   "execution_count": 15,
   "id": "74f2c637",
   "metadata": {
    "execution": {
     "iopub.execute_input": "2022-09-27T15:49:22.516746Z",
     "iopub.status.busy": "2022-09-27T15:49:22.516351Z",
     "iopub.status.idle": "2022-09-27T15:49:22.536289Z",
     "shell.execute_reply": "2022-09-27T15:49:22.534755Z"
    },
    "papermill": {
     "duration": 0.032339,
     "end_time": "2022-09-27T15:49:22.538439",
     "exception": false,
     "start_time": "2022-09-27T15:49:22.506100",
     "status": "completed"
    },
    "tags": []
   },
   "outputs": [
    {
     "data": {
      "text/html": [
       "<div>\n",
       "<style scoped>\n",
       "    .dataframe tbody tr th:only-of-type {\n",
       "        vertical-align: middle;\n",
       "    }\n",
       "\n",
       "    .dataframe tbody tr th {\n",
       "        vertical-align: top;\n",
       "    }\n",
       "\n",
       "    .dataframe thead th {\n",
       "        text-align: right;\n",
       "    }\n",
       "</style>\n",
       "<table border=\"1\" class=\"dataframe\">\n",
       "  <thead>\n",
       "    <tr style=\"text-align: right;\">\n",
       "      <th></th>\n",
       "      <th>season_4.0</th>\n",
       "      <th>season_2.0</th>\n",
       "      <th>season_1.0</th>\n",
       "      <th>season_3.0</th>\n",
       "      <th>yr_1.0</th>\n",
       "      <th>yr_0.0</th>\n",
       "      <th>mnth_11.0</th>\n",
       "      <th>mnth_10.0</th>\n",
       "      <th>mnth_9.0</th>\n",
       "      <th>mnth_6.0</th>\n",
       "      <th>...</th>\n",
       "      <th>cnt_3574.0</th>\n",
       "      <th>cnt_4862.0</th>\n",
       "      <th>cnt_4401.0</th>\n",
       "      <th>cnt_6203.0</th>\n",
       "      <th>cnt_1543.0</th>\n",
       "      <th>cnt_2417.0</th>\n",
       "      <th>cnt_3744.0</th>\n",
       "      <th>cnt_3907.0</th>\n",
       "      <th>cnt_4911.0</th>\n",
       "      <th>cnt_2162.0</th>\n",
       "    </tr>\n",
       "  </thead>\n",
       "  <tbody>\n",
       "    <tr>\n",
       "      <th>688</th>\n",
       "      <td>1</td>\n",
       "      <td>0</td>\n",
       "      <td>0</td>\n",
       "      <td>0</td>\n",
       "      <td>1</td>\n",
       "      <td>0</td>\n",
       "      <td>1</td>\n",
       "      <td>0</td>\n",
       "      <td>0</td>\n",
       "      <td>0</td>\n",
       "      <td>...</td>\n",
       "      <td>0</td>\n",
       "      <td>0</td>\n",
       "      <td>0</td>\n",
       "      <td>0</td>\n",
       "      <td>0</td>\n",
       "      <td>0</td>\n",
       "      <td>0</td>\n",
       "      <td>0</td>\n",
       "      <td>0</td>\n",
       "      <td>0</td>\n",
       "    </tr>\n",
       "    <tr>\n",
       "      <th>649</th>\n",
       "      <td>1</td>\n",
       "      <td>0</td>\n",
       "      <td>0</td>\n",
       "      <td>0</td>\n",
       "      <td>1</td>\n",
       "      <td>0</td>\n",
       "      <td>0</td>\n",
       "      <td>1</td>\n",
       "      <td>0</td>\n",
       "      <td>0</td>\n",
       "      <td>...</td>\n",
       "      <td>0</td>\n",
       "      <td>0</td>\n",
       "      <td>0</td>\n",
       "      <td>0</td>\n",
       "      <td>0</td>\n",
       "      <td>0</td>\n",
       "      <td>0</td>\n",
       "      <td>0</td>\n",
       "      <td>0</td>\n",
       "      <td>0</td>\n",
       "    </tr>\n",
       "    <tr>\n",
       "      <th>637</th>\n",
       "      <td>1</td>\n",
       "      <td>0</td>\n",
       "      <td>0</td>\n",
       "      <td>0</td>\n",
       "      <td>1</td>\n",
       "      <td>0</td>\n",
       "      <td>0</td>\n",
       "      <td>0</td>\n",
       "      <td>1</td>\n",
       "      <td>0</td>\n",
       "      <td>...</td>\n",
       "      <td>0</td>\n",
       "      <td>0</td>\n",
       "      <td>0</td>\n",
       "      <td>0</td>\n",
       "      <td>0</td>\n",
       "      <td>0</td>\n",
       "      <td>0</td>\n",
       "      <td>0</td>\n",
       "      <td>0</td>\n",
       "      <td>0</td>\n",
       "    </tr>\n",
       "    <tr>\n",
       "      <th>525</th>\n",
       "      <td>0</td>\n",
       "      <td>1</td>\n",
       "      <td>0</td>\n",
       "      <td>0</td>\n",
       "      <td>1</td>\n",
       "      <td>0</td>\n",
       "      <td>0</td>\n",
       "      <td>0</td>\n",
       "      <td>0</td>\n",
       "      <td>1</td>\n",
       "      <td>...</td>\n",
       "      <td>0</td>\n",
       "      <td>0</td>\n",
       "      <td>0</td>\n",
       "      <td>0</td>\n",
       "      <td>0</td>\n",
       "      <td>0</td>\n",
       "      <td>0</td>\n",
       "      <td>0</td>\n",
       "      <td>0</td>\n",
       "      <td>0</td>\n",
       "    </tr>\n",
       "    <tr>\n",
       "      <th>367</th>\n",
       "      <td>0</td>\n",
       "      <td>0</td>\n",
       "      <td>1</td>\n",
       "      <td>0</td>\n",
       "      <td>1</td>\n",
       "      <td>0</td>\n",
       "      <td>0</td>\n",
       "      <td>0</td>\n",
       "      <td>0</td>\n",
       "      <td>0</td>\n",
       "      <td>...</td>\n",
       "      <td>0</td>\n",
       "      <td>0</td>\n",
       "      <td>0</td>\n",
       "      <td>0</td>\n",
       "      <td>0</td>\n",
       "      <td>0</td>\n",
       "      <td>0</td>\n",
       "      <td>0</td>\n",
       "      <td>0</td>\n",
       "      <td>0</td>\n",
       "    </tr>\n",
       "  </tbody>\n",
       "</table>\n",
       "<p>5 rows × 2457 columns</p>\n",
       "</div>"
      ],
      "text/plain": [
       "     season_4.0  season_2.0  season_1.0  season_3.0  yr_1.0  yr_0.0  \\\n",
       "688           1           0           0           0       1       0   \n",
       "649           1           0           0           0       1       0   \n",
       "637           1           0           0           0       1       0   \n",
       "525           0           1           0           0       1       0   \n",
       "367           0           0           1           0       1       0   \n",
       "\n",
       "     mnth_11.0  mnth_10.0  mnth_9.0  mnth_6.0  ...  cnt_3574.0  cnt_4862.0  \\\n",
       "688          1          0         0         0  ...           0           0   \n",
       "649          0          1         0         0  ...           0           0   \n",
       "637          0          0         1         0  ...           0           0   \n",
       "525          0          0         0         1  ...           0           0   \n",
       "367          0          0         0         0  ...           0           0   \n",
       "\n",
       "     cnt_4401.0  cnt_6203.0  cnt_1543.0  cnt_2417.0  cnt_3744.0  cnt_3907.0  \\\n",
       "688           0           0           0           0           0           0   \n",
       "649           0           0           0           0           0           0   \n",
       "637           0           0           0           0           0           0   \n",
       "525           0           0           0           0           0           0   \n",
       "367           0           0           0           0           0           0   \n",
       "\n",
       "     cnt_4911.0  cnt_2162.0  \n",
       "688           0           0  \n",
       "649           0           0  \n",
       "637           0           0  \n",
       "525           0           0  \n",
       "367           0           0  \n",
       "\n",
       "[5 rows x 2457 columns]"
      ]
     },
     "execution_count": 15,
     "metadata": {},
     "output_type": "execute_result"
    }
   ],
   "source": [
    "train_encoded.head()"
   ]
  },
  {
   "cell_type": "code",
   "execution_count": 16,
   "id": "c2746bb8",
   "metadata": {
    "_cell_guid": "79fda334-0f33-4418-ae63-ba35a23ff066",
    "_uuid": "b792fcab-92ae-4a6e-96c4-7f414e43d505",
    "collapsed": false,
    "execution": {
     "iopub.execute_input": "2022-09-27T15:49:22.559968Z",
     "iopub.status.busy": "2022-09-27T15:49:22.559184Z",
     "iopub.status.idle": "2022-09-27T15:49:22.565096Z",
     "shell.execute_reply": "2022-09-27T15:49:22.563978Z"
    },
    "jupyter": {
     "outputs_hidden": false
    },
    "papermill": {
     "duration": 0.019506,
     "end_time": "2022-09-27T15:49:22.567482",
     "exception": false,
     "start_time": "2022-09-27T15:49:22.547976",
     "status": "completed"
    },
    "tags": []
   },
   "outputs": [],
   "source": [
    "X = df.drop('cnt', axis = 1)\n",
    "y = df['cnt']"
   ]
  },
  {
   "cell_type": "code",
   "execution_count": 17,
   "id": "aba1dbb9",
   "metadata": {
    "_cell_guid": "70659f9d-060f-4279-9c62-9da4d5ca4d75",
    "_uuid": "bbf8619c-ebca-4f2f-81ef-ad4c8ba5e03d",
    "collapsed": false,
    "execution": {
     "iopub.execute_input": "2022-09-27T15:49:22.588346Z",
     "iopub.status.busy": "2022-09-27T15:49:22.587884Z",
     "iopub.status.idle": "2022-09-27T15:49:22.594721Z",
     "shell.execute_reply": "2022-09-27T15:49:22.593875Z"
    },
    "jupyter": {
     "outputs_hidden": false
    },
    "papermill": {
     "duration": 0.019877,
     "end_time": "2022-09-27T15:49:22.596809",
     "exception": false,
     "start_time": "2022-09-27T15:49:22.576932",
     "status": "completed"
    },
    "tags": []
   },
   "outputs": [],
   "source": [
    "X_train, X_test, y_train, y_test = train_test_split(X, y, test_size=0.3, random_state=42)"
   ]
  },
  {
   "cell_type": "code",
   "execution_count": 18,
   "id": "76787278",
   "metadata": {
    "_cell_guid": "8bb57773-01c9-4194-a7cd-6c34adcc6127",
    "_uuid": "f0dc72ff-52ee-483c-91db-24c11e915c73",
    "collapsed": false,
    "execution": {
     "iopub.execute_input": "2022-09-27T15:49:22.618006Z",
     "iopub.status.busy": "2022-09-27T15:49:22.617336Z",
     "iopub.status.idle": "2022-09-27T15:49:22.704599Z",
     "shell.execute_reply": "2022-09-27T15:49:22.703359Z"
    },
    "jupyter": {
     "outputs_hidden": false
    },
    "papermill": {
     "duration": 0.100922,
     "end_time": "2022-09-27T15:49:22.707281",
     "exception": false,
     "start_time": "2022-09-27T15:49:22.606359",
     "status": "completed"
    },
    "tags": []
   },
   "outputs": [],
   "source": [
    "from sklearn.linear_model import LinearRegression"
   ]
  },
  {
   "cell_type": "code",
   "execution_count": 19,
   "id": "893621af",
   "metadata": {
    "_cell_guid": "ccd23d47-34ae-4202-8146-c21f89410662",
    "_uuid": "8d688102-4969-4acf-a23b-4aefbd35247c",
    "collapsed": false,
    "execution": {
     "iopub.execute_input": "2022-09-27T15:49:22.728773Z",
     "iopub.status.busy": "2022-09-27T15:49:22.727568Z",
     "iopub.status.idle": "2022-09-27T15:49:22.732714Z",
     "shell.execute_reply": "2022-09-27T15:49:22.731824Z"
    },
    "jupyter": {
     "outputs_hidden": false
    },
    "papermill": {
     "duration": 0.018166,
     "end_time": "2022-09-27T15:49:22.734899",
     "exception": false,
     "start_time": "2022-09-27T15:49:22.716733",
     "status": "completed"
    },
    "tags": []
   },
   "outputs": [],
   "source": [
    "LR = LinearRegression()"
   ]
  },
  {
   "cell_type": "code",
   "execution_count": 20,
   "id": "bd851adc",
   "metadata": {
    "_cell_guid": "0b152974-58db-4c83-a3c2-35776691e45c",
    "_uuid": "530b4383-6391-405f-90e0-9370a002ba80",
    "collapsed": false,
    "execution": {
     "iopub.execute_input": "2022-09-27T15:49:22.755994Z",
     "iopub.status.busy": "2022-09-27T15:49:22.755504Z",
     "iopub.status.idle": "2022-09-27T15:49:22.786555Z",
     "shell.execute_reply": "2022-09-27T15:49:22.785336Z"
    },
    "jupyter": {
     "outputs_hidden": false
    },
    "papermill": {
     "duration": 0.044472,
     "end_time": "2022-09-27T15:49:22.788907",
     "exception": false,
     "start_time": "2022-09-27T15:49:22.744435",
     "status": "completed"
    },
    "tags": []
   },
   "outputs": [
    {
     "data": {
      "text/plain": [
       "LinearRegression()"
      ]
     },
     "execution_count": 20,
     "metadata": {},
     "output_type": "execute_result"
    }
   ],
   "source": [
    "LR.fit(X_train, y_train)"
   ]
  },
  {
   "cell_type": "code",
   "execution_count": 21,
   "id": "143ce93a",
   "metadata": {
    "_cell_guid": "31b8c3bd-3793-493a-a328-6d2a32efe2a9",
    "_uuid": "f27359ee-189f-4579-9493-f7ba484a8505",
    "collapsed": false,
    "execution": {
     "iopub.execute_input": "2022-09-27T15:49:22.810131Z",
     "iopub.status.busy": "2022-09-27T15:49:22.809723Z",
     "iopub.status.idle": "2022-09-27T15:49:22.818853Z",
     "shell.execute_reply": "2022-09-27T15:49:22.817631Z"
    },
    "jupyter": {
     "outputs_hidden": false
    },
    "papermill": {
     "duration": 0.022624,
     "end_time": "2022-09-27T15:49:22.821317",
     "exception": false,
     "start_time": "2022-09-27T15:49:22.798693",
     "status": "completed"
    },
    "tags": []
   },
   "outputs": [],
   "source": [
    "pred = LR.predict(X_train)"
   ]
  },
  {
   "cell_type": "code",
   "execution_count": 22,
   "id": "c082cd73",
   "metadata": {
    "execution": {
     "iopub.execute_input": "2022-09-27T15:49:22.843028Z",
     "iopub.status.busy": "2022-09-27T15:49:22.842591Z",
     "iopub.status.idle": "2022-09-27T15:49:22.847772Z",
     "shell.execute_reply": "2022-09-27T15:49:22.846571Z"
    },
    "papermill": {
     "duration": 0.019077,
     "end_time": "2022-09-27T15:49:22.850068",
     "exception": false,
     "start_time": "2022-09-27T15:49:22.830991",
     "status": "completed"
    },
    "tags": []
   },
   "outputs": [],
   "source": [
    "from sklearn.metrics import mean_squared_error,r2_score"
   ]
  },
  {
   "cell_type": "code",
   "execution_count": 23,
   "id": "208f6a26",
   "metadata": {
    "_cell_guid": "138452f7-ede1-4386-b6f4-26b87dc24bda",
    "_uuid": "15a0d3b5-20c2-49e6-aee1-d068e15f6234",
    "collapsed": false,
    "execution": {
     "iopub.execute_input": "2022-09-27T15:49:22.871580Z",
     "iopub.status.busy": "2022-09-27T15:49:22.870887Z",
     "iopub.status.idle": "2022-09-27T15:49:22.877542Z",
     "shell.execute_reply": "2022-09-27T15:49:22.876729Z"
    },
    "jupyter": {
     "outputs_hidden": false
    },
    "papermill": {
     "duration": 0.019742,
     "end_time": "2022-09-27T15:49:22.879495",
     "exception": false,
     "start_time": "2022-09-27T15:49:22.859753",
     "status": "completed"
    },
    "tags": []
   },
   "outputs": [
    {
     "data": {
      "text/plain": [
       "767408.9969051768"
      ]
     },
     "execution_count": 23,
     "metadata": {},
     "output_type": "execute_result"
    }
   ],
   "source": [
    "mean_squared_error(y_train, pred)"
   ]
  },
  {
   "cell_type": "code",
   "execution_count": 24,
   "id": "ed3d07f8",
   "metadata": {
    "_cell_guid": "6fab633d-fb85-499b-a3ad-562a0c1fd422",
    "_uuid": "24b978a6-b3b0-4ad2-9277-591433a71fdf",
    "collapsed": false,
    "execution": {
     "iopub.execute_input": "2022-09-27T15:49:22.901140Z",
     "iopub.status.busy": "2022-09-27T15:49:22.900147Z",
     "iopub.status.idle": "2022-09-27T15:49:22.907103Z",
     "shell.execute_reply": "2022-09-27T15:49:22.906364Z"
    },
    "jupyter": {
     "outputs_hidden": false
    },
    "papermill": {
     "duration": 0.019773,
     "end_time": "2022-09-27T15:49:22.909198",
     "exception": false,
     "start_time": "2022-09-27T15:49:22.889425",
     "status": "completed"
    },
    "tags": []
   },
   "outputs": [
    {
     "data": {
      "text/plain": [
       "0.7891098322665724"
      ]
     },
     "execution_count": 24,
     "metadata": {},
     "output_type": "execute_result"
    }
   ],
   "source": [
    "r2_score(y_train, pred)"
   ]
  },
  {
   "cell_type": "code",
   "execution_count": 25,
   "id": "728c11cf",
   "metadata": {
    "_cell_guid": "1103ebfd-5b43-410a-b9e2-f1451641d0c4",
    "_uuid": "3ed5fd52-3240-4b3a-939b-c08e9b301e2e",
    "collapsed": false,
    "execution": {
     "iopub.execute_input": "2022-09-27T15:49:22.931587Z",
     "iopub.status.busy": "2022-09-27T15:49:22.931155Z",
     "iopub.status.idle": "2022-09-27T15:49:22.938300Z",
     "shell.execute_reply": "2022-09-27T15:49:22.937190Z"
    },
    "jupyter": {
     "outputs_hidden": false
    },
    "papermill": {
     "duration": 0.021717,
     "end_time": "2022-09-27T15:49:22.940762",
     "exception": false,
     "start_time": "2022-09-27T15:49:22.919045",
     "status": "completed"
    },
    "tags": []
   },
   "outputs": [],
   "source": [
    "y_pred = LR.predict(X_test)"
   ]
  },
  {
   "cell_type": "code",
   "execution_count": 26,
   "id": "ba8eed3e",
   "metadata": {
    "_cell_guid": "0da80469-0753-4ad7-aa41-454724050843",
    "_uuid": "1ef2e5e2-8418-43e0-8697-a72ad6d65f8f",
    "collapsed": false,
    "execution": {
     "iopub.execute_input": "2022-09-27T15:49:22.962186Z",
     "iopub.status.busy": "2022-09-27T15:49:22.961754Z",
     "iopub.status.idle": "2022-09-27T15:49:22.969114Z",
     "shell.execute_reply": "2022-09-27T15:49:22.968348Z"
    },
    "jupyter": {
     "outputs_hidden": false
    },
    "papermill": {
     "duration": 0.020648,
     "end_time": "2022-09-27T15:49:22.971363",
     "exception": false,
     "start_time": "2022-09-27T15:49:22.950715",
     "status": "completed"
    },
    "tags": []
   },
   "outputs": [
    {
     "data": {
      "text/plain": [
       "751126.2310636705"
      ]
     },
     "execution_count": 26,
     "metadata": {},
     "output_type": "execute_result"
    }
   ],
   "source": [
    "mean_squared_error(y_test, y_pred)"
   ]
  },
  {
   "cell_type": "code",
   "execution_count": 27,
   "id": "e3d5970c",
   "metadata": {
    "_cell_guid": "a8435401-5e4c-430d-b807-2f4eb29f8f30",
    "_uuid": "4c590e5c-03c7-4e4c-8a2b-b09d57e17a24",
    "collapsed": false,
    "execution": {
     "iopub.execute_input": "2022-09-27T15:49:22.993487Z",
     "iopub.status.busy": "2022-09-27T15:49:22.992715Z",
     "iopub.status.idle": "2022-09-27T15:49:22.999203Z",
     "shell.execute_reply": "2022-09-27T15:49:22.998454Z"
    },
    "jupyter": {
     "outputs_hidden": false
    },
    "papermill": {
     "duration": 0.020026,
     "end_time": "2022-09-27T15:49:23.001354",
     "exception": false,
     "start_time": "2022-09-27T15:49:22.981328",
     "status": "completed"
    },
    "tags": []
   },
   "outputs": [
    {
     "data": {
      "text/plain": [
       "0.811225776607647"
      ]
     },
     "execution_count": 27,
     "metadata": {},
     "output_type": "execute_result"
    }
   ],
   "source": [
    "r2_score(y_test,y_pred)"
   ]
  },
  {
   "cell_type": "code",
   "execution_count": 28,
   "id": "bb84dbc7",
   "metadata": {
    "_cell_guid": "bba1bd91-cca0-4bb6-b9e2-6ebb7751d6e9",
    "_uuid": "303ac0d8-c25e-4904-b6aa-377f910fea48",
    "collapsed": false,
    "execution": {
     "iopub.execute_input": "2022-09-27T15:49:23.023280Z",
     "iopub.status.busy": "2022-09-27T15:49:23.022505Z",
     "iopub.status.idle": "2022-09-27T15:49:23.028657Z",
     "shell.execute_reply": "2022-09-27T15:49:23.027888Z"
    },
    "jupyter": {
     "outputs_hidden": false
    },
    "papermill": {
     "duration": 0.019593,
     "end_time": "2022-09-27T15:49:23.030835",
     "exception": false,
     "start_time": "2022-09-27T15:49:23.011242",
     "status": "completed"
    },
    "tags": []
   },
   "outputs": [
    {
     "data": {
      "text/plain": [
       "array([  532.81457002,  1981.84189358,   -45.73568804,  -386.37928782,\n",
       "          68.41529588,   161.51159788,  -598.60038909, -2463.45125556,\n",
       "        8751.38948003,  -965.27937163, -1956.16024225])"
      ]
     },
     "execution_count": 28,
     "metadata": {},
     "output_type": "execute_result"
    }
   ],
   "source": [
    "LR.coef_"
   ]
  },
  {
   "cell_type": "markdown",
   "id": "95aef536",
   "metadata": {
    "_cell_guid": "a0a2b805-7db3-4fb9-b640-2b80a2af8e33",
    "_uuid": "562b49b1-533c-4472-afd1-25fcb73d2edf",
    "papermill": {
     "duration": 0.010254,
     "end_time": "2022-09-27T15:49:23.051294",
     "exception": false,
     "start_time": "2022-09-27T15:49:23.041040",
     "status": "completed"
    },
    "tags": []
   },
   "source": [
    "**Year & Holiday** these are the features which have significant contribution. **The model is perfectly fitting the dataset.**"
   ]
  },
  {
   "cell_type": "code",
   "execution_count": null,
   "id": "f5f8cce2",
   "metadata": {
    "papermill": {
     "duration": 0.009698,
     "end_time": "2022-09-27T15:49:23.071100",
     "exception": false,
     "start_time": "2022-09-27T15:49:23.061402",
     "status": "completed"
    },
    "tags": []
   },
   "outputs": [],
   "source": []
  }
 ],
 "metadata": {
  "kernelspec": {
   "display_name": "Python 3",
   "language": "python",
   "name": "python3"
  },
  "language_info": {
   "codemirror_mode": {
    "name": "ipython",
    "version": 3
   },
   "file_extension": ".py",
   "mimetype": "text/x-python",
   "name": "python",
   "nbconvert_exporter": "python",
   "pygments_lexer": "ipython3",
   "version": "3.7.12"
  },
  "papermill": {
   "default_parameters": {},
   "duration": 13.382678,
   "end_time": "2022-09-27T15:49:23.903930",
   "environment_variables": {},
   "exception": null,
   "input_path": "__notebook__.ipynb",
   "output_path": "__notebook__.ipynb",
   "parameters": {},
   "start_time": "2022-09-27T15:49:10.521252",
   "version": "2.3.4"
  }
 },
 "nbformat": 4,
 "nbformat_minor": 5
}
