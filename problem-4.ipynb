{
 "cells": [
  {
   "cell_type": "code",
   "execution_count": 1,
   "id": "be81d80f",
   "metadata": {
    "_cell_guid": "7754c37c-cac3-41db-a751-9411d740a623",
    "_uuid": "d1915725-acd3-4f7e-b399-56c66192534c",
    "collapsed": false,
    "execution": {
     "iopub.execute_input": "2022-09-30T22:44:11.782014Z",
     "iopub.status.busy": "2022-09-30T22:44:11.781021Z",
     "iopub.status.idle": "2022-09-30T22:44:11.807218Z",
     "shell.execute_reply": "2022-09-30T22:44:11.806334Z"
    },
    "jupyter": {
     "outputs_hidden": false
    },
    "papermill": {
     "duration": 0.041362,
     "end_time": "2022-09-30T22:44:11.809394",
     "exception": false,
     "start_time": "2022-09-30T22:44:11.768032",
     "status": "completed"
    },
    "tags": []
   },
   "outputs": [
    {
     "name": "stdout",
     "output_type": "stream",
     "text": [
      "/kaggle/input/bike-sharing-dataset/hour.csv\n",
      "/kaggle/input/bike-sharing-dataset/Readme.txt\n",
      "/kaggle/input/bike-sharing-dataset/day.csv\n",
      "/kaggle/input/bike-sharing-dataset/bike-sharing-dataset/hour.csv\n",
      "/kaggle/input/bike-sharing-dataset/bike-sharing-dataset/Readme.txt\n",
      "/kaggle/input/bike-sharing-dataset/bike-sharing-dataset/day.csv\n"
     ]
    }
   ],
   "source": [
    "# This Python 3 environment comes with many helpful analytics libraries installed\n",
    "# It is defined by the kaggle/python Docker image: https://github.com/kaggle/docker-python\n",
    "# For example, here's several helpful packages to load\n",
    "\n",
    "import numpy as np # linear algebra\n",
    "import pandas as pd # data processing, CSV file I/O (e.g. pd.read_csv)\n",
    "\n",
    "# Input data files are available in the read-only \"../input/\" directory\n",
    "# For example, running this (by clicking run or pressing Shift+Enter) will list all files under the input directory\n",
    "\n",
    "import os\n",
    "for dirname, _, filenames in os.walk('/kaggle/input'):\n",
    "    for filename in filenames:\n",
    "        print(os.path.join(dirname, filename))\n",
    "\n",
    "# You can write up to 20GB to the current directory (/kaggle/working/) that gets preserved as output when you create a version using \"Save & Run All\" \n",
    "# You can also write temporary files to /kaggle/temp/, but they won't be saved outside of the current session"
   ]
  },
  {
   "cell_type": "code",
   "execution_count": 2,
   "id": "f0f479ea",
   "metadata": {
    "execution": {
     "iopub.execute_input": "2022-09-30T22:44:11.831902Z",
     "iopub.status.busy": "2022-09-30T22:44:11.831174Z",
     "iopub.status.idle": "2022-09-30T22:44:13.096318Z",
     "shell.execute_reply": "2022-09-30T22:44:13.095034Z"
    },
    "papermill": {
     "duration": 1.279374,
     "end_time": "2022-09-30T22:44:13.099020",
     "exception": false,
     "start_time": "2022-09-30T22:44:11.819646",
     "status": "completed"
    },
    "tags": []
   },
   "outputs": [],
   "source": [
    "from numpy import argmax\n",
    "from sklearn.preprocessing import LabelEncoder\n",
    "from sklearn.preprocessing import OneHotEncoder"
   ]
  },
  {
   "cell_type": "code",
   "execution_count": 3,
   "id": "66c0552e",
   "metadata": {
    "_cell_guid": "6e425efa-7eed-4396-a3c0-3ad477f7d8ec",
    "_uuid": "304c716b-f1c2-4e4c-9f61-a7468fc9ceaf",
    "collapsed": false,
    "execution": {
     "iopub.execute_input": "2022-09-30T22:44:13.121179Z",
     "iopub.status.busy": "2022-09-30T22:44:13.120811Z",
     "iopub.status.idle": "2022-09-30T22:44:13.140881Z",
     "shell.execute_reply": "2022-09-30T22:44:13.140157Z"
    },
    "jupyter": {
     "outputs_hidden": false
    },
    "papermill": {
     "duration": 0.034761,
     "end_time": "2022-09-30T22:44:13.143338",
     "exception": false,
     "start_time": "2022-09-30T22:44:13.108577",
     "status": "completed"
    },
    "tags": []
   },
   "outputs": [],
   "source": [
    "df = pd.read_csv(\"../input/bike-sharing-dataset/day.csv\")"
   ]
  },
  {
   "cell_type": "code",
   "execution_count": 4,
   "id": "1d9ff623",
   "metadata": {
    "_cell_guid": "bb5f6659-f8cb-4e8e-b5b3-440b741b95aa",
    "_uuid": "37a3a90f-ade8-4efb-91d1-13ccaec7e3ff",
    "collapsed": false,
    "execution": {
     "iopub.execute_input": "2022-09-30T22:44:13.165243Z",
     "iopub.status.busy": "2022-09-30T22:44:13.164200Z",
     "iopub.status.idle": "2022-09-30T22:44:13.188380Z",
     "shell.execute_reply": "2022-09-30T22:44:13.187147Z"
    },
    "jupyter": {
     "outputs_hidden": false
    },
    "papermill": {
     "duration": 0.037939,
     "end_time": "2022-09-30T22:44:13.191331",
     "exception": false,
     "start_time": "2022-09-30T22:44:13.153392",
     "status": "completed"
    },
    "tags": []
   },
   "outputs": [
    {
     "data": {
      "text/html": [
       "<div>\n",
       "<style scoped>\n",
       "    .dataframe tbody tr th:only-of-type {\n",
       "        vertical-align: middle;\n",
       "    }\n",
       "\n",
       "    .dataframe tbody tr th {\n",
       "        vertical-align: top;\n",
       "    }\n",
       "\n",
       "    .dataframe thead th {\n",
       "        text-align: right;\n",
       "    }\n",
       "</style>\n",
       "<table border=\"1\" class=\"dataframe\">\n",
       "  <thead>\n",
       "    <tr style=\"text-align: right;\">\n",
       "      <th></th>\n",
       "      <th>instant</th>\n",
       "      <th>dteday</th>\n",
       "      <th>season</th>\n",
       "      <th>yr</th>\n",
       "      <th>mnth</th>\n",
       "      <th>holiday</th>\n",
       "      <th>weekday</th>\n",
       "      <th>workingday</th>\n",
       "      <th>weathersit</th>\n",
       "      <th>temp</th>\n",
       "      <th>atemp</th>\n",
       "      <th>hum</th>\n",
       "      <th>windspeed</th>\n",
       "      <th>casual</th>\n",
       "      <th>registered</th>\n",
       "      <th>cnt</th>\n",
       "    </tr>\n",
       "  </thead>\n",
       "  <tbody>\n",
       "    <tr>\n",
       "      <th>0</th>\n",
       "      <td>1</td>\n",
       "      <td>2011-01-01</td>\n",
       "      <td>1</td>\n",
       "      <td>0</td>\n",
       "      <td>1</td>\n",
       "      <td>0</td>\n",
       "      <td>6</td>\n",
       "      <td>0</td>\n",
       "      <td>2</td>\n",
       "      <td>0.344167</td>\n",
       "      <td>0.363625</td>\n",
       "      <td>0.805833</td>\n",
       "      <td>0.160446</td>\n",
       "      <td>331</td>\n",
       "      <td>654</td>\n",
       "      <td>985</td>\n",
       "    </tr>\n",
       "    <tr>\n",
       "      <th>1</th>\n",
       "      <td>2</td>\n",
       "      <td>2011-01-02</td>\n",
       "      <td>1</td>\n",
       "      <td>0</td>\n",
       "      <td>1</td>\n",
       "      <td>0</td>\n",
       "      <td>0</td>\n",
       "      <td>0</td>\n",
       "      <td>2</td>\n",
       "      <td>0.363478</td>\n",
       "      <td>0.353739</td>\n",
       "      <td>0.696087</td>\n",
       "      <td>0.248539</td>\n",
       "      <td>131</td>\n",
       "      <td>670</td>\n",
       "      <td>801</td>\n",
       "    </tr>\n",
       "    <tr>\n",
       "      <th>2</th>\n",
       "      <td>3</td>\n",
       "      <td>2011-01-03</td>\n",
       "      <td>1</td>\n",
       "      <td>0</td>\n",
       "      <td>1</td>\n",
       "      <td>0</td>\n",
       "      <td>1</td>\n",
       "      <td>1</td>\n",
       "      <td>1</td>\n",
       "      <td>0.196364</td>\n",
       "      <td>0.189405</td>\n",
       "      <td>0.437273</td>\n",
       "      <td>0.248309</td>\n",
       "      <td>120</td>\n",
       "      <td>1229</td>\n",
       "      <td>1349</td>\n",
       "    </tr>\n",
       "    <tr>\n",
       "      <th>3</th>\n",
       "      <td>4</td>\n",
       "      <td>2011-01-04</td>\n",
       "      <td>1</td>\n",
       "      <td>0</td>\n",
       "      <td>1</td>\n",
       "      <td>0</td>\n",
       "      <td>2</td>\n",
       "      <td>1</td>\n",
       "      <td>1</td>\n",
       "      <td>0.200000</td>\n",
       "      <td>0.212122</td>\n",
       "      <td>0.590435</td>\n",
       "      <td>0.160296</td>\n",
       "      <td>108</td>\n",
       "      <td>1454</td>\n",
       "      <td>1562</td>\n",
       "    </tr>\n",
       "    <tr>\n",
       "      <th>4</th>\n",
       "      <td>5</td>\n",
       "      <td>2011-01-05</td>\n",
       "      <td>1</td>\n",
       "      <td>0</td>\n",
       "      <td>1</td>\n",
       "      <td>0</td>\n",
       "      <td>3</td>\n",
       "      <td>1</td>\n",
       "      <td>1</td>\n",
       "      <td>0.226957</td>\n",
       "      <td>0.229270</td>\n",
       "      <td>0.436957</td>\n",
       "      <td>0.186900</td>\n",
       "      <td>82</td>\n",
       "      <td>1518</td>\n",
       "      <td>1600</td>\n",
       "    </tr>\n",
       "  </tbody>\n",
       "</table>\n",
       "</div>"
      ],
      "text/plain": [
       "   instant      dteday  season  yr  mnth  holiday  weekday  workingday  \\\n",
       "0        1  2011-01-01       1   0     1        0        6           0   \n",
       "1        2  2011-01-02       1   0     1        0        0           0   \n",
       "2        3  2011-01-03       1   0     1        0        1           1   \n",
       "3        4  2011-01-04       1   0     1        0        2           1   \n",
       "4        5  2011-01-05       1   0     1        0        3           1   \n",
       "\n",
       "   weathersit      temp     atemp       hum  windspeed  casual  registered  \\\n",
       "0           2  0.344167  0.363625  0.805833   0.160446     331         654   \n",
       "1           2  0.363478  0.353739  0.696087   0.248539     131         670   \n",
       "2           1  0.196364  0.189405  0.437273   0.248309     120        1229   \n",
       "3           1  0.200000  0.212122  0.590435   0.160296     108        1454   \n",
       "4           1  0.226957  0.229270  0.436957   0.186900      82        1518   \n",
       "\n",
       "    cnt  \n",
       "0   985  \n",
       "1   801  \n",
       "2  1349  \n",
       "3  1562  \n",
       "4  1600  "
      ]
     },
     "execution_count": 4,
     "metadata": {},
     "output_type": "execute_result"
    }
   ],
   "source": [
    "df.head()"
   ]
  },
  {
   "cell_type": "code",
   "execution_count": 5,
   "id": "c6baeb86",
   "metadata": {
    "_cell_guid": "21d1485a-1cc5-4a19-8b61-a3224156fe31",
    "_uuid": "2bcc139d-d84e-4c87-83d5-e25f9bd22d14",
    "collapsed": false,
    "execution": {
     "iopub.execute_input": "2022-09-30T22:44:13.212771Z",
     "iopub.status.busy": "2022-09-30T22:44:13.212179Z",
     "iopub.status.idle": "2022-09-30T22:44:13.218490Z",
     "shell.execute_reply": "2022-09-30T22:44:13.216982Z"
    },
    "jupyter": {
     "outputs_hidden": false
    },
    "papermill": {
     "duration": 0.019847,
     "end_time": "2022-09-30T22:44:13.221094",
     "exception": false,
     "start_time": "2022-09-30T22:44:13.201247",
     "status": "completed"
    },
    "tags": []
   },
   "outputs": [
    {
     "data": {
      "text/plain": [
       "Index(['instant', 'dteday', 'season', 'yr', 'mnth', 'holiday', 'weekday',\n",
       "       'workingday', 'weathersit', 'temp', 'atemp', 'hum', 'windspeed',\n",
       "       'casual', 'registered', 'cnt'],\n",
       "      dtype='object')"
      ]
     },
     "execution_count": 5,
     "metadata": {},
     "output_type": "execute_result"
    }
   ],
   "source": [
    "df.columns"
   ]
  },
  {
   "cell_type": "code",
   "execution_count": 6,
   "id": "94b83b76",
   "metadata": {
    "_cell_guid": "2b6b464d-7d10-49a3-8aa3-bcb863e2b9f1",
    "_uuid": "b87f031a-4cef-40da-abc0-b60c77923a1f",
    "collapsed": false,
    "execution": {
     "iopub.execute_input": "2022-09-30T22:44:13.242899Z",
     "iopub.status.busy": "2022-09-30T22:44:13.242470Z",
     "iopub.status.idle": "2022-09-30T22:44:13.255142Z",
     "shell.execute_reply": "2022-09-30T22:44:13.253792Z"
    },
    "jupyter": {
     "outputs_hidden": false
    },
    "papermill": {
     "duration": 0.025998,
     "end_time": "2022-09-30T22:44:13.257616",
     "exception": false,
     "start_time": "2022-09-30T22:44:13.231618",
     "status": "completed"
    },
    "tags": []
   },
   "outputs": [],
   "source": [
    "df.drop(['instant', 'dteday','casual','registered'], inplace=True ,axis=1)"
   ]
  },
  {
   "cell_type": "markdown",
   "id": "60bcef3d",
   "metadata": {
    "papermill": {
     "duration": 0.010164,
     "end_time": "2022-09-30T22:44:13.277620",
     "exception": false,
     "start_time": "2022-09-30T22:44:13.267456",
     "status": "completed"
    },
    "tags": []
   },
   "source": [
    "**Question 4. a)**"
   ]
  },
  {
   "cell_type": "code",
   "execution_count": 7,
   "id": "3077cf15",
   "metadata": {
    "_cell_guid": "b17ee383-55e6-41bc-9b0a-37bb7441fdfb",
    "_uuid": "e1bc743e-4617-45e2-acab-4f5d699c0bd4",
    "collapsed": false,
    "execution": {
     "iopub.execute_input": "2022-09-30T22:44:13.299059Z",
     "iopub.status.busy": "2022-09-30T22:44:13.298617Z",
     "iopub.status.idle": "2022-09-30T22:44:13.315663Z",
     "shell.execute_reply": "2022-09-30T22:44:13.313784Z"
    },
    "jupyter": {
     "outputs_hidden": false
    },
    "papermill": {
     "duration": 0.030074,
     "end_time": "2022-09-30T22:44:13.317758",
     "exception": false,
     "start_time": "2022-09-30T22:44:13.287684",
     "status": "completed"
    },
    "tags": []
   },
   "outputs": [
    {
     "name": "stdout",
     "output_type": "stream",
     "text": [
      "season        0.406100\n",
      "yr            0.566710\n",
      "mnth          0.279977\n",
      "holiday      -0.068348\n",
      "weekday       0.067443\n",
      "workingday    0.061156\n",
      "weathersit   -0.297391\n",
      "temp          0.627494\n",
      "atemp         0.631066\n",
      "hum          -0.100659\n",
      "windspeed    -0.234545\n",
      "cnt           1.000000\n",
      "dtype: float64\n"
     ]
    }
   ],
   "source": [
    "correlations = df.corrwith(df['cnt'])\n",
    "print(correlations)"
   ]
  },
  {
   "cell_type": "markdown",
   "id": "a685ab93",
   "metadata": {
    "_cell_guid": "8aba4077-ca1d-4984-ab9d-cd3da0a8b987",
    "_uuid": "6dfe76cf-8efb-4865-aa4a-a26964bd05bc",
    "papermill": {
     "duration": 0.009494,
     "end_time": "2022-09-30T22:44:13.337098",
     "exception": false,
     "start_time": "2022-09-30T22:44:13.327604",
     "status": "completed"
    },
    "tags": []
   },
   "source": [
    "Features with positive correlation are: \n",
    "* **season**\n",
    "* **yr**: year\n",
    "* **mnth**: mmonths\n",
    "* **weekday**: days of the week\n",
    "* **workingday**: whether the day is neither a weekend nor holiday\n",
    "* **temp**: temperature in Celsius\n",
    "* **atemp**: \"feels like\" temperature in Celsius\n",
    "\n",
    "The feature with highest correlation is **'atemp'**."
   ]
  },
  {
   "cell_type": "markdown",
   "id": "1be8ca41",
   "metadata": {
    "papermill": {
     "duration": 0.009415,
     "end_time": "2022-09-30T22:44:13.356240",
     "exception": false,
     "start_time": "2022-09-30T22:44:13.346825",
     "status": "completed"
    },
    "tags": []
   },
   "source": [
    "**Question 4. b)**"
   ]
  },
  {
   "cell_type": "markdown",
   "id": "58e74297",
   "metadata": {
    "_cell_guid": "01170ec7-7229-419f-8875-4419f9890731",
    "_uuid": "c7bc3fd5-ea51-43e0-a449-3b6ae3d2272e",
    "papermill": {
     "duration": 0.009551,
     "end_time": "2022-09-30T22:44:13.375970",
     "exception": false,
     "start_time": "2022-09-30T22:44:13.366419",
     "status": "completed"
    },
    "tags": []
   },
   "source": [
    "Features with negative correlation are: \n",
    "* **holiday**: whether the day is considered a holiday\n",
    "* **weathersit**\n",
    "* **hum**: humidity\n",
    "* **windspeed**"
   ]
  },
  {
   "cell_type": "code",
   "execution_count": 8,
   "id": "a3d88a9a",
   "metadata": {
    "execution": {
     "iopub.execute_input": "2022-09-30T22:44:13.397091Z",
     "iopub.status.busy": "2022-09-30T22:44:13.396740Z",
     "iopub.status.idle": "2022-09-30T22:44:13.409833Z",
     "shell.execute_reply": "2022-09-30T22:44:13.408469Z"
    },
    "papermill": {
     "duration": 0.025714,
     "end_time": "2022-09-30T22:44:13.411812",
     "exception": false,
     "start_time": "2022-09-30T22:44:13.386098",
     "status": "completed"
    },
    "tags": []
   },
   "outputs": [
    {
     "data": {
      "text/html": [
       "<div>\n",
       "<style scoped>\n",
       "    .dataframe tbody tr th:only-of-type {\n",
       "        vertical-align: middle;\n",
       "    }\n",
       "\n",
       "    .dataframe tbody tr th {\n",
       "        vertical-align: top;\n",
       "    }\n",
       "\n",
       "    .dataframe thead th {\n",
       "        text-align: right;\n",
       "    }\n",
       "</style>\n",
       "<table border=\"1\" class=\"dataframe\">\n",
       "  <thead>\n",
       "    <tr style=\"text-align: right;\">\n",
       "      <th></th>\n",
       "      <th>season</th>\n",
       "      <th>yr</th>\n",
       "      <th>mnth</th>\n",
       "      <th>holiday</th>\n",
       "      <th>weekday</th>\n",
       "      <th>workingday</th>\n",
       "      <th>weathersit</th>\n",
       "      <th>temp</th>\n",
       "      <th>atemp</th>\n",
       "      <th>hum</th>\n",
       "      <th>windspeed</th>\n",
       "      <th>cnt</th>\n",
       "    </tr>\n",
       "  </thead>\n",
       "  <tbody>\n",
       "    <tr>\n",
       "      <th>0</th>\n",
       "      <td>1</td>\n",
       "      <td>0</td>\n",
       "      <td>1</td>\n",
       "      <td>0</td>\n",
       "      <td>6</td>\n",
       "      <td>0</td>\n",
       "      <td>2</td>\n",
       "      <td>0.344167</td>\n",
       "      <td>0.363625</td>\n",
       "      <td>0.805833</td>\n",
       "      <td>0.160446</td>\n",
       "      <td>985</td>\n",
       "    </tr>\n",
       "    <tr>\n",
       "      <th>1</th>\n",
       "      <td>1</td>\n",
       "      <td>0</td>\n",
       "      <td>1</td>\n",
       "      <td>0</td>\n",
       "      <td>0</td>\n",
       "      <td>0</td>\n",
       "      <td>2</td>\n",
       "      <td>0.363478</td>\n",
       "      <td>0.353739</td>\n",
       "      <td>0.696087</td>\n",
       "      <td>0.248539</td>\n",
       "      <td>801</td>\n",
       "    </tr>\n",
       "    <tr>\n",
       "      <th>2</th>\n",
       "      <td>1</td>\n",
       "      <td>0</td>\n",
       "      <td>1</td>\n",
       "      <td>0</td>\n",
       "      <td>1</td>\n",
       "      <td>1</td>\n",
       "      <td>1</td>\n",
       "      <td>0.196364</td>\n",
       "      <td>0.189405</td>\n",
       "      <td>0.437273</td>\n",
       "      <td>0.248309</td>\n",
       "      <td>1349</td>\n",
       "    </tr>\n",
       "    <tr>\n",
       "      <th>3</th>\n",
       "      <td>1</td>\n",
       "      <td>0</td>\n",
       "      <td>1</td>\n",
       "      <td>0</td>\n",
       "      <td>2</td>\n",
       "      <td>1</td>\n",
       "      <td>1</td>\n",
       "      <td>0.200000</td>\n",
       "      <td>0.212122</td>\n",
       "      <td>0.590435</td>\n",
       "      <td>0.160296</td>\n",
       "      <td>1562</td>\n",
       "    </tr>\n",
       "    <tr>\n",
       "      <th>4</th>\n",
       "      <td>1</td>\n",
       "      <td>0</td>\n",
       "      <td>1</td>\n",
       "      <td>0</td>\n",
       "      <td>3</td>\n",
       "      <td>1</td>\n",
       "      <td>1</td>\n",
       "      <td>0.226957</td>\n",
       "      <td>0.229270</td>\n",
       "      <td>0.436957</td>\n",
       "      <td>0.186900</td>\n",
       "      <td>1600</td>\n",
       "    </tr>\n",
       "  </tbody>\n",
       "</table>\n",
       "</div>"
      ],
      "text/plain": [
       "   season  yr  mnth  holiday  weekday  workingday  weathersit      temp  \\\n",
       "0       1   0     1        0        6           0           2  0.344167   \n",
       "1       1   0     1        0        0           0           2  0.363478   \n",
       "2       1   0     1        0        1           1           1  0.196364   \n",
       "3       1   0     1        0        2           1           1  0.200000   \n",
       "4       1   0     1        0        3           1           1  0.226957   \n",
       "\n",
       "      atemp       hum  windspeed   cnt  \n",
       "0  0.363625  0.805833   0.160446   985  \n",
       "1  0.353739  0.696087   0.248539   801  \n",
       "2  0.189405  0.437273   0.248309  1349  \n",
       "3  0.212122  0.590435   0.160296  1562  \n",
       "4  0.229270  0.436957   0.186900  1600  "
      ]
     },
     "execution_count": 8,
     "metadata": {},
     "output_type": "execute_result"
    }
   ],
   "source": [
    "df.head()"
   ]
  },
  {
   "cell_type": "markdown",
   "id": "5ce0e600",
   "metadata": {
    "papermill": {
     "duration": 0.010197,
     "end_time": "2022-09-30T22:44:13.432231",
     "exception": false,
     "start_time": "2022-09-30T22:44:13.422034",
     "status": "completed"
    },
    "tags": []
   },
   "source": [
    "**Question 4.c)**"
   ]
  },
  {
   "cell_type": "code",
   "execution_count": 9,
   "id": "3430ab7d",
   "metadata": {
    "execution": {
     "iopub.execute_input": "2022-09-30T22:44:13.453181Z",
     "iopub.status.busy": "2022-09-30T22:44:13.452853Z",
     "iopub.status.idle": "2022-09-30T22:44:13.673906Z",
     "shell.execute_reply": "2022-09-30T22:44:13.672422Z"
    },
    "papermill": {
     "duration": 0.234904,
     "end_time": "2022-09-30T22:44:13.676726",
     "exception": false,
     "start_time": "2022-09-30T22:44:13.441822",
     "status": "completed"
    },
    "tags": []
   },
   "outputs": [],
   "source": [
    "import category_encoders as ce"
   ]
  },
  {
   "cell_type": "code",
   "execution_count": 10,
   "id": "1881d2f6",
   "metadata": {
    "execution": {
     "iopub.execute_input": "2022-09-30T22:44:13.699061Z",
     "iopub.status.busy": "2022-09-30T22:44:13.698725Z",
     "iopub.status.idle": "2022-09-30T22:44:13.704716Z",
     "shell.execute_reply": "2022-09-30T22:44:13.703285Z"
    },
    "papermill": {
     "duration": 0.019774,
     "end_time": "2022-09-30T22:44:13.706782",
     "exception": false,
     "start_time": "2022-09-30T22:44:13.687008",
     "status": "completed"
    },
    "tags": []
   },
   "outputs": [],
   "source": [
    "encoder = ce.OneHotEncoder(cols=('season','yr','mnth','holiday','weekday','weathersit'), use_cat_names = True)"
   ]
  },
  {
   "cell_type": "code",
   "execution_count": 11,
   "id": "c5bd9e05",
   "metadata": {
    "_cell_guid": "3ce10598-fcb0-4fd7-9c24-fa3b2502afb3",
    "_uuid": "823c1808-d019-4fde-aee6-e91fbb374e5a",
    "collapsed": false,
    "execution": {
     "iopub.execute_input": "2022-09-30T22:44:13.728107Z",
     "iopub.status.busy": "2022-09-30T22:44:13.727768Z",
     "iopub.status.idle": "2022-09-30T22:44:13.792023Z",
     "shell.execute_reply": "2022-09-30T22:44:13.791105Z"
    },
    "jupyter": {
     "outputs_hidden": false
    },
    "papermill": {
     "duration": 0.077614,
     "end_time": "2022-09-30T22:44:13.794243",
     "exception": false,
     "start_time": "2022-09-30T22:44:13.716629",
     "status": "completed"
    },
    "tags": []
   },
   "outputs": [],
   "source": [
    "from sklearn.model_selection import train_test_split"
   ]
  },
  {
   "cell_type": "code",
   "execution_count": 12,
   "id": "70134ec4",
   "metadata": {
    "execution": {
     "iopub.execute_input": "2022-09-30T22:44:13.815026Z",
     "iopub.status.busy": "2022-09-30T22:44:13.814685Z",
     "iopub.status.idle": "2022-09-30T22:44:13.884513Z",
     "shell.execute_reply": "2022-09-30T22:44:13.882727Z"
    },
    "papermill": {
     "duration": 0.083284,
     "end_time": "2022-09-30T22:44:13.887061",
     "exception": false,
     "start_time": "2022-09-30T22:44:13.803777",
     "status": "completed"
    },
    "tags": []
   },
   "outputs": [],
   "source": [
    "encoded = encoder.fit_transform(df)\n",
    "new_df = pd.concat([df.drop(['season','yr','mnth','holiday','weekday','weathersit','cnt'],axis=1),encoded],axis=1)"
   ]
  },
  {
   "cell_type": "code",
   "execution_count": 13,
   "id": "867f3c06",
   "metadata": {
    "execution": {
     "iopub.execute_input": "2022-09-30T22:44:13.908114Z",
     "iopub.status.busy": "2022-09-30T22:44:13.907787Z",
     "iopub.status.idle": "2022-09-30T22:44:13.928614Z",
     "shell.execute_reply": "2022-09-30T22:44:13.927356Z"
    },
    "papermill": {
     "duration": 0.033991,
     "end_time": "2022-09-30T22:44:13.930897",
     "exception": false,
     "start_time": "2022-09-30T22:44:13.896906",
     "status": "completed"
    },
    "tags": []
   },
   "outputs": [
    {
     "data": {
      "text/html": [
       "<div>\n",
       "<style scoped>\n",
       "    .dataframe tbody tr th:only-of-type {\n",
       "        vertical-align: middle;\n",
       "    }\n",
       "\n",
       "    .dataframe tbody tr th {\n",
       "        vertical-align: top;\n",
       "    }\n",
       "\n",
       "    .dataframe thead th {\n",
       "        text-align: right;\n",
       "    }\n",
       "</style>\n",
       "<table border=\"1\" class=\"dataframe\">\n",
       "  <thead>\n",
       "    <tr style=\"text-align: right;\">\n",
       "      <th></th>\n",
       "      <th>workingday</th>\n",
       "      <th>temp</th>\n",
       "      <th>atemp</th>\n",
       "      <th>hum</th>\n",
       "      <th>windspeed</th>\n",
       "      <th>season_1.0</th>\n",
       "      <th>season_2.0</th>\n",
       "      <th>season_3.0</th>\n",
       "      <th>season_4.0</th>\n",
       "      <th>yr_0.0</th>\n",
       "      <th>...</th>\n",
       "      <th>weekday_5.0</th>\n",
       "      <th>workingday</th>\n",
       "      <th>weathersit_2.0</th>\n",
       "      <th>weathersit_1.0</th>\n",
       "      <th>weathersit_3.0</th>\n",
       "      <th>temp</th>\n",
       "      <th>atemp</th>\n",
       "      <th>hum</th>\n",
       "      <th>windspeed</th>\n",
       "      <th>cnt</th>\n",
       "    </tr>\n",
       "  </thead>\n",
       "  <tbody>\n",
       "    <tr>\n",
       "      <th>0</th>\n",
       "      <td>0</td>\n",
       "      <td>0.344167</td>\n",
       "      <td>0.363625</td>\n",
       "      <td>0.805833</td>\n",
       "      <td>0.160446</td>\n",
       "      <td>1</td>\n",
       "      <td>0</td>\n",
       "      <td>0</td>\n",
       "      <td>0</td>\n",
       "      <td>1</td>\n",
       "      <td>...</td>\n",
       "      <td>0</td>\n",
       "      <td>0</td>\n",
       "      <td>1</td>\n",
       "      <td>0</td>\n",
       "      <td>0</td>\n",
       "      <td>0.344167</td>\n",
       "      <td>0.363625</td>\n",
       "      <td>0.805833</td>\n",
       "      <td>0.160446</td>\n",
       "      <td>985</td>\n",
       "    </tr>\n",
       "    <tr>\n",
       "      <th>1</th>\n",
       "      <td>0</td>\n",
       "      <td>0.363478</td>\n",
       "      <td>0.353739</td>\n",
       "      <td>0.696087</td>\n",
       "      <td>0.248539</td>\n",
       "      <td>1</td>\n",
       "      <td>0</td>\n",
       "      <td>0</td>\n",
       "      <td>0</td>\n",
       "      <td>1</td>\n",
       "      <td>...</td>\n",
       "      <td>0</td>\n",
       "      <td>0</td>\n",
       "      <td>1</td>\n",
       "      <td>0</td>\n",
       "      <td>0</td>\n",
       "      <td>0.363478</td>\n",
       "      <td>0.353739</td>\n",
       "      <td>0.696087</td>\n",
       "      <td>0.248539</td>\n",
       "      <td>801</td>\n",
       "    </tr>\n",
       "    <tr>\n",
       "      <th>2</th>\n",
       "      <td>1</td>\n",
       "      <td>0.196364</td>\n",
       "      <td>0.189405</td>\n",
       "      <td>0.437273</td>\n",
       "      <td>0.248309</td>\n",
       "      <td>1</td>\n",
       "      <td>0</td>\n",
       "      <td>0</td>\n",
       "      <td>0</td>\n",
       "      <td>1</td>\n",
       "      <td>...</td>\n",
       "      <td>0</td>\n",
       "      <td>1</td>\n",
       "      <td>0</td>\n",
       "      <td>1</td>\n",
       "      <td>0</td>\n",
       "      <td>0.196364</td>\n",
       "      <td>0.189405</td>\n",
       "      <td>0.437273</td>\n",
       "      <td>0.248309</td>\n",
       "      <td>1349</td>\n",
       "    </tr>\n",
       "    <tr>\n",
       "      <th>3</th>\n",
       "      <td>1</td>\n",
       "      <td>0.200000</td>\n",
       "      <td>0.212122</td>\n",
       "      <td>0.590435</td>\n",
       "      <td>0.160296</td>\n",
       "      <td>1</td>\n",
       "      <td>0</td>\n",
       "      <td>0</td>\n",
       "      <td>0</td>\n",
       "      <td>1</td>\n",
       "      <td>...</td>\n",
       "      <td>0</td>\n",
       "      <td>1</td>\n",
       "      <td>0</td>\n",
       "      <td>1</td>\n",
       "      <td>0</td>\n",
       "      <td>0.200000</td>\n",
       "      <td>0.212122</td>\n",
       "      <td>0.590435</td>\n",
       "      <td>0.160296</td>\n",
       "      <td>1562</td>\n",
       "    </tr>\n",
       "    <tr>\n",
       "      <th>4</th>\n",
       "      <td>1</td>\n",
       "      <td>0.226957</td>\n",
       "      <td>0.229270</td>\n",
       "      <td>0.436957</td>\n",
       "      <td>0.186900</td>\n",
       "      <td>1</td>\n",
       "      <td>0</td>\n",
       "      <td>0</td>\n",
       "      <td>0</td>\n",
       "      <td>1</td>\n",
       "      <td>...</td>\n",
       "      <td>0</td>\n",
       "      <td>1</td>\n",
       "      <td>0</td>\n",
       "      <td>1</td>\n",
       "      <td>0</td>\n",
       "      <td>0.226957</td>\n",
       "      <td>0.229270</td>\n",
       "      <td>0.436957</td>\n",
       "      <td>0.186900</td>\n",
       "      <td>1600</td>\n",
       "    </tr>\n",
       "  </tbody>\n",
       "</table>\n",
       "<p>5 rows × 41 columns</p>\n",
       "</div>"
      ],
      "text/plain": [
       "   workingday      temp     atemp       hum  windspeed  season_1.0  \\\n",
       "0           0  0.344167  0.363625  0.805833   0.160446           1   \n",
       "1           0  0.363478  0.353739  0.696087   0.248539           1   \n",
       "2           1  0.196364  0.189405  0.437273   0.248309           1   \n",
       "3           1  0.200000  0.212122  0.590435   0.160296           1   \n",
       "4           1  0.226957  0.229270  0.436957   0.186900           1   \n",
       "\n",
       "   season_2.0  season_3.0  season_4.0  yr_0.0  ...  weekday_5.0  workingday  \\\n",
       "0           0           0           0       1  ...            0           0   \n",
       "1           0           0           0       1  ...            0           0   \n",
       "2           0           0           0       1  ...            0           1   \n",
       "3           0           0           0       1  ...            0           1   \n",
       "4           0           0           0       1  ...            0           1   \n",
       "\n",
       "   weathersit_2.0  weathersit_1.0  weathersit_3.0      temp     atemp  \\\n",
       "0               1               0               0  0.344167  0.363625   \n",
       "1               1               0               0  0.363478  0.353739   \n",
       "2               0               1               0  0.196364  0.189405   \n",
       "3               0               1               0  0.200000  0.212122   \n",
       "4               0               1               0  0.226957  0.229270   \n",
       "\n",
       "        hum  windspeed   cnt  \n",
       "0  0.805833   0.160446   985  \n",
       "1  0.696087   0.248539   801  \n",
       "2  0.437273   0.248309  1349  \n",
       "3  0.590435   0.160296  1562  \n",
       "4  0.436957   0.186900  1600  \n",
       "\n",
       "[5 rows x 41 columns]"
      ]
     },
     "execution_count": 13,
     "metadata": {},
     "output_type": "execute_result"
    }
   ],
   "source": [
    "new_df.head()"
   ]
  },
  {
   "cell_type": "code",
   "execution_count": 14,
   "id": "ac8645b5",
   "metadata": {
    "_cell_guid": "79fda334-0f33-4418-ae63-ba35a23ff066",
    "_uuid": "b792fcab-92ae-4a6e-96c4-7f414e43d505",
    "collapsed": false,
    "execution": {
     "iopub.execute_input": "2022-09-30T22:44:13.952477Z",
     "iopub.status.busy": "2022-09-30T22:44:13.952167Z",
     "iopub.status.idle": "2022-09-30T22:44:13.961941Z",
     "shell.execute_reply": "2022-09-30T22:44:13.960895Z"
    },
    "jupyter": {
     "outputs_hidden": false
    },
    "papermill": {
     "duration": 0.022765,
     "end_time": "2022-09-30T22:44:13.963863",
     "exception": false,
     "start_time": "2022-09-30T22:44:13.941098",
     "status": "completed"
    },
    "tags": []
   },
   "outputs": [],
   "source": [
    "X = new_df.drop(['cnt','workingday'], axis = 1)\n",
    "y = new_df['cnt']"
   ]
  },
  {
   "cell_type": "markdown",
   "id": "c4eba125",
   "metadata": {
    "papermill": {
     "duration": 0.009945,
     "end_time": "2022-09-30T22:44:13.983940",
     "exception": false,
     "start_time": "2022-09-30T22:44:13.973995",
     "status": "completed"
    },
    "tags": []
   },
   "source": [
    "**Workingday** is dropped because it is related with holiday "
   ]
  },
  {
   "cell_type": "code",
   "execution_count": 15,
   "id": "8d073189",
   "metadata": {
    "execution": {
     "iopub.execute_input": "2022-09-30T22:44:14.006664Z",
     "iopub.status.busy": "2022-09-30T22:44:14.006285Z",
     "iopub.status.idle": "2022-09-30T22:44:14.012252Z",
     "shell.execute_reply": "2022-09-30T22:44:14.011379Z"
    },
    "papermill": {
     "duration": 0.019385,
     "end_time": "2022-09-30T22:44:14.014218",
     "exception": false,
     "start_time": "2022-09-30T22:44:13.994833",
     "status": "completed"
    },
    "tags": []
   },
   "outputs": [
    {
     "data": {
      "text/plain": [
       "0       985\n",
       "1       801\n",
       "2      1349\n",
       "3      1562\n",
       "4      1600\n",
       "       ... \n",
       "726    2114\n",
       "727    3095\n",
       "728    1341\n",
       "729    1796\n",
       "730    2729\n",
       "Name: cnt, Length: 731, dtype: int64"
      ]
     },
     "execution_count": 15,
     "metadata": {},
     "output_type": "execute_result"
    }
   ],
   "source": [
    "y"
   ]
  },
  {
   "cell_type": "code",
   "execution_count": 16,
   "id": "40576a95",
   "metadata": {
    "_cell_guid": "70659f9d-060f-4279-9c62-9da4d5ca4d75",
    "_uuid": "bbf8619c-ebca-4f2f-81ef-ad4c8ba5e03d",
    "collapsed": false,
    "execution": {
     "iopub.execute_input": "2022-09-30T22:44:14.036752Z",
     "iopub.status.busy": "2022-09-30T22:44:14.036352Z",
     "iopub.status.idle": "2022-09-30T22:44:14.045512Z",
     "shell.execute_reply": "2022-09-30T22:44:14.043938Z"
    },
    "jupyter": {
     "outputs_hidden": false
    },
    "papermill": {
     "duration": 0.022805,
     "end_time": "2022-09-30T22:44:14.047640",
     "exception": false,
     "start_time": "2022-09-30T22:44:14.024835",
     "status": "completed"
    },
    "tags": []
   },
   "outputs": [],
   "source": [
    "X_train, X_test, y_train, y_test = train_test_split(X, y, test_size=0.3, random_state=42)"
   ]
  },
  {
   "cell_type": "code",
   "execution_count": 17,
   "id": "5dfb2496",
   "metadata": {
    "_cell_guid": "8bb57773-01c9-4194-a7cd-6c34adcc6127",
    "_uuid": "f0dc72ff-52ee-483c-91db-24c11e915c73",
    "collapsed": false,
    "execution": {
     "iopub.execute_input": "2022-09-30T22:44:14.069830Z",
     "iopub.status.busy": "2022-09-30T22:44:14.069422Z",
     "iopub.status.idle": "2022-09-30T22:44:14.173545Z",
     "shell.execute_reply": "2022-09-30T22:44:14.172517Z"
    },
    "jupyter": {
     "outputs_hidden": false
    },
    "papermill": {
     "duration": 0.117757,
     "end_time": "2022-09-30T22:44:14.175888",
     "exception": false,
     "start_time": "2022-09-30T22:44:14.058131",
     "status": "completed"
    },
    "tags": []
   },
   "outputs": [],
   "source": [
    "from sklearn.linear_model import LinearRegression"
   ]
  },
  {
   "cell_type": "code",
   "execution_count": 18,
   "id": "fb97a3ba",
   "metadata": {
    "_cell_guid": "ccd23d47-34ae-4202-8146-c21f89410662",
    "_uuid": "8d688102-4969-4acf-a23b-4aefbd35247c",
    "collapsed": false,
    "execution": {
     "iopub.execute_input": "2022-09-30T22:44:14.198345Z",
     "iopub.status.busy": "2022-09-30T22:44:14.198013Z",
     "iopub.status.idle": "2022-09-30T22:44:14.203116Z",
     "shell.execute_reply": "2022-09-30T22:44:14.201835Z"
    },
    "jupyter": {
     "outputs_hidden": false
    },
    "papermill": {
     "duration": 0.019268,
     "end_time": "2022-09-30T22:44:14.205420",
     "exception": false,
     "start_time": "2022-09-30T22:44:14.186152",
     "status": "completed"
    },
    "tags": []
   },
   "outputs": [],
   "source": [
    "LR = LinearRegression()"
   ]
  },
  {
   "cell_type": "code",
   "execution_count": 19,
   "id": "aeb8559c",
   "metadata": {
    "_cell_guid": "0b152974-58db-4c83-a3c2-35776691e45c",
    "_uuid": "530b4383-6391-405f-90e0-9370a002ba80",
    "collapsed": false,
    "execution": {
     "iopub.execute_input": "2022-09-30T22:44:14.228042Z",
     "iopub.status.busy": "2022-09-30T22:44:14.227656Z",
     "iopub.status.idle": "2022-09-30T22:44:14.264891Z",
     "shell.execute_reply": "2022-09-30T22:44:14.264022Z"
    },
    "jupyter": {
     "outputs_hidden": false
    },
    "papermill": {
     "duration": 0.050926,
     "end_time": "2022-09-30T22:44:14.266933",
     "exception": false,
     "start_time": "2022-09-30T22:44:14.216007",
     "status": "completed"
    },
    "tags": []
   },
   "outputs": [
    {
     "data": {
      "text/plain": [
       "LinearRegression()"
      ]
     },
     "execution_count": 19,
     "metadata": {},
     "output_type": "execute_result"
    }
   ],
   "source": [
    "LR.fit(X_train, y_train)"
   ]
  },
  {
   "cell_type": "code",
   "execution_count": 20,
   "id": "08a95e00",
   "metadata": {
    "execution": {
     "iopub.execute_input": "2022-09-30T22:44:14.298860Z",
     "iopub.status.busy": "2022-09-30T22:44:14.298467Z",
     "iopub.status.idle": "2022-09-30T22:44:14.305557Z",
     "shell.execute_reply": "2022-09-30T22:44:14.304605Z"
    },
    "papermill": {
     "duration": 0.02536,
     "end_time": "2022-09-30T22:44:14.307692",
     "exception": false,
     "start_time": "2022-09-30T22:44:14.282332",
     "status": "completed"
    },
    "tags": []
   },
   "outputs": [
    {
     "data": {
      "text/plain": [
       "array([-1.22890549e+16,  1.84050000e+03, -6.52083811e+02, -1.10960252e+03,\n",
       "       -9.46236603e+02,  1.10402434e+02,  1.16859425e+02,  7.86333604e+02,\n",
       "       -9.91436156e+02,  9.71052084e+02, -7.61286502e+01,  5.92396907e+01,\n",
       "        4.90914051e+02,  8.37791449e+01,  3.26381701e+02,  1.47548247e+01,\n",
       "       -5.47806058e+02, -2.31291306e+02,  5.58128836e+02,  1.83645124e+02,\n",
       "       -4.26070831e+02, -3.40710852e+02,  2.85023358e+02, -2.90367108e+02,\n",
       "        1.17002260e+02, -3.42486123e+02, -5.21637419e+01, -4.73031381e+01,\n",
       "        6.56444483e+01,  6.77283970e+01,  1.36528345e+02,  2.31578465e+02,\n",
       "        7.52826270e+02, -1.04573438e+03,  1.22890549e+16,  1.90175000e+03,\n",
       "       -6.93265625e+02, -1.15386719e+03])"
      ]
     },
     "execution_count": 20,
     "metadata": {},
     "output_type": "execute_result"
    }
   ],
   "source": [
    "LR.coef_"
   ]
  },
  {
   "cell_type": "code",
   "execution_count": 21,
   "id": "144af0a6",
   "metadata": {
    "_cell_guid": "31b8c3bd-3793-493a-a328-6d2a32efe2a9",
    "_uuid": "f27359ee-189f-4579-9493-f7ba484a8505",
    "collapsed": false,
    "execution": {
     "iopub.execute_input": "2022-09-30T22:44:14.338582Z",
     "iopub.status.busy": "2022-09-30T22:44:14.338152Z",
     "iopub.status.idle": "2022-09-30T22:44:14.348430Z",
     "shell.execute_reply": "2022-09-30T22:44:14.347506Z"
    },
    "jupyter": {
     "outputs_hidden": false
    },
    "papermill": {
     "duration": 0.029389,
     "end_time": "2022-09-30T22:44:14.351810",
     "exception": false,
     "start_time": "2022-09-30T22:44:14.322421",
     "status": "completed"
    },
    "tags": []
   },
   "outputs": [],
   "source": [
    "pred = LR.predict(X_train)"
   ]
  },
  {
   "cell_type": "code",
   "execution_count": 22,
   "id": "63e3197f",
   "metadata": {
    "execution": {
     "iopub.execute_input": "2022-09-30T22:44:14.385349Z",
     "iopub.status.busy": "2022-09-30T22:44:14.384462Z",
     "iopub.status.idle": "2022-09-30T22:44:14.389121Z",
     "shell.execute_reply": "2022-09-30T22:44:14.388395Z"
    },
    "papermill": {
     "duration": 0.025519,
     "end_time": "2022-09-30T22:44:14.392738",
     "exception": false,
     "start_time": "2022-09-30T22:44:14.367219",
     "status": "completed"
    },
    "tags": []
   },
   "outputs": [],
   "source": [
    "from sklearn.metrics import mean_squared_error,r2_score"
   ]
  },
  {
   "cell_type": "markdown",
   "id": "ef1fc787",
   "metadata": {
    "papermill": {
     "duration": 0.014471,
     "end_time": "2022-09-30T22:44:14.423152",
     "exception": false,
     "start_time": "2022-09-30T22:44:14.408681",
     "status": "completed"
    },
    "tags": []
   },
   "source": [
    "**Question 4. c)**\n",
    "\n",
    "The rmse and r^2 value for training dataset using Linear Regression and Random Forest are:"
   ]
  },
  {
   "cell_type": "code",
   "execution_count": 23,
   "id": "8a680000",
   "metadata": {
    "_cell_guid": "138452f7-ede1-4386-b6f4-26b87dc24bda",
    "_uuid": "15a0d3b5-20c2-49e6-aee1-d068e15f6234",
    "collapsed": false,
    "execution": {
     "iopub.execute_input": "2022-09-30T22:44:14.453340Z",
     "iopub.status.busy": "2022-09-30T22:44:14.452984Z",
     "iopub.status.idle": "2022-09-30T22:44:14.459471Z",
     "shell.execute_reply": "2022-09-30T22:44:14.458749Z"
    },
    "jupyter": {
     "outputs_hidden": false
    },
    "papermill": {
     "duration": 0.026775,
     "end_time": "2022-09-30T22:44:14.464537",
     "exception": false,
     "start_time": "2022-09-30T22:44:14.437762",
     "status": "completed"
    },
    "tags": []
   },
   "outputs": [
    {
     "data": {
      "text/plain": [
       "759.0600752359645"
      ]
     },
     "execution_count": 23,
     "metadata": {},
     "output_type": "execute_result"
    }
   ],
   "source": [
    "mean_squared_error(y_train, pred,squared=False)"
   ]
  },
  {
   "cell_type": "code",
   "execution_count": 24,
   "id": "ef103c3e",
   "metadata": {
    "_cell_guid": "6fab633d-fb85-499b-a3ad-562a0c1fd422",
    "_uuid": "24b978a6-b3b0-4ad2-9277-591433a71fdf",
    "collapsed": false,
    "execution": {
     "iopub.execute_input": "2022-09-30T22:44:14.487494Z",
     "iopub.status.busy": "2022-09-30T22:44:14.487184Z",
     "iopub.status.idle": "2022-09-30T22:44:14.495088Z",
     "shell.execute_reply": "2022-09-30T22:44:14.494141Z"
    },
    "jupyter": {
     "outputs_hidden": false
    },
    "papermill": {
     "duration": 0.021479,
     "end_time": "2022-09-30T22:44:14.496958",
     "exception": false,
     "start_time": "2022-09-30T22:44:14.475479",
     "status": "completed"
    },
    "tags": []
   },
   "outputs": [
    {
     "data": {
      "text/plain": [
       "0.8416632435493496"
      ]
     },
     "execution_count": 24,
     "metadata": {},
     "output_type": "execute_result"
    }
   ],
   "source": [
    "r2_score(y_train, pred)"
   ]
  },
  {
   "cell_type": "code",
   "execution_count": 25,
   "id": "1c737d8c",
   "metadata": {
    "execution": {
     "iopub.execute_input": "2022-09-30T22:44:14.521869Z",
     "iopub.status.busy": "2022-09-30T22:44:14.519951Z",
     "iopub.status.idle": "2022-09-30T22:44:14.676305Z",
     "shell.execute_reply": "2022-09-30T22:44:14.675067Z"
    },
    "papermill": {
     "duration": 0.170706,
     "end_time": "2022-09-30T22:44:14.678827",
     "exception": false,
     "start_time": "2022-09-30T22:44:14.508121",
     "status": "completed"
    },
    "tags": []
   },
   "outputs": [],
   "source": [
    "from sklearn.ensemble import RandomForestRegressor"
   ]
  },
  {
   "cell_type": "code",
   "execution_count": 26,
   "id": "67bfeb21",
   "metadata": {
    "execution": {
     "iopub.execute_input": "2022-09-30T22:44:14.703001Z",
     "iopub.status.busy": "2022-09-30T22:44:14.702443Z",
     "iopub.status.idle": "2022-09-30T22:44:14.707993Z",
     "shell.execute_reply": "2022-09-30T22:44:14.706526Z"
    },
    "papermill": {
     "duration": 0.020682,
     "end_time": "2022-09-30T22:44:14.710365",
     "exception": false,
     "start_time": "2022-09-30T22:44:14.689683",
     "status": "completed"
    },
    "tags": []
   },
   "outputs": [],
   "source": [
    "RF = RandomForestRegressor()"
   ]
  },
  {
   "cell_type": "code",
   "execution_count": 27,
   "id": "ae4272c1",
   "metadata": {
    "execution": {
     "iopub.execute_input": "2022-09-30T22:44:14.733872Z",
     "iopub.status.busy": "2022-09-30T22:44:14.733501Z",
     "iopub.status.idle": "2022-09-30T22:44:15.155065Z",
     "shell.execute_reply": "2022-09-30T22:44:15.153987Z"
    },
    "papermill": {
     "duration": 0.435755,
     "end_time": "2022-09-30T22:44:15.157023",
     "exception": false,
     "start_time": "2022-09-30T22:44:14.721268",
     "status": "completed"
    },
    "tags": []
   },
   "outputs": [
    {
     "data": {
      "text/plain": [
       "RandomForestRegressor()"
      ]
     },
     "execution_count": 27,
     "metadata": {},
     "output_type": "execute_result"
    }
   ],
   "source": [
    "RF.fit(X_train,y_train)"
   ]
  },
  {
   "cell_type": "code",
   "execution_count": 28,
   "id": "2a895151",
   "metadata": {
    "execution": {
     "iopub.execute_input": "2022-09-30T22:44:15.182857Z",
     "iopub.status.busy": "2022-09-30T22:44:15.182462Z",
     "iopub.status.idle": "2022-09-30T22:44:15.217923Z",
     "shell.execute_reply": "2022-09-30T22:44:15.216162Z"
    },
    "papermill": {
     "duration": 0.051044,
     "end_time": "2022-09-30T22:44:15.220340",
     "exception": false,
     "start_time": "2022-09-30T22:44:15.169296",
     "status": "completed"
    },
    "tags": []
   },
   "outputs": [
    {
     "data": {
      "text/plain": [
       "272.5374596364472"
      ]
     },
     "execution_count": 28,
     "metadata": {},
     "output_type": "execute_result"
    }
   ],
   "source": [
    "mean_squared_error(y_train, RF.predict(X_train),squared=False)"
   ]
  },
  {
   "cell_type": "code",
   "execution_count": 29,
   "id": "ca6d155c",
   "metadata": {
    "execution": {
     "iopub.execute_input": "2022-09-30T22:44:15.246023Z",
     "iopub.status.busy": "2022-09-30T22:44:15.245621Z",
     "iopub.status.idle": "2022-09-30T22:44:15.272502Z",
     "shell.execute_reply": "2022-09-30T22:44:15.271478Z"
    },
    "papermill": {
     "duration": 0.043028,
     "end_time": "2022-09-30T22:44:15.275246",
     "exception": false,
     "start_time": "2022-09-30T22:44:15.232218",
     "status": "completed"
    },
    "tags": []
   },
   "outputs": [
    {
     "data": {
      "text/plain": [
       "0.9795881742259148"
      ]
     },
     "execution_count": 29,
     "metadata": {},
     "output_type": "execute_result"
    }
   ],
   "source": [
    "r2_score(y_train,RF.predict(X_train))"
   ]
  },
  {
   "cell_type": "code",
   "execution_count": 30,
   "id": "2ae16646",
   "metadata": {
    "_cell_guid": "1103ebfd-5b43-410a-b9e2-f1451641d0c4",
    "_uuid": "3ed5fd52-3240-4b3a-939b-c08e9b301e2e",
    "collapsed": false,
    "execution": {
     "iopub.execute_input": "2022-09-30T22:44:15.304479Z",
     "iopub.status.busy": "2022-09-30T22:44:15.304091Z",
     "iopub.status.idle": "2022-09-30T22:44:15.312771Z",
     "shell.execute_reply": "2022-09-30T22:44:15.311329Z"
    },
    "jupyter": {
     "outputs_hidden": false
    },
    "papermill": {
     "duration": 0.026972,
     "end_time": "2022-09-30T22:44:15.316389",
     "exception": false,
     "start_time": "2022-09-30T22:44:15.289417",
     "status": "completed"
    },
    "tags": []
   },
   "outputs": [],
   "source": [
    "y_pred = LR.predict(X_test)"
   ]
  },
  {
   "cell_type": "markdown",
   "id": "7322ee79",
   "metadata": {
    "papermill": {
     "duration": 0.011556,
     "end_time": "2022-09-30T22:44:15.340854",
     "exception": false,
     "start_time": "2022-09-30T22:44:15.329298",
     "status": "completed"
    },
    "tags": []
   },
   "source": [
    "**Question 4. d)**\n",
    "\n",
    "The rmse and r^2 value for test using Linear Regression and Random Forest are:"
   ]
  },
  {
   "cell_type": "code",
   "execution_count": 31,
   "id": "b6b0f8b2",
   "metadata": {
    "_cell_guid": "0da80469-0753-4ad7-aa41-454724050843",
    "_uuid": "1ef2e5e2-8418-43e0-8697-a72ad6d65f8f",
    "collapsed": false,
    "execution": {
     "iopub.execute_input": "2022-09-30T22:44:15.365771Z",
     "iopub.status.busy": "2022-09-30T22:44:15.365383Z",
     "iopub.status.idle": "2022-09-30T22:44:15.375685Z",
     "shell.execute_reply": "2022-09-30T22:44:15.374238Z"
    },
    "jupyter": {
     "outputs_hidden": false
    },
    "papermill": {
     "duration": 0.025006,
     "end_time": "2022-09-30T22:44:15.377815",
     "exception": false,
     "start_time": "2022-09-30T22:44:15.352809",
     "status": "completed"
    },
    "tags": []
   },
   "outputs": [
    {
     "data": {
      "text/plain": [
       "774.1783135397773"
      ]
     },
     "execution_count": 31,
     "metadata": {},
     "output_type": "execute_result"
    }
   ],
   "source": [
    "mean_squared_error(y_test, y_pred,squared=False)"
   ]
  },
  {
   "cell_type": "code",
   "execution_count": 32,
   "id": "dd5aaa72",
   "metadata": {
    "_cell_guid": "a8435401-5e4c-430d-b807-2f4eb29f8f30",
    "_uuid": "4c590e5c-03c7-4e4c-8a2b-b09d57e17a24",
    "collapsed": false,
    "execution": {
     "iopub.execute_input": "2022-09-30T22:44:15.404038Z",
     "iopub.status.busy": "2022-09-30T22:44:15.403627Z",
     "iopub.status.idle": "2022-09-30T22:44:15.413303Z",
     "shell.execute_reply": "2022-09-30T22:44:15.411767Z"
    },
    "jupyter": {
     "outputs_hidden": false
    },
    "papermill": {
     "duration": 0.025387,
     "end_time": "2022-09-30T22:44:15.415580",
     "exception": false,
     "start_time": "2022-09-30T22:44:15.390193",
     "status": "completed"
    },
    "tags": []
   },
   "outputs": [
    {
     "data": {
      "text/plain": [
       "0.8493698992205666"
      ]
     },
     "execution_count": 32,
     "metadata": {},
     "output_type": "execute_result"
    }
   ],
   "source": [
    "r2_score(y_test,y_pred)"
   ]
  },
  {
   "cell_type": "code",
   "execution_count": 33,
   "id": "f2d64870",
   "metadata": {
    "execution": {
     "iopub.execute_input": "2022-09-30T22:44:15.441661Z",
     "iopub.status.busy": "2022-09-30T22:44:15.441324Z",
     "iopub.status.idle": "2022-09-30T22:44:15.664901Z",
     "shell.execute_reply": "2022-09-30T22:44:15.663765Z"
    },
    "papermill": {
     "duration": 0.238734,
     "end_time": "2022-09-30T22:44:15.666736",
     "exception": false,
     "start_time": "2022-09-30T22:44:15.428002",
     "status": "completed"
    },
    "tags": []
   },
   "outputs": [
    {
     "data": {
      "text/plain": [
       "RandomForestRegressor()"
      ]
     },
     "execution_count": 33,
     "metadata": {},
     "output_type": "execute_result"
    }
   ],
   "source": [
    "RF.fit(X_test,y_test)"
   ]
  },
  {
   "cell_type": "code",
   "execution_count": 34,
   "id": "e19f5dee",
   "metadata": {
    "execution": {
     "iopub.execute_input": "2022-09-30T22:44:15.692795Z",
     "iopub.status.busy": "2022-09-30T22:44:15.691542Z",
     "iopub.status.idle": "2022-09-30T22:44:15.716655Z",
     "shell.execute_reply": "2022-09-30T22:44:15.714917Z"
    },
    "papermill": {
     "duration": 0.040193,
     "end_time": "2022-09-30T22:44:15.718993",
     "exception": false,
     "start_time": "2022-09-30T22:44:15.678800",
     "status": "completed"
    },
    "tags": []
   },
   "outputs": [
    {
     "data": {
      "text/plain": [
       "319.90613488959536"
      ]
     },
     "execution_count": 34,
     "metadata": {},
     "output_type": "execute_result"
    }
   ],
   "source": [
    "mean_squared_error(y_test, RF.predict(X_test),squared=False)"
   ]
  },
  {
   "cell_type": "code",
   "execution_count": 35,
   "id": "4eafa17e",
   "metadata": {
    "_cell_guid": "bba1bd91-cca0-4bb6-b9e2-6ebb7751d6e9",
    "_uuid": "303ac0d8-c25e-4904-b6aa-377f910fea48",
    "collapsed": false,
    "execution": {
     "iopub.execute_input": "2022-09-30T22:44:15.744501Z",
     "iopub.status.busy": "2022-09-30T22:44:15.744132Z",
     "iopub.status.idle": "2022-09-30T22:44:15.767010Z",
     "shell.execute_reply": "2022-09-30T22:44:15.765832Z"
    },
    "jupyter": {
     "outputs_hidden": false
    },
    "papermill": {
     "duration": 0.039371,
     "end_time": "2022-09-30T22:44:15.770243",
     "exception": false,
     "start_time": "2022-09-30T22:44:15.730872",
     "status": "completed"
    },
    "tags": []
   },
   "outputs": [
    {
     "data": {
      "text/plain": [
       "0.9742797668632616"
      ]
     },
     "execution_count": 35,
     "metadata": {},
     "output_type": "execute_result"
    }
   ],
   "source": [
    "r2_score(y_test,RF.predict(X_test))"
   ]
  },
  {
   "cell_type": "markdown",
   "id": "5441a3e8",
   "metadata": {
    "_cell_guid": "a0a2b805-7db3-4fb9-b640-2b80a2af8e33",
    "_uuid": "562b49b1-533c-4472-afd1-25fcb73d2edf",
    "papermill": {
     "duration": 0.011694,
     "end_time": "2022-09-30T22:44:15.794200",
     "exception": false,
     "start_time": "2022-09-30T22:44:15.782506",
     "status": "completed"
    },
    "tags": []
   },
   "source": [
    "**Question 4. e)**\n",
    "\n",
    "**atemp has the highest positive correlation and windspeed has the highest negative correlation, these are the features which give significant contribution.**\n",
    "\n",
    "**The model has a good fit with r square value of 0.979 while using Random Forest and 0.849 using Linear Regression.**\n",
    "\n",
    "**The same goes for rmse value.**\n",
    "\n",
    "**This indicates that Random Forest has a better fit as compared to Linear Regression for this model.**\n",
    "\n",
    "**The model fits the data well using Linear Regression which answers to the question how well the model fits.**"
   ]
  }
 ],
 "metadata": {
  "kernelspec": {
   "display_name": "Python 3",
   "language": "python",
   "name": "python3"
  },
  "language_info": {
   "codemirror_mode": {
    "name": "ipython",
    "version": 3
   },
   "file_extension": ".py",
   "mimetype": "text/x-python",
   "name": "python",
   "nbconvert_exporter": "python",
   "pygments_lexer": "ipython3",
   "version": "3.7.12"
  },
  "papermill": {
   "default_parameters": {},
   "duration": 14.513007,
   "end_time": "2022-09-30T22:44:16.731118",
   "environment_variables": {},
   "exception": null,
   "input_path": "__notebook__.ipynb",
   "output_path": "__notebook__.ipynb",
   "parameters": {},
   "start_time": "2022-09-30T22:44:02.218111",
   "version": "2.3.4"
  }
 },
 "nbformat": 4,
 "nbformat_minor": 5
}
