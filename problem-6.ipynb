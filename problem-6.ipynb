{
 "cells": [
  {
   "cell_type": "code",
   "execution_count": 1,
   "id": "57be40f1",
   "metadata": {
    "_cell_guid": "b1076dfc-b9ad-4769-8c92-a6c4dae69d19",
    "_uuid": "8f2839f25d086af736a60e9eeb907d3b93b6e0e5",
    "execution": {
     "iopub.execute_input": "2022-09-28T02:49:11.066801Z",
     "iopub.status.busy": "2022-09-28T02:49:11.066351Z",
     "iopub.status.idle": "2022-09-28T02:49:12.286400Z",
     "shell.execute_reply": "2022-09-28T02:49:12.285498Z"
    },
    "papermill": {
     "duration": 1.229996,
     "end_time": "2022-09-28T02:49:12.289193",
     "exception": false,
     "start_time": "2022-09-28T02:49:11.059197",
     "status": "completed"
    },
    "tags": []
   },
   "outputs": [],
   "source": [
    "import numpy as np\n",
    "import pandas as pd\n",
    "import matplotlib.pyplot as plt\n",
    "from sklearn.linear_model import LinearRegression\n",
    "from sklearn.preprocessing import PolynomialFeatures\n",
    "from numpy.polynomial import Polynomial"
   ]
  },
  {
   "cell_type": "code",
   "execution_count": 2,
   "id": "ce5d56a7",
   "metadata": {
    "execution": {
     "iopub.execute_input": "2022-09-28T02:49:12.300081Z",
     "iopub.status.busy": "2022-09-28T02:49:12.298758Z",
     "iopub.status.idle": "2022-09-28T02:49:12.306029Z",
     "shell.execute_reply": "2022-09-28T02:49:12.304395Z"
    },
    "papermill": {
     "duration": 0.015056,
     "end_time": "2022-09-28T02:49:12.308509",
     "exception": false,
     "start_time": "2022-09-28T02:49:12.293453",
     "status": "completed"
    },
    "tags": []
   },
   "outputs": [],
   "source": [
    "np.random.seed(12345)\n",
    "x = np.random.normal(0,1,(200))\n",
    "y = x + 2 * x**2 - 2 * x**3 + np.random.normal(0,1,(200))"
   ]
  },
  {
   "cell_type": "code",
   "execution_count": 3,
   "id": "d2b6f6f2",
   "metadata": {
    "execution": {
     "iopub.execute_input": "2022-09-28T02:49:12.318461Z",
     "iopub.status.busy": "2022-09-28T02:49:12.318006Z",
     "iopub.status.idle": "2022-09-28T02:49:12.596233Z",
     "shell.execute_reply": "2022-09-28T02:49:12.595387Z"
    },
    "papermill": {
     "duration": 0.286249,
     "end_time": "2022-09-28T02:49:12.598836",
     "exception": false,
     "start_time": "2022-09-28T02:49:12.312587",
     "status": "completed"
    },
    "tags": []
   },
   "outputs": [
    {
     "data": {
      "text/plain": [
       "<matplotlib.collections.PathCollection at 0x7f751df6a410>"
      ]
     },
     "execution_count": 3,
     "metadata": {},
     "output_type": "execute_result"
    },
    {
     "data": {
      "image/png": "[encoded data removed]",
      "text/plain": [
       "<Figure size 432x288 with 1 Axes>"
      ]
     },
     "metadata": {
      "needs_background": "light"
     },
     "output_type": "display_data"
    }
   ],
   "source": [
    "plt.scatter(x,y)"
   ]
  },
  {
   "cell_type": "code",
   "execution_count": 4,
   "id": "4602404e",
   "metadata": {
    "execution": {
     "iopub.execute_input": "2022-09-28T02:49:12.610262Z",
     "iopub.status.busy": "2022-09-28T02:49:12.609191Z",
     "iopub.status.idle": "2022-09-28T02:49:12.614430Z",
     "shell.execute_reply": "2022-09-28T02:49:12.613383Z"
    },
    "papermill": {
     "duration": 0.01316,
     "end_time": "2022-09-28T02:49:12.616717",
     "exception": false,
     "start_time": "2022-09-28T02:49:12.603557",
     "status": "completed"
    },
    "tags": []
   },
   "outputs": [],
   "source": [
    "from sklearn.preprocessing import PolynomialFeatures\n",
    "from sklearn.model_selection import LeaveOneOut\n",
    "from sklearn.model_selection import cross_val_score\n",
    "import random"
   ]
  },
  {
   "cell_type": "code",
   "execution_count": 5,
   "id": "23e771fa",
   "metadata": {
    "execution": {
     "iopub.execute_input": "2022-09-28T02:49:12.627876Z",
     "iopub.status.busy": "2022-09-28T02:49:12.627446Z",
     "iopub.status.idle": "2022-09-28T02:49:13.900918Z",
     "shell.execute_reply": "2022-09-28T02:49:13.899976Z"
    },
    "papermill": {
     "duration": 1.281837,
     "end_time": "2022-09-28T02:49:13.903339",
     "exception": false,
     "start_time": "2022-09-28T02:49:12.621502",
     "status": "completed"
    },
    "tags": []
   },
   "outputs": [],
   "source": [
    "random.seed(123)\n",
    "cross_val_dict_123 = {}\n",
    "\n",
    "for poly_val in range(1,6):\n",
    "    poly_f = PolynomialFeatures(degree = poly_val, include_bias = True)\n",
    "    x_poly = poly_f.fit_transform(x.reshape(-1,1))\n",
    "    \n",
    "    model = LinearRegression()\n",
    "    \n",
    "    cv = LeaveOneOut()\n",
    "    \n",
    "    cross_val_dict_123[poly_val] = cross_val_score(model, x_poly, y, scoring='neg_mean_squared_error', cv=cv).mean()"
   ]
  },
  {
   "cell_type": "code",
   "execution_count": 6,
   "id": "ef9ddabe",
   "metadata": {
    "execution": {
     "iopub.execute_input": "2022-09-28T02:49:13.913773Z",
     "iopub.status.busy": "2022-09-28T02:49:13.913384Z",
     "iopub.status.idle": "2022-09-28T02:49:13.920737Z",
     "shell.execute_reply": "2022-09-28T02:49:13.919402Z"
    },
    "papermill": {
     "duration": 0.015217,
     "end_time": "2022-09-28T02:49:13.922987",
     "exception": false,
     "start_time": "2022-09-28T02:49:13.907770",
     "status": "completed"
    },
    "tags": []
   },
   "outputs": [
    {
     "data": {
      "text/plain": [
       "{1: -26.534996047663075,\n",
       " 2: -32.53855587022528,\n",
       " 3: -1.1079418003348256,\n",
       " 4: -1.3234306760123546,\n",
       " 5: -1.1099273761939197}"
      ]
     },
     "execution_count": 6,
     "metadata": {},
     "output_type": "execute_result"
    }
   ],
   "source": [
    "cross_val_dict_123"
   ]
  },
  {
   "cell_type": "code",
   "execution_count": 7,
   "id": "1da2cac1",
   "metadata": {
    "execution": {
     "iopub.execute_input": "2022-09-28T02:49:13.934427Z",
     "iopub.status.busy": "2022-09-28T02:49:13.933667Z",
     "iopub.status.idle": "2022-09-28T02:49:15.165909Z",
     "shell.execute_reply": "2022-09-28T02:49:15.164932Z"
    },
    "papermill": {
     "duration": 1.240897,
     "end_time": "2022-09-28T02:49:15.168585",
     "exception": false,
     "start_time": "2022-09-28T02:49:13.927688",
     "status": "completed"
    },
    "tags": []
   },
   "outputs": [],
   "source": [
    "random.seed(12345)\n",
    "cross_val_dict_12345 = {}\n",
    "\n",
    "for poly_val in range(1,6):\n",
    "    poly_f = PolynomialFeatures(degree = poly_val, include_bias = True)\n",
    "    x_poly = poly_f.fit_transform(x.reshape(-1,1))\n",
    "    \n",
    "    model = LinearRegression().fit(x_poly, y)\n",
    "    \n",
    "    cv = LeaveOneOut()\n",
    "    \n",
    "    cross_val_dict_12345[poly_val] = cross_val_score(model, x_poly, y, scoring='neg_mean_squared_error', cv=cv).mean()"
   ]
  },
  {
   "cell_type": "code",
   "execution_count": 8,
   "id": "db51ac2d",
   "metadata": {
    "execution": {
     "iopub.execute_input": "2022-09-28T02:49:15.179506Z",
     "iopub.status.busy": "2022-09-28T02:49:15.179097Z",
     "iopub.status.idle": "2022-09-28T02:49:15.186137Z",
     "shell.execute_reply": "2022-09-28T02:49:15.184989Z"
    },
    "papermill": {
     "duration": 0.015075,
     "end_time": "2022-09-28T02:49:15.188380",
     "exception": false,
     "start_time": "2022-09-28T02:49:15.173305",
     "status": "completed"
    },
    "tags": []
   },
   "outputs": [
    {
     "data": {
      "text/plain": [
       "{1: -26.534996047663075,\n",
       " 2: -32.53855587022528,\n",
       " 3: -1.1079418003348256,\n",
       " 4: -1.3234306760123546,\n",
       " 5: -1.1099273761939197}"
      ]
     },
     "execution_count": 8,
     "metadata": {},
     "output_type": "execute_result"
    }
   ],
   "source": [
    "cross_val_dict_12345"
   ]
  },
  {
   "cell_type": "markdown",
   "id": "f08dcc08",
   "metadata": {
    "papermill": {
     "duration": 0.004316,
     "end_time": "2022-09-28T02:49:15.197430",
     "exception": false,
     "start_time": "2022-09-28T02:49:15.193114",
     "status": "completed"
    },
    "tags": []
   },
   "source": [
    "Since we are splitting the dataset into n-1 (n is the total number of observations) segments, the order in which the parts appear doesn't affect the outcome using seeds 123 and 12345. Because of this, the outcomes are unaffected by the seed."
   ]
  },
  {
   "cell_type": "code",
   "execution_count": 9,
   "id": "27fa7322",
   "metadata": {
    "execution": {
     "iopub.execute_input": "2022-09-28T02:49:15.208654Z",
     "iopub.status.busy": "2022-09-28T02:49:15.207826Z",
     "iopub.status.idle": "2022-09-28T02:49:15.215848Z",
     "shell.execute_reply": "2022-09-28T02:49:15.214756Z"
    },
    "papermill": {
     "duration": 0.01631,
     "end_time": "2022-09-28T02:49:15.218446",
     "exception": false,
     "start_time": "2022-09-28T02:49:15.202136",
     "status": "completed"
    },
    "tags": []
   },
   "outputs": [
    {
     "data": {
      "text/plain": [
       "array([[ 1.00000000e+00, -2.04707659e-01,  4.19052259e-02,\n",
       "        -8.57832070e-03,  1.75604795e-03, -3.59476467e-04],\n",
       "       [ 1.00000000e+00,  4.78943338e-01,  2.29386721e-01,\n",
       "         1.09863242e-01,  5.26182678e-02,  2.52011688e-02],\n",
       "       [ 1.00000000e+00, -5.19438715e-01,  2.69816579e-01,\n",
       "        -1.40153177e-01,  7.28009861e-02, -3.78156507e-02],\n",
       "       ...,\n",
       "       [ 1.00000000e+00, -1.41341604e+00,  1.99774490e+00,\n",
       "        -2.82364468e+00,  3.99098468e+00, -5.64092176e+00],\n",
       "       [ 1.00000000e+00,  1.29660784e+00,  1.68119190e+00,\n",
       "         2.17984660e+00,  2.82640619e+00,  3.66474043e+00],\n",
       "       [ 1.00000000e+00,  2.52275209e-01,  6.36427810e-02,\n",
       "         1.60554959e-02,  4.05040358e-03,  1.02181641e-03]])"
      ]
     },
     "execution_count": 9,
     "metadata": {},
     "output_type": "execute_result"
    }
   ],
   "source": [
    "x_poly"
   ]
  },
  {
   "cell_type": "code",
   "execution_count": 10,
   "id": "e1cb14a2",
   "metadata": {
    "execution": {
     "iopub.execute_input": "2022-09-28T02:49:15.230034Z",
     "iopub.status.busy": "2022-09-28T02:49:15.229625Z",
     "iopub.status.idle": "2022-09-28T02:49:15.247045Z",
     "shell.execute_reply": "2022-09-28T02:49:15.246167Z"
    },
    "papermill": {
     "duration": 0.025727,
     "end_time": "2022-09-28T02:49:15.249310",
     "exception": false,
     "start_time": "2022-09-28T02:49:15.223583",
     "status": "completed"
    },
    "tags": []
   },
   "outputs": [
    {
     "data": {
      "text/html": [
       "<div>\n",
       "<style scoped>\n",
       "    .dataframe tbody tr th:only-of-type {\n",
       "        vertical-align: middle;\n",
       "    }\n",
       "\n",
       "    .dataframe tbody tr th {\n",
       "        vertical-align: top;\n",
       "    }\n",
       "\n",
       "    .dataframe thead th {\n",
       "        text-align: right;\n",
       "    }\n",
       "</style>\n",
       "<table border=\"1\" class=\"dataframe\">\n",
       "  <thead>\n",
       "    <tr style=\"text-align: right;\">\n",
       "      <th></th>\n",
       "      <th>0</th>\n",
       "      <th>1</th>\n",
       "      <th>2</th>\n",
       "      <th>3</th>\n",
       "      <th>4</th>\n",
       "      <th>5</th>\n",
       "    </tr>\n",
       "  </thead>\n",
       "  <tbody>\n",
       "    <tr>\n",
       "      <th>0</th>\n",
       "      <td>1.0</td>\n",
       "      <td>-0.204708</td>\n",
       "      <td>0.041905</td>\n",
       "      <td>-0.008578</td>\n",
       "      <td>0.001756</td>\n",
       "      <td>-0.000359</td>\n",
       "    </tr>\n",
       "    <tr>\n",
       "      <th>1</th>\n",
       "      <td>1.0</td>\n",
       "      <td>0.478943</td>\n",
       "      <td>0.229387</td>\n",
       "      <td>0.109863</td>\n",
       "      <td>0.052618</td>\n",
       "      <td>0.025201</td>\n",
       "    </tr>\n",
       "    <tr>\n",
       "      <th>2</th>\n",
       "      <td>1.0</td>\n",
       "      <td>-0.519439</td>\n",
       "      <td>0.269817</td>\n",
       "      <td>-0.140153</td>\n",
       "      <td>0.072801</td>\n",
       "      <td>-0.037816</td>\n",
       "    </tr>\n",
       "    <tr>\n",
       "      <th>3</th>\n",
       "      <td>1.0</td>\n",
       "      <td>-0.555730</td>\n",
       "      <td>0.308836</td>\n",
       "      <td>-0.171630</td>\n",
       "      <td>0.095380</td>\n",
       "      <td>-0.053005</td>\n",
       "    </tr>\n",
       "    <tr>\n",
       "      <th>4</th>\n",
       "      <td>1.0</td>\n",
       "      <td>1.965781</td>\n",
       "      <td>3.864293</td>\n",
       "      <td>7.596353</td>\n",
       "      <td>14.932762</td>\n",
       "      <td>29.354534</td>\n",
       "    </tr>\n",
       "  </tbody>\n",
       "</table>\n",
       "</div>"
      ],
      "text/plain": [
       "     0         1         2         3          4          5\n",
       "0  1.0 -0.204708  0.041905 -0.008578   0.001756  -0.000359\n",
       "1  1.0  0.478943  0.229387  0.109863   0.052618   0.025201\n",
       "2  1.0 -0.519439  0.269817 -0.140153   0.072801  -0.037816\n",
       "3  1.0 -0.555730  0.308836 -0.171630   0.095380  -0.053005\n",
       "4  1.0  1.965781  3.864293  7.596353  14.932762  29.354534"
      ]
     },
     "execution_count": 10,
     "metadata": {},
     "output_type": "execute_result"
    }
   ],
   "source": [
    "df = pd.DataFrame(x_poly) # add the columns as x,x^2,x^3\n",
    "df.head()"
   ]
  },
  {
   "cell_type": "markdown",
   "id": "6d9edfe6",
   "metadata": {
    "papermill": {
     "duration": 0.00466,
     "end_time": "2022-09-28T02:49:15.259064",
     "exception": false,
     "start_time": "2022-09-28T02:49:15.254404",
     "status": "completed"
    },
    "tags": []
   },
   "source": [
    "The model with a 3rd degree polynomial produced the lowest cross validation score. Given that the relation between x and y is  a the same 3rd degree polynomial, I anticipated that the model would provide the highest score."
   ]
  },
  {
   "cell_type": "code",
   "execution_count": 11,
   "id": "501dbdbf",
   "metadata": {
    "execution": {
     "iopub.execute_input": "2022-09-28T02:49:15.270620Z",
     "iopub.status.busy": "2022-09-28T02:49:15.270171Z",
     "iopub.status.idle": "2022-09-28T02:49:15.278773Z",
     "shell.execute_reply": "2022-09-28T02:49:15.277476Z"
    },
    "papermill": {
     "duration": 0.017192,
     "end_time": "2022-09-28T02:49:15.281148",
     "exception": false,
     "start_time": "2022-09-28T02:49:15.263956",
     "status": "completed"
    },
    "tags": []
   },
   "outputs": [],
   "source": [
    "df.columns = ['β', 'x', 'x^2','x^3','x^4','x^5']"
   ]
  },
  {
   "cell_type": "code",
   "execution_count": 12,
   "id": "8e68a5c8",
   "metadata": {
    "execution": {
     "iopub.execute_input": "2022-09-28T02:49:15.293216Z",
     "iopub.status.busy": "2022-09-28T02:49:15.292610Z",
     "iopub.status.idle": "2022-09-28T02:49:15.311936Z",
     "shell.execute_reply": "2022-09-28T02:49:15.310717Z"
    },
    "papermill": {
     "duration": 0.027871,
     "end_time": "2022-09-28T02:49:15.314145",
     "exception": false,
     "start_time": "2022-09-28T02:49:15.286274",
     "status": "completed"
    },
    "tags": []
   },
   "outputs": [
    {
     "data": {
      "text/html": [
       "<div>\n",
       "<style scoped>\n",
       "    .dataframe tbody tr th:only-of-type {\n",
       "        vertical-align: middle;\n",
       "    }\n",
       "\n",
       "    .dataframe tbody tr th {\n",
       "        vertical-align: top;\n",
       "    }\n",
       "\n",
       "    .dataframe thead th {\n",
       "        text-align: right;\n",
       "    }\n",
       "</style>\n",
       "<table border=\"1\" class=\"dataframe\">\n",
       "  <thead>\n",
       "    <tr style=\"text-align: right;\">\n",
       "      <th></th>\n",
       "      <th>β</th>\n",
       "      <th>x</th>\n",
       "      <th>x^2</th>\n",
       "      <th>x^3</th>\n",
       "      <th>x^4</th>\n",
       "      <th>x^5</th>\n",
       "    </tr>\n",
       "  </thead>\n",
       "  <tbody>\n",
       "    <tr>\n",
       "      <th>0</th>\n",
       "      <td>1.0</td>\n",
       "      <td>-0.204708</td>\n",
       "      <td>0.041905</td>\n",
       "      <td>-0.008578</td>\n",
       "      <td>0.001756</td>\n",
       "      <td>-0.000359</td>\n",
       "    </tr>\n",
       "    <tr>\n",
       "      <th>1</th>\n",
       "      <td>1.0</td>\n",
       "      <td>0.478943</td>\n",
       "      <td>0.229387</td>\n",
       "      <td>0.109863</td>\n",
       "      <td>0.052618</td>\n",
       "      <td>0.025201</td>\n",
       "    </tr>\n",
       "    <tr>\n",
       "      <th>2</th>\n",
       "      <td>1.0</td>\n",
       "      <td>-0.519439</td>\n",
       "      <td>0.269817</td>\n",
       "      <td>-0.140153</td>\n",
       "      <td>0.072801</td>\n",
       "      <td>-0.037816</td>\n",
       "    </tr>\n",
       "    <tr>\n",
       "      <th>3</th>\n",
       "      <td>1.0</td>\n",
       "      <td>-0.555730</td>\n",
       "      <td>0.308836</td>\n",
       "      <td>-0.171630</td>\n",
       "      <td>0.095380</td>\n",
       "      <td>-0.053005</td>\n",
       "    </tr>\n",
       "    <tr>\n",
       "      <th>4</th>\n",
       "      <td>1.0</td>\n",
       "      <td>1.965781</td>\n",
       "      <td>3.864293</td>\n",
       "      <td>7.596353</td>\n",
       "      <td>14.932762</td>\n",
       "      <td>29.354534</td>\n",
       "    </tr>\n",
       "  </tbody>\n",
       "</table>\n",
       "</div>"
      ],
      "text/plain": [
       "     β         x       x^2       x^3        x^4        x^5\n",
       "0  1.0 -0.204708  0.041905 -0.008578   0.001756  -0.000359\n",
       "1  1.0  0.478943  0.229387  0.109863   0.052618   0.025201\n",
       "2  1.0 -0.519439  0.269817 -0.140153   0.072801  -0.037816\n",
       "3  1.0 -0.555730  0.308836 -0.171630   0.095380  -0.053005\n",
       "4  1.0  1.965781  3.864293  7.596353  14.932762  29.354534"
      ]
     },
     "execution_count": 12,
     "metadata": {},
     "output_type": "execute_result"
    }
   ],
   "source": [
    "df.head()"
   ]
  }
 ],
 "metadata": {
  "kernelspec": {
   "display_name": "Python 3",
   "language": "python",
   "name": "python3"
  },
  "language_info": {
   "codemirror_mode": {
    "name": "ipython",
    "version": 3
   },
   "file_extension": ".py",
   "mimetype": "text/x-python",
   "name": "python",
   "nbconvert_exporter": "python",
   "pygments_lexer": "ipython3",
   "version": "3.7.12"
  },
  "papermill": {
   "default_parameters": {},
   "duration": 14.447313,
   "end_time": "2022-09-28T02:49:16.041289",
   "environment_variables": {},
   "exception": null,
   "input_path": "__notebook__.ipynb",
   "output_path": "__notebook__.ipynb",
   "parameters": {},
   "start_time": "2022-09-28T02:49:01.593976",
   "version": "2.3.4"
  }
 },
 "nbformat": 4,
 "nbformat_minor": 5
}
