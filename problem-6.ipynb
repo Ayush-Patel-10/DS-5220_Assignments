{
 "cells": [
  {
   "cell_type": "code",
   "execution_count": 1,
   "id": "fe17c147",
   "metadata": {
    "_cell_guid": "b1076dfc-b9ad-4769-8c92-a6c4dae69d19",
    "_uuid": "8f2839f25d086af736a60e9eeb907d3b93b6e0e5",
    "execution": {
     "iopub.execute_input": "2022-09-30T22:46:10.297865Z",
     "iopub.status.busy": "2022-09-30T22:46:10.297109Z",
     "iopub.status.idle": "2022-09-30T22:46:11.591245Z",
     "shell.execute_reply": "2022-09-30T22:46:11.589987Z"
    },
    "papermill": {
     "duration": 1.305944,
     "end_time": "2022-09-30T22:46:11.594342",
     "exception": false,
     "start_time": "2022-09-30T22:46:10.288398",
     "status": "completed"
    },
    "tags": []
   },
   "outputs": [],
   "source": [
    "import numpy as np\n",
    "import pandas as pd\n",
    "import matplotlib.pyplot as plt\n",
    "from sklearn.linear_model import LinearRegression\n",
    "from sklearn.preprocessing import PolynomialFeatures\n",
    "from numpy.polynomial import Polynomial"
   ]
  },
  {
   "cell_type": "code",
   "execution_count": 2,
   "id": "ecf33668",
   "metadata": {
    "execution": {
     "iopub.execute_input": "2022-09-30T22:46:11.608443Z",
     "iopub.status.busy": "2022-09-30T22:46:11.607997Z",
     "iopub.status.idle": "2022-09-30T22:46:11.614315Z",
     "shell.execute_reply": "2022-09-30T22:46:11.613085Z"
    },
    "papermill": {
     "duration": 0.016539,
     "end_time": "2022-09-30T22:46:11.616900",
     "exception": false,
     "start_time": "2022-09-30T22:46:11.600361",
     "status": "completed"
    },
    "tags": []
   },
   "outputs": [],
   "source": [
    "np.random.seed(12345)\n",
    "x = np.random.normal(0,1,(200))\n",
    "y = x + 2 * x**2 - 2 * x**3 + np.random.normal(0,1,(200))"
   ]
  },
  {
   "cell_type": "markdown",
   "id": "8cea2dee",
   "metadata": {
    "papermill": {
     "duration": 0.005411,
     "end_time": "2022-09-30T22:46:11.628331",
     "exception": false,
     "start_time": "2022-09-30T22:46:11.622920",
     "status": "completed"
    },
    "tags": []
   },
   "source": []
  },
  {
   "cell_type": "markdown",
   "id": "ea867851",
   "metadata": {
    "papermill": {
     "duration": 0.005411,
     "end_time": "2022-09-30T22:46:11.639552",
     "exception": false,
     "start_time": "2022-09-30T22:46:11.634141",
     "status": "completed"
    },
    "tags": []
   },
   "source": [
    "**Question 6. a)**\n",
    "\n",
    "Here n represents the size of the dataset which is 200 and p refers to the dimension of each data point which is 1.\n",
    "\n",
    "The model equation is: $y = 2x + 2x^2 - 2x^3$\n",
    "As we have set the random seed to (12345), we can assert that the value of np.random.normal() will be same throughout the cell hence x + np.random.normal(0, 1, (200)) = 2x"
   ]
  },
  {
   "cell_type": "markdown",
   "id": "ca908ff1",
   "metadata": {
    "papermill": {
     "duration": 0.005519,
     "end_time": "2022-09-30T22:46:11.650827",
     "exception": false,
     "start_time": "2022-09-30T22:46:11.645308",
     "status": "completed"
    },
    "tags": []
   },
   "source": [
    "**Question 6.b)**\n",
    "\n",
    "The scatterplot between x and y generates cubical graph. There is a cubical relation."
   ]
  },
  {
   "cell_type": "code",
   "execution_count": 3,
   "id": "2f5bb65b",
   "metadata": {
    "execution": {
     "iopub.execute_input": "2022-09-30T22:46:11.664150Z",
     "iopub.status.busy": "2022-09-30T22:46:11.663766Z",
     "iopub.status.idle": "2022-09-30T22:46:11.975437Z",
     "shell.execute_reply": "2022-09-30T22:46:11.974214Z"
    },
    "papermill": {
     "duration": 0.32143,
     "end_time": "2022-09-30T22:46:11.978189",
     "exception": false,
     "start_time": "2022-09-30T22:46:11.656759",
     "status": "completed"
    },
    "tags": []
   },
   "outputs": [
    {
     "data": {
      "text/plain": [
       "<matplotlib.collections.PathCollection at 0x7f8ff9e02b50>"
      ]
     },
     "execution_count": 3,
     "metadata": {},
     "output_type": "execute_result"
    },
    {
     "data": {
      "image/png": "[encoded data removed]",
      "text/plain": [
       "<Figure size 432x288 with 1 Axes>"
      ]
     },
     "metadata": {
      "needs_background": "light"
     },
     "output_type": "display_data"
    }
   ],
   "source": [
    "plt.scatter(x,y)\n",
    "plt.xlabel(\"x\")\n",
    "plt.ylabel(\"y\")\n",
    "plt.scatter(x,-x**3)"
   ]
  },
  {
   "cell_type": "markdown",
   "id": "4190caf0",
   "metadata": {
    "papermill": {
     "duration": 0.00586,
     "end_time": "2022-09-30T22:46:11.991315",
     "exception": false,
     "start_time": "2022-09-30T22:46:11.985455",
     "status": "completed"
    },
    "tags": []
   },
   "source": [
    "**The blue indicates the plot of the generated graph and the orange indicates the cubical graph. Which shows that the similarity between them.**"
   ]
  },
  {
   "cell_type": "markdown",
   "id": "f8ce20a4",
   "metadata": {
    "papermill": {
     "duration": 0.00584,
     "end_time": "2022-09-30T22:46:12.003264",
     "exception": false,
     "start_time": "2022-09-30T22:46:11.997424",
     "status": "completed"
    },
    "tags": []
   },
   "source": []
  },
  {
   "cell_type": "code",
   "execution_count": 4,
   "id": "f3144419",
   "metadata": {
    "execution": {
     "iopub.execute_input": "2022-09-30T22:46:12.017374Z",
     "iopub.status.busy": "2022-09-30T22:46:12.016969Z",
     "iopub.status.idle": "2022-09-30T22:46:12.236812Z",
     "shell.execute_reply": "2022-09-30T22:46:12.235402Z"
    },
    "papermill": {
     "duration": 0.230917,
     "end_time": "2022-09-30T22:46:12.240300",
     "exception": false,
     "start_time": "2022-09-30T22:46:12.009383",
     "status": "completed"
    },
    "tags": []
   },
   "outputs": [
    {
     "data": {
      "image/png": "[encoded data removed]",
      "text/plain": [
       "<Figure size 432x288 with 1 Axes>"
      ]
     },
     "metadata": {
      "needs_background": "light"
     },
     "output_type": "display_data"
    }
   ],
   "source": [
    "polyline = np.linspace(-4,4,200)\n",
    "model = np.poly1d(np.polyfit(x,y,3))\n",
    "plt.scatter(x,y)\n",
    "plt.plot(polyline, model(polyline))\n",
    "plt.show()"
   ]
  },
  {
   "cell_type": "code",
   "execution_count": 5,
   "id": "37247c77",
   "metadata": {
    "execution": {
     "iopub.execute_input": "2022-09-30T22:46:12.255084Z",
     "iopub.status.busy": "2022-09-30T22:46:12.254651Z",
     "iopub.status.idle": "2022-09-30T22:46:12.261411Z",
     "shell.execute_reply": "2022-09-30T22:46:12.259967Z"
    },
    "papermill": {
     "duration": 0.017979,
     "end_time": "2022-09-30T22:46:12.264837",
     "exception": false,
     "start_time": "2022-09-30T22:46:12.246858",
     "status": "completed"
    },
    "tags": []
   },
   "outputs": [
    {
     "name": "stdout",
     "output_type": "stream",
     "text": [
      "        3         2\n",
      "-2.021 x + 1.957 x + 1.003 x + 0.01806\n"
     ]
    }
   ],
   "source": [
    "print(model)"
   ]
  },
  {
   "cell_type": "markdown",
   "id": "d40e33c6",
   "metadata": {
    "papermill": {
     "duration": 0.00743,
     "end_time": "2022-09-30T22:46:12.279579",
     "exception": false,
     "start_time": "2022-09-30T22:46:12.272149",
     "status": "completed"
    },
    "tags": []
   },
   "source": [
    "**Question 6. c)**"
   ]
  },
  {
   "cell_type": "code",
   "execution_count": 6,
   "id": "2ca79775",
   "metadata": {
    "execution": {
     "iopub.execute_input": "2022-09-30T22:46:12.294783Z",
     "iopub.status.busy": "2022-09-30T22:46:12.294266Z",
     "iopub.status.idle": "2022-09-30T22:46:12.300424Z",
     "shell.execute_reply": "2022-09-30T22:46:12.299257Z"
    },
    "papermill": {
     "duration": 0.016679,
     "end_time": "2022-09-30T22:46:12.302957",
     "exception": false,
     "start_time": "2022-09-30T22:46:12.286278",
     "status": "completed"
    },
    "tags": []
   },
   "outputs": [],
   "source": [
    "from sklearn.preprocessing import PolynomialFeatures\n",
    "from sklearn.model_selection import LeaveOneOut\n",
    "from sklearn.model_selection import cross_val_score\n",
    "import random"
   ]
  },
  {
   "cell_type": "code",
   "execution_count": 7,
   "id": "6e975422",
   "metadata": {
    "execution": {
     "iopub.execute_input": "2022-09-30T22:46:12.318954Z",
     "iopub.status.busy": "2022-09-30T22:46:12.318128Z",
     "iopub.status.idle": "2022-09-30T22:46:13.583410Z",
     "shell.execute_reply": "2022-09-30T22:46:13.582176Z"
    },
    "papermill": {
     "duration": 1.276332,
     "end_time": "2022-09-30T22:46:13.586295",
     "exception": false,
     "start_time": "2022-09-30T22:46:12.309963",
     "status": "completed"
    },
    "tags": []
   },
   "outputs": [],
   "source": [
    "random.seed(123)\n",
    "c_v_d_123 = {}\n",
    "\n",
    "for poly_val in range(1,6):\n",
    "    poly_f = PolynomialFeatures(degree = poly_val, include_bias = True)\n",
    "    x_poly = poly_f.fit_transform(x.reshape(-1,1))\n",
    "    \n",
    "    model = LinearRegression()\n",
    "    \n",
    "    cv = LeaveOneOut()\n",
    "    \n",
    "    c_v_d_123[poly_val] = cross_val_score(model, x_poly, y, scoring='neg_mean_squared_error', cv=cv).mean()"
   ]
  },
  {
   "cell_type": "markdown",
   "id": "16471237",
   "metadata": {
    "papermill": {
     "duration": 0.006332,
     "end_time": "2022-09-30T22:46:13.599377",
     "exception": false,
     "start_time": "2022-09-30T22:46:13.593045",
     "status": "completed"
    },
    "tags": []
   },
   "source": []
  },
  {
   "cell_type": "code",
   "execution_count": 8,
   "id": "eef12906",
   "metadata": {
    "execution": {
     "iopub.execute_input": "2022-09-30T22:46:13.614655Z",
     "iopub.status.busy": "2022-09-30T22:46:13.614213Z",
     "iopub.status.idle": "2022-09-30T22:46:13.620694Z",
     "shell.execute_reply": "2022-09-30T22:46:13.619197Z"
    },
    "papermill": {
     "duration": 0.017714,
     "end_time": "2022-09-30T22:46:13.623704",
     "exception": false,
     "start_time": "2022-09-30T22:46:13.605990",
     "status": "completed"
    },
    "tags": []
   },
   "outputs": [
    {
     "name": "stdout",
     "output_type": "stream",
     "text": [
      "Leave one out cross validation of degree 1 is  26.534996047663075\n",
      "Leave one out cross validation of degree 2 is  32.53855587022528\n",
      "Leave one out cross validation of degree 3 is  1.1079418003348256\n",
      "Leave one out cross validation of degree 4 is  1.3234306760123546\n",
      "Leave one out cross validation of degree 5 is  1.1099273761939197\n"
     ]
    }
   ],
   "source": [
    "for i in range(1,6):\n",
    "    print(\"Leave one out cross validation of degree \" + str(i) + \" is \",abs(c_v_d_123[i]))"
   ]
  },
  {
   "cell_type": "code",
   "execution_count": 9,
   "id": "c3663c3b",
   "metadata": {
    "execution": {
     "iopub.execute_input": "2022-09-30T22:46:13.639895Z",
     "iopub.status.busy": "2022-09-30T22:46:13.639487Z",
     "iopub.status.idle": "2022-09-30T22:46:13.647951Z",
     "shell.execute_reply": "2022-09-30T22:46:13.646718Z"
    },
    "papermill": {
     "duration": 0.019078,
     "end_time": "2022-09-30T22:46:13.650392",
     "exception": false,
     "start_time": "2022-09-30T22:46:13.631314",
     "status": "completed"
    },
    "tags": []
   },
   "outputs": [
    {
     "data": {
      "text/plain": [
       "array([[ 1.00000000e+00, -2.04707659e-01,  4.19052259e-02,\n",
       "        -8.57832070e-03,  1.75604795e-03, -3.59476467e-04],\n",
       "       [ 1.00000000e+00,  4.78943338e-01,  2.29386721e-01,\n",
       "         1.09863242e-01,  5.26182678e-02,  2.52011688e-02],\n",
       "       [ 1.00000000e+00, -5.19438715e-01,  2.69816579e-01,\n",
       "        -1.40153177e-01,  7.28009861e-02, -3.78156507e-02],\n",
       "       ...,\n",
       "       [ 1.00000000e+00, -1.41341604e+00,  1.99774490e+00,\n",
       "        -2.82364468e+00,  3.99098468e+00, -5.64092176e+00],\n",
       "       [ 1.00000000e+00,  1.29660784e+00,  1.68119190e+00,\n",
       "         2.17984660e+00,  2.82640619e+00,  3.66474043e+00],\n",
       "       [ 1.00000000e+00,  2.52275209e-01,  6.36427810e-02,\n",
       "         1.60554959e-02,  4.05040358e-03,  1.02181641e-03]])"
      ]
     },
     "execution_count": 9,
     "metadata": {},
     "output_type": "execute_result"
    }
   ],
   "source": [
    "x_poly"
   ]
  },
  {
   "cell_type": "code",
   "execution_count": 10,
   "id": "6e39883f",
   "metadata": {
    "execution": {
     "iopub.execute_input": "2022-09-30T22:46:13.665957Z",
     "iopub.status.busy": "2022-09-30T22:46:13.664936Z",
     "iopub.status.idle": "2022-09-30T22:46:13.686212Z",
     "shell.execute_reply": "2022-09-30T22:46:13.685223Z"
    },
    "papermill": {
     "duration": 0.031642,
     "end_time": "2022-09-30T22:46:13.688712",
     "exception": false,
     "start_time": "2022-09-30T22:46:13.657070",
     "status": "completed"
    },
    "tags": []
   },
   "outputs": [
    {
     "data": {
      "text/html": [
       "<div>\n",
       "<style scoped>\n",
       "    .dataframe tbody tr th:only-of-type {\n",
       "        vertical-align: middle;\n",
       "    }\n",
       "\n",
       "    .dataframe tbody tr th {\n",
       "        vertical-align: top;\n",
       "    }\n",
       "\n",
       "    .dataframe thead th {\n",
       "        text-align: right;\n",
       "    }\n",
       "</style>\n",
       "<table border=\"1\" class=\"dataframe\">\n",
       "  <thead>\n",
       "    <tr style=\"text-align: right;\">\n",
       "      <th></th>\n",
       "      <th>0</th>\n",
       "      <th>1</th>\n",
       "      <th>2</th>\n",
       "      <th>3</th>\n",
       "      <th>4</th>\n",
       "      <th>5</th>\n",
       "    </tr>\n",
       "  </thead>\n",
       "  <tbody>\n",
       "    <tr>\n",
       "      <th>0</th>\n",
       "      <td>1.0</td>\n",
       "      <td>-0.204708</td>\n",
       "      <td>0.041905</td>\n",
       "      <td>-0.008578</td>\n",
       "      <td>0.001756</td>\n",
       "      <td>-0.000359</td>\n",
       "    </tr>\n",
       "    <tr>\n",
       "      <th>1</th>\n",
       "      <td>1.0</td>\n",
       "      <td>0.478943</td>\n",
       "      <td>0.229387</td>\n",
       "      <td>0.109863</td>\n",
       "      <td>0.052618</td>\n",
       "      <td>0.025201</td>\n",
       "    </tr>\n",
       "    <tr>\n",
       "      <th>2</th>\n",
       "      <td>1.0</td>\n",
       "      <td>-0.519439</td>\n",
       "      <td>0.269817</td>\n",
       "      <td>-0.140153</td>\n",
       "      <td>0.072801</td>\n",
       "      <td>-0.037816</td>\n",
       "    </tr>\n",
       "    <tr>\n",
       "      <th>3</th>\n",
       "      <td>1.0</td>\n",
       "      <td>-0.555730</td>\n",
       "      <td>0.308836</td>\n",
       "      <td>-0.171630</td>\n",
       "      <td>0.095380</td>\n",
       "      <td>-0.053005</td>\n",
       "    </tr>\n",
       "    <tr>\n",
       "      <th>4</th>\n",
       "      <td>1.0</td>\n",
       "      <td>1.965781</td>\n",
       "      <td>3.864293</td>\n",
       "      <td>7.596353</td>\n",
       "      <td>14.932762</td>\n",
       "      <td>29.354534</td>\n",
       "    </tr>\n",
       "  </tbody>\n",
       "</table>\n",
       "</div>"
      ],
      "text/plain": [
       "     0         1         2         3          4          5\n",
       "0  1.0 -0.204708  0.041905 -0.008578   0.001756  -0.000359\n",
       "1  1.0  0.478943  0.229387  0.109863   0.052618   0.025201\n",
       "2  1.0 -0.519439  0.269817 -0.140153   0.072801  -0.037816\n",
       "3  1.0 -0.555730  0.308836 -0.171630   0.095380  -0.053005\n",
       "4  1.0  1.965781  3.864293  7.596353  14.932762  29.354534"
      ]
     },
     "execution_count": 10,
     "metadata": {},
     "output_type": "execute_result"
    }
   ],
   "source": [
    "df = pd.DataFrame(x_poly) # add the columns as x,x^2,x^3\n",
    "df.head()"
   ]
  },
  {
   "cell_type": "code",
   "execution_count": 11,
   "id": "d3fa13f8",
   "metadata": {
    "execution": {
     "iopub.execute_input": "2022-09-30T22:46:13.704669Z",
     "iopub.status.busy": "2022-09-30T22:46:13.703833Z",
     "iopub.status.idle": "2022-09-30T22:46:13.713909Z",
     "shell.execute_reply": "2022-09-30T22:46:13.712802Z"
    },
    "papermill": {
     "duration": 0.021107,
     "end_time": "2022-09-30T22:46:13.716700",
     "exception": false,
     "start_time": "2022-09-30T22:46:13.695593",
     "status": "completed"
    },
    "tags": []
   },
   "outputs": [],
   "source": [
    "df.columns = ['β', 'x', 'x^2','x^3','x^4','x^5']"
   ]
  },
  {
   "cell_type": "code",
   "execution_count": 12,
   "id": "19d70502",
   "metadata": {
    "execution": {
     "iopub.execute_input": "2022-09-30T22:46:13.732500Z",
     "iopub.status.busy": "2022-09-30T22:46:13.732061Z",
     "iopub.status.idle": "2022-09-30T22:46:13.750450Z",
     "shell.execute_reply": "2022-09-30T22:46:13.749182Z"
    },
    "papermill": {
     "duration": 0.029362,
     "end_time": "2022-09-30T22:46:13.752997",
     "exception": false,
     "start_time": "2022-09-30T22:46:13.723635",
     "status": "completed"
    },
    "tags": []
   },
   "outputs": [
    {
     "data": {
      "text/html": [
       "<div>\n",
       "<style scoped>\n",
       "    .dataframe tbody tr th:only-of-type {\n",
       "        vertical-align: middle;\n",
       "    }\n",
       "\n",
       "    .dataframe tbody tr th {\n",
       "        vertical-align: top;\n",
       "    }\n",
       "\n",
       "    .dataframe thead th {\n",
       "        text-align: right;\n",
       "    }\n",
       "</style>\n",
       "<table border=\"1\" class=\"dataframe\">\n",
       "  <thead>\n",
       "    <tr style=\"text-align: right;\">\n",
       "      <th></th>\n",
       "      <th>β</th>\n",
       "      <th>x</th>\n",
       "      <th>x^2</th>\n",
       "      <th>x^3</th>\n",
       "      <th>x^4</th>\n",
       "      <th>x^5</th>\n",
       "    </tr>\n",
       "  </thead>\n",
       "  <tbody>\n",
       "    <tr>\n",
       "      <th>0</th>\n",
       "      <td>1.0</td>\n",
       "      <td>-0.204708</td>\n",
       "      <td>0.041905</td>\n",
       "      <td>-0.008578</td>\n",
       "      <td>0.001756</td>\n",
       "      <td>-0.000359</td>\n",
       "    </tr>\n",
       "    <tr>\n",
       "      <th>1</th>\n",
       "      <td>1.0</td>\n",
       "      <td>0.478943</td>\n",
       "      <td>0.229387</td>\n",
       "      <td>0.109863</td>\n",
       "      <td>0.052618</td>\n",
       "      <td>0.025201</td>\n",
       "    </tr>\n",
       "    <tr>\n",
       "      <th>2</th>\n",
       "      <td>1.0</td>\n",
       "      <td>-0.519439</td>\n",
       "      <td>0.269817</td>\n",
       "      <td>-0.140153</td>\n",
       "      <td>0.072801</td>\n",
       "      <td>-0.037816</td>\n",
       "    </tr>\n",
       "    <tr>\n",
       "      <th>3</th>\n",
       "      <td>1.0</td>\n",
       "      <td>-0.555730</td>\n",
       "      <td>0.308836</td>\n",
       "      <td>-0.171630</td>\n",
       "      <td>0.095380</td>\n",
       "      <td>-0.053005</td>\n",
       "    </tr>\n",
       "    <tr>\n",
       "      <th>4</th>\n",
       "      <td>1.0</td>\n",
       "      <td>1.965781</td>\n",
       "      <td>3.864293</td>\n",
       "      <td>7.596353</td>\n",
       "      <td>14.932762</td>\n",
       "      <td>29.354534</td>\n",
       "    </tr>\n",
       "  </tbody>\n",
       "</table>\n",
       "</div>"
      ],
      "text/plain": [
       "     β         x       x^2       x^3        x^4        x^5\n",
       "0  1.0 -0.204708  0.041905 -0.008578   0.001756  -0.000359\n",
       "1  1.0  0.478943  0.229387  0.109863   0.052618   0.025201\n",
       "2  1.0 -0.519439  0.269817 -0.140153   0.072801  -0.037816\n",
       "3  1.0 -0.555730  0.308836 -0.171630   0.095380  -0.053005\n",
       "4  1.0  1.965781  3.864293  7.596353  14.932762  29.354534"
      ]
     },
     "execution_count": 12,
     "metadata": {},
     "output_type": "execute_result"
    }
   ],
   "source": [
    "df.head()"
   ]
  },
  {
   "cell_type": "markdown",
   "id": "583f457c",
   "metadata": {
    "papermill": {
     "duration": 0.006824,
     "end_time": "2022-09-30T22:46:13.767074",
     "exception": false,
     "start_time": "2022-09-30T22:46:13.760250",
     "status": "completed"
    },
    "tags": []
   },
   "source": [
    "**Question 6. d)**"
   ]
  },
  {
   "cell_type": "code",
   "execution_count": 13,
   "id": "fa6d9e4f",
   "metadata": {
    "execution": {
     "iopub.execute_input": "2022-09-30T22:46:13.783087Z",
     "iopub.status.busy": "2022-09-30T22:46:13.782679Z",
     "iopub.status.idle": "2022-09-30T22:46:15.031235Z",
     "shell.execute_reply": "2022-09-30T22:46:15.030171Z"
    },
    "papermill": {
     "duration": 1.259735,
     "end_time": "2022-09-30T22:46:15.033862",
     "exception": false,
     "start_time": "2022-09-30T22:46:13.774127",
     "status": "completed"
    },
    "tags": []
   },
   "outputs": [],
   "source": [
    "random.seed(12345)\n",
    "c_v_d_12345 = {}\n",
    "\n",
    "for poly_val in range(1,6):\n",
    "    poly_f = PolynomialFeatures(degree = poly_val, include_bias = True)\n",
    "    x_poly = poly_f.fit_transform(x.reshape(-1,1))\n",
    "    \n",
    "    model = LinearRegression().fit(x_poly, y)\n",
    "    \n",
    "    cv = LeaveOneOut()\n",
    "    \n",
    "    c_v_d_12345[poly_val] = cross_val_score(model, x_poly, y, scoring='neg_mean_squared_error', cv=cv).mean()"
   ]
  },
  {
   "cell_type": "code",
   "execution_count": 14,
   "id": "4b4e86ae",
   "metadata": {
    "execution": {
     "iopub.execute_input": "2022-09-30T22:46:15.050692Z",
     "iopub.status.busy": "2022-09-30T22:46:15.049987Z",
     "iopub.status.idle": "2022-09-30T22:46:15.057756Z",
     "shell.execute_reply": "2022-09-30T22:46:15.056604Z"
    },
    "papermill": {
     "duration": 0.019487,
     "end_time": "2022-09-30T22:46:15.060599",
     "exception": false,
     "start_time": "2022-09-30T22:46:15.041112",
     "status": "completed"
    },
    "tags": []
   },
   "outputs": [
    {
     "name": "stdout",
     "output_type": "stream",
     "text": [
      "Leave one out cross validation of degree 1 is  26.534996047663075\n",
      "Leave one out cross validation of degree 2 is  32.53855587022528\n",
      "Leave one out cross validation of degree 3 is  1.1079418003348256\n",
      "Leave one out cross validation of degree 4 is  1.3234306760123546\n",
      "Leave one out cross validation of degree 5 is  1.1099273761939197\n"
     ]
    }
   ],
   "source": [
    "for i in range(1,6):\n",
    "    print(\"Leave one out cross validation of degree \" + str(i) + \" is \",abs(c_v_d_12345[i]))"
   ]
  },
  {
   "cell_type": "markdown",
   "id": "494754fa",
   "metadata": {
    "papermill": {
     "duration": 0.006755,
     "end_time": "2022-09-30T22:46:15.074626",
     "exception": false,
     "start_time": "2022-09-30T22:46:15.067871",
     "status": "completed"
    },
    "tags": []
   },
   "source": [
    "**Since we are splitting the dataset into n-1 (n is the total number of observations) segments for each step, the order in which the parts appear doesn't affect the outcome using seeds 123 and 12345. Because of this, the outcomes are unaffected by the seed.**"
   ]
  },
  {
   "cell_type": "markdown",
   "id": "93a3ebe5",
   "metadata": {
    "papermill": {
     "duration": 0.006761,
     "end_time": "2022-09-30T22:46:15.088462",
     "exception": false,
     "start_time": "2022-09-30T22:46:15.081701",
     "status": "completed"
    },
    "tags": []
   },
   "source": []
  },
  {
   "cell_type": "markdown",
   "id": "a295d6ce",
   "metadata": {
    "papermill": {
     "duration": 0.006717,
     "end_time": "2022-09-30T22:46:15.102198",
     "exception": false,
     "start_time": "2022-09-30T22:46:15.095481",
     "status": "completed"
    },
    "tags": []
   },
   "source": [
    "**Question 6. e)**\n",
    "\n",
    "**The model with a 3rd degree polynomial produced the lowest cross validation error. Given that the relation between x and y is a the same 3rd degree polynomial, Yes, I anticipated that the model would provide the best score.**\n",
    "\n",
    "$ Y = \\beta_0 + \\beta_1 X + \\beta_2 X^2 + \\beta_3 X^3  + \\varepsilon$ \n",
    "\n",
    "**Up to a certain point for a third degree polynomial, the bias and cross validation score reduces as the degree and complexity of the model increases. After this point, the model's complexity rises, which causes bias and cross validation to increase.**"
   ]
  }
 ],
 "metadata": {
  "kernelspec": {
   "display_name": "Python 3",
   "language": "python",
   "name": "python3"
  },
  "language_info": {
   "codemirror_mode": {
    "name": "ipython",
    "version": 3
   },
   "file_extension": ".py",
   "mimetype": "text/x-python",
   "name": "python",
   "nbconvert_exporter": "python",
   "pygments_lexer": "ipython3",
   "version": "3.7.12"
  },
  "papermill": {
   "default_parameters": {},
   "duration": 15.524097,
   "end_time": "2022-09-30T22:46:15.930964",
   "environment_variables": {},
   "exception": null,
   "input_path": "__notebook__.ipynb",
   "output_path": "__notebook__.ipynb",
   "parameters": {},
   "start_time": "2022-09-30T22:46:00.406867",
   "version": "2.3.4"
  }
 },
 "nbformat": 4,
 "nbformat_minor": 5
}
