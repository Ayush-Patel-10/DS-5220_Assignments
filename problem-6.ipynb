{
 "cells": [
  {
   "cell_type": "code",
   "execution_count": 1,
   "id": "63984be0",
   "metadata": {
    "_cell_guid": "b1076dfc-b9ad-4769-8c92-a6c4dae69d19",
    "_uuid": "8f2839f25d086af736a60e9eeb907d3b93b6e0e5",
    "execution": {
     "iopub.execute_input": "2022-09-30T22:37:31.663070Z",
     "iopub.status.busy": "2022-09-30T22:37:31.662548Z",
     "iopub.status.idle": "2022-09-30T22:37:32.910330Z",
     "shell.execute_reply": "2022-09-30T22:37:32.909139Z"
    },
    "papermill": {
     "duration": 1.261194,
     "end_time": "2022-09-30T22:37:32.913367",
     "exception": false,
     "start_time": "2022-09-30T22:37:31.652173",
     "status": "completed"
    },
    "tags": []
   },
   "outputs": [],
   "source": [
    "import numpy as np\n",
    "import pandas as pd\n",
    "import matplotlib.pyplot as plt\n",
    "from sklearn.linear_model import LinearRegression\n",
    "from sklearn.preprocessing import PolynomialFeatures\n",
    "from numpy.polynomial import Polynomial"
   ]
  },
  {
   "cell_type": "code",
   "execution_count": 2,
   "id": "c8c730f0",
   "metadata": {
    "execution": {
     "iopub.execute_input": "2022-09-30T22:37:32.928084Z",
     "iopub.status.busy": "2022-09-30T22:37:32.927280Z",
     "iopub.status.idle": "2022-09-30T22:37:32.933301Z",
     "shell.execute_reply": "2022-09-30T22:37:32.932192Z"
    },
    "papermill": {
     "duration": 0.015821,
     "end_time": "2022-09-30T22:37:32.935701",
     "exception": false,
     "start_time": "2022-09-30T22:37:32.919880",
     "status": "completed"
    },
    "tags": []
   },
   "outputs": [],
   "source": [
    "np.random.seed(12345)\n",
    "x = np.random.normal(0,1,(200))\n",
    "y = x + 2 * x**2 - 2 * x**3 + np.random.normal(0,1,(200))"
   ]
  },
  {
   "cell_type": "markdown",
   "id": "f6f794ad",
   "metadata": {
    "papermill": {
     "duration": 0.005767,
     "end_time": "2022-09-30T22:37:32.947605",
     "exception": false,
     "start_time": "2022-09-30T22:37:32.941838",
     "status": "completed"
    },
    "tags": []
   },
   "source": []
  },
  {
   "cell_type": "markdown",
   "id": "d264b324",
   "metadata": {
    "papermill": {
     "duration": 0.005829,
     "end_time": "2022-09-30T22:37:32.959513",
     "exception": false,
     "start_time": "2022-09-30T22:37:32.953684",
     "status": "completed"
    },
    "tags": []
   },
   "source": [
    "**Question 6. a)**\n",
    "\n",
    "Here n represents the size of the dataset which is 200 and p refers to the dimension of each data point which is 1.\n",
    "\n",
    "The model equation is: $y = 2x + 2x^2 - 2x^3$\n",
    "As we have set the random seed to (12345), we can assert that the value of np.random.normal() will be same throughout the cell hence x + np.random.normal(0, 1, (200)) = 2x"
   ]
  },
  {
   "cell_type": "markdown",
   "id": "1d02c5d1",
   "metadata": {
    "papermill": {
     "duration": 0.005805,
     "end_time": "2022-09-30T22:37:32.971395",
     "exception": false,
     "start_time": "2022-09-30T22:37:32.965590",
     "status": "completed"
    },
    "tags": []
   },
   "source": [
    "**Question 6.b)**\n",
    "\n",
    "The scatterplot between x and y generates cubical graph. There is a cubical relation."
   ]
  },
  {
   "cell_type": "code",
   "execution_count": 3,
   "id": "5aa80fee",
   "metadata": {
    "execution": {
     "iopub.execute_input": "2022-09-30T22:37:32.985134Z",
     "iopub.status.busy": "2022-09-30T22:37:32.984687Z",
     "iopub.status.idle": "2022-09-30T22:37:33.297277Z",
     "shell.execute_reply": "2022-09-30T22:37:33.295743Z"
    },
    "papermill": {
     "duration": 0.322913,
     "end_time": "2022-09-30T22:37:33.300288",
     "exception": false,
     "start_time": "2022-09-30T22:37:32.977375",
     "status": "completed"
    },
    "tags": []
   },
   "outputs": [
    {
     "data": {
      "text/plain": [
       "<matplotlib.collections.PathCollection at 0x7fa3751563d0>"
      ]
     },
     "execution_count": 3,
     "metadata": {},
     "output_type": "execute_result"
    },
    {
     "data": {
      "image/png": "[encoded data removed]",
      "text/plain": [
       "<Figure size 432x288 with 1 Axes>"
      ]
     },
     "metadata": {
      "needs_background": "light"
     },
     "output_type": "display_data"
    }
   ],
   "source": [
    "plt.scatter(x,y)\n",
    "plt.xlabel(\"x\")\n",
    "plt.ylabel(\"y\")\n",
    "plt.scatter(x,-x**3)"
   ]
  },
  {
   "cell_type": "markdown",
   "id": "43a0d603",
   "metadata": {
    "papermill": {
     "duration": 0.00619,
     "end_time": "2022-09-30T22:37:33.313610",
     "exception": false,
     "start_time": "2022-09-30T22:37:33.307420",
     "status": "completed"
    },
    "tags": []
   },
   "source": [
    "**The blue indicates the plot of the generated graph and the orange indicates the cubical graph. Which shows that the similarity between them.**"
   ]
  },
  {
   "cell_type": "markdown",
   "id": "991c2a10",
   "metadata": {
    "papermill": {
     "duration": 0.006243,
     "end_time": "2022-09-30T22:37:33.327157",
     "exception": false,
     "start_time": "2022-09-30T22:37:33.320914",
     "status": "completed"
    },
    "tags": []
   },
   "source": []
  },
  {
   "cell_type": "code",
   "execution_count": 4,
   "id": "df7a66e5",
   "metadata": {
    "execution": {
     "iopub.execute_input": "2022-09-30T22:37:33.342242Z",
     "iopub.status.busy": "2022-09-30T22:37:33.341486Z",
     "iopub.status.idle": "2022-09-30T22:37:33.555322Z",
     "shell.execute_reply": "2022-09-30T22:37:33.554075Z"
    },
    "papermill": {
     "duration": 0.224229,
     "end_time": "2022-09-30T22:37:33.557868",
     "exception": false,
     "start_time": "2022-09-30T22:37:33.333639",
     "status": "completed"
    },
    "tags": []
   },
   "outputs": [
    {
     "data": {
      "image/png": "[encoded data removed]",
      "text/plain": [
       "<Figure size 432x288 with 1 Axes>"
      ]
     },
     "metadata": {
      "needs_background": "light"
     },
     "output_type": "display_data"
    }
   ],
   "source": [
    "polyline = np.linspace(-4,4,200)\n",
    "model = np.poly1d(np.polyfit(x,y,3))\n",
    "plt.scatter(x,y)\n",
    "plt.plot(polyline, model(polyline))\n",
    "plt.show()"
   ]
  },
  {
   "cell_type": "code",
   "execution_count": 5,
   "id": "a489ab88",
   "metadata": {
    "execution": {
     "iopub.execute_input": "2022-09-30T22:37:33.575286Z",
     "iopub.status.busy": "2022-09-30T22:37:33.574507Z",
     "iopub.status.idle": "2022-09-30T22:37:33.581950Z",
     "shell.execute_reply": "2022-09-30T22:37:33.580447Z"
    },
    "papermill": {
     "duration": 0.019653,
     "end_time": "2022-09-30T22:37:33.584714",
     "exception": false,
     "start_time": "2022-09-30T22:37:33.565061",
     "status": "completed"
    },
    "tags": []
   },
   "outputs": [
    {
     "name": "stdout",
     "output_type": "stream",
     "text": [
      "        3         2\n",
      "-2.021 x + 1.957 x + 1.003 x + 0.01806\n"
     ]
    }
   ],
   "source": [
    "print(model)"
   ]
  },
  {
   "cell_type": "markdown",
   "id": "82ecb3ce",
   "metadata": {
    "papermill": {
     "duration": 0.006392,
     "end_time": "2022-09-30T22:37:33.598212",
     "exception": false,
     "start_time": "2022-09-30T22:37:33.591820",
     "status": "completed"
    },
    "tags": []
   },
   "source": [
    "**Question 6. c)**"
   ]
  },
  {
   "cell_type": "code",
   "execution_count": 6,
   "id": "e39a3add",
   "metadata": {
    "execution": {
     "iopub.execute_input": "2022-09-30T22:37:33.614396Z",
     "iopub.status.busy": "2022-09-30T22:37:33.613941Z",
     "iopub.status.idle": "2022-09-30T22:37:33.619484Z",
     "shell.execute_reply": "2022-09-30T22:37:33.618385Z"
    },
    "papermill": {
     "duration": 0.015581,
     "end_time": "2022-09-30T22:37:33.621644",
     "exception": false,
     "start_time": "2022-09-30T22:37:33.606063",
     "status": "completed"
    },
    "tags": []
   },
   "outputs": [],
   "source": [
    "from sklearn.preprocessing import PolynomialFeatures\n",
    "from sklearn.model_selection import LeaveOneOut\n",
    "from sklearn.model_selection import cross_val_score\n",
    "import random"
   ]
  },
  {
   "cell_type": "code",
   "execution_count": 7,
   "id": "1032448a",
   "metadata": {
    "execution": {
     "iopub.execute_input": "2022-09-30T22:37:33.637718Z",
     "iopub.status.busy": "2022-09-30T22:37:33.637012Z",
     "iopub.status.idle": "2022-09-30T22:37:34.935733Z",
     "shell.execute_reply": "2022-09-30T22:37:34.934728Z"
    },
    "papermill": {
     "duration": 1.310016,
     "end_time": "2022-09-30T22:37:34.938412",
     "exception": false,
     "start_time": "2022-09-30T22:37:33.628396",
     "status": "completed"
    },
    "tags": []
   },
   "outputs": [],
   "source": [
    "random.seed(123)\n",
    "c_v_d_123 = {}\n",
    "\n",
    "for poly_val in range(1,6):\n",
    "    poly_f = PolynomialFeatures(degree = poly_val, include_bias = True)\n",
    "    x_poly = poly_f.fit_transform(x.reshape(-1,1))\n",
    "    \n",
    "    model = LinearRegression()\n",
    "    \n",
    "    cv = LeaveOneOut()\n",
    "    \n",
    "    c_v_d_123[poly_val] = cross_val_score(model, x_poly, y, scoring='neg_mean_squared_error', cv=cv).mean()"
   ]
  },
  {
   "cell_type": "markdown",
   "id": "e0b48a28",
   "metadata": {
    "papermill": {
     "duration": 0.00637,
     "end_time": "2022-09-30T22:37:34.951591",
     "exception": false,
     "start_time": "2022-09-30T22:37:34.945221",
     "status": "completed"
    },
    "tags": []
   },
   "source": []
  },
  {
   "cell_type": "code",
   "execution_count": 8,
   "id": "33bbe457",
   "metadata": {
    "execution": {
     "iopub.execute_input": "2022-09-30T22:37:34.966371Z",
     "iopub.status.busy": "2022-09-30T22:37:34.965933Z",
     "iopub.status.idle": "2022-09-30T22:37:34.972654Z",
     "shell.execute_reply": "2022-09-30T22:37:34.971299Z"
    },
    "papermill": {
     "duration": 0.016914,
     "end_time": "2022-09-30T22:37:34.975064",
     "exception": false,
     "start_time": "2022-09-30T22:37:34.958150",
     "status": "completed"
    },
    "tags": []
   },
   "outputs": [
    {
     "name": "stdout",
     "output_type": "stream",
     "text": [
      "Leave one out cross validation of degree 1 is  26.534996047663075\n",
      "Leave one out cross validation of degree 2 is  32.53855587022528\n",
      "Leave one out cross validation of degree 3 is  1.1079418003348256\n",
      "Leave one out cross validation of degree 4 is  1.3234306760123546\n",
      "Leave one out cross validation of degree 5 is  1.1099273761939197\n"
     ]
    }
   ],
   "source": [
    "for i in range(1,6):\n",
    "    print(\"Leave one out cross validation of degree \" + str(i) + \" is \",abs(c_v_d_123[i]))"
   ]
  },
  {
   "cell_type": "code",
   "execution_count": 9,
   "id": "27b1a613",
   "metadata": {
    "execution": {
     "iopub.execute_input": "2022-09-30T22:37:34.989724Z",
     "iopub.status.busy": "2022-09-30T22:37:34.989312Z",
     "iopub.status.idle": "2022-09-30T22:37:34.997333Z",
     "shell.execute_reply": "2022-09-30T22:37:34.996269Z"
    },
    "papermill": {
     "duration": 0.017987,
     "end_time": "2022-09-30T22:37:34.999594",
     "exception": false,
     "start_time": "2022-09-30T22:37:34.981607",
     "status": "completed"
    },
    "tags": []
   },
   "outputs": [
    {
     "data": {
      "text/plain": [
       "array([[ 1.00000000e+00, -2.04707659e-01,  4.19052259e-02,\n",
       "        -8.57832070e-03,  1.75604795e-03, -3.59476467e-04],\n",
       "       [ 1.00000000e+00,  4.78943338e-01,  2.29386721e-01,\n",
       "         1.09863242e-01,  5.26182678e-02,  2.52011688e-02],\n",
       "       [ 1.00000000e+00, -5.19438715e-01,  2.69816579e-01,\n",
       "        -1.40153177e-01,  7.28009861e-02, -3.78156507e-02],\n",
       "       ...,\n",
       "       [ 1.00000000e+00, -1.41341604e+00,  1.99774490e+00,\n",
       "        -2.82364468e+00,  3.99098468e+00, -5.64092176e+00],\n",
       "       [ 1.00000000e+00,  1.29660784e+00,  1.68119190e+00,\n",
       "         2.17984660e+00,  2.82640619e+00,  3.66474043e+00],\n",
       "       [ 1.00000000e+00,  2.52275209e-01,  6.36427810e-02,\n",
       "         1.60554959e-02,  4.05040358e-03,  1.02181641e-03]])"
      ]
     },
     "execution_count": 9,
     "metadata": {},
     "output_type": "execute_result"
    }
   ],
   "source": [
    "x_poly"
   ]
  },
  {
   "cell_type": "code",
   "execution_count": 10,
   "id": "26e473bd",
   "metadata": {
    "execution": {
     "iopub.execute_input": "2022-09-30T22:37:35.015082Z",
     "iopub.status.busy": "2022-09-30T22:37:35.014646Z",
     "iopub.status.idle": "2022-09-30T22:37:35.032405Z",
     "shell.execute_reply": "2022-09-30T22:37:35.031141Z"
    },
    "papermill": {
     "duration": 0.028135,
     "end_time": "2022-09-30T22:37:35.034595",
     "exception": false,
     "start_time": "2022-09-30T22:37:35.006460",
     "status": "completed"
    },
    "tags": []
   },
   "outputs": [
    {
     "data": {
      "text/html": [
       "<div>\n",
       "<style scoped>\n",
       "    .dataframe tbody tr th:only-of-type {\n",
       "        vertical-align: middle;\n",
       "    }\n",
       "\n",
       "    .dataframe tbody tr th {\n",
       "        vertical-align: top;\n",
       "    }\n",
       "\n",
       "    .dataframe thead th {\n",
       "        text-align: right;\n",
       "    }\n",
       "</style>\n",
       "<table border=\"1\" class=\"dataframe\">\n",
       "  <thead>\n",
       "    <tr style=\"text-align: right;\">\n",
       "      <th></th>\n",
       "      <th>0</th>\n",
       "      <th>1</th>\n",
       "      <th>2</th>\n",
       "      <th>3</th>\n",
       "      <th>4</th>\n",
       "      <th>5</th>\n",
       "    </tr>\n",
       "  </thead>\n",
       "  <tbody>\n",
       "    <tr>\n",
       "      <th>0</th>\n",
       "      <td>1.0</td>\n",
       "      <td>-0.204708</td>\n",
       "      <td>0.041905</td>\n",
       "      <td>-0.008578</td>\n",
       "      <td>0.001756</td>\n",
       "      <td>-0.000359</td>\n",
       "    </tr>\n",
       "    <tr>\n",
       "      <th>1</th>\n",
       "      <td>1.0</td>\n",
       "      <td>0.478943</td>\n",
       "      <td>0.229387</td>\n",
       "      <td>0.109863</td>\n",
       "      <td>0.052618</td>\n",
       "      <td>0.025201</td>\n",
       "    </tr>\n",
       "    <tr>\n",
       "      <th>2</th>\n",
       "      <td>1.0</td>\n",
       "      <td>-0.519439</td>\n",
       "      <td>0.269817</td>\n",
       "      <td>-0.140153</td>\n",
       "      <td>0.072801</td>\n",
       "      <td>-0.037816</td>\n",
       "    </tr>\n",
       "    <tr>\n",
       "      <th>3</th>\n",
       "      <td>1.0</td>\n",
       "      <td>-0.555730</td>\n",
       "      <td>0.308836</td>\n",
       "      <td>-0.171630</td>\n",
       "      <td>0.095380</td>\n",
       "      <td>-0.053005</td>\n",
       "    </tr>\n",
       "    <tr>\n",
       "      <th>4</th>\n",
       "      <td>1.0</td>\n",
       "      <td>1.965781</td>\n",
       "      <td>3.864293</td>\n",
       "      <td>7.596353</td>\n",
       "      <td>14.932762</td>\n",
       "      <td>29.354534</td>\n",
       "    </tr>\n",
       "  </tbody>\n",
       "</table>\n",
       "</div>"
      ],
      "text/plain": [
       "     0         1         2         3          4          5\n",
       "0  1.0 -0.204708  0.041905 -0.008578   0.001756  -0.000359\n",
       "1  1.0  0.478943  0.229387  0.109863   0.052618   0.025201\n",
       "2  1.0 -0.519439  0.269817 -0.140153   0.072801  -0.037816\n",
       "3  1.0 -0.555730  0.308836 -0.171630   0.095380  -0.053005\n",
       "4  1.0  1.965781  3.864293  7.596353  14.932762  29.354534"
      ]
     },
     "execution_count": 10,
     "metadata": {},
     "output_type": "execute_result"
    }
   ],
   "source": [
    "df = pd.DataFrame(x_poly) # add the columns as x,x^2,x^3\n",
    "df.head()"
   ]
  },
  {
   "cell_type": "code",
   "execution_count": 11,
   "id": "cd9ea36f",
   "metadata": {
    "execution": {
     "iopub.execute_input": "2022-09-30T22:37:35.050724Z",
     "iopub.status.busy": "2022-09-30T22:37:35.050042Z",
     "iopub.status.idle": "2022-09-30T22:37:35.058868Z",
     "shell.execute_reply": "2022-09-30T22:37:35.057989Z"
    },
    "papermill": {
     "duration": 0.019669,
     "end_time": "2022-09-30T22:37:35.061136",
     "exception": false,
     "start_time": "2022-09-30T22:37:35.041467",
     "status": "completed"
    },
    "tags": []
   },
   "outputs": [],
   "source": [
    "df.columns = ['β', 'x', 'x^2','x^3','x^4','x^5']"
   ]
  },
  {
   "cell_type": "code",
   "execution_count": 12,
   "id": "fb122d8d",
   "metadata": {
    "execution": {
     "iopub.execute_input": "2022-09-30T22:37:35.077283Z",
     "iopub.status.busy": "2022-09-30T22:37:35.076498Z",
     "iopub.status.idle": "2022-09-30T22:37:35.093402Z",
     "shell.execute_reply": "2022-09-30T22:37:35.092262Z"
    },
    "papermill": {
     "duration": 0.027336,
     "end_time": "2022-09-30T22:37:35.095613",
     "exception": false,
     "start_time": "2022-09-30T22:37:35.068277",
     "status": "completed"
    },
    "tags": []
   },
   "outputs": [
    {
     "data": {
      "text/html": [
       "<div>\n",
       "<style scoped>\n",
       "    .dataframe tbody tr th:only-of-type {\n",
       "        vertical-align: middle;\n",
       "    }\n",
       "\n",
       "    .dataframe tbody tr th {\n",
       "        vertical-align: top;\n",
       "    }\n",
       "\n",
       "    .dataframe thead th {\n",
       "        text-align: right;\n",
       "    }\n",
       "</style>\n",
       "<table border=\"1\" class=\"dataframe\">\n",
       "  <thead>\n",
       "    <tr style=\"text-align: right;\">\n",
       "      <th></th>\n",
       "      <th>β</th>\n",
       "      <th>x</th>\n",
       "      <th>x^2</th>\n",
       "      <th>x^3</th>\n",
       "      <th>x^4</th>\n",
       "      <th>x^5</th>\n",
       "    </tr>\n",
       "  </thead>\n",
       "  <tbody>\n",
       "    <tr>\n",
       "      <th>0</th>\n",
       "      <td>1.0</td>\n",
       "      <td>-0.204708</td>\n",
       "      <td>0.041905</td>\n",
       "      <td>-0.008578</td>\n",
       "      <td>0.001756</td>\n",
       "      <td>-0.000359</td>\n",
       "    </tr>\n",
       "    <tr>\n",
       "      <th>1</th>\n",
       "      <td>1.0</td>\n",
       "      <td>0.478943</td>\n",
       "      <td>0.229387</td>\n",
       "      <td>0.109863</td>\n",
       "      <td>0.052618</td>\n",
       "      <td>0.025201</td>\n",
       "    </tr>\n",
       "    <tr>\n",
       "      <th>2</th>\n",
       "      <td>1.0</td>\n",
       "      <td>-0.519439</td>\n",
       "      <td>0.269817</td>\n",
       "      <td>-0.140153</td>\n",
       "      <td>0.072801</td>\n",
       "      <td>-0.037816</td>\n",
       "    </tr>\n",
       "    <tr>\n",
       "      <th>3</th>\n",
       "      <td>1.0</td>\n",
       "      <td>-0.555730</td>\n",
       "      <td>0.308836</td>\n",
       "      <td>-0.171630</td>\n",
       "      <td>0.095380</td>\n",
       "      <td>-0.053005</td>\n",
       "    </tr>\n",
       "    <tr>\n",
       "      <th>4</th>\n",
       "      <td>1.0</td>\n",
       "      <td>1.965781</td>\n",
       "      <td>3.864293</td>\n",
       "      <td>7.596353</td>\n",
       "      <td>14.932762</td>\n",
       "      <td>29.354534</td>\n",
       "    </tr>\n",
       "  </tbody>\n",
       "</table>\n",
       "</div>"
      ],
      "text/plain": [
       "     β         x       x^2       x^3        x^4        x^5\n",
       "0  1.0 -0.204708  0.041905 -0.008578   0.001756  -0.000359\n",
       "1  1.0  0.478943  0.229387  0.109863   0.052618   0.025201\n",
       "2  1.0 -0.519439  0.269817 -0.140153   0.072801  -0.037816\n",
       "3  1.0 -0.555730  0.308836 -0.171630   0.095380  -0.053005\n",
       "4  1.0  1.965781  3.864293  7.596353  14.932762  29.354534"
      ]
     },
     "execution_count": 12,
     "metadata": {},
     "output_type": "execute_result"
    }
   ],
   "source": [
    "df.head()"
   ]
  },
  {
   "cell_type": "markdown",
   "id": "d76aa15c",
   "metadata": {
    "papermill": {
     "duration": 0.006833,
     "end_time": "2022-09-30T22:37:35.109636",
     "exception": false,
     "start_time": "2022-09-30T22:37:35.102803",
     "status": "completed"
    },
    "tags": []
   },
   "source": [
    "**Question 6. d)**"
   ]
  },
  {
   "cell_type": "code",
   "execution_count": 13,
   "id": "76b081dd",
   "metadata": {
    "execution": {
     "iopub.execute_input": "2022-09-30T22:37:35.125952Z",
     "iopub.status.busy": "2022-09-30T22:37:35.125557Z",
     "iopub.status.idle": "2022-09-30T22:37:36.364644Z",
     "shell.execute_reply": "2022-09-30T22:37:36.363469Z"
    },
    "papermill": {
     "duration": 1.250771,
     "end_time": "2022-09-30T22:37:36.367918",
     "exception": false,
     "start_time": "2022-09-30T22:37:35.117147",
     "status": "completed"
    },
    "tags": []
   },
   "outputs": [],
   "source": [
    "random.seed(12345)\n",
    "c_v_d_12345 = {}\n",
    "\n",
    "for poly_val in range(1,6):\n",
    "    poly_f = PolynomialFeatures(degree = poly_val, include_bias = True)\n",
    "    x_poly = poly_f.fit_transform(x.reshape(-1,1))\n",
    "    \n",
    "    model = LinearRegression().fit(x_poly, y)\n",
    "    \n",
    "    cv = LeaveOneOut()\n",
    "    \n",
    "    c_v_d_12345[poly_val] = cross_val_score(model, x_poly, y, scoring='neg_mean_squared_error', cv=cv).mean()"
   ]
  },
  {
   "cell_type": "code",
   "execution_count": 14,
   "id": "1916e6de",
   "metadata": {
    "execution": {
     "iopub.execute_input": "2022-09-30T22:37:36.384206Z",
     "iopub.status.busy": "2022-09-30T22:37:36.383751Z",
     "iopub.status.idle": "2022-09-30T22:37:36.390057Z",
     "shell.execute_reply": "2022-09-30T22:37:36.388942Z"
    },
    "papermill": {
     "duration": 0.017234,
     "end_time": "2022-09-30T22:37:36.392445",
     "exception": false,
     "start_time": "2022-09-30T22:37:36.375211",
     "status": "completed"
    },
    "tags": []
   },
   "outputs": [
    {
     "name": "stdout",
     "output_type": "stream",
     "text": [
      "Leave one out cross validation of degree 1 is  26.534996047663075\n",
      "Leave one out cross validation of degree 2 is  32.53855587022528\n",
      "Leave one out cross validation of degree 3 is  1.1079418003348256\n",
      "Leave one out cross validation of degree 4 is  1.3234306760123546\n",
      "Leave one out cross validation of degree 5 is  1.1099273761939197\n"
     ]
    }
   ],
   "source": [
    "for i in range(1,6):\n",
    "    print(\"Leave one out cross validation of degree \" + str(i) + \" is \",abs(c_v_d_12345[i]))"
   ]
  },
  {
   "cell_type": "markdown",
   "id": "72720c7a",
   "metadata": {
    "papermill": {
     "duration": 0.007342,
     "end_time": "2022-09-30T22:37:36.407073",
     "exception": false,
     "start_time": "2022-09-30T22:37:36.399731",
     "status": "completed"
    },
    "tags": []
   },
   "source": [
    "**Since we are splitting the dataset into n-1 (n is the total number of observations) segments for each step, the order in which the parts appear doesn't affect the outcome using seeds 123 and 12345. Because of this, the outcomes are unaffected by the seed.**"
   ]
  },
  {
   "cell_type": "markdown",
   "id": "3190bdde",
   "metadata": {
    "papermill": {
     "duration": 0.006829,
     "end_time": "2022-09-30T22:37:36.421205",
     "exception": false,
     "start_time": "2022-09-30T22:37:36.414376",
     "status": "completed"
    },
    "tags": []
   },
   "source": []
  },
  {
   "cell_type": "markdown",
   "id": "305d4f32",
   "metadata": {
    "papermill": {
     "duration": 0.006827,
     "end_time": "2022-09-30T22:37:36.435331",
     "exception": false,
     "start_time": "2022-09-30T22:37:36.428504",
     "status": "completed"
    },
    "tags": []
   },
   "source": [
    "**Question 6. e)**\n",
    "\n",
    "**The model with a 3rd degree polynomial produced the lowest cross validation error. Given that the relation between x and y is a the same 3rd degree polynomial, Yes, I anticipated that the model would provide the best score.**\n",
    "\n",
    "$ Y = \\beta_0 + \\beta_1 X + \\beta_2 X^2 + \\beta_3 X^3  + \\varepsilon$ \n",
    "\n",
    "**Up to a certain point for a third degree polynomial, the bias and cross validation score reduces as the degree and complexity of the model increases. After this point, the model's complexity rises, which causes bias and cross validation to increase.**"
   ]
  },
  {
   "cell_type": "code",
   "execution_count": null,
   "id": "593c5d6f",
   "metadata": {
    "papermill": {
     "duration": 0.00676,
     "end_time": "2022-09-30T22:37:36.449215",
     "exception": false,
     "start_time": "2022-09-30T22:37:36.442455",
     "status": "completed"
    },
    "tags": []
   },
   "outputs": [],
   "source": []
  }
 ],
 "metadata": {
  "kernelspec": {
   "display_name": "Python 3",
   "language": "python",
   "name": "python3"
  },
  "language_info": {
   "codemirror_mode": {
    "name": "ipython",
    "version": 3
   },
   "file_extension": ".py",
   "mimetype": "text/x-python",
   "name": "python",
   "nbconvert_exporter": "python",
   "pygments_lexer": "ipython3",
   "version": "3.7.12"
  },
  "papermill": {
   "default_parameters": {},
   "duration": 15.035474,
   "end_time": "2022-09-30T22:37:37.279259",
   "environment_variables": {},
   "exception": null,
   "input_path": "__notebook__.ipynb",
   "output_path": "__notebook__.ipynb",
   "parameters": {},
   "start_time": "2022-09-30T22:37:22.243785",
   "version": "2.3.4"
  }
 },
 "nbformat": 4,
 "nbformat_minor": 5
}
