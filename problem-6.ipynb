{
 "cells": [
  {
   "cell_type": "code",
   "execution_count": 1,
   "id": "14b9599d",
   "metadata": {
    "_cell_guid": "b1076dfc-b9ad-4769-8c92-a6c4dae69d19",
    "_uuid": "8f2839f25d086af736a60e9eeb907d3b93b6e0e5",
    "execution": {
     "iopub.execute_input": "2022-09-23T23:39:39.310070Z",
     "iopub.status.busy": "2022-09-23T23:39:39.309538Z",
     "iopub.status.idle": "2022-09-23T23:39:40.602905Z",
     "shell.execute_reply": "2022-09-23T23:39:40.601591Z"
    },
    "papermill": {
     "duration": 1.302763,
     "end_time": "2022-09-23T23:39:40.605979",
     "exception": false,
     "start_time": "2022-09-23T23:39:39.303216",
     "status": "completed"
    },
    "tags": []
   },
   "outputs": [],
   "source": [
    "import numpy as np\n",
    "import pandas as pd\n",
    "import matplotlib.pyplot as plt\n",
    "from sklearn.linear_model import LinearRegression\n",
    "from sklearn.preprocessing import PolynomialFeatures\n",
    "from numpy.polynomial import Polynomial"
   ]
  },
  {
   "cell_type": "code",
   "execution_count": 2,
   "id": "f702e4c4",
   "metadata": {
    "execution": {
     "iopub.execute_input": "2022-09-23T23:39:40.615804Z",
     "iopub.status.busy": "2022-09-23T23:39:40.615334Z",
     "iopub.status.idle": "2022-09-23T23:39:40.622246Z",
     "shell.execute_reply": "2022-09-23T23:39:40.620739Z"
    },
    "papermill": {
     "duration": 0.014967,
     "end_time": "2022-09-23T23:39:40.625179",
     "exception": false,
     "start_time": "2022-09-23T23:39:40.610212",
     "status": "completed"
    },
    "tags": []
   },
   "outputs": [],
   "source": [
    "np.random.seed(12345)\n",
    "x = np.random.normal(0,1,(200))\n",
    "y = x + 2 * x**2 - 2 * x**3 + np.random.normal(0,1,(200))"
   ]
  },
  {
   "cell_type": "code",
   "execution_count": 3,
   "id": "00eb0249",
   "metadata": {
    "execution": {
     "iopub.execute_input": "2022-09-23T23:39:40.634409Z",
     "iopub.status.busy": "2022-09-23T23:39:40.633953Z",
     "iopub.status.idle": "2022-09-23T23:39:40.914055Z",
     "shell.execute_reply": "2022-09-23T23:39:40.912585Z"
    },
    "papermill": {
     "duration": 0.288172,
     "end_time": "2022-09-23T23:39:40.916961",
     "exception": false,
     "start_time": "2022-09-23T23:39:40.628789",
     "status": "completed"
    },
    "tags": []
   },
   "outputs": [
    {
     "data": {
      "text/plain": [
       "<matplotlib.collections.PathCollection at 0x7f5c03cb6b50>"
      ]
     },
     "execution_count": 3,
     "metadata": {},
     "output_type": "execute_result"
    },
    {
     "data": {
      "image/png": "[encoded data removed]",
      "text/plain": [
       "<Figure size 432x288 with 1 Axes>"
      ]
     },
     "metadata": {
      "needs_background": "light"
     },
     "output_type": "display_data"
    }
   ],
   "source": [
    "plt.scatter(x,y)"
   ]
  },
  {
   "cell_type": "code",
   "execution_count": 4,
   "id": "bb1084e3",
   "metadata": {
    "execution": {
     "iopub.execute_input": "2022-09-23T23:39:40.927529Z",
     "iopub.status.busy": "2022-09-23T23:39:40.926133Z",
     "iopub.status.idle": "2022-09-23T23:39:40.933288Z",
     "shell.execute_reply": "2022-09-23T23:39:40.931885Z"
    },
    "papermill": {
     "duration": 0.015131,
     "end_time": "2022-09-23T23:39:40.936078",
     "exception": false,
     "start_time": "2022-09-23T23:39:40.920947",
     "status": "completed"
    },
    "tags": []
   },
   "outputs": [],
   "source": [
    "from sklearn.preprocessing import PolynomialFeatures\n",
    "from sklearn.model_selection import LeaveOneOut\n",
    "from sklearn.model_selection import cross_val_score\n",
    "import random"
   ]
  },
  {
   "cell_type": "code",
   "execution_count": 5,
   "id": "32afaec7",
   "metadata": {
    "execution": {
     "iopub.execute_input": "2022-09-23T23:39:40.945980Z",
     "iopub.status.busy": "2022-09-23T23:39:40.945452Z",
     "iopub.status.idle": "2022-09-23T23:39:42.200208Z",
     "shell.execute_reply": "2022-09-23T23:39:42.198999Z"
    },
    "papermill": {
     "duration": 1.26301,
     "end_time": "2022-09-23T23:39:42.203119",
     "exception": false,
     "start_time": "2022-09-23T23:39:40.940109",
     "status": "completed"
    },
    "tags": []
   },
   "outputs": [],
   "source": [
    "random.seed(123)\n",
    "cross_val_dict_123 = {}\n",
    "\n",
    "for poly_val in range(1,6):\n",
    "    poly_f = PolynomialFeatures(degree = poly_val, include_bias = True)\n",
    "    x_poly = poly_f.fit_transform(x.reshape(-1,1))\n",
    "    \n",
    "    model = LinearRegression()\n",
    "    \n",
    "    cv = LeaveOneOut()\n",
    "    \n",
    "    cross_val_dict_123[poly_val] = cross_val_score(model, x_poly, y, scoring='neg_mean_squared_error', cv=cv).mean()"
   ]
  },
  {
   "cell_type": "code",
   "execution_count": 6,
   "id": "abb01764",
   "metadata": {
    "execution": {
     "iopub.execute_input": "2022-09-23T23:39:42.212872Z",
     "iopub.status.busy": "2022-09-23T23:39:42.212411Z",
     "iopub.status.idle": "2022-09-23T23:39:42.219550Z",
     "shell.execute_reply": "2022-09-23T23:39:42.218236Z"
    },
    "papermill": {
     "duration": 0.015071,
     "end_time": "2022-09-23T23:39:42.222172",
     "exception": false,
     "start_time": "2022-09-23T23:39:42.207101",
     "status": "completed"
    },
    "tags": []
   },
   "outputs": [
    {
     "data": {
      "text/plain": [
       "{1: -26.534996047663075,\n",
       " 2: -32.53855587022528,\n",
       " 3: -1.1079418003348256,\n",
       " 4: -1.3234306760123546,\n",
       " 5: -1.1099273761939197}"
      ]
     },
     "execution_count": 6,
     "metadata": {},
     "output_type": "execute_result"
    }
   ],
   "source": [
    "cross_val_dict_123"
   ]
  },
  {
   "cell_type": "code",
   "execution_count": 7,
   "id": "4606fd0e",
   "metadata": {
    "execution": {
     "iopub.execute_input": "2022-09-23T23:39:42.231810Z",
     "iopub.status.busy": "2022-09-23T23:39:42.231409Z",
     "iopub.status.idle": "2022-09-23T23:39:43.462030Z",
     "shell.execute_reply": "2022-09-23T23:39:43.460874Z"
    },
    "papermill": {
     "duration": 1.239102,
     "end_time": "2022-09-23T23:39:43.465155",
     "exception": false,
     "start_time": "2022-09-23T23:39:42.226053",
     "status": "completed"
    },
    "tags": []
   },
   "outputs": [],
   "source": [
    "random.seed(12345)\n",
    "cross_val_dict_12345 = {}\n",
    "\n",
    "for poly_val in range(1,6):\n",
    "    poly_f = PolynomialFeatures(degree = poly_val, include_bias = True)\n",
    "    x_poly = poly_f.fit_transform(x.reshape(-1,1))\n",
    "    \n",
    "    model = LinearRegression().fit(x_poly, y)\n",
    "    \n",
    "    cv = LeaveOneOut()\n",
    "    \n",
    "    cross_val_dict_12345[poly_val] = cross_val_score(model, x_poly, y, scoring='neg_mean_squared_error', cv=cv).mean()"
   ]
  },
  {
   "cell_type": "code",
   "execution_count": 8,
   "id": "dd555298",
   "metadata": {
    "execution": {
     "iopub.execute_input": "2022-09-23T23:39:43.474335Z",
     "iopub.status.busy": "2022-09-23T23:39:43.473908Z",
     "iopub.status.idle": "2022-09-23T23:39:43.481597Z",
     "shell.execute_reply": "2022-09-23T23:39:43.480355Z"
    },
    "papermill": {
     "duration": 0.015428,
     "end_time": "2022-09-23T23:39:43.484440",
     "exception": false,
     "start_time": "2022-09-23T23:39:43.469012",
     "status": "completed"
    },
    "tags": []
   },
   "outputs": [
    {
     "data": {
      "text/plain": [
       "{1: -26.534996047663075,\n",
       " 2: -32.53855587022528,\n",
       " 3: -1.1079418003348256,\n",
       " 4: -1.3234306760123546,\n",
       " 5: -1.1099273761939197}"
      ]
     },
     "execution_count": 8,
     "metadata": {},
     "output_type": "execute_result"
    }
   ],
   "source": [
    "cross_val_dict_12345"
   ]
  },
  {
   "cell_type": "code",
   "execution_count": 9,
   "id": "58e3698c",
   "metadata": {
    "execution": {
     "iopub.execute_input": "2022-09-23T23:39:43.494359Z",
     "iopub.status.busy": "2022-09-23T23:39:43.493926Z",
     "iopub.status.idle": "2022-09-23T23:39:43.500842Z",
     "shell.execute_reply": "2022-09-23T23:39:43.500130Z"
    },
    "papermill": {
     "duration": 0.014104,
     "end_time": "2022-09-23T23:39:43.502829",
     "exception": false,
     "start_time": "2022-09-23T23:39:43.488725",
     "status": "completed"
    },
    "tags": []
   },
   "outputs": [
    {
     "data": {
      "text/plain": [
       "array([[ 1.00000000e+00, -2.04707659e-01,  4.19052259e-02,\n",
       "        -8.57832070e-03,  1.75604795e-03, -3.59476467e-04],\n",
       "       [ 1.00000000e+00,  4.78943338e-01,  2.29386721e-01,\n",
       "         1.09863242e-01,  5.26182678e-02,  2.52011688e-02],\n",
       "       [ 1.00000000e+00, -5.19438715e-01,  2.69816579e-01,\n",
       "        -1.40153177e-01,  7.28009861e-02, -3.78156507e-02],\n",
       "       ...,\n",
       "       [ 1.00000000e+00, -1.41341604e+00,  1.99774490e+00,\n",
       "        -2.82364468e+00,  3.99098468e+00, -5.64092176e+00],\n",
       "       [ 1.00000000e+00,  1.29660784e+00,  1.68119190e+00,\n",
       "         2.17984660e+00,  2.82640619e+00,  3.66474043e+00],\n",
       "       [ 1.00000000e+00,  2.52275209e-01,  6.36427810e-02,\n",
       "         1.60554959e-02,  4.05040358e-03,  1.02181641e-03]])"
      ]
     },
     "execution_count": 9,
     "metadata": {},
     "output_type": "execute_result"
    }
   ],
   "source": [
    "x_poly"
   ]
  },
  {
   "cell_type": "code",
   "execution_count": null,
   "id": "aad0b95f",
   "metadata": {
    "papermill": {
     "duration": 0.004068,
     "end_time": "2022-09-23T23:39:43.511216",
     "exception": false,
     "start_time": "2022-09-23T23:39:43.507148",
     "status": "completed"
    },
    "tags": []
   },
   "outputs": [],
   "source": []
  }
 ],
 "metadata": {
  "kernelspec": {
   "display_name": "Python 3",
   "language": "python",
   "name": "python3"
  },
  "language_info": {
   "codemirror_mode": {
    "name": "ipython",
    "version": 3
   },
   "file_extension": ".py",
   "mimetype": "text/x-python",
   "name": "python",
   "nbconvert_exporter": "python",
   "pygments_lexer": "ipython3",
   "version": "3.7.12"
  },
  "papermill": {
   "default_parameters": {},
   "duration": 17.202245,
   "end_time": "2022-09-23T23:39:47.029638",
   "environment_variables": {},
   "exception": null,
   "input_path": "__notebook__.ipynb",
   "output_path": "__notebook__.ipynb",
   "parameters": {},
   "start_time": "2022-09-23T23:39:29.827393",
   "version": "2.3.4"
  }
 },
 "nbformat": 4,
 "nbformat_minor": 5
}
