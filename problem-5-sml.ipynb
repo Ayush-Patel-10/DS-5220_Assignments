{
 "cells": [
  {
   "cell_type": "code",
   "execution_count": 1,
   "id": "0142a92e",
   "metadata": {
    "execution": {
     "iopub.execute_input": "2022-09-28T02:15:49.871117Z",
     "iopub.status.busy": "2022-09-28T02:15:49.870308Z",
     "iopub.status.idle": "2022-09-28T02:15:51.272175Z",
     "shell.execute_reply": "2022-09-28T02:15:51.271006Z"
    },
    "papermill": {
     "duration": 1.411862,
     "end_time": "2022-09-28T02:15:51.275000",
     "exception": false,
     "start_time": "2022-09-28T02:15:49.863138",
     "status": "completed"
    },
    "tags": []
   },
   "outputs": [],
   "source": [
    "import numpy as np\n",
    "import pandas as pd\n",
    "from sklearn import datasets, linear_model\n",
    "from sklearn.metrics import mean_squared_error, r2_score\n",
    "from sklearn.model_selection import train_test_split\n",
    "from sklearn.linear_model import LinearRegression"
   ]
  },
  {
   "cell_type": "code",
   "execution_count": 2,
   "id": "1494e2a8",
   "metadata": {
    "execution": {
     "iopub.execute_input": "2022-09-28T02:15:51.284584Z",
     "iopub.status.busy": "2022-09-28T02:15:51.284108Z",
     "iopub.status.idle": "2022-09-28T02:15:51.309481Z",
     "shell.execute_reply": "2022-09-28T02:15:51.308287Z"
    },
    "papermill": {
     "duration": 0.033281,
     "end_time": "2022-09-28T02:15:51.312339",
     "exception": false,
     "start_time": "2022-09-28T02:15:51.279058",
     "status": "completed"
    },
    "tags": []
   },
   "outputs": [],
   "source": [
    "diabetes= datasets.load_diabetes()"
   ]
  },
  {
   "cell_type": "code",
   "execution_count": 3,
   "id": "7b3bc600",
   "metadata": {
    "execution": {
     "iopub.execute_input": "2022-09-28T02:15:51.322131Z",
     "iopub.status.busy": "2022-09-28T02:15:51.321329Z",
     "iopub.status.idle": "2022-09-28T02:15:51.326750Z",
     "shell.execute_reply": "2022-09-28T02:15:51.325511Z"
    },
    "papermill": {
     "duration": 0.012923,
     "end_time": "2022-09-28T02:15:51.329103",
     "exception": false,
     "start_time": "2022-09-28T02:15:51.316180",
     "status": "completed"
    },
    "tags": []
   },
   "outputs": [],
   "source": [
    "# df = pd.DataFrame(data=data['data'],columns=data['feature_names'])"
   ]
  },
  {
   "cell_type": "code",
   "execution_count": 4,
   "id": "089eedd2",
   "metadata": {
    "execution": {
     "iopub.execute_input": "2022-09-28T02:15:51.338753Z",
     "iopub.status.busy": "2022-09-28T02:15:51.338342Z",
     "iopub.status.idle": "2022-09-28T02:15:51.373322Z",
     "shell.execute_reply": "2022-09-28T02:15:51.372289Z"
    },
    "papermill": {
     "duration": 0.042997,
     "end_time": "2022-09-28T02:15:51.375979",
     "exception": false,
     "start_time": "2022-09-28T02:15:51.332982",
     "status": "completed"
    },
    "tags": []
   },
   "outputs": [],
   "source": [
    " diabetes_X, diabetes_y = datasets.load_diabetes(return_X_y=True,as_frame=True)"
   ]
  },
  {
   "cell_type": "code",
   "execution_count": 5,
   "id": "b3bfccb6",
   "metadata": {
    "execution": {
     "iopub.execute_input": "2022-09-28T02:15:51.386129Z",
     "iopub.status.busy": "2022-09-28T02:15:51.385221Z",
     "iopub.status.idle": "2022-09-28T02:15:51.391989Z",
     "shell.execute_reply": "2022-09-28T02:15:51.391037Z"
    },
    "papermill": {
     "duration": 0.014141,
     "end_time": "2022-09-28T02:15:51.394247",
     "exception": false,
     "start_time": "2022-09-28T02:15:51.380106",
     "status": "completed"
    },
    "tags": []
   },
   "outputs": [],
   "source": [
    " diabetes_X = diabetes_X[['age','sex','bmi','bp']]"
   ]
  },
  {
   "cell_type": "code",
   "execution_count": 6,
   "id": "d3888e9d",
   "metadata": {
    "execution": {
     "iopub.execute_input": "2022-09-28T02:15:51.404498Z",
     "iopub.status.busy": "2022-09-28T02:15:51.403331Z",
     "iopub.status.idle": "2022-09-28T02:15:51.427621Z",
     "shell.execute_reply": "2022-09-28T02:15:51.426222Z"
    },
    "papermill": {
     "duration": 0.032247,
     "end_time": "2022-09-28T02:15:51.430370",
     "exception": false,
     "start_time": "2022-09-28T02:15:51.398123",
     "status": "completed"
    },
    "tags": []
   },
   "outputs": [
    {
     "data": {
      "text/html": [
       "<div>\n",
       "<style scoped>\n",
       "    .dataframe tbody tr th:only-of-type {\n",
       "        vertical-align: middle;\n",
       "    }\n",
       "\n",
       "    .dataframe tbody tr th {\n",
       "        vertical-align: top;\n",
       "    }\n",
       "\n",
       "    .dataframe thead th {\n",
       "        text-align: right;\n",
       "    }\n",
       "</style>\n",
       "<table border=\"1\" class=\"dataframe\">\n",
       "  <thead>\n",
       "    <tr style=\"text-align: right;\">\n",
       "      <th></th>\n",
       "      <th>age</th>\n",
       "      <th>sex</th>\n",
       "      <th>bmi</th>\n",
       "      <th>bp</th>\n",
       "    </tr>\n",
       "  </thead>\n",
       "  <tbody>\n",
       "    <tr>\n",
       "      <th>0</th>\n",
       "      <td>0.038076</td>\n",
       "      <td>0.050680</td>\n",
       "      <td>0.061696</td>\n",
       "      <td>0.021872</td>\n",
       "    </tr>\n",
       "    <tr>\n",
       "      <th>1</th>\n",
       "      <td>-0.001882</td>\n",
       "      <td>-0.044642</td>\n",
       "      <td>-0.051474</td>\n",
       "      <td>-0.026328</td>\n",
       "    </tr>\n",
       "    <tr>\n",
       "      <th>2</th>\n",
       "      <td>0.085299</td>\n",
       "      <td>0.050680</td>\n",
       "      <td>0.044451</td>\n",
       "      <td>-0.005671</td>\n",
       "    </tr>\n",
       "    <tr>\n",
       "      <th>3</th>\n",
       "      <td>-0.089063</td>\n",
       "      <td>-0.044642</td>\n",
       "      <td>-0.011595</td>\n",
       "      <td>-0.036656</td>\n",
       "    </tr>\n",
       "    <tr>\n",
       "      <th>4</th>\n",
       "      <td>0.005383</td>\n",
       "      <td>-0.044642</td>\n",
       "      <td>-0.036385</td>\n",
       "      <td>0.021872</td>\n",
       "    </tr>\n",
       "    <tr>\n",
       "      <th>...</th>\n",
       "      <td>...</td>\n",
       "      <td>...</td>\n",
       "      <td>...</td>\n",
       "      <td>...</td>\n",
       "    </tr>\n",
       "    <tr>\n",
       "      <th>437</th>\n",
       "      <td>0.041708</td>\n",
       "      <td>0.050680</td>\n",
       "      <td>0.019662</td>\n",
       "      <td>0.059744</td>\n",
       "    </tr>\n",
       "    <tr>\n",
       "      <th>438</th>\n",
       "      <td>-0.005515</td>\n",
       "      <td>0.050680</td>\n",
       "      <td>-0.015906</td>\n",
       "      <td>-0.067642</td>\n",
       "    </tr>\n",
       "    <tr>\n",
       "      <th>439</th>\n",
       "      <td>0.041708</td>\n",
       "      <td>0.050680</td>\n",
       "      <td>-0.015906</td>\n",
       "      <td>0.017282</td>\n",
       "    </tr>\n",
       "    <tr>\n",
       "      <th>440</th>\n",
       "      <td>-0.045472</td>\n",
       "      <td>-0.044642</td>\n",
       "      <td>0.039062</td>\n",
       "      <td>0.001215</td>\n",
       "    </tr>\n",
       "    <tr>\n",
       "      <th>441</th>\n",
       "      <td>-0.045472</td>\n",
       "      <td>-0.044642</td>\n",
       "      <td>-0.073030</td>\n",
       "      <td>-0.081414</td>\n",
       "    </tr>\n",
       "  </tbody>\n",
       "</table>\n",
       "<p>442 rows × 4 columns</p>\n",
       "</div>"
      ],
      "text/plain": [
       "          age       sex       bmi        bp\n",
       "0    0.038076  0.050680  0.061696  0.021872\n",
       "1   -0.001882 -0.044642 -0.051474 -0.026328\n",
       "2    0.085299  0.050680  0.044451 -0.005671\n",
       "3   -0.089063 -0.044642 -0.011595 -0.036656\n",
       "4    0.005383 -0.044642 -0.036385  0.021872\n",
       "..        ...       ...       ...       ...\n",
       "437  0.041708  0.050680  0.019662  0.059744\n",
       "438 -0.005515  0.050680 -0.015906 -0.067642\n",
       "439  0.041708  0.050680 -0.015906  0.017282\n",
       "440 -0.045472 -0.044642  0.039062  0.001215\n",
       "441 -0.045472 -0.044642 -0.073030 -0.081414\n",
       "\n",
       "[442 rows x 4 columns]"
      ]
     },
     "execution_count": 6,
     "metadata": {},
     "output_type": "execute_result"
    }
   ],
   "source": [
    " diabetes_X"
   ]
  },
  {
   "cell_type": "code",
   "execution_count": 7,
   "id": "08a8e643",
   "metadata": {
    "execution": {
     "iopub.execute_input": "2022-09-28T02:15:51.440877Z",
     "iopub.status.busy": "2022-09-28T02:15:51.440239Z",
     "iopub.status.idle": "2022-09-28T02:15:51.465783Z",
     "shell.execute_reply": "2022-09-28T02:15:51.464284Z"
    },
    "papermill": {
     "duration": 0.034004,
     "end_time": "2022-09-28T02:15:51.468609",
     "exception": false,
     "start_time": "2022-09-28T02:15:51.434605",
     "status": "completed"
    },
    "tags": []
   },
   "outputs": [],
   "source": [
    "diabmodel = LinearRegression().fit(diabetes_X, diabetes_y)"
   ]
  },
  {
   "cell_type": "code",
   "execution_count": 8,
   "id": "7af44659",
   "metadata": {
    "execution": {
     "iopub.execute_input": "2022-09-28T02:15:51.478773Z",
     "iopub.status.busy": "2022-09-28T02:15:51.478211Z",
     "iopub.status.idle": "2022-09-28T02:15:51.486766Z",
     "shell.execute_reply": "2022-09-28T02:15:51.485465Z"
    },
    "papermill": {
     "duration": 0.016386,
     "end_time": "2022-09-28T02:15:51.489193",
     "exception": false,
     "start_time": "2022-09-28T02:15:51.472807",
     "status": "completed"
    },
    "tags": []
   },
   "outputs": [
    {
     "data": {
      "text/plain": [
       "array([  37.24121082, -106.57751991,  787.17931333,  416.67377167])"
      ]
     },
     "execution_count": 8,
     "metadata": {},
     "output_type": "execute_result"
    }
   ],
   "source": [
    "diabmodel.coef_"
   ]
  },
  {
   "cell_type": "code",
   "execution_count": 9,
   "id": "c598c04d",
   "metadata": {
    "execution": {
     "iopub.execute_input": "2022-09-28T02:15:51.499741Z",
     "iopub.status.busy": "2022-09-28T02:15:51.499289Z",
     "iopub.status.idle": "2022-09-28T02:15:51.505486Z",
     "shell.execute_reply": "2022-09-28T02:15:51.504700Z"
    },
    "papermill": {
     "duration": 0.013927,
     "end_time": "2022-09-28T02:15:51.507612",
     "exception": false,
     "start_time": "2022-09-28T02:15:51.493685",
     "status": "completed"
    },
    "tags": []
   },
   "outputs": [
    {
     "data": {
      "text/plain": [
       "152.13348416289654"
      ]
     },
     "execution_count": 9,
     "metadata": {},
     "output_type": "execute_result"
    }
   ],
   "source": [
    "diabmodel.intercept_"
   ]
  },
  {
   "cell_type": "code",
   "execution_count": 10,
   "id": "0b4a0b41",
   "metadata": {
    "execution": {
     "iopub.execute_input": "2022-09-28T02:15:51.518749Z",
     "iopub.status.busy": "2022-09-28T02:15:51.517909Z",
     "iopub.status.idle": "2022-09-28T02:15:51.525592Z",
     "shell.execute_reply": "2022-09-28T02:15:51.524525Z"
    },
    "papermill": {
     "duration": 0.015737,
     "end_time": "2022-09-28T02:15:51.527772",
     "exception": false,
     "start_time": "2022-09-28T02:15:51.512035",
     "status": "completed"
    },
    "tags": []
   },
   "outputs": [
    {
     "data": {
      "text/plain": [
       "37.24121081833959"
      ]
     },
     "execution_count": 10,
     "metadata": {},
     "output_type": "execute_result"
    }
   ],
   "source": [
    "diabmodel.coef_[0]"
   ]
  },
  {
   "cell_type": "code",
   "execution_count": 11,
   "id": "81c71c1e",
   "metadata": {
    "execution": {
     "iopub.execute_input": "2022-09-28T02:15:51.538759Z",
     "iopub.status.busy": "2022-09-28T02:15:51.538061Z",
     "iopub.status.idle": "2022-09-28T02:15:51.546503Z",
     "shell.execute_reply": "2022-09-28T02:15:51.545459Z"
    },
    "papermill": {
     "duration": 0.016519,
     "end_time": "2022-09-28T02:15:51.548705",
     "exception": false,
     "start_time": "2022-09-28T02:15:51.532186",
     "status": "completed"
    },
    "tags": []
   },
   "outputs": [
    {
     "data": {
      "text/plain": [
       "0      1.417993\n",
       "1     -0.070089\n",
       "2      3.176635\n",
       "3     -3.316812\n",
       "4      0.200472\n",
       "         ...   \n",
       "437    1.553273\n",
       "438   -0.205369\n",
       "439    1.553273\n",
       "440   -1.693450\n",
       "441   -1.693450\n",
       "Name: age, Length: 442, dtype: float64"
      ]
     },
     "execution_count": 11,
     "metadata": {},
     "output_type": "execute_result"
    }
   ],
   "source": [
    "diabetes_X.iloc[:,0]*diabmodel.coef_[0]"
   ]
  },
  {
   "cell_type": "code",
   "execution_count": null,
   "id": "3068278d",
   "metadata": {
    "papermill": {
     "duration": 0.004173,
     "end_time": "2022-09-28T02:15:51.557384",
     "exception": false,
     "start_time": "2022-09-28T02:15:51.553211",
     "status": "completed"
    },
    "tags": []
   },
   "outputs": [],
   "source": []
  },
  {
   "cell_type": "code",
   "execution_count": null,
   "id": "be31e8ff",
   "metadata": {
    "papermill": {
     "duration": 0.004149,
     "end_time": "2022-09-28T02:15:51.566132",
     "exception": false,
     "start_time": "2022-09-28T02:15:51.561983",
     "status": "completed"
    },
    "tags": []
   },
   "outputs": [],
   "source": []
  }
 ],
 "metadata": {
  "kernelspec": {
   "display_name": "Python 3",
   "language": "python",
   "name": "python3"
  },
  "language_info": {
   "codemirror_mode": {
    "name": "ipython",
    "version": 3
   },
   "file_extension": ".py",
   "mimetype": "text/x-python",
   "name": "python",
   "nbconvert_exporter": "python",
   "pygments_lexer": "ipython3",
   "version": "3.7.12"
  },
  "papermill": {
   "default_parameters": {},
   "duration": 12.374787,
   "end_time": "2022-09-28T02:15:52.394996",
   "environment_variables": {},
   "exception": null,
   "input_path": "__notebook__.ipynb",
   "output_path": "__notebook__.ipynb",
   "parameters": {},
   "start_time": "2022-09-28T02:15:40.020209",
   "version": "2.3.4"
  }
 },
 "nbformat": 4,
 "nbformat_minor": 5
}
