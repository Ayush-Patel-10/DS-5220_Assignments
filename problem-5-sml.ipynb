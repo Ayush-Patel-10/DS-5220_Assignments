{
 "cells": [
  {
   "cell_type": "code",
   "execution_count": 1,
   "id": "f842240f",
   "metadata": {
    "execution": {
     "iopub.execute_input": "2022-09-28T02:49:59.203682Z",
     "iopub.status.busy": "2022-09-28T02:49:59.203088Z",
     "iopub.status.idle": "2022-09-28T02:50:00.395364Z",
     "shell.execute_reply": "2022-09-28T02:50:00.394297Z"
    },
    "papermill": {
     "duration": 1.201797,
     "end_time": "2022-09-28T02:50:00.398348",
     "exception": false,
     "start_time": "2022-09-28T02:49:59.196551",
     "status": "completed"
    },
    "tags": []
   },
   "outputs": [],
   "source": [
    "import numpy as np\n",
    "import pandas as pd\n",
    "from sklearn import datasets, linear_model\n",
    "from sklearn.metrics import mean_squared_error, r2_score\n",
    "from sklearn.model_selection import train_test_split\n",
    "from sklearn.linear_model import LinearRegression"
   ]
  },
  {
   "cell_type": "code",
   "execution_count": 2,
   "id": "8ce71286",
   "metadata": {
    "execution": {
     "iopub.execute_input": "2022-09-28T02:50:00.408111Z",
     "iopub.status.busy": "2022-09-28T02:50:00.407734Z",
     "iopub.status.idle": "2022-09-28T02:50:00.431063Z",
     "shell.execute_reply": "2022-09-28T02:50:00.430020Z"
    },
    "papermill": {
     "duration": 0.031216,
     "end_time": "2022-09-28T02:50:00.433768",
     "exception": false,
     "start_time": "2022-09-28T02:50:00.402552",
     "status": "completed"
    },
    "tags": []
   },
   "outputs": [],
   "source": [
    "diabetes= datasets.load_diabetes()"
   ]
  },
  {
   "cell_type": "code",
   "execution_count": 3,
   "id": "40fd4722",
   "metadata": {
    "execution": {
     "iopub.execute_input": "2022-09-28T02:50:00.443582Z",
     "iopub.status.busy": "2022-09-28T02:50:00.443145Z",
     "iopub.status.idle": "2022-09-28T02:50:00.447965Z",
     "shell.execute_reply": "2022-09-28T02:50:00.446819Z"
    },
    "papermill": {
     "duration": 0.012665,
     "end_time": "2022-09-28T02:50:00.450417",
     "exception": false,
     "start_time": "2022-09-28T02:50:00.437752",
     "status": "completed"
    },
    "tags": []
   },
   "outputs": [],
   "source": [
    "# df = pd.DataFrame(data=data['data'],columns=data['feature_names'])"
   ]
  },
  {
   "cell_type": "code",
   "execution_count": 4,
   "id": "d66d5643",
   "metadata": {
    "execution": {
     "iopub.execute_input": "2022-09-28T02:50:00.459841Z",
     "iopub.status.busy": "2022-09-28T02:50:00.459403Z",
     "iopub.status.idle": "2022-09-28T02:50:00.492170Z",
     "shell.execute_reply": "2022-09-28T02:50:00.491000Z"
    },
    "papermill": {
     "duration": 0.04041,
     "end_time": "2022-09-28T02:50:00.494712",
     "exception": false,
     "start_time": "2022-09-28T02:50:00.454302",
     "status": "completed"
    },
    "tags": []
   },
   "outputs": [],
   "source": [
    " diabetes_X, diabetes_y = datasets.load_diabetes(return_X_y=True,as_frame=True)"
   ]
  },
  {
   "cell_type": "code",
   "execution_count": 5,
   "id": "b9936e07",
   "metadata": {
    "execution": {
     "iopub.execute_input": "2022-09-28T02:50:00.504298Z",
     "iopub.status.busy": "2022-09-28T02:50:00.503498Z",
     "iopub.status.idle": "2022-09-28T02:50:00.509566Z",
     "shell.execute_reply": "2022-09-28T02:50:00.508406Z"
    },
    "papermill": {
     "duration": 0.01324,
     "end_time": "2022-09-28T02:50:00.511800",
     "exception": false,
     "start_time": "2022-09-28T02:50:00.498560",
     "status": "completed"
    },
    "tags": []
   },
   "outputs": [],
   "source": [
    " diabetes_X = diabetes_X[['age','sex','bmi','bp']]"
   ]
  },
  {
   "cell_type": "code",
   "execution_count": 6,
   "id": "652ecd76",
   "metadata": {
    "execution": {
     "iopub.execute_input": "2022-09-28T02:50:00.521046Z",
     "iopub.status.busy": "2022-09-28T02:50:00.520666Z",
     "iopub.status.idle": "2022-09-28T02:50:00.541704Z",
     "shell.execute_reply": "2022-09-28T02:50:00.540504Z"
    },
    "papermill": {
     "duration": 0.028833,
     "end_time": "2022-09-28T02:50:00.544379",
     "exception": false,
     "start_time": "2022-09-28T02:50:00.515546",
     "status": "completed"
    },
    "tags": []
   },
   "outputs": [
    {
     "data": {
      "text/html": [
       "<div>\n",
       "<style scoped>\n",
       "    .dataframe tbody tr th:only-of-type {\n",
       "        vertical-align: middle;\n",
       "    }\n",
       "\n",
       "    .dataframe tbody tr th {\n",
       "        vertical-align: top;\n",
       "    }\n",
       "\n",
       "    .dataframe thead th {\n",
       "        text-align: right;\n",
       "    }\n",
       "</style>\n",
       "<table border=\"1\" class=\"dataframe\">\n",
       "  <thead>\n",
       "    <tr style=\"text-align: right;\">\n",
       "      <th></th>\n",
       "      <th>age</th>\n",
       "      <th>sex</th>\n",
       "      <th>bmi</th>\n",
       "      <th>bp</th>\n",
       "    </tr>\n",
       "  </thead>\n",
       "  <tbody>\n",
       "    <tr>\n",
       "      <th>0</th>\n",
       "      <td>0.038076</td>\n",
       "      <td>0.050680</td>\n",
       "      <td>0.061696</td>\n",
       "      <td>0.021872</td>\n",
       "    </tr>\n",
       "    <tr>\n",
       "      <th>1</th>\n",
       "      <td>-0.001882</td>\n",
       "      <td>-0.044642</td>\n",
       "      <td>-0.051474</td>\n",
       "      <td>-0.026328</td>\n",
       "    </tr>\n",
       "    <tr>\n",
       "      <th>2</th>\n",
       "      <td>0.085299</td>\n",
       "      <td>0.050680</td>\n",
       "      <td>0.044451</td>\n",
       "      <td>-0.005671</td>\n",
       "    </tr>\n",
       "    <tr>\n",
       "      <th>3</th>\n",
       "      <td>-0.089063</td>\n",
       "      <td>-0.044642</td>\n",
       "      <td>-0.011595</td>\n",
       "      <td>-0.036656</td>\n",
       "    </tr>\n",
       "    <tr>\n",
       "      <th>4</th>\n",
       "      <td>0.005383</td>\n",
       "      <td>-0.044642</td>\n",
       "      <td>-0.036385</td>\n",
       "      <td>0.021872</td>\n",
       "    </tr>\n",
       "    <tr>\n",
       "      <th>...</th>\n",
       "      <td>...</td>\n",
       "      <td>...</td>\n",
       "      <td>...</td>\n",
       "      <td>...</td>\n",
       "    </tr>\n",
       "    <tr>\n",
       "      <th>437</th>\n",
       "      <td>0.041708</td>\n",
       "      <td>0.050680</td>\n",
       "      <td>0.019662</td>\n",
       "      <td>0.059744</td>\n",
       "    </tr>\n",
       "    <tr>\n",
       "      <th>438</th>\n",
       "      <td>-0.005515</td>\n",
       "      <td>0.050680</td>\n",
       "      <td>-0.015906</td>\n",
       "      <td>-0.067642</td>\n",
       "    </tr>\n",
       "    <tr>\n",
       "      <th>439</th>\n",
       "      <td>0.041708</td>\n",
       "      <td>0.050680</td>\n",
       "      <td>-0.015906</td>\n",
       "      <td>0.017282</td>\n",
       "    </tr>\n",
       "    <tr>\n",
       "      <th>440</th>\n",
       "      <td>-0.045472</td>\n",
       "      <td>-0.044642</td>\n",
       "      <td>0.039062</td>\n",
       "      <td>0.001215</td>\n",
       "    </tr>\n",
       "    <tr>\n",
       "      <th>441</th>\n",
       "      <td>-0.045472</td>\n",
       "      <td>-0.044642</td>\n",
       "      <td>-0.073030</td>\n",
       "      <td>-0.081414</td>\n",
       "    </tr>\n",
       "  </tbody>\n",
       "</table>\n",
       "<p>442 rows × 4 columns</p>\n",
       "</div>"
      ],
      "text/plain": [
       "          age       sex       bmi        bp\n",
       "0    0.038076  0.050680  0.061696  0.021872\n",
       "1   -0.001882 -0.044642 -0.051474 -0.026328\n",
       "2    0.085299  0.050680  0.044451 -0.005671\n",
       "3   -0.089063 -0.044642 -0.011595 -0.036656\n",
       "4    0.005383 -0.044642 -0.036385  0.021872\n",
       "..        ...       ...       ...       ...\n",
       "437  0.041708  0.050680  0.019662  0.059744\n",
       "438 -0.005515  0.050680 -0.015906 -0.067642\n",
       "439  0.041708  0.050680 -0.015906  0.017282\n",
       "440 -0.045472 -0.044642  0.039062  0.001215\n",
       "441 -0.045472 -0.044642 -0.073030 -0.081414\n",
       "\n",
       "[442 rows x 4 columns]"
      ]
     },
     "execution_count": 6,
     "metadata": {},
     "output_type": "execute_result"
    }
   ],
   "source": [
    " diabetes_X"
   ]
  },
  {
   "cell_type": "code",
   "execution_count": 7,
   "id": "1d697793",
   "metadata": {
    "execution": {
     "iopub.execute_input": "2022-09-28T02:50:00.553933Z",
     "iopub.status.busy": "2022-09-28T02:50:00.553568Z",
     "iopub.status.idle": "2022-09-28T02:50:00.575687Z",
     "shell.execute_reply": "2022-09-28T02:50:00.574791Z"
    },
    "papermill": {
     "duration": 0.029123,
     "end_time": "2022-09-28T02:50:00.577564",
     "exception": false,
     "start_time": "2022-09-28T02:50:00.548441",
     "status": "completed"
    },
    "tags": []
   },
   "outputs": [],
   "source": [
    "diabmodel = LinearRegression().fit(diabetes_X, diabetes_y)"
   ]
  },
  {
   "cell_type": "code",
   "execution_count": 8,
   "id": "e28f93f0",
   "metadata": {
    "execution": {
     "iopub.execute_input": "2022-09-28T02:50:00.587023Z",
     "iopub.status.busy": "2022-09-28T02:50:00.586340Z",
     "iopub.status.idle": "2022-09-28T02:50:00.592346Z",
     "shell.execute_reply": "2022-09-28T02:50:00.591574Z"
    },
    "papermill": {
     "duration": 0.012636,
     "end_time": "2022-09-28T02:50:00.594210",
     "exception": false,
     "start_time": "2022-09-28T02:50:00.581574",
     "status": "completed"
    },
    "tags": []
   },
   "outputs": [
    {
     "data": {
      "text/plain": [
       "array([  37.24121082, -106.57751991,  787.17931333,  416.67377167])"
      ]
     },
     "execution_count": 8,
     "metadata": {},
     "output_type": "execute_result"
    }
   ],
   "source": [
    "diabmodel.coef_"
   ]
  },
  {
   "cell_type": "code",
   "execution_count": 9,
   "id": "9477381c",
   "metadata": {
    "execution": {
     "iopub.execute_input": "2022-09-28T02:50:00.604430Z",
     "iopub.status.busy": "2022-09-28T02:50:00.603411Z",
     "iopub.status.idle": "2022-09-28T02:50:00.609505Z",
     "shell.execute_reply": "2022-09-28T02:50:00.608741Z"
    },
    "papermill": {
     "duration": 0.013155,
     "end_time": "2022-09-28T02:50:00.611490",
     "exception": false,
     "start_time": "2022-09-28T02:50:00.598335",
     "status": "completed"
    },
    "tags": []
   },
   "outputs": [
    {
     "data": {
      "text/plain": [
       "152.13348416289654"
      ]
     },
     "execution_count": 9,
     "metadata": {},
     "output_type": "execute_result"
    }
   ],
   "source": [
    "diabmodel.intercept_"
   ]
  },
  {
   "cell_type": "code",
   "execution_count": 10,
   "id": "223ac6f9",
   "metadata": {
    "execution": {
     "iopub.execute_input": "2022-09-28T02:50:00.622075Z",
     "iopub.status.busy": "2022-09-28T02:50:00.621379Z",
     "iopub.status.idle": "2022-09-28T02:50:00.627785Z",
     "shell.execute_reply": "2022-09-28T02:50:00.626749Z"
    },
    "papermill": {
     "duration": 0.014071,
     "end_time": "2022-09-28T02:50:00.629943",
     "exception": false,
     "start_time": "2022-09-28T02:50:00.615872",
     "status": "completed"
    },
    "tags": []
   },
   "outputs": [
    {
     "data": {
      "text/plain": [
       "37.24121081833959"
      ]
     },
     "execution_count": 10,
     "metadata": {},
     "output_type": "execute_result"
    }
   ],
   "source": [
    "diabmodel.coef_[0]"
   ]
  },
  {
   "cell_type": "code",
   "execution_count": 11,
   "id": "215db181",
   "metadata": {
    "execution": {
     "iopub.execute_input": "2022-09-28T02:50:00.639895Z",
     "iopub.status.busy": "2022-09-28T02:50:00.639497Z",
     "iopub.status.idle": "2022-09-28T02:50:00.648076Z",
     "shell.execute_reply": "2022-09-28T02:50:00.647303Z"
    },
    "papermill": {
     "duration": 0.016223,
     "end_time": "2022-09-28T02:50:00.650477",
     "exception": false,
     "start_time": "2022-09-28T02:50:00.634254",
     "status": "completed"
    },
    "tags": []
   },
   "outputs": [
    {
     "data": {
      "text/plain": [
       "0      1.417993\n",
       "1     -0.070089\n",
       "2      3.176635\n",
       "3     -3.316812\n",
       "4      0.200472\n",
       "         ...   \n",
       "437    1.553273\n",
       "438   -0.205369\n",
       "439    1.553273\n",
       "440   -1.693450\n",
       "441   -1.693450\n",
       "Name: age, Length: 442, dtype: float64"
      ]
     },
     "execution_count": 11,
     "metadata": {},
     "output_type": "execute_result"
    }
   ],
   "source": [
    "diabetes_X.iloc[:,0]*diabmodel.coef_[0]"
   ]
  },
  {
   "cell_type": "code",
   "execution_count": null,
   "id": "5e1d8d4b",
   "metadata": {
    "papermill": {
     "duration": 0.004184,
     "end_time": "2022-09-28T02:50:00.659278",
     "exception": false,
     "start_time": "2022-09-28T02:50:00.655094",
     "status": "completed"
    },
    "tags": []
   },
   "outputs": [],
   "source": []
  },
  {
   "cell_type": "code",
   "execution_count": null,
   "id": "0b4c7209",
   "metadata": {
    "papermill": {
     "duration": 0.00414,
     "end_time": "2022-09-28T02:50:00.667912",
     "exception": false,
     "start_time": "2022-09-28T02:50:00.663772",
     "status": "completed"
    },
    "tags": []
   },
   "outputs": [],
   "source": []
  }
 ],
 "metadata": {
  "kernelspec": {
   "display_name": "Python 3",
   "language": "python",
   "name": "python3"
  },
  "language_info": {
   "codemirror_mode": {
    "name": "ipython",
    "version": 3
   },
   "file_extension": ".py",
   "mimetype": "text/x-python",
   "name": "python",
   "nbconvert_exporter": "python",
   "pygments_lexer": "ipython3",
   "version": "3.7.12"
  },
  "papermill": {
   "default_parameters": {},
   "duration": 10.740289,
   "end_time": "2022-09-28T02:50:01.394552",
   "environment_variables": {},
   "exception": null,
   "input_path": "__notebook__.ipynb",
   "output_path": "__notebook__.ipynb",
   "parameters": {},
   "start_time": "2022-09-28T02:49:50.654263",
   "version": "2.3.4"
  }
 },
 "nbformat": 4,
 "nbformat_minor": 5
}
