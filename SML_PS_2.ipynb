{
 "cells": [
  {
   "cell_type": "markdown",
   "id": "1af82954",
   "metadata": {},
   "source": [
    "### <b> Assignment_2_SML </b> <br>\n",
    "### Name: Ayush Patel <br> \n",
    "### NUID: 002765119 <br> <br>\n"
   ]
  },
  {
   "cell_type": "markdown",
   "id": "2f2cbd69",
   "metadata": {},
   "source": [
    "Collabrations: Abhinav Nippani, Adwait Patil"
   ]
  },
  {
   "cell_type": "markdown",
   "id": "2eb37574",
   "metadata": {},
   "source": [
    "### Problem 1"
   ]
  },
  {
   "cell_type": "markdown",
   "id": "d4601a48",
   "metadata": {},
   "source": [
    "### a)"
   ]
  },
  {
   "cell_type": "markdown",
   "id": "0f36e407",
   "metadata": {},
   "source": [
    "<ol>\n",
    "<li> While using lasso regression, one may minimize or regularize these coefficients to prevent overfitting and improve their performance across different datasets.  </li>\n",
    "<li> When the dataset exhibits strong multicollinearity or when you wish to automate feature selection and variable selection, this sort of regression is utilized.  </li>\n",
    "<li> If there are only a few relevant factors and the rest are close to zero, Lasso usually performs well. One clear benefit of lasso regression over ridge regression is that it generates models that are less complex and easier to understand because they only include a small number of variables. </li>\n",
    "<li> Ridge regression is a technique used to eliminate multicollinearity in data models. </li>\n",
    "<li> Ridge regression is the best technique when there are fewer observations than predictor variables. </li>\n",
    "<li> Even as small changes in the data used to fit the regression are considered, ridge regression model generally display consistency. When the independent variables are substantially multicollinear, however, ordinary least squares estimates may be quite unstable.  </li>\n",
    "<li> If there are multiple significant parameters that have roughly the same value, Ridge performs well. </li>\n",
    "<li> Since ridge regression never leads to a coefficient being zero but simply minimizes it, it reduces the complexity of a model without reducing the number of variables. </li>\n",
    "<li> According to me, Ridge regression is better as it uses all the variables instead of dropping the values and minimalizing them to zero. </li>\n",
    "</ol>"
   ]
  },
  {
   "cell_type": "markdown",
   "id": "209158fc",
   "metadata": {},
   "source": [
    "### b)"
   ]
  },
  {
   "cell_type": "markdown",
   "id": "4c696037",
   "metadata": {},
   "source": [
    "1. <b>P-value </b> is a number describing how likely it is that the data would have occurred under the null hypothesis of a statistical test. <p> <br>\n",
    "2. The bigger the p-value the more likely the observed sample proportion is resulted by chance and the less we would reject the null hypothesis, but the rejection depends on the significance level we set beforehand. If the p-value is smaller than the significance level we would be confident enough that the observed sample proportion is not led by chance and we would reject the null hypothesis. <p> <br>\n",
    "3. A <b> confidence interval </b> is defined as the range of values that are observed in a sample and for which we expect to find the value that accurately reflects the population. <p> <br>\n",
    "4. It is an interval statistic used to assess the uncertainty in an estimate. The importance of a confidence interval is its capacity to quantify the uncertainty of an estimate. It provides both a lower and upper bound and a likelihood. <p>"
   ]
  },
  {
   "cell_type": "markdown",
   "id": "d1dc8b61",
   "metadata": {},
   "source": [
    "### c)"
   ]
  },
  {
   "cell_type": "markdown",
   "id": "8d49bd45",
   "metadata": {},
   "source": [
    "1. The maximum likelihood estimation is the value that maximizes the probability of the observed data. The likelihood function is the probability that the observed values of the dependent variable may be predicted from the observed values of the independent variables. The likelihood varies from 0 to 1. <p> <br>\n",
    "2. In logistic regression, we want a model that, using the sigmoid curve's best fit, predicts whether the output class will be 0 or 1. To do this, we must determine the best value for the regression coefficients. You may determine how accurate your predictions are in relation to true values using a cost function. Therefore, a cost function that maximizes the likelihood of obtaining output values should exist. We shall use maximum likelihood estimate there. <p> <br>\n",
    "3. When using maximum likelihood estimation, it is necessary to first assume a probability distribution for the target variable (class label) before defining a likelihood function that determines the likelihood of actually observing the result given the input data and the model. Regression coefficients are selected to optimize the maximum likelihood function. <br>"
   ]
  },
  {
   "cell_type": "markdown",
   "id": "f3e117e3",
   "metadata": {},
   "source": [
    "### d)"
   ]
  },
  {
   "cell_type": "markdown",
   "id": "eff52573",
   "metadata": {},
   "source": [
    "<b> Explaination: </b> <br>\n",
    "1. <b>Variance </b> describes how the model varies when various parts of the training data set are used. Variance is the range of the model predictions that the machine learning function can make based on the given data. <p> <br>\n",
    "2. <b>Covariance matrix </b> captures how all the variables in a dataset may vary simultaneously and extends the idea of variance to multiple dimensions. A lot may be learned about the variables from the covariance matrix, which is a matrix that summarizes the variances and covariances of a collection of vectors. The variance of each vector is represented by the diagonal of the matrix. <p> <br>\n",
    "3. A <b> correlation coefficient </b> is a statistical measure of how well changes in one variable's value predict changes in another. When two variables are positively correlated, the value either increases or decreases simultaneously. When two variables are negatively correlated, the value of one increases as the value of the other decreases. <p> <br>\n",
    "4. Correlation coefficients are given values ranging from +1 to -1. A coefficient of 1 denotes a complete positive correlation, meaning that any change in one variable's value will cause the other to change in the same direction. A perfect negative correlation has a coefficient of -1, meaning that any change in one variable's value will cause the other to change in the opposite direction. Non-zero decimals are used to represent correlations with lower degrees. There is no obvious correlation between the variations of the variables, as shown by a coefficient of zero. <p> <br>"
   ]
  },
  {
   "cell_type": "markdown",
   "id": "2e76c4c9",
   "metadata": {},
   "source": [
    "<b> Difference: </b> <br>\n",
    "1. Variance measures the spread between all data points in a dataset. <br>\n",
    "2. Covariance finds whether two data points are directly or inversely proportional. <br>\n",
    "3. Correlation finds the direction of the relationship along with the degree of the relationship. <br>\n",
    "4. The value of covariance lies in the range of -∞ and +∞. <br>\n",
    "5. Correlation is limited to values between the range -1 and +1. <br>"
   ]
  },
  {
   "cell_type": "markdown",
   "id": "41468ea4",
   "metadata": {},
   "source": [
    "### e)"
   ]
  },
  {
   "cell_type": "markdown",
   "id": "58cf30ad",
   "metadata": {},
   "source": [
    "Here are the <b>assumptions</b> needed to perform Linear Discriminant Analysis(LDA). <br>\n",
    "1. All the predcitions are drawn from a normal or a multivariate Gaussian distribution with some correlation between them. <br>\n",
    "2. For p > 1, we assume that the observation of the $k^{th}$ class are drawn from a multivariate Gaussian distribution $N(\\mu_{k},\\sum)$ where $\\mu_{k}$ is the mean and $\\sum$ is the covariance matrix which is same for all the $k$ classes. <br>\n",
    "3. LDA uses Bayes classification to assign an observation to the class for which the result is largest: \n",
    "$\\delta_{k}(x) = x^{T}.(\\sum)^{-1}.\\mu_{k} - (1/2).\\mu_{k}^T.(\\sum)^{-1}.\\mu_{k} + log(\\pi_{k})$ <br> \n",
    "<p> Now, we need to estimate the values of the parameters: $\\mu_{1},\\mu_{2}, \\cdots, \\mu_{k} ; \\pi_{1},\\pi_{2}, \\cdots , \\pi_{k} and \\sum$, and substitute these values in the above equation to get the value of $\\delta_{k}(x)$ and classify to he class with the largest value of $\\delta_{k}(x)$. It shows that $\\delta_{k}(x)$ is a linear function of x. <br>\n",
    "<ul>\n",
    "    <li> $\\pi_{k}$ is the prior probability that an obervation belongs to the $k^{th}$ class. For instance, we have 3 classes (0,1,2) and the number of observation in class 0 is 40, class 1 is 30 and class 2 is 30. Then, $\\pi_{0} = 0.4$, $\\pi_{1} = 0.3$ and $\\pi_{2} = 0.2$. <br>\n",
    "    <li> The estimate for $\\mu_{k}$ is the average of all training observation from the $k^{th}$ class. <br>\n",
    "    <li> Bayes theorem in simple terms predicts the class of an observation as follows:\n",
    "$ P(Y=y|X=x) = \\frac{\\text{$\\pi_{k}.f_{k}(x)$}}{\\text{$\\sum_{l}^{k}.\\pi_{l}.f_{l}(x)$}} $  <br>\n",
    "<br>"
   ]
  },
  {
   "cell_type": "markdown",
   "id": "725a311a",
   "metadata": {},
   "source": [
    "### f)"
   ]
  },
  {
   "cell_type": "markdown",
   "id": "3fcf9bdc",
   "metadata": {},
   "source": [
    "<b> K Nearest Neighbor </b> is an algorithm that sorts incoming information or instances based on similarities between them and all previously stored examples. <br>\n",
    "A data point is often classified using the classification of its neighbors.<br>\n",
    "The $\"k\"$ parameter is dependent on feature similarity. For greater precision, a procedure known as parameter tuning entails selecting the appropriate value of $\"k\"$.<br> As a rule of thumb, we selects odd numbers as k.<br>\n",
    "KNN may perform better than linear models when there high bias and the size of the dataset is small. <br>\n",
    "<b> Advantages: </b> <br>\n",
    "1. Simple to implement <br>\n",
    "2. Flexible to feature choices <br>\n",
    "3. Naturally handles multi-class cases <br>\n",
    "4. Few hyperparameters to tune <br>\n",
    "\n",
    "<b> Disadvantages: </b> <br>\n",
    "1. Need to determine the value of parameter K (number of nearest neighbors) <br>\n",
    "2. Computation cost is quite high because we need to compute the distance of each query instance to all training samples. <br>\n",
    "3. Large computation cost during runtime if sample size is large. <br>\n",
    "\n",
    "<b> Liner Regression vs KNN : </b><br>\n",
    "\n",
    "1. KNN is a non -parametric model, whereas Linear Regression is a parametric model. <br>\n",
    "2. KNN is slow in real time as it have to keep track of all training data and find the neighbor nodes, whereas Linear Regression can easily extract output from the tuned θ coefficients. <br>\n",
    "3. KNN is better than linear regression when the data have high SNR. <br>\n",
    "\n",
    "<b> Logistic Regression vs KNN : </b><br>\n",
    "\n",
    "1. KNN is a non-parametric model, where Logistic Regression is a parametric model. <br>\n",
    "2. KNN is comparatively slower than Logistic Regression. <br>\n",
    "3. KNN supports non-linear solutions where Logistic Regression supports only linear solutions. <br>\n",
    "4. Logistic Regression can derive confidence level, whereas KNN can only output the labels. <br>\n"
   ]
  },
  {
   "cell_type": "markdown",
   "id": "2844f7bf",
   "metadata": {},
   "source": [
    "### Problem 2"
   ]
  },
  {
   "cell_type": "markdown",
   "id": "9d431de8",
   "metadata": {},
   "source": [
    "### a)"
   ]
  },
  {
   "cell_type": "code",
   "execution_count": 1,
   "id": "c30b10d9",
   "metadata": {},
   "outputs": [],
   "source": [
    "import pandas as pd\n",
    "import numpy as np\n",
    "from sklearn.datasets import load_wine\n",
    "import matplotlib.pyplot as plt\n",
    "import seaborn as sns\n",
    "from sklearn.linear_model import LinearRegression\n",
    "from sklearn.model_selection import train_test_split\n",
    "from sklearn.utils import resample\n",
    "from scipy import stats\n",
    "from sklearn.linear_model import LogisticRegression\n",
    "from sklearn.discriminant_analysis import LinearDiscriminantAnalysis\n",
    "from sklearn.neighbors import KNeighborsClassifier\n",
    "from sklearn.metrics import classification_report\n",
    "from sklearn.metrics import confusion_matrix\n",
    "from sklearn.metrics import log_loss\n",
    "from sklearn.preprocessing import StandardScaler"
   ]
  },
  {
   "cell_type": "code",
   "execution_count": 2,
   "id": "450b5b01",
   "metadata": {},
   "outputs": [],
   "source": [
    "wine = load_wine()"
   ]
  },
  {
   "cell_type": "code",
   "execution_count": 3,
   "id": "ea426bbd",
   "metadata": {},
   "outputs": [],
   "source": [
    "wine_data = pd.DataFrame(data= np.c_[wine['data'], wine['target']],columns= wine['feature_names'] + ['target'])"
   ]
  },
  {
   "cell_type": "code",
   "execution_count": 4,
   "id": "350b5c0a",
   "metadata": {},
   "outputs": [
    {
     "data": {
      "text/html": [
       "<div>\n",
       "<style scoped>\n",
       "    .dataframe tbody tr th:only-of-type {\n",
       "        vertical-align: middle;\n",
       "    }\n",
       "\n",
       "    .dataframe tbody tr th {\n",
       "        vertical-align: top;\n",
       "    }\n",
       "\n",
       "    .dataframe thead th {\n",
       "        text-align: right;\n",
       "    }\n",
       "</style>\n",
       "<table border=\"1\" class=\"dataframe\">\n",
       "  <thead>\n",
       "    <tr style=\"text-align: right;\">\n",
       "      <th></th>\n",
       "      <th>alcohol</th>\n",
       "      <th>malic_acid</th>\n",
       "      <th>ash</th>\n",
       "      <th>alcalinity_of_ash</th>\n",
       "      <th>magnesium</th>\n",
       "      <th>total_phenols</th>\n",
       "      <th>flavanoids</th>\n",
       "      <th>nonflavanoid_phenols</th>\n",
       "      <th>proanthocyanins</th>\n",
       "      <th>color_intensity</th>\n",
       "      <th>hue</th>\n",
       "      <th>od280/od315_of_diluted_wines</th>\n",
       "      <th>proline</th>\n",
       "      <th>target</th>\n",
       "    </tr>\n",
       "  </thead>\n",
       "  <tbody>\n",
       "    <tr>\n",
       "      <th>0</th>\n",
       "      <td>14.23</td>\n",
       "      <td>1.71</td>\n",
       "      <td>2.43</td>\n",
       "      <td>15.6</td>\n",
       "      <td>127.0</td>\n",
       "      <td>2.80</td>\n",
       "      <td>3.06</td>\n",
       "      <td>0.28</td>\n",
       "      <td>2.29</td>\n",
       "      <td>5.64</td>\n",
       "      <td>1.04</td>\n",
       "      <td>3.92</td>\n",
       "      <td>1065.0</td>\n",
       "      <td>0.0</td>\n",
       "    </tr>\n",
       "    <tr>\n",
       "      <th>1</th>\n",
       "      <td>13.20</td>\n",
       "      <td>1.78</td>\n",
       "      <td>2.14</td>\n",
       "      <td>11.2</td>\n",
       "      <td>100.0</td>\n",
       "      <td>2.65</td>\n",
       "      <td>2.76</td>\n",
       "      <td>0.26</td>\n",
       "      <td>1.28</td>\n",
       "      <td>4.38</td>\n",
       "      <td>1.05</td>\n",
       "      <td>3.40</td>\n",
       "      <td>1050.0</td>\n",
       "      <td>0.0</td>\n",
       "    </tr>\n",
       "    <tr>\n",
       "      <th>2</th>\n",
       "      <td>13.16</td>\n",
       "      <td>2.36</td>\n",
       "      <td>2.67</td>\n",
       "      <td>18.6</td>\n",
       "      <td>101.0</td>\n",
       "      <td>2.80</td>\n",
       "      <td>3.24</td>\n",
       "      <td>0.30</td>\n",
       "      <td>2.81</td>\n",
       "      <td>5.68</td>\n",
       "      <td>1.03</td>\n",
       "      <td>3.17</td>\n",
       "      <td>1185.0</td>\n",
       "      <td>0.0</td>\n",
       "    </tr>\n",
       "    <tr>\n",
       "      <th>3</th>\n",
       "      <td>14.37</td>\n",
       "      <td>1.95</td>\n",
       "      <td>2.50</td>\n",
       "      <td>16.8</td>\n",
       "      <td>113.0</td>\n",
       "      <td>3.85</td>\n",
       "      <td>3.49</td>\n",
       "      <td>0.24</td>\n",
       "      <td>2.18</td>\n",
       "      <td>7.80</td>\n",
       "      <td>0.86</td>\n",
       "      <td>3.45</td>\n",
       "      <td>1480.0</td>\n",
       "      <td>0.0</td>\n",
       "    </tr>\n",
       "    <tr>\n",
       "      <th>4</th>\n",
       "      <td>13.24</td>\n",
       "      <td>2.59</td>\n",
       "      <td>2.87</td>\n",
       "      <td>21.0</td>\n",
       "      <td>118.0</td>\n",
       "      <td>2.80</td>\n",
       "      <td>2.69</td>\n",
       "      <td>0.39</td>\n",
       "      <td>1.82</td>\n",
       "      <td>4.32</td>\n",
       "      <td>1.04</td>\n",
       "      <td>2.93</td>\n",
       "      <td>735.0</td>\n",
       "      <td>0.0</td>\n",
       "    </tr>\n",
       "    <tr>\n",
       "      <th>...</th>\n",
       "      <td>...</td>\n",
       "      <td>...</td>\n",
       "      <td>...</td>\n",
       "      <td>...</td>\n",
       "      <td>...</td>\n",
       "      <td>...</td>\n",
       "      <td>...</td>\n",
       "      <td>...</td>\n",
       "      <td>...</td>\n",
       "      <td>...</td>\n",
       "      <td>...</td>\n",
       "      <td>...</td>\n",
       "      <td>...</td>\n",
       "      <td>...</td>\n",
       "    </tr>\n",
       "    <tr>\n",
       "      <th>173</th>\n",
       "      <td>13.71</td>\n",
       "      <td>5.65</td>\n",
       "      <td>2.45</td>\n",
       "      <td>20.5</td>\n",
       "      <td>95.0</td>\n",
       "      <td>1.68</td>\n",
       "      <td>0.61</td>\n",
       "      <td>0.52</td>\n",
       "      <td>1.06</td>\n",
       "      <td>7.70</td>\n",
       "      <td>0.64</td>\n",
       "      <td>1.74</td>\n",
       "      <td>740.0</td>\n",
       "      <td>2.0</td>\n",
       "    </tr>\n",
       "    <tr>\n",
       "      <th>174</th>\n",
       "      <td>13.40</td>\n",
       "      <td>3.91</td>\n",
       "      <td>2.48</td>\n",
       "      <td>23.0</td>\n",
       "      <td>102.0</td>\n",
       "      <td>1.80</td>\n",
       "      <td>0.75</td>\n",
       "      <td>0.43</td>\n",
       "      <td>1.41</td>\n",
       "      <td>7.30</td>\n",
       "      <td>0.70</td>\n",
       "      <td>1.56</td>\n",
       "      <td>750.0</td>\n",
       "      <td>2.0</td>\n",
       "    </tr>\n",
       "    <tr>\n",
       "      <th>175</th>\n",
       "      <td>13.27</td>\n",
       "      <td>4.28</td>\n",
       "      <td>2.26</td>\n",
       "      <td>20.0</td>\n",
       "      <td>120.0</td>\n",
       "      <td>1.59</td>\n",
       "      <td>0.69</td>\n",
       "      <td>0.43</td>\n",
       "      <td>1.35</td>\n",
       "      <td>10.20</td>\n",
       "      <td>0.59</td>\n",
       "      <td>1.56</td>\n",
       "      <td>835.0</td>\n",
       "      <td>2.0</td>\n",
       "    </tr>\n",
       "    <tr>\n",
       "      <th>176</th>\n",
       "      <td>13.17</td>\n",
       "      <td>2.59</td>\n",
       "      <td>2.37</td>\n",
       "      <td>20.0</td>\n",
       "      <td>120.0</td>\n",
       "      <td>1.65</td>\n",
       "      <td>0.68</td>\n",
       "      <td>0.53</td>\n",
       "      <td>1.46</td>\n",
       "      <td>9.30</td>\n",
       "      <td>0.60</td>\n",
       "      <td>1.62</td>\n",
       "      <td>840.0</td>\n",
       "      <td>2.0</td>\n",
       "    </tr>\n",
       "    <tr>\n",
       "      <th>177</th>\n",
       "      <td>14.13</td>\n",
       "      <td>4.10</td>\n",
       "      <td>2.74</td>\n",
       "      <td>24.5</td>\n",
       "      <td>96.0</td>\n",
       "      <td>2.05</td>\n",
       "      <td>0.76</td>\n",
       "      <td>0.56</td>\n",
       "      <td>1.35</td>\n",
       "      <td>9.20</td>\n",
       "      <td>0.61</td>\n",
       "      <td>1.60</td>\n",
       "      <td>560.0</td>\n",
       "      <td>2.0</td>\n",
       "    </tr>\n",
       "  </tbody>\n",
       "</table>\n",
       "<p>178 rows × 14 columns</p>\n",
       "</div>"
      ],
      "text/plain": [
       "     alcohol  malic_acid   ash  alcalinity_of_ash  magnesium  total_phenols  \\\n",
       "0      14.23        1.71  2.43               15.6      127.0           2.80   \n",
       "1      13.20        1.78  2.14               11.2      100.0           2.65   \n",
       "2      13.16        2.36  2.67               18.6      101.0           2.80   \n",
       "3      14.37        1.95  2.50               16.8      113.0           3.85   \n",
       "4      13.24        2.59  2.87               21.0      118.0           2.80   \n",
       "..       ...         ...   ...                ...        ...            ...   \n",
       "173    13.71        5.65  2.45               20.5       95.0           1.68   \n",
       "174    13.40        3.91  2.48               23.0      102.0           1.80   \n",
       "175    13.27        4.28  2.26               20.0      120.0           1.59   \n",
       "176    13.17        2.59  2.37               20.0      120.0           1.65   \n",
       "177    14.13        4.10  2.74               24.5       96.0           2.05   \n",
       "\n",
       "     flavanoids  nonflavanoid_phenols  proanthocyanins  color_intensity   hue  \\\n",
       "0          3.06                  0.28             2.29             5.64  1.04   \n",
       "1          2.76                  0.26             1.28             4.38  1.05   \n",
       "2          3.24                  0.30             2.81             5.68  1.03   \n",
       "3          3.49                  0.24             2.18             7.80  0.86   \n",
       "4          2.69                  0.39             1.82             4.32  1.04   \n",
       "..          ...                   ...              ...              ...   ...   \n",
       "173        0.61                  0.52             1.06             7.70  0.64   \n",
       "174        0.75                  0.43             1.41             7.30  0.70   \n",
       "175        0.69                  0.43             1.35            10.20  0.59   \n",
       "176        0.68                  0.53             1.46             9.30  0.60   \n",
       "177        0.76                  0.56             1.35             9.20  0.61   \n",
       "\n",
       "     od280/od315_of_diluted_wines  proline  target  \n",
       "0                            3.92   1065.0     0.0  \n",
       "1                            3.40   1050.0     0.0  \n",
       "2                            3.17   1185.0     0.0  \n",
       "3                            3.45   1480.0     0.0  \n",
       "4                            2.93    735.0     0.0  \n",
       "..                            ...      ...     ...  \n",
       "173                          1.74    740.0     2.0  \n",
       "174                          1.56    750.0     2.0  \n",
       "175                          1.56    835.0     2.0  \n",
       "176                          1.62    840.0     2.0  \n",
       "177                          1.60    560.0     2.0  \n",
       "\n",
       "[178 rows x 14 columns]"
      ]
     },
     "execution_count": 4,
     "metadata": {},
     "output_type": "execute_result"
    }
   ],
   "source": [
    "wine_data"
   ]
  },
  {
   "cell_type": "markdown",
   "id": "150ed1b2",
   "metadata": {},
   "source": [
    "### b)"
   ]
  },
  {
   "cell_type": "code",
   "execution_count": 5,
   "id": "c853d06d",
   "metadata": {},
   "outputs": [
    {
     "data": {
      "text/plain": [
       "<AxesSubplot:>"
      ]
     },
     "execution_count": 5,
     "metadata": {},
     "output_type": "execute_result"
    },
    {
     "data": {
      "image/png": "[encoded data removed]",
      "text/plain": [
       "<Figure size 1080x1080 with 2 Axes>"
      ]
     },
     "metadata": {
      "needs_background": "light"
     },
     "output_type": "display_data"
    }
   ],
   "source": [
    "plt.figure(figsize=(15,15))\n",
    "sns.heatmap(wine_data.corr(),annot = True)"
   ]
  },
  {
   "cell_type": "markdown",
   "id": "7aa34292",
   "metadata": {},
   "source": [
    "<b> Observation:</b> <br>\n",
    "The above figure shows the correlation between each feature. The features having value > 0.5 are the most likely to be useful for predciting target.<br> \n",
    "These values are namely: <br>\n",
    "1. alcalinity_of_ash <br>\n",
    "2. total_phenols <br>\n",
    "3. flavanoids <br>\n",
    "4. proanthocyanins <br>\n",
    "5. hue <br>\n",
    "6. od280/od315_of_diluted_wines <br>\n",
    "7. proline <br>"
   ]
  },
  {
   "cell_type": "code",
   "execution_count": 6,
   "id": "5e7c4d04",
   "metadata": {},
   "outputs": [],
   "source": [
    "X = wine_data.drop(\"target\", axis=1)\n",
    "y = wine_data[[\"target\"]]"
   ]
  },
  {
   "cell_type": "code",
   "execution_count": 7,
   "id": "cc9d73eb",
   "metadata": {},
   "outputs": [
    {
     "data": {
      "image/png": "[encoded data removed]",
      "text/plain": [
       "<Figure size 432x288 with 1 Axes>"
      ]
     },
     "metadata": {
      "needs_background": "light"
     },
     "output_type": "display_data"
    }
   ],
   "source": [
    "ax = wine_data.plot.scatter(x='target', y='alcohol')"
   ]
  },
  {
   "cell_type": "code",
   "execution_count": 8,
   "id": "a0a2cbd5",
   "metadata": {},
   "outputs": [
    {
     "data": {
      "image/png": "[encoded data removed]",
      "text/plain": [
       "<Figure size 432x288 with 1 Axes>"
      ]
     },
     "metadata": {
      "needs_background": "light"
     },
     "output_type": "display_data"
    }
   ],
   "source": [
    "ax = wine_data.plot.scatter(x='target', y='malic_acid')"
   ]
  },
  {
   "cell_type": "code",
   "execution_count": 9,
   "id": "57195fb6",
   "metadata": {},
   "outputs": [
    {
     "data": {
      "image/png": "[encoded data removed]",
      "text/plain": [
       "<Figure size 432x288 with 1 Axes>"
      ]
     },
     "metadata": {
      "needs_background": "light"
     },
     "output_type": "display_data"
    }
   ],
   "source": [
    "ax = wine_data.plot.scatter(x='target', y='ash')"
   ]
  },
  {
   "cell_type": "code",
   "execution_count": 10,
   "id": "dccce916",
   "metadata": {},
   "outputs": [
    {
     "data": {
      "image/png": "[encoded data removed]",
      "text/plain": [
       "<Figure size 432x288 with 1 Axes>"
      ]
     },
     "metadata": {
      "needs_background": "light"
     },
     "output_type": "display_data"
    }
   ],
   "source": [
    "ax = wine_data.plot.scatter(x='target', y='alcalinity_of_ash')"
   ]
  },
  {
   "cell_type": "code",
   "execution_count": 11,
   "id": "1068ff3e",
   "metadata": {},
   "outputs": [
    {
     "data": {
      "image/png": "[encoded data removed]",
      "text/plain": [
       "<Figure size 432x288 with 1 Axes>"
      ]
     },
     "metadata": {
      "needs_background": "light"
     },
     "output_type": "display_data"
    }
   ],
   "source": [
    "ax = wine_data.plot.scatter(x='target', y='magnesium')"
   ]
  },
  {
   "cell_type": "code",
   "execution_count": 12,
   "id": "2b916617",
   "metadata": {},
   "outputs": [
    {
     "data": {
      "image/png": "[encoded data removed]",
      "text/plain": [
       "<Figure size 432x288 with 1 Axes>"
      ]
     },
     "metadata": {
      "needs_background": "light"
     },
     "output_type": "display_data"
    }
   ],
   "source": [
    "ax = wine_data.plot.scatter(x='target', y='total_phenols')"
   ]
  },
  {
   "cell_type": "code",
   "execution_count": 13,
   "id": "bec17f6e",
   "metadata": {},
   "outputs": [
    {
     "data": {
      "image/png": "[encoded data removed]",
      "text/plain": [
       "<Figure size 432x288 with 1 Axes>"
      ]
     },
     "metadata": {
      "needs_background": "light"
     },
     "output_type": "display_data"
    }
   ],
   "source": [
    "ax = wine_data.plot.scatter(x='target', y='flavanoids')"
   ]
  },
  {
   "cell_type": "code",
   "execution_count": 14,
   "id": "3b9b79fd",
   "metadata": {},
   "outputs": [
    {
     "data": {
      "image/png": "[encoded data removed]",
      "text/plain": [
       "<Figure size 432x288 with 1 Axes>"
      ]
     },
     "metadata": {
      "needs_background": "light"
     },
     "output_type": "display_data"
    }
   ],
   "source": [
    "ax = wine_data.plot.scatter(x='target', y='nonflavanoid_phenols')"
   ]
  },
  {
   "cell_type": "code",
   "execution_count": 15,
   "id": "a0878e67",
   "metadata": {},
   "outputs": [
    {
     "data": {
      "image/png": "[encoded data removed]",
      "text/plain": [
       "<Figure size 432x288 with 1 Axes>"
      ]
     },
     "metadata": {
      "needs_background": "light"
     },
     "output_type": "display_data"
    }
   ],
   "source": [
    "ax = wine_data.plot.scatter(x='target', y='proanthocyanins')"
   ]
  },
  {
   "cell_type": "code",
   "execution_count": 16,
   "id": "070ae683",
   "metadata": {},
   "outputs": [
    {
     "data": {
      "image/png": "[encoded data removed]",
      "text/plain": [
       "<Figure size 432x288 with 1 Axes>"
      ]
     },
     "metadata": {
      "needs_background": "light"
     },
     "output_type": "display_data"
    }
   ],
   "source": [
    "ax = wine_data.plot.scatter(x='target', y='color_intensity')"
   ]
  },
  {
   "cell_type": "code",
   "execution_count": 17,
   "id": "e3f32194",
   "metadata": {},
   "outputs": [
    {
     "data": {
      "image/png": "[encoded data removed]",
      "text/plain": [
       "<Figure size 432x288 with 1 Axes>"
      ]
     },
     "metadata": {
      "needs_background": "light"
     },
     "output_type": "display_data"
    }
   ],
   "source": [
    "ax = wine_data.plot.scatter(x='target', y='hue')"
   ]
  },
  {
   "cell_type": "code",
   "execution_count": 18,
   "id": "b4dc2acf",
   "metadata": {},
   "outputs": [
    {
     "data": {
      "image/png": "[encoded data removed]",
      "text/plain": [
       "<Figure size 432x288 with 1 Axes>"
      ]
     },
     "metadata": {
      "needs_background": "light"
     },
     "output_type": "display_data"
    }
   ],
   "source": [
    "ax = wine_data.plot.scatter(x='target', y='od280/od315_of_diluted_wines')"
   ]
  },
  {
   "cell_type": "code",
   "execution_count": 19,
   "id": "67f57f6c",
   "metadata": {},
   "outputs": [
    {
     "data": {
      "image/png": "[encoded data removed]",
      "text/plain": [
       "<Figure size 432x288 with 1 Axes>"
      ]
     },
     "metadata": {
      "needs_background": "light"
     },
     "output_type": "display_data"
    }
   ],
   "source": [
    "ax = wine_data.plot.scatter(x='target', y='proanthocyanins')"
   ]
  },
  {
   "cell_type": "code",
   "execution_count": 20,
   "id": "1b59525e",
   "metadata": {},
   "outputs": [
    {
     "data": {
      "text/plain": [
       "<AxesSubplot:xlabel='target', ylabel='alcohol'>"
      ]
     },
     "execution_count": 20,
     "metadata": {},
     "output_type": "execute_result"
    },
    {
     "data": {
      "image/png": "[encoded data removed]",
      "text/plain": [
       "<Figure size 432x288 with 1 Axes>"
      ]
     },
     "metadata": {
      "needs_background": "light"
     },
     "output_type": "display_data"
    }
   ],
   "source": [
    "sns.boxplot(data=wine_data, x=\"target\", y=\"alcohol\")"
   ]
  },
  {
   "cell_type": "code",
   "execution_count": 21,
   "id": "5a707c49",
   "metadata": {},
   "outputs": [
    {
     "data": {
      "text/plain": [
       "<AxesSubplot:xlabel='target', ylabel='malic_acid'>"
      ]
     },
     "execution_count": 21,
     "metadata": {},
     "output_type": "execute_result"
    },
    {
     "data": {
      "image/png": "[encoded data removed]",
      "text/plain": [
       "<Figure size 432x288 with 1 Axes>"
      ]
     },
     "metadata": {
      "needs_background": "light"
     },
     "output_type": "display_data"
    }
   ],
   "source": [
    "sns.boxplot(data=wine_data, x=\"target\", y=\"malic_acid\")"
   ]
  },
  {
   "cell_type": "code",
   "execution_count": 22,
   "id": "902df5b3",
   "metadata": {},
   "outputs": [
    {
     "data": {
      "text/plain": [
       "<AxesSubplot:xlabel='target', ylabel='ash'>"
      ]
     },
     "execution_count": 22,
     "metadata": {},
     "output_type": "execute_result"
    },
    {
     "data": {
      "image/png": "[encoded data removed]",
      "text/plain": [
       "<Figure size 432x288 with 1 Axes>"
      ]
     },
     "metadata": {
      "needs_background": "light"
     },
     "output_type": "display_data"
    }
   ],
   "source": [
    "sns.boxplot(data=wine_data, x=\"target\", y=\"ash\")"
   ]
  },
  {
   "cell_type": "code",
   "execution_count": 23,
   "id": "765f420a",
   "metadata": {},
   "outputs": [
    {
     "data": {
      "text/plain": [
       "<AxesSubplot:xlabel='target', ylabel='alcalinity_of_ash'>"
      ]
     },
     "execution_count": 23,
     "metadata": {},
     "output_type": "execute_result"
    },
    {
     "data": {
      "image/png": "[encoded data removed]",
      "text/plain": [
       "<Figure size 432x288 with 1 Axes>"
      ]
     },
     "metadata": {
      "needs_background": "light"
     },
     "output_type": "display_data"
    }
   ],
   "source": [
    "sns.boxplot(data=wine_data, x=\"target\", y=\"alcalinity_of_ash\")"
   ]
  },
  {
   "cell_type": "code",
   "execution_count": 24,
   "id": "45113303",
   "metadata": {},
   "outputs": [
    {
     "data": {
      "text/plain": [
       "<AxesSubplot:xlabel='target', ylabel='magnesium'>"
      ]
     },
     "execution_count": 24,
     "metadata": {},
     "output_type": "execute_result"
    },
    {
     "data": {
      "image/png": "[encoded data removed]",
      "text/plain": [
       "<Figure size 432x288 with 1 Axes>"
      ]
     },
     "metadata": {
      "needs_background": "light"
     },
     "output_type": "display_data"
    }
   ],
   "source": [
    "sns.boxplot(data=wine_data, x=\"target\", y=\"magnesium\")"
   ]
  },
  {
   "cell_type": "code",
   "execution_count": 25,
   "id": "5785ac69",
   "metadata": {},
   "outputs": [
    {
     "data": {
      "text/plain": [
       "<AxesSubplot:xlabel='target', ylabel='total_phenols'>"
      ]
     },
     "execution_count": 25,
     "metadata": {},
     "output_type": "execute_result"
    },
    {
     "data": {
      "image/png": "[encoded data removed]",
      "text/plain": [
       "<Figure size 432x288 with 1 Axes>"
      ]
     },
     "metadata": {
      "needs_background": "light"
     },
     "output_type": "display_data"
    }
   ],
   "source": [
    "sns.boxplot(data=wine_data, x=\"target\", y=\"total_phenols\")"
   ]
  },
  {
   "cell_type": "code",
   "execution_count": 26,
   "id": "28f3f99a",
   "metadata": {},
   "outputs": [
    {
     "data": {
      "text/plain": [
       "<AxesSubplot:xlabel='target', ylabel='flavanoids'>"
      ]
     },
     "execution_count": 26,
     "metadata": {},
     "output_type": "execute_result"
    },
    {
     "data": {
      "image/png": "[encoded data removed]",
      "text/plain": [
       "<Figure size 432x288 with 1 Axes>"
      ]
     },
     "metadata": {
      "needs_background": "light"
     },
     "output_type": "display_data"
    }
   ],
   "source": [
    "sns.boxplot(data=wine_data, x=\"target\", y=\"flavanoids\")"
   ]
  },
  {
   "cell_type": "code",
   "execution_count": 27,
   "id": "c844b3ac",
   "metadata": {},
   "outputs": [
    {
     "data": {
      "text/plain": [
       "<AxesSubplot:xlabel='target', ylabel='nonflavanoid_phenols'>"
      ]
     },
     "execution_count": 27,
     "metadata": {},
     "output_type": "execute_result"
    },
    {
     "data": {
      "image/png": "[encoded data removed]",
      "text/plain": [
       "<Figure size 432x288 with 1 Axes>"
      ]
     },
     "metadata": {
      "needs_background": "light"
     },
     "output_type": "display_data"
    }
   ],
   "source": [
    "sns.boxplot(data=wine_data, x=\"target\", y=\"nonflavanoid_phenols\")"
   ]
  },
  {
   "cell_type": "code",
   "execution_count": 28,
   "id": "bb1ef5b0",
   "metadata": {},
   "outputs": [
    {
     "data": {
      "text/plain": [
       "<AxesSubplot:xlabel='target', ylabel='proanthocyanins'>"
      ]
     },
     "execution_count": 28,
     "metadata": {},
     "output_type": "execute_result"
    },
    {
     "data": {
      "image/png": "[encoded data removed]",
      "text/plain": [
       "<Figure size 432x288 with 1 Axes>"
      ]
     },
     "metadata": {
      "needs_background": "light"
     },
     "output_type": "display_data"
    }
   ],
   "source": [
    "sns.boxplot(data=wine_data, x=\"target\", y=\"proanthocyanins\")"
   ]
  },
  {
   "cell_type": "code",
   "execution_count": 29,
   "id": "18c30d38",
   "metadata": {},
   "outputs": [
    {
     "data": {
      "text/plain": [
       "<AxesSubplot:xlabel='target', ylabel='hue'>"
      ]
     },
     "execution_count": 29,
     "metadata": {},
     "output_type": "execute_result"
    },
    {
     "data": {
      "image/png": "[encoded data removed]",
      "text/plain": [
       "<Figure size 432x288 with 1 Axes>"
      ]
     },
     "metadata": {
      "needs_background": "light"
     },
     "output_type": "display_data"
    }
   ],
   "source": [
    "sns.boxplot(data=wine_data, x=\"target\", y=\"hue\")"
   ]
  },
  {
   "cell_type": "code",
   "execution_count": 30,
   "id": "c15a49f9",
   "metadata": {},
   "outputs": [
    {
     "data": {
      "text/plain": [
       "<AxesSubplot:xlabel='target', ylabel='od280/od315_of_diluted_wines'>"
      ]
     },
     "execution_count": 30,
     "metadata": {},
     "output_type": "execute_result"
    },
    {
     "data": {
      "image/png": "[encoded data removed]",
      "text/plain": [
       "<Figure size 432x288 with 1 Axes>"
      ]
     },
     "metadata": {
      "needs_background": "light"
     },
     "output_type": "display_data"
    }
   ],
   "source": [
    "sns.boxplot(data=wine_data, x=\"target\", y=\"od280/od315_of_diluted_wines\")"
   ]
  },
  {
   "cell_type": "code",
   "execution_count": 31,
   "id": "f9c8272a",
   "metadata": {},
   "outputs": [
    {
     "data": {
      "text/plain": [
       "<AxesSubplot:xlabel='target', ylabel='proline'>"
      ]
     },
     "execution_count": 31,
     "metadata": {},
     "output_type": "execute_result"
    },
    {
     "data": {
      "image/png": "[encoded data removed]",
      "text/plain": [
       "<Figure size 432x288 with 1 Axes>"
      ]
     },
     "metadata": {
      "needs_background": "light"
     },
     "output_type": "display_data"
    }
   ],
   "source": [
    "sns.boxplot(data=wine_data, x=\"target\", y=\"proline\")"
   ]
  },
  {
   "cell_type": "markdown",
   "id": "cbcfbd6e",
   "metadata": {},
   "source": [
    "<b> Observation: </b> <br>\n",
    "From the above scatterplots and boxplots we can get an idea about the dataset, how well it is spread across the classes. <br>\n",
    "It also enables to identify if the data is skewed towards one or more classes. <br>\n",
    "We can also deduce that the plots that are more heavily biased towards one or more classes will have the most impact on the classification model.<br>\n",
    "The following seem most likely to be useful in predicting the target: <br>\n",
    "1. alcohol <br>\n",
    "2. total_phenols <br>\n",
    "3. flavanoids <br>\n",
    "4. od280/od315_of_diluted_wines <br>\n",
    "5. hue <br>\n",
    "6. proanthocyanins <br>"
   ]
  },
  {
   "cell_type": "markdown",
   "id": "54e23bfc",
   "metadata": {},
   "source": [
    "### c)"
   ]
  },
  {
   "cell_type": "code",
   "execution_count": 32,
   "id": "cbb19094",
   "metadata": {},
   "outputs": [],
   "source": [
    "# Here we are using random_state = 101, to ensure that same results are obtained everytime we run the code\n",
    "X_train, X_test, y_train, y_test = train_test_split(X, y, test_size = 0.2, random_state = 101)"
   ]
  },
  {
   "cell_type": "markdown",
   "id": "5374b4c5",
   "metadata": {},
   "source": [
    "### d)"
   ]
  },
  {
   "cell_type": "code",
   "execution_count": 33,
   "id": "dbcd2de0",
   "metadata": {},
   "outputs": [
    {
     "name": "stdout",
     "output_type": "stream",
     "text": [
      "[[ 0.25468356 -0.44777631 -0.74860446 ...  0.39030345  1.05926423\n",
      "   0.98740899]\n",
      " [-1.43732049 -0.14038771  1.41273406 ... -0.04120613 -0.50214256\n",
      "  -0.36900848]\n",
      " [-1.10865783 -0.17655107 -2.33358604 ...  1.33962453  0.456616\n",
      "  -0.09772499]\n",
      " ...\n",
      " [-0.32960561 -0.42065379 -0.5324706  ...  0.86496399  0.70315391\n",
      "  -0.08495871]\n",
      " [ 1.37457113 -0.71900154 -0.1002029  ...  0.90811495  0.26486429\n",
      "   1.7214702 ]\n",
      " [-0.63392289 -0.68283818 -0.5324706  ...  0.86496399  0.00462982\n",
      "   0.62676152]]\n"
     ]
    }
   ],
   "source": [
    "# Scaling the data to get minimal error\n",
    "scaler = StandardScaler()\n",
    "scaled = scaler.fit_transform(X_train)\n",
    "print(scaled)"
   ]
  },
  {
   "cell_type": "code",
   "execution_count": 34,
   "id": "395b5023",
   "metadata": {},
   "outputs": [
    {
     "name": "stdout",
     "output_type": "stream",
     "text": [
      "[[ 7.20931909e-02 -5.65307244e-01  7.28310198e-01 -4.27046962e-01\n",
      "  -1.26422733e-01  2.32910361e-01  3.97583835e-01 -5.29922593e-01\n",
      "  -2.87323159e-01 -3.49881756e-01  6.92360161e-01 -1.59728790e-01\n",
      "   1.16294536e+00]\n",
      " [ 8.38972722e-01 -4.02572103e-01  4.38863337e-02 -6.59498016e-01\n",
      "   2.86267568e-01  1.85752655e-01  6.56377827e-01  4.85899947e-01\n",
      "   6.09191805e-01 -5.27973345e-01  1.16702070e+00  3.33347040e-01\n",
      "   7.95914754e-01]\n",
      " [ 4.00755847e-01  8.72186500e-01  1.15930951e-01  5.89926398e-01\n",
      "  -5.39113033e-01 -5.84489880e-01 -1.26466988e+00  7.20320534e-01\n",
      "  -6.08715315e-01  1.46144002e+00 -1.76724445e+00 -1.37872181e+00\n",
      "  -2.89219221e-01]\n",
      " [ 1.08242654e+00 -3.48327056e-01  8.72399432e-01 -1.29873841e+00\n",
      "   7.99224174e-02  1.49044919e+00  1.52234234e+00 -1.46760494e+00\n",
      "   1.52476635e-01  1.62674526e-01 -3.43262833e-01  1.27840905e+00\n",
      "   1.13102966e+00]\n",
      " [ 2.91201628e-01  9.26431547e-01 -2.44292135e-01 -2.81765054e-01\n",
      "  -1.26422733e-01 -7.88839940e-01 -1.19499457e+00  1.97056366e+00\n",
      "   4.40038038e-01  2.37361645e+00 -1.72409349e+00 -1.52938387e+00\n",
      "  -2.09429958e-01]\n",
      " [-1.40080242e+00  5.55757059e-01 -4.24403678e-01 -4.27046962e-01\n",
      "   8.36521302e-01 -9.14593824e-01 -7.07267436e-01  5.64040143e-01\n",
      "  -1.11617661e+00 -1.04487332e+00  1.94483191e-03 -1.46032239e-01\n",
      "  -7.67954799e-01]\n",
      " [ 7.17245813e-01  2.75490984e-01  1.23262252e+00  1.46161785e+00\n",
      "   3.55049284e-01 -1.18182083e+00 -1.18504096e+00  2.51479361e-01\n",
      "  -1.18169392e-01  1.56568876e+00 -9.47376245e-01 -1.13218390e+00\n",
      "   2.99378305e-02]\n",
      " [ 9.24181559e-01 -4.92980514e-01  2.23997877e-01 -1.00817460e+00\n",
      "  -7.45458184e-01  4.68698893e-01  7.26053132e-01 -5.29922593e-01\n",
      "   3.38545778e-01  2.36517380e-01  8.21813035e-01  3.74436693e-01\n",
      "   1.84913302e+00]\n",
      " [-1.68077431e+00 -8.36532478e-01  1.26864483e+00  1.54080672e-01\n",
      "  -4.01549600e-01  6.88768188e-01  8.85310973e-01 -5.29922593e-01\n",
      "   1.48879139e+00 -1.04487332e+00  1.94483191e-03  8.67512523e-01\n",
      "  -1.93472106e-01]\n",
      " [-7.55649795e-01 -1.08967603e+00 -8.92693691e-01 -2.81765054e-01\n",
      "  -8.14239900e-01  1.91486855e+00  1.71146102e+00 -9.20623570e-01\n",
      "   5.75361051e-01 -2.41289323e-01  3.47152496e-01  1.96381532e-01\n",
      "  -2.57303516e-01]\n",
      " [ 7.17245813e-01 -5.56266403e-01  4.38863337e-02 -1.07426763e-01\n",
      "   4.23831001e-01  8.77399013e-01  1.15405858e+00 -1.07690396e+00\n",
      "   5.75361051e-01  8.01198030e-01  5.62907287e-01  3.47043591e-01\n",
      "   2.47148928e+00]\n",
      " [-7.55649795e-01 -9.63104254e-01  7.64332506e-01 -3.97990580e-01\n",
      "  -1.26422733e-01  1.85752655e-01  6.16563367e-01  9.51989705e-02\n",
      "   7.95260948e-01 -1.97852350e-01  9.94416867e-01 -4.47356358e-01\n",
      "  -1.99855247e-01]\n",
      " [ 3.03374319e-01  1.54120875e+00 -2.08269827e-01 -5.72328871e-01\n",
      "   2.17485851e-01  5.31575834e-01  5.96656137e-01 -2.95502007e-01\n",
      "   8.48151280e-02 -3.02101086e-01 -6.02168581e-01  5.11402201e-01\n",
      "  -1.93472106e-01]\n",
      " [ 5.10310066e-01  1.41463697e+00 -8.20649073e-01 -1.94595908e-01\n",
      "  -6.76676467e-01  2.32910361e-01  6.46424212e-01 -6.86202984e-01\n",
      "  -2.19661652e-01 -3.36850664e-01 -2.13809958e-01  5.11402201e-01\n",
      "   9.39535428e-01]\n",
      " [ 1.49629803e+00  1.55024959e+00  5.84220963e-01 -1.82175328e+00\n",
      "   1.93702877e+00  1.09746831e+00  1.00475435e+00 -1.23318435e+00\n",
      "   7.95260948e-01  1.93325150e-02 -3.00111875e-01  1.23731940e+00\n",
      "   6.18535356e-02]\n",
      " [ 9.48526941e-01 -3.39286215e-01  1.19660021e+00 -6.88554397e-01\n",
      "   1.04286645e+00  1.09746831e+00  7.55913978e-01  2.51479361e-01\n",
      "   1.18645881e-01  5.40576192e-01  7.35511119e-01  4.15526345e-01\n",
      "   2.02466940e+00]\n",
      " [-1.20603936e+00  1.04396248e+00 -1.25291678e+00 -1.36483145e-01\n",
      "  -8.83021617e-01 -4.74455232e-01 -3.88751754e-01  9.51989705e-02\n",
      "   4.40038038e-01 -1.63995986e+00 -1.27508042e-01  5.79884955e-01\n",
      "  -5.63694286e-01]\n",
      " [ 6.44209667e-01  8.08900612e-01  1.34068944e+00  1.17105403e+00\n",
      "  -1.95204450e-01 -1.18182083e+00 -1.50355664e+00  1.11102151e+00\n",
      "  -1.79279168e+00 -3.06444783e-01 -3.00111875e-01 -7.76073578e-01\n",
      "  -7.04123388e-01]\n",
      " [-1.10865783e+00 -1.03543098e+00  5.84220963e-01  1.31633594e+00\n",
      "  -1.50205707e+00 -4.74455232e-01 -4.48473445e-01  3.29619557e-01\n",
      "  -3.54984665e-01 -1.24033970e+00  1.51222836e+00  1.27898778e-01\n",
      "  -3.53050631e-01]\n",
      " [-1.10865783e+00 -8.54614161e-01 -1.72247518e-01  1.20011041e+00\n",
      "  -2.05231080e+00 -1.60070524e-01 -4.38519830e-01  4.85899947e-01\n",
      "  -3.88815418e-01 -1.44014978e+00  4.76605371e-01  7.99029769e-01\n",
      "  -3.69008484e-01]\n",
      " [-6.94786340e-01  1.94804660e+00  1.37671175e+00  2.04274548e+00\n",
      "   1.48704134e-01 -1.60070524e-01  9.89753836e-02  5.64040143e-01\n",
      "   1.69392011e-01 -1.29246407e+00 -1.70659000e-01  6.75760811e-01\n",
      "  -1.19881682e+00]\n",
      " [ 7.65936576e-01  2.41817034e+00  7.86402512e-03  1.54080672e-01\n",
      "  -5.39113033e-01 -4.74455232e-01 -1.22485542e+00  8.76600924e-01\n",
      "  -9.97768978e-01 -2.84726296e-01 -2.13809958e-01 -7.89770129e-01\n",
      "  -6.08376273e-01]\n",
      " [-1.83533320e-01  6.19042947e-01  9.44444049e-01  1.31633594e+00\n",
      "   7.99224174e-02  2.85603010e-02 -1.42392772e+00  1.34544210e+00\n",
      "  -1.35299189e+00 -5.88540365e-02 -3.00111875e-01 -6.52804620e-01\n",
      "  -4.80713452e-01]\n",
      " [ 3.39892392e-01  1.81243398e+00 -3.16336753e-01  1.54080672e-01\n",
      "   1.38677504e+00 -1.11894388e+00 -1.33434519e+00  5.64040143e-01\n",
      "  -4.39561548e-01  2.23461814e+00 -1.59464062e+00 -1.46090112e+00\n",
      "   3.01221324e-01]\n",
      " [ 1.59367956e+00 -3.21204533e-01  1.34068944e+00  1.54080672e-01\n",
      "   1.38677504e+00  7.83083601e-01  1.10429050e+00 -2.17361811e-01\n",
      "   6.09191805e-01  4.97139219e-01  4.76605371e-01  3.20229217e-02\n",
      "   1.72147020e+00]\n",
      " [ 1.35022574e+00 -2.30796121e-01  1.87975568e-01 -1.94595908e-01\n",
      "   2.17485851e-01  7.04487424e-01  8.85310973e-01 -2.95502007e-01\n",
      "   1.30272225e+00  4.97139219e-01  4.76605371e-01  1.68988430e-01\n",
      "   1.01932469e+00]\n",
      " [-1.12083052e+00 -1.04224345e-01 -6.40537530e-01  4.44644489e-01\n",
      "  -1.02058505e+00  4.68698893e-01  6.16563367e-01  9.51989705e-02\n",
      "  -4.39561548e-01 -9.97092654e-01 -4.29564749e-01  8.94905625e-01\n",
      "  -1.15732640e+00]\n",
      " [-1.49818394e+00  3.65899395e-01  2.06113562e+00  1.54080672e-01\n",
      "   2.17485851e-01 -8.67436118e-01 -5.60767046e-04  1.89242346e+00\n",
      "  -9.47022848e-01 -5.45348135e-01  1.16702070e+00 -1.73425341e-01\n",
      "  -4.26456753e-01]\n",
      " [ 1.08242654e+00  2.49953791e+00 -4.24403678e-01  1.54080672e-01\n",
      "  -1.36449363e+00 -2.07781724e+00 -1.68272171e+00  3.29619557e-01\n",
      "  -1.57289178e+00 -6.75414311e-02 -1.63779157e+00 -1.77592179e+00\n",
      "  -1.03923829e+00]\n",
      " [-1.20603936e+00 -6.91879020e-01  2.60020186e-01  7.35208306e-01\n",
      "  -9.51803334e-01 -1.33901318e+00 -7.76942742e-01  1.11102151e+00\n",
      "   3.40689981e-02 -6.32222081e-01  3.90303454e-01  3.20229217e-02\n",
      "  -9.27533324e-01]\n",
      " [-2.44396774e-01  3.56858554e-01  4.76154037e-01  7.35208306e-01\n",
      "   8.36521302e-01 -1.29185547e+00 -6.67452976e-01 -9.20623570e-01\n",
      "  -5.91799938e-01  2.49523998e+00 -2.06930116e+00 -1.58417008e+00\n",
      "  -8.31786209e-01]\n",
      " [-2.68742156e-01  1.04396248e+00 -1.32496139e+00 -1.00817460e+00\n",
      "  -1.36449363e+00 -1.05606694e+00 -7.76942742e-01  5.64040143e-01\n",
      "  -1.31916113e+00 -7.19096027e-01 -1.11998008e+00 -6.93894273e-01\n",
      "  -1.17647582e+00]\n",
      " [-4.26987139e-01 -8.27491637e-01 -1.18087216e+00 -7.75723542e-01\n",
      "   1.11407006e-02 -4.43016761e-01 -6.17684901e-01  1.34544210e+00\n",
      "  -1.67438404e+00  3.01672840e-01  8.82467480e-02 -1.41981147e+00\n",
      "  -9.27533324e-01]\n",
      " [ 6.32036976e-01 -4.29694626e-01  1.08853328e+00 -1.36483145e-01\n",
      "   6.98957868e-01  7.57180072e-02  4.97119986e-01 -5.29922593e-01\n",
      "  -1.18169392e-01 -3.71600242e-01  6.06058245e-01  3.33347040e-01\n",
      "   1.13102966e+00]\n",
      " [ 3.03374319e-01  2.84531825e-01  1.88102407e+00  4.44644489e-01\n",
      "   1.24921160e+00  7.83083601e-01  6.56377827e-01  2.51479361e-01\n",
      "   3.55461155e-01 -3.19475875e-01  3.47152496e-01  4.15526345e-01\n",
      "  -1.79357273e-02]\n",
      " [ 7.78109267e-01 -4.20653785e-01  1.26864483e+00 -6.59498016e-01\n",
      "   8.36521302e-01  8.61679778e-01  8.75357358e-01 -4.51782397e-01\n",
      "  -2.53492405e-01  9.74945922e-01  1.38277549e+00  3.47043591e-01\n",
      "   1.81721732e+00]]\n"
     ]
    }
   ],
   "source": [
    "scaled1 = scaler.transform(X_test)\n",
    "print(scaled1)"
   ]
  },
  {
   "cell_type": "code",
   "execution_count": 35,
   "id": "d951847b",
   "metadata": {},
   "outputs": [],
   "source": [
    "# Logistic Regression on data and predicting the target of test set\n",
    "logres = LogisticRegression(max_iter = 10000).fit(X_train, y_train.values.ravel())\n",
    "y_pred = logres.predict(X_test)\n",
    "# Here max_iter = 10000 to make sure of convergence.  "
   ]
  },
  {
   "cell_type": "code",
   "execution_count": 36,
   "id": "8d30665b",
   "metadata": {},
   "outputs": [
    {
     "name": "stdout",
     "output_type": "stream",
     "text": [
      "              precision    recall  f1-score   support\n",
      "\n",
      "         0.0       1.00      1.00      1.00        14\n",
      "         1.0       1.00      0.92      0.96        13\n",
      "         2.0       0.90      1.00      0.95         9\n",
      "\n",
      "    accuracy                           0.97        36\n",
      "   macro avg       0.97      0.97      0.97        36\n",
      "weighted avg       0.98      0.97      0.97        36\n",
      "\n"
     ]
    }
   ],
   "source": [
    "# Classification report for Logistic Regression\n",
    "print(classification_report(y_test, y_pred))"
   ]
  },
  {
   "cell_type": "code",
   "execution_count": 37,
   "id": "b10891be",
   "metadata": {},
   "outputs": [
    {
     "name": "stdout",
     "output_type": "stream",
     "text": [
      "Zero-One Test Error for Logistic Regression is: 0.02778\n"
     ]
    }
   ],
   "source": [
    "# Zero-One Test Error:\n",
    "zero_error = 1 - (np.array(y_test[\"target\"]) == y_pred).sum()/len(y_test)\n",
    "print(\"Zero-One Test Error for Logistic Regression is:\",round(zero_error,5))"
   ]
  },
  {
   "cell_type": "code",
   "execution_count": 38,
   "id": "efcc742a",
   "metadata": {},
   "outputs": [
    {
     "name": "stdout",
     "output_type": "stream",
     "text": [
      "Log-loss Test Error for Logistic Regression is: 1.09861\n"
     ]
    }
   ],
   "source": [
    "# Log-loss Test Error:\n",
    "log_error = log_loss(y_test,logres.predict_log_proba(X_test))\n",
    "print(\"Log-loss Test Error for Logistic Regression is:\",round(log_error,5))"
   ]
  },
  {
   "cell_type": "markdown",
   "id": "092252ad",
   "metadata": {},
   "source": [
    "### e)"
   ]
  },
  {
   "cell_type": "code",
   "execution_count": 39,
   "id": "eb4e8e0e",
   "metadata": {},
   "outputs": [],
   "source": [
    "# Linear Discriminant Analysis on data and predicting the target of test set\n",
    "lda = LinearDiscriminantAnalysis().fit(X_train, y_train.values.ravel())\n",
    "pred_lda = lda.predict(X_test)"
   ]
  },
  {
   "cell_type": "code",
   "execution_count": 40,
   "id": "d5594656",
   "metadata": {},
   "outputs": [
    {
     "name": "stdout",
     "output_type": "stream",
     "text": [
      "              precision    recall  f1-score   support\n",
      "\n",
      "         0.0       1.00      1.00      1.00        14\n",
      "         1.0       1.00      1.00      1.00        13\n",
      "         2.0       1.00      1.00      1.00         9\n",
      "\n",
      "    accuracy                           1.00        36\n",
      "   macro avg       1.00      1.00      1.00        36\n",
      "weighted avg       1.00      1.00      1.00        36\n",
      "\n"
     ]
    }
   ],
   "source": [
    "# Classification report for Linear Discriminant Analysis\n",
    "print(classification_report(y_test,pred_lda))"
   ]
  },
  {
   "cell_type": "code",
   "execution_count": 41,
   "id": "781ad606",
   "metadata": {},
   "outputs": [
    {
     "name": "stdout",
     "output_type": "stream",
     "text": [
      "Zero-One Test Error for Linear Discriminant Analysis is: 0.0\n"
     ]
    }
   ],
   "source": [
    "# Linear Discriminant Analysis for Zero-One Test Error\n",
    "lda_zero_error = 1 - (np.array(y_test[\"target\"]) == pred_lda).sum()/len(y_test)\n",
    "print(\"Zero-One Test Error for Linear Discriminant Analysis is:\",round(lda_zero_error,5))"
   ]
  },
  {
   "cell_type": "code",
   "execution_count": 42,
   "id": "75198256",
   "metadata": {},
   "outputs": [
    {
     "name": "stdout",
     "output_type": "stream",
     "text": [
      "Log-loss Test Error for Linear Discriminant Analysis is: 1.09861\n"
     ]
    }
   ],
   "source": [
    "# Linear Discriminant Analysis for Log Loss Test Error\n",
    "lda_log_error = log_loss(y_test,lda.predict_log_proba(X_test))\n",
    "print(\"Log-loss Test Error for Linear Discriminant Analysis is:\",round(lda_log_error,5))"
   ]
  },
  {
   "cell_type": "markdown",
   "id": "1b64714b",
   "metadata": {},
   "source": [
    "### f)"
   ]
  },
  {
   "cell_type": "code",
   "execution_count": 43,
   "id": "b5d4469d",
   "metadata": {},
   "outputs": [],
   "source": [
    "\n",
    "# Using KNN on the data and predicting the dataset. \n",
    "# Using Cross Validation by iterating the values of \"k\" from (2,15) and calculating the Zero-One Test Error.\n",
    "zero_test_error = []\n",
    "for k in range(2,16):\n",
    "    ngh = KNeighborsClassifier(n_neighbors = k).fit(scaled, y_train.values.ravel())\n",
    "    \n",
    "    y_pred = ngh.predict(scaled1)\n",
    "    \n",
    "    test_error1 = 1 - (np.array(y_test[\"target\"]) == y_pred).sum()/len(y_test)\n",
    "    \n",
    "    zero_test_error.append(test_error1)"
   ]
  },
  {
   "cell_type": "code",
   "execution_count": 44,
   "id": "de304536",
   "metadata": {},
   "outputs": [
    {
     "data": {
      "image/png": "[encoded data removed]",
      "text/plain": [
       "<Figure size 432x288 with 1 Axes>"
      ]
     },
     "metadata": {
      "needs_background": "light"
     },
     "output_type": "display_data"
    }
   ],
   "source": [
    "# Diagram shows the value of k where error is the lowest\n",
    "plt.plot(list(range(2,16)), zero_test_error)\n",
    "plt.ylabel(\"Zero One test error\")\n",
    "plt.xlabel(\"k\")\n",
    "plt.title(\"KNN Cross Validation for Zero One test Error\")\n",
    "plt.show()"
   ]
  },
  {
   "cell_type": "markdown",
   "id": "a0076680",
   "metadata": {},
   "source": [
    "<b> Observation: </b> <br>\n",
    "The k value is 2 having zero test error of 0.06 <br>\n",
    "The k value is 4 having zero test error of 0.028 <br>\n",
    "The k value is 6 having zero test error of 0.028 <br>\n",
    "The k value is 8 having zero test error of 0.028 <br>\n",
    "The k value is 10 having zero test error of 0.028 <br>\n",
    "The k value is 12 having zero test error of 0  <b> (Lowest Error for the K value) </b> <br>\n",
    "The k value is 14 having zero test error of 0 <b> (Lowest Error for the K value) </b> <br> <br>"
   ]
  },
  {
   "cell_type": "markdown",
   "id": "8e104bba",
   "metadata": {},
   "source": [
    "### Problem 3"
   ]
  },
  {
   "cell_type": "markdown",
   "id": "dc56a89d",
   "metadata": {},
   "source": [
    "### a)\n",
    "<b>Given:</b> <br>\n",
    "$x_1, x_2, ..., x_n $ are the training set observation <br>\n",
    "$z_1, z_2, ..., z_n$ are set of z observation <br>\n",
    "<b>Solution:</b> <br>\n",
    "The probability of getting of $x_1$ is $P(X)$ = 1/n <br> <br>\n",
    "For $z_1 \\neq x_1$ is $P(X')$ = 1 - (The probability of getting $x_1$) <br> <br>\n",
    "The probability for $z_1 \\neq x_1$ is $P(X')$ = 1 - (1/n) <br> <br>\n",
    "Therefore, Probability of $z_1 \\neq x_1$ is (n-1)/n."
   ]
  },
  {
   "cell_type": "markdown",
   "id": "5c82fd45",
   "metadata": {},
   "source": [
    "### b)\n",
    "<b> Given: </b> <br> \n",
    "$x_1, x_2, ..., x_n $ are the training set observation <br>\n",
    "$z_1, z_2, ..., z_n$ are set of z observation <br> \n",
    "<b>Solution:</b> <br>\n",
    "Similarly as done in the above question. <br> \n",
    "Since, the sample selection is independent, we will get the same probability as that of Q3. a) <br> \n",
    "The probability of getting of $x_1$ is $P(X)$ = 1/n <br> <br>\n",
    "For $z_2 \\neq x_1$ is $P(X')$ = 1 - (The probability of getting $x_1$) <br> <br>\n",
    "The probability for $z_2 \\neq x_1$ is $P(X')$ = 1 - (1/n) <br> <br>"
   ]
  },
  {
   "cell_type": "markdown",
   "id": "bbddda79",
   "metadata": {},
   "source": [
    "### c)\n",
    "<b> Solution: </b> <br> <br>\n",
    "The probability for $z_1 \\neq x_1$ is $P(X')$ = 1 - (1/n) <br> <br>\n",
    "The probability for $z_2 \\neq x_1$ is $P(X')$ = 1 - (1/n) <br> <br>\n",
    "The probability for $z_2 \\neq x_1$ and $z_1 \\neq x_1$ = [1-(1/n)].[1-(1/n)] <br> <br>\n",
    "Now, we know that for n terms we get that $[1-(1/n)]^n$. <br> <br>\n",
    "Therfore, the probability of getting $x_1$ in S = 1 - $[1-(1/n)]^n$\n",
    "Given that n = 100 <br> <br>\n",
    "The probability of getting $x_1$ in S = 1 - $((n-1)/n)^n$ <br> <br>\n",
    "The probability of getting $x_1$ in S = 1 - $((100-1)/100)^{100}$ <br> <br>\n",
    "The probability of getting $x_1$ in S = 1 - $(99/100)^{100}$ <br> <br>\n",
    "The probability of getting $x_1$ in S = 1 - 0.366032 <br> <br>\n",
    "The probability of getting $x_1$ in S = 0.633967."
   ]
  },
  {
   "cell_type": "markdown",
   "id": "ac8dafa8",
   "metadata": {},
   "source": [
    "### d)"
   ]
  },
  {
   "cell_type": "markdown",
   "id": "ee555af7",
   "metadata": {},
   "source": [
    "From 3-c, we know that <br> <br>\n",
    "The probability of getting $x_1$ in S = 1 - $[1-(1/n)]^n$ <br> <br>\n",
    "Here, we have n observations $x_1, x_2, ..., x_n $ are the training set observation, therefore for all the n observation the expected number of distinct data point would be: <br> <br>\n",
    "n * The probability of getting $x_1$ in S = n.[ 1 - $[1-(1/n)]^n$ ] <br> <br>\n",
    "Take x = 1/n, we get the probability as $ n.(1-x)^{1/x} \\cdots (1)$ <br> <br>\n",
    "Now, $ y = \\lim_{x\\to0} (1-x)^{1/x}$ <br> <br>\n",
    "Taking $log_{e} $ on both sides, <br> <br>\n",
    "$ ln(y) =  ln( \\lim_{x\\to0} (1-x)^{1/x}) $ <br> <br>\n",
    "Using the exponent properties of log, <br> <br>\n",
    "$ ln(y) =  (1/x).ln( \\lim_{x\\to0} (1-x)) $ <br> <br>\n",
    "Taking derivation using L' Hopitals Rule, <br> <br>\n",
    "$ ln(y) =  \\lim_{x\\to0} (1/(1-x)) $ <br> <br>\n",
    "Substituting the value of x = 0, <br> <br>\n",
    "$ ln(y) = 1/(1-0) $ <br> <br>\n",
    "$ ln(y) = 1 $ <br> <br>\n",
    "Taking inverse of the log, <br> <br>\n",
    "Therefore, $ y = e^{1} $ <br> <br>\n",
    "Now, substituting value of y = e in the above equation (1), <br> <br>\n",
    "No. of distinct points = n.(1-(1/e)) <br> <br>\n",
    "= n.(1-(1/2.78)) <br> <br>\n",
    "The expected number of distinct data points in the set S = n.(0.632) <br> <br>"
   ]
  },
  {
   "cell_type": "markdown",
   "id": "1d2dbd35",
   "metadata": {},
   "source": [
    "### Problem 4"
   ]
  },
  {
   "cell_type": "markdown",
   "id": "d93a044e",
   "metadata": {},
   "source": [
    "### a)"
   ]
  },
  {
   "cell_type": "code",
   "execution_count": 45,
   "id": "e21d1c55",
   "metadata": {},
   "outputs": [],
   "source": [
    "df = pd.read_csv(r\"C:\\Users\\ayush\\Downloads\\amazon_bs_20102020.csv\")"
   ]
  },
  {
   "cell_type": "code",
   "execution_count": 46,
   "id": "13d34f8b",
   "metadata": {},
   "outputs": [
    {
     "data": {
      "text/html": [
       "<div>\n",
       "<style scoped>\n",
       "    .dataframe tbody tr th:only-of-type {\n",
       "        vertical-align: middle;\n",
       "    }\n",
       "\n",
       "    .dataframe tbody tr th {\n",
       "        vertical-align: top;\n",
       "    }\n",
       "\n",
       "    .dataframe thead th {\n",
       "        text-align: right;\n",
       "    }\n",
       "</style>\n",
       "<table border=\"1\" class=\"dataframe\">\n",
       "  <thead>\n",
       "    <tr style=\"text-align: right;\">\n",
       "      <th></th>\n",
       "      <th>Year</th>\n",
       "      <th>Rank</th>\n",
       "      <th>Book_Title</th>\n",
       "      <th>Author</th>\n",
       "      <th>Rating</th>\n",
       "      <th>Num_Customers_Rated</th>\n",
       "      <th>Price</th>\n",
       "    </tr>\n",
       "  </thead>\n",
       "  <tbody>\n",
       "    <tr>\n",
       "      <th>0</th>\n",
       "      <td>2010</td>\n",
       "      <td>1</td>\n",
       "      <td>The Girl Who Kicked the Hornet's Nest (Millenn...</td>\n",
       "      <td>Stieg Larsson</td>\n",
       "      <td>4.7</td>\n",
       "      <td>8475</td>\n",
       "      <td>17.24</td>\n",
       "    </tr>\n",
       "    <tr>\n",
       "      <th>1</th>\n",
       "      <td>2010</td>\n",
       "      <td>2</td>\n",
       "      <td>The Girl with the Dragon Tattoo (Millennium Se...</td>\n",
       "      <td>Stieg Larsson</td>\n",
       "      <td>4.4</td>\n",
       "      <td>11516</td>\n",
       "      <td>9.99</td>\n",
       "    </tr>\n",
       "    <tr>\n",
       "      <th>2</th>\n",
       "      <td>2010</td>\n",
       "      <td>3</td>\n",
       "      <td>Decision Points</td>\n",
       "      <td>George W. Bush</td>\n",
       "      <td>4.6</td>\n",
       "      <td>2201</td>\n",
       "      <td>17.80</td>\n",
       "    </tr>\n",
       "    <tr>\n",
       "      <th>3</th>\n",
       "      <td>2010</td>\n",
       "      <td>4</td>\n",
       "      <td>The Help</td>\n",
       "      <td>Kathryn Stockett</td>\n",
       "      <td>4.8</td>\n",
       "      <td>14772</td>\n",
       "      <td>14.97</td>\n",
       "    </tr>\n",
       "    <tr>\n",
       "      <th>4</th>\n",
       "      <td>2010</td>\n",
       "      <td>5</td>\n",
       "      <td>The Girl Who Played with Fire (Millennium Series)</td>\n",
       "      <td>Stieg Larsson</td>\n",
       "      <td>4.7</td>\n",
       "      <td>7949</td>\n",
       "      <td>0.02</td>\n",
       "    </tr>\n",
       "  </tbody>\n",
       "</table>\n",
       "</div>"
      ],
      "text/plain": [
       "   Year  Rank                                         Book_Title  \\\n",
       "0  2010     1  The Girl Who Kicked the Hornet's Nest (Millenn...   \n",
       "1  2010     2  The Girl with the Dragon Tattoo (Millennium Se...   \n",
       "2  2010     3                                    Decision Points   \n",
       "3  2010     4                                           The Help   \n",
       "4  2010     5  The Girl Who Played with Fire (Millennium Series)   \n",
       "\n",
       "             Author  Rating  Num_Customers_Rated  Price  \n",
       "0     Stieg Larsson     4.7                 8475  17.24  \n",
       "1     Stieg Larsson     4.4                11516   9.99  \n",
       "2    George W. Bush     4.6                 2201  17.80  \n",
       "3  Kathryn Stockett     4.8                14772  14.97  \n",
       "4     Stieg Larsson     4.7                 7949   0.02  "
      ]
     },
     "execution_count": 46,
     "metadata": {},
     "output_type": "execute_result"
    }
   ],
   "source": [
    "df.head()"
   ]
  },
  {
   "cell_type": "code",
   "execution_count": 47,
   "id": "828c0bfe",
   "metadata": {},
   "outputs": [],
   "source": [
    "# Dataframe of Price and Rating\n",
    "df1 = df[[\"Price\",\"Rating\"]]"
   ]
  },
  {
   "cell_type": "code",
   "execution_count": 48,
   "id": "33df3e46",
   "metadata": {},
   "outputs": [
    {
     "data": {
      "text/html": [
       "<div>\n",
       "<style scoped>\n",
       "    .dataframe tbody tr th:only-of-type {\n",
       "        vertical-align: middle;\n",
       "    }\n",
       "\n",
       "    .dataframe tbody tr th {\n",
       "        vertical-align: top;\n",
       "    }\n",
       "\n",
       "    .dataframe thead th {\n",
       "        text-align: right;\n",
       "    }\n",
       "</style>\n",
       "<table border=\"1\" class=\"dataframe\">\n",
       "  <thead>\n",
       "    <tr style=\"text-align: right;\">\n",
       "      <th></th>\n",
       "      <th>Price</th>\n",
       "      <th>Rating</th>\n",
       "    </tr>\n",
       "  </thead>\n",
       "  <tbody>\n",
       "    <tr>\n",
       "      <th>0</th>\n",
       "      <td>17.24</td>\n",
       "      <td>4.7</td>\n",
       "    </tr>\n",
       "    <tr>\n",
       "      <th>1</th>\n",
       "      <td>9.99</td>\n",
       "      <td>4.4</td>\n",
       "    </tr>\n",
       "    <tr>\n",
       "      <th>2</th>\n",
       "      <td>17.80</td>\n",
       "      <td>4.6</td>\n",
       "    </tr>\n",
       "    <tr>\n",
       "      <th>3</th>\n",
       "      <td>14.97</td>\n",
       "      <td>4.8</td>\n",
       "    </tr>\n",
       "    <tr>\n",
       "      <th>4</th>\n",
       "      <td>0.02</td>\n",
       "      <td>4.7</td>\n",
       "    </tr>\n",
       "  </tbody>\n",
       "</table>\n",
       "</div>"
      ],
      "text/plain": [
       "   Price  Rating\n",
       "0  17.24     4.7\n",
       "1   9.99     4.4\n",
       "2  17.80     4.6\n",
       "3  14.97     4.8\n",
       "4   0.02     4.7"
      ]
     },
     "execution_count": 48,
     "metadata": {},
     "output_type": "execute_result"
    }
   ],
   "source": [
    "df1.head()"
   ]
  },
  {
   "cell_type": "code",
   "execution_count": 49,
   "id": "5337f805",
   "metadata": {},
   "outputs": [
    {
     "name": "stdout",
     "output_type": "stream",
     "text": [
      "The population mean of Price is: 10.850950639853718\n"
     ]
    }
   ],
   "source": [
    "# \n",
    "print(\"The population mean of Price is:\",np.mean(df[\"Price\"]))"
   ]
  },
  {
   "cell_type": "markdown",
   "id": "b25e52ac",
   "metadata": {},
   "source": [
    "### b)"
   ]
  },
  {
   "cell_type": "code",
   "execution_count": 50,
   "id": "0be16c5d",
   "metadata": {},
   "outputs": [
    {
     "name": "stdout",
     "output_type": "stream",
     "text": [
      "The standard error is: 0.35858300263084675\n"
     ]
    }
   ],
   "source": [
    "print(\"The standard error is:\",np.std(df1['Price'])/np.sqrt(len(df1)))"
   ]
  },
  {
   "cell_type": "markdown",
   "id": "2a371def",
   "metadata": {},
   "source": [
    "<b>Obervation:</b><br>\n",
    "The standard error : 0.35858 <br>\n",
    "The standard error is the measure of the difference in mean if we were to conduct the experiment on different values. <br>\n",
    "The standard error os 0.35858 which means that if we take the same experiment but with different values the new mean will vary between mean $\\pm$ 0.35858. <br>\n",
    "Therefore the new mean will range between (10.5, 11.1)"
   ]
  },
  {
   "cell_type": "markdown",
   "id": "e72c693c",
   "metadata": {},
   "source": [
    "Finding mean of 1000 resampled values"
   ]
  },
  {
   "cell_type": "code",
   "execution_count": 51,
   "id": "a36fbe89",
   "metadata": {},
   "outputs": [],
   "source": [
    "mean_dict = []\n",
    "for i in range(1000):\n",
    "    a = resample(df[\"Price\"])\n",
    "    mean_dict.append(np.mean(a))"
   ]
  },
  {
   "cell_type": "markdown",
   "id": "38a79cdb",
   "metadata": {},
   "source": [
    "Finding the mean value of all the mean values"
   ]
  },
  {
   "cell_type": "code",
   "execution_count": 52,
   "id": "1ab5528e",
   "metadata": {},
   "outputs": [
    {
     "name": "stdout",
     "output_type": "stream",
     "text": [
      "The mean of the sample is: 10.841292212065781\n"
     ]
    }
   ],
   "source": [
    "mean_sample = sum(mean_dict)/len(mean_dict)\n",
    "print(\"The mean of the sample is:\",mean_sample)"
   ]
  },
  {
   "cell_type": "markdown",
   "id": "bcea60a4",
   "metadata": {},
   "source": [
    "### c)"
   ]
  },
  {
   "cell_type": "code",
   "execution_count": 53,
   "id": "9a3a3492",
   "metadata": {},
   "outputs": [
    {
     "name": "stdout",
     "output_type": "stream",
     "text": [
      "The standard error: 0.36167658001106606\n"
     ]
    }
   ],
   "source": [
    "mean_std_error = np.std(np.array(mean_dict))\n",
    "print(\"The standard error:\",mean_std_error)"
   ]
  },
  {
   "cell_type": "markdown",
   "id": "cd2b16a7",
   "metadata": {},
   "source": [
    "<b>Observation:</b><br>\n",
    "We conclude that the standard error of original dataset and the sample set is approximately the same."
   ]
  },
  {
   "cell_type": "markdown",
   "id": "47d10eaa",
   "metadata": {},
   "source": [
    "### d)"
   ]
  },
  {
   "cell_type": "code",
   "execution_count": 54,
   "id": "f9dbe73f",
   "metadata": {},
   "outputs": [
    {
     "name": "stdout",
     "output_type": "stream",
     "text": [
      "The 95% confidence interval of mean price is: (10.11793905204365, 11.564645372087913)\n"
     ]
    }
   ],
   "source": [
    "A = mean_sample - 2*mean_std_error\n",
    "B = mean_sample + 2*mean_std_error\n",
    "print(\"The 95% confidence interval of mean price is:\", (A, B))"
   ]
  },
  {
   "cell_type": "code",
   "execution_count": 55,
   "id": "6342f926",
   "metadata": {},
   "outputs": [
    {
     "data": {
      "text/plain": [
       "(10.132419141192472, 11.55016528293909)"
      ]
     },
     "execution_count": 55,
     "metadata": {},
     "output_type": "execute_result"
    }
   ],
   "source": [
    "stats.norm.interval(0.95, loc = mean_sample, scale = mean_std_error)"
   ]
  },
  {
   "cell_type": "markdown",
   "id": "ea0e81b3",
   "metadata": {},
   "source": [
    "<b>Observation:</b><br>\n",
    "The confidence interval calculated using the formula and the one calculated using scipy are approximately the same"
   ]
  },
  {
   "cell_type": "markdown",
   "id": "4926c9a9",
   "metadata": {},
   "source": [
    "### e)"
   ]
  },
  {
   "cell_type": "code",
   "execution_count": 56,
   "id": "2b5a41c1",
   "metadata": {},
   "outputs": [
    {
     "name": "stdout",
     "output_type": "stream",
     "text": [
      "The mean of first quartile is: 2.75\n"
     ]
    }
   ],
   "source": [
    "print(\"The mean of first quartile is:\",np.quantile(df[\"Price\"],0.25))"
   ]
  },
  {
   "cell_type": "markdown",
   "id": "ff157376",
   "metadata": {},
   "source": [
    "### f)"
   ]
  },
  {
   "cell_type": "code",
   "execution_count": 57,
   "id": "879a19fd",
   "metadata": {},
   "outputs": [],
   "source": [
    "first_quart = []\n",
    "for i in range(1000):\n",
    "    x = resample(df[\"Price\"])\n",
    "    first_quart.append(np.quantile(x,0.25))"
   ]
  },
  {
   "cell_type": "code",
   "execution_count": 58,
   "id": "f2af5da3",
   "metadata": {},
   "outputs": [
    {
     "name": "stdout",
     "output_type": "stream",
     "text": [
      "The standard error of first quartile is: 0.38192345567371216\n"
     ]
    }
   ],
   "source": [
    "print(\"The standard error of first quartile is:\",np.std(first_quart))"
   ]
  },
  {
   "cell_type": "markdown",
   "id": "e2c0533f",
   "metadata": {},
   "source": [
    "<b>Obervation:</b><br>\n",
    "Therefore, we come to the conclusion that there is approximately ~18% variation in the quantile values of the sampled sets.<br>\n",
    "Hence, we are sampling with replacement there can be redundant values in the sets which results in the variation in the quatile values of the sets."
   ]
  },
  {
   "cell_type": "markdown",
   "id": "642757a0",
   "metadata": {},
   "source": [
    "### g)"
   ]
  },
  {
   "cell_type": "code",
   "execution_count": 59,
   "id": "1e01802f",
   "metadata": {},
   "outputs": [],
   "source": [
    "from scipy.stats import linregress"
   ]
  },
  {
   "cell_type": "code",
   "execution_count": 60,
   "id": "ddd2e0fc",
   "metadata": {},
   "outputs": [],
   "source": [
    "intercept = []\n",
    "slope = []\n",
    "\n",
    "for i in range(1000):\n",
    "    d = resample(df1)\n",
    "    M = d['Rating']\n",
    "    n = d['Price']\n",
    "    \n",
    "    LR = LinearRegression()\n",
    "    LR.fit(M.values.reshape(-1,1),n.values.reshape(-1,1))\n",
    "    intercept.append(LR.intercept_)\n",
    "    slope.append(LR.coef_[0])"
   ]
  },
  {
   "cell_type": "code",
   "execution_count": 61,
   "id": "e95f5508",
   "metadata": {},
   "outputs": [
    {
     "name": "stdout",
     "output_type": "stream",
     "text": [
      "Standard error: 7.180330520092305\n"
     ]
    }
   ],
   "source": [
    "print(\"Standard error:\", np.std(intercept))"
   ]
  },
  {
   "cell_type": "code",
   "execution_count": 62,
   "id": "712282ee",
   "metadata": {},
   "outputs": [
    {
     "data": {
      "text/plain": [
       "1.5302083188882474"
      ]
     },
     "execution_count": 62,
     "metadata": {},
     "output_type": "execute_result"
    }
   ],
   "source": [
    "np.std(slope)"
   ]
  },
  {
   "cell_type": "code",
   "execution_count": 63,
   "id": "76675a93",
   "metadata": {},
   "outputs": [],
   "source": [
    "M = df1['Rating']\n",
    "n = df1['Price']\n",
    "\n",
    "slope_1 = linregress(M,n).stderr\n",
    "intercept_1 = linregress(M,n).intercept_stderr"
   ]
  },
  {
   "cell_type": "code",
   "execution_count": 64,
   "id": "756e2c65",
   "metadata": {},
   "outputs": [
    {
     "data": {
      "text/plain": [
       "1.6302666162338253"
      ]
     },
     "execution_count": 64,
     "metadata": {},
     "output_type": "execute_result"
    }
   ],
   "source": [
    "slope_1"
   ]
  },
  {
   "cell_type": "code",
   "execution_count": 65,
   "id": "4bc274b3",
   "metadata": {},
   "outputs": [
    {
     "data": {
      "text/plain": [
       "7.558746805421322"
      ]
     },
     "execution_count": 65,
     "metadata": {},
     "output_type": "execute_result"
    }
   ],
   "source": [
    "intercept_1"
   ]
  },
  {
   "cell_type": "markdown",
   "id": "5ebabe13",
   "metadata": {},
   "source": [
    "<b> Observation: </b><br>\n",
    "We can see that the linregress standard error is slightly greater than the bootstrap sampled sets standard error for both slope ($\\beta_{0}$) and intercept ($\\beta_{1}$)."
   ]
  }
 ],
 "metadata": {
  "kernelspec": {
   "display_name": "Python 3 (ipykernel)",
   "language": "python",
   "name": "python3"
  },
  "language_info": {
   "codemirror_mode": {
    "name": "ipython",
    "version": 3
   },
   "file_extension": ".py",
   "mimetype": "text/x-python",
   "name": "python",
   "nbconvert_exporter": "python",
   "pygments_lexer": "ipython3",
   "version": "3.9.12"
  }
 },
 "nbformat": 4,
 "nbformat_minor": 5
}
