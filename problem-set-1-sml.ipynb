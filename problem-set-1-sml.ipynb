{
 "cells": [
  {
   "cell_type": "code",
   "execution_count": 1,
   "id": "45685836",
   "metadata": {
    "_cell_guid": "7754c37c-cac3-41db-a751-9411d740a623",
    "_uuid": "d1915725-acd3-4f7e-b399-56c66192534c",
    "collapsed": false,
    "execution": {
     "iopub.execute_input": "2022-09-23T23:42:39.940990Z",
     "iopub.status.busy": "2022-09-23T23:42:39.940075Z",
     "iopub.status.idle": "2022-09-23T23:42:39.971575Z",
     "shell.execute_reply": "2022-09-23T23:42:39.970432Z"
    },
    "jupyter": {
     "outputs_hidden": false
    },
    "papermill": {
     "duration": 0.04419,
     "end_time": "2022-09-23T23:42:39.974322",
     "exception": false,
     "start_time": "2022-09-23T23:42:39.930132",
     "status": "completed"
    },
    "tags": []
   },
   "outputs": [
    {
     "name": "stdout",
     "output_type": "stream",
     "text": [
      "/kaggle/input/bike-sharing-dataset/hour.csv\n",
      "/kaggle/input/bike-sharing-dataset/Readme.txt\n",
      "/kaggle/input/bike-sharing-dataset/day.csv\n",
      "/kaggle/input/bike-sharing-dataset/bike-sharing-dataset/hour.csv\n",
      "/kaggle/input/bike-sharing-dataset/bike-sharing-dataset/Readme.txt\n",
      "/kaggle/input/bike-sharing-dataset/bike-sharing-dataset/day.csv\n"
     ]
    }
   ],
   "source": [
    "# This Python 3 environment comes with many helpful analytics libraries installed\n",
    "# It is defined by the kaggle/python Docker image: https://github.com/kaggle/docker-python\n",
    "# For example, here's several helpful packages to load\n",
    "\n",
    "import numpy as np # linear algebra\n",
    "import pandas as pd # data processing, CSV file I/O (e.g. pd.read_csv)\n",
    "\n",
    "# Input data files are available in the read-only \"../input/\" directory\n",
    "# For example, running this (by clicking run or pressing Shift+Enter) will list all files under the input directory\n",
    "\n",
    "import os\n",
    "for dirname, _, filenames in os.walk('/kaggle/input'):\n",
    "    for filename in filenames:\n",
    "        print(os.path.join(dirname, filename))\n",
    "\n",
    "# You can write up to 20GB to the current directory (/kaggle/working/) that gets preserved as output when you create a version using \"Save & Run All\" \n",
    "# You can also write temporary files to /kaggle/temp/, but they won't be saved outside of the current session"
   ]
  },
  {
   "cell_type": "code",
   "execution_count": 2,
   "id": "b5d23f3b",
   "metadata": {
    "_cell_guid": "6e425efa-7eed-4396-a3c0-3ad477f7d8ec",
    "_uuid": "304c716b-f1c2-4e4c-9f61-a7468fc9ceaf",
    "collapsed": false,
    "execution": {
     "iopub.execute_input": "2022-09-23T23:42:39.989883Z",
     "iopub.status.busy": "2022-09-23T23:42:39.989506Z",
     "iopub.status.idle": "2022-09-23T23:42:40.011275Z",
     "shell.execute_reply": "2022-09-23T23:42:40.010398Z"
    },
    "jupyter": {
     "outputs_hidden": false
    },
    "papermill": {
     "duration": 0.032392,
     "end_time": "2022-09-23T23:42:40.014008",
     "exception": false,
     "start_time": "2022-09-23T23:42:39.981616",
     "status": "completed"
    },
    "tags": []
   },
   "outputs": [],
   "source": [
    "df = pd.read_csv(\"../input/bike-sharing-dataset/day.csv\")"
   ]
  },
  {
   "cell_type": "code",
   "execution_count": 3,
   "id": "5640c5cd",
   "metadata": {
    "_cell_guid": "bb5f6659-f8cb-4e8e-b5b3-440b741b95aa",
    "_uuid": "37a3a90f-ade8-4efb-91d1-13ccaec7e3ff",
    "collapsed": false,
    "execution": {
     "iopub.execute_input": "2022-09-23T23:42:40.034157Z",
     "iopub.status.busy": "2022-09-23T23:42:40.033455Z",
     "iopub.status.idle": "2022-09-23T23:42:40.064170Z",
     "shell.execute_reply": "2022-09-23T23:42:40.062852Z"
    },
    "jupyter": {
     "outputs_hidden": false
    },
    "papermill": {
     "duration": 0.042358,
     "end_time": "2022-09-23T23:42:40.066815",
     "exception": false,
     "start_time": "2022-09-23T23:42:40.024457",
     "status": "completed"
    },
    "tags": []
   },
   "outputs": [
    {
     "data": {
      "text/html": [
       "<div>\n",
       "<style scoped>\n",
       "    .dataframe tbody tr th:only-of-type {\n",
       "        vertical-align: middle;\n",
       "    }\n",
       "\n",
       "    .dataframe tbody tr th {\n",
       "        vertical-align: top;\n",
       "    }\n",
       "\n",
       "    .dataframe thead th {\n",
       "        text-align: right;\n",
       "    }\n",
       "</style>\n",
       "<table border=\"1\" class=\"dataframe\">\n",
       "  <thead>\n",
       "    <tr style=\"text-align: right;\">\n",
       "      <th></th>\n",
       "      <th>instant</th>\n",
       "      <th>dteday</th>\n",
       "      <th>season</th>\n",
       "      <th>yr</th>\n",
       "      <th>mnth</th>\n",
       "      <th>holiday</th>\n",
       "      <th>weekday</th>\n",
       "      <th>workingday</th>\n",
       "      <th>weathersit</th>\n",
       "      <th>temp</th>\n",
       "      <th>atemp</th>\n",
       "      <th>hum</th>\n",
       "      <th>windspeed</th>\n",
       "      <th>casual</th>\n",
       "      <th>registered</th>\n",
       "      <th>cnt</th>\n",
       "    </tr>\n",
       "  </thead>\n",
       "  <tbody>\n",
       "    <tr>\n",
       "      <th>0</th>\n",
       "      <td>1</td>\n",
       "      <td>2011-01-01</td>\n",
       "      <td>1</td>\n",
       "      <td>0</td>\n",
       "      <td>1</td>\n",
       "      <td>0</td>\n",
       "      <td>6</td>\n",
       "      <td>0</td>\n",
       "      <td>2</td>\n",
       "      <td>0.344167</td>\n",
       "      <td>0.363625</td>\n",
       "      <td>0.805833</td>\n",
       "      <td>0.160446</td>\n",
       "      <td>331</td>\n",
       "      <td>654</td>\n",
       "      <td>985</td>\n",
       "    </tr>\n",
       "    <tr>\n",
       "      <th>1</th>\n",
       "      <td>2</td>\n",
       "      <td>2011-01-02</td>\n",
       "      <td>1</td>\n",
       "      <td>0</td>\n",
       "      <td>1</td>\n",
       "      <td>0</td>\n",
       "      <td>0</td>\n",
       "      <td>0</td>\n",
       "      <td>2</td>\n",
       "      <td>0.363478</td>\n",
       "      <td>0.353739</td>\n",
       "      <td>0.696087</td>\n",
       "      <td>0.248539</td>\n",
       "      <td>131</td>\n",
       "      <td>670</td>\n",
       "      <td>801</td>\n",
       "    </tr>\n",
       "    <tr>\n",
       "      <th>2</th>\n",
       "      <td>3</td>\n",
       "      <td>2011-01-03</td>\n",
       "      <td>1</td>\n",
       "      <td>0</td>\n",
       "      <td>1</td>\n",
       "      <td>0</td>\n",
       "      <td>1</td>\n",
       "      <td>1</td>\n",
       "      <td>1</td>\n",
       "      <td>0.196364</td>\n",
       "      <td>0.189405</td>\n",
       "      <td>0.437273</td>\n",
       "      <td>0.248309</td>\n",
       "      <td>120</td>\n",
       "      <td>1229</td>\n",
       "      <td>1349</td>\n",
       "    </tr>\n",
       "    <tr>\n",
       "      <th>3</th>\n",
       "      <td>4</td>\n",
       "      <td>2011-01-04</td>\n",
       "      <td>1</td>\n",
       "      <td>0</td>\n",
       "      <td>1</td>\n",
       "      <td>0</td>\n",
       "      <td>2</td>\n",
       "      <td>1</td>\n",
       "      <td>1</td>\n",
       "      <td>0.200000</td>\n",
       "      <td>0.212122</td>\n",
       "      <td>0.590435</td>\n",
       "      <td>0.160296</td>\n",
       "      <td>108</td>\n",
       "      <td>1454</td>\n",
       "      <td>1562</td>\n",
       "    </tr>\n",
       "    <tr>\n",
       "      <th>4</th>\n",
       "      <td>5</td>\n",
       "      <td>2011-01-05</td>\n",
       "      <td>1</td>\n",
       "      <td>0</td>\n",
       "      <td>1</td>\n",
       "      <td>0</td>\n",
       "      <td>3</td>\n",
       "      <td>1</td>\n",
       "      <td>1</td>\n",
       "      <td>0.226957</td>\n",
       "      <td>0.229270</td>\n",
       "      <td>0.436957</td>\n",
       "      <td>0.186900</td>\n",
       "      <td>82</td>\n",
       "      <td>1518</td>\n",
       "      <td>1600</td>\n",
       "    </tr>\n",
       "  </tbody>\n",
       "</table>\n",
       "</div>"
      ],
      "text/plain": [
       "   instant      dteday  season  yr  mnth  holiday  weekday  workingday  \\\n",
       "0        1  2011-01-01       1   0     1        0        6           0   \n",
       "1        2  2011-01-02       1   0     1        0        0           0   \n",
       "2        3  2011-01-03       1   0     1        0        1           1   \n",
       "3        4  2011-01-04       1   0     1        0        2           1   \n",
       "4        5  2011-01-05       1   0     1        0        3           1   \n",
       "\n",
       "   weathersit      temp     atemp       hum  windspeed  casual  registered  \\\n",
       "0           2  0.344167  0.363625  0.805833   0.160446     331         654   \n",
       "1           2  0.363478  0.353739  0.696087   0.248539     131         670   \n",
       "2           1  0.196364  0.189405  0.437273   0.248309     120        1229   \n",
       "3           1  0.200000  0.212122  0.590435   0.160296     108        1454   \n",
       "4           1  0.226957  0.229270  0.436957   0.186900      82        1518   \n",
       "\n",
       "    cnt  \n",
       "0   985  \n",
       "1   801  \n",
       "2  1349  \n",
       "3  1562  \n",
       "4  1600  "
      ]
     },
     "execution_count": 3,
     "metadata": {},
     "output_type": "execute_result"
    }
   ],
   "source": [
    "df.head()"
   ]
  },
  {
   "cell_type": "code",
   "execution_count": 4,
   "id": "e1eccda2",
   "metadata": {
    "_cell_guid": "21d1485a-1cc5-4a19-8b61-a3224156fe31",
    "_uuid": "2bcc139d-d84e-4c87-83d5-e25f9bd22d14",
    "collapsed": false,
    "execution": {
     "iopub.execute_input": "2022-09-23T23:42:40.083292Z",
     "iopub.status.busy": "2022-09-23T23:42:40.082291Z",
     "iopub.status.idle": "2022-09-23T23:42:40.089494Z",
     "shell.execute_reply": "2022-09-23T23:42:40.088296Z"
    },
    "jupyter": {
     "outputs_hidden": false
    },
    "papermill": {
     "duration": 0.017712,
     "end_time": "2022-09-23T23:42:40.091700",
     "exception": false,
     "start_time": "2022-09-23T23:42:40.073988",
     "status": "completed"
    },
    "tags": []
   },
   "outputs": [
    {
     "data": {
      "text/plain": [
       "Index(['instant', 'dteday', 'season', 'yr', 'mnth', 'holiday', 'weekday',\n",
       "       'workingday', 'weathersit', 'temp', 'atemp', 'hum', 'windspeed',\n",
       "       'casual', 'registered', 'cnt'],\n",
       "      dtype='object')"
      ]
     },
     "execution_count": 4,
     "metadata": {},
     "output_type": "execute_result"
    }
   ],
   "source": [
    "df.columns"
   ]
  },
  {
   "cell_type": "code",
   "execution_count": 5,
   "id": "f24c8d81",
   "metadata": {
    "_cell_guid": "2b6b464d-7d10-49a3-8aa3-bcb863e2b9f1",
    "_uuid": "b87f031a-4cef-40da-abc0-b60c77923a1f",
    "collapsed": false,
    "execution": {
     "iopub.execute_input": "2022-09-23T23:42:40.108064Z",
     "iopub.status.busy": "2022-09-23T23:42:40.107382Z",
     "iopub.status.idle": "2022-09-23T23:42:40.118235Z",
     "shell.execute_reply": "2022-09-23T23:42:40.117245Z"
    },
    "jupyter": {
     "outputs_hidden": false
    },
    "papermill": {
     "duration": 0.021852,
     "end_time": "2022-09-23T23:42:40.120765",
     "exception": false,
     "start_time": "2022-09-23T23:42:40.098913",
     "status": "completed"
    },
    "tags": []
   },
   "outputs": [],
   "source": [
    "df.drop(['instant', 'dteday'], inplace=True ,axis=1)"
   ]
  },
  {
   "cell_type": "code",
   "execution_count": 6,
   "id": "ddc3d0a3",
   "metadata": {
    "_cell_guid": "b17ee383-55e6-41bc-9b0a-37bb7441fdfb",
    "_uuid": "e1bc743e-4617-45e2-acab-4f5d699c0bd4",
    "collapsed": false,
    "execution": {
     "iopub.execute_input": "2022-09-23T23:42:40.137071Z",
     "iopub.status.busy": "2022-09-23T23:42:40.136666Z",
     "iopub.status.idle": "2022-09-23T23:42:40.153412Z",
     "shell.execute_reply": "2022-09-23T23:42:40.152486Z"
    },
    "jupyter": {
     "outputs_hidden": false
    },
    "papermill": {
     "duration": 0.027921,
     "end_time": "2022-09-23T23:42:40.155976",
     "exception": false,
     "start_time": "2022-09-23T23:42:40.128055",
     "status": "completed"
    },
    "tags": []
   },
   "outputs": [
    {
     "name": "stdout",
     "output_type": "stream",
     "text": [
      "season        0.406100\n",
      "yr            0.566710\n",
      "mnth          0.279977\n",
      "holiday      -0.068348\n",
      "weekday       0.067443\n",
      "workingday    0.061156\n",
      "weathersit   -0.297391\n",
      "temp          0.627494\n",
      "atemp         0.631066\n",
      "hum          -0.100659\n",
      "windspeed    -0.234545\n",
      "casual        0.672804\n",
      "registered    0.945517\n",
      "cnt           1.000000\n",
      "dtype: float64\n"
     ]
    }
   ],
   "source": [
    "correlations = df.corrwith(df['cnt'])\n",
    "print(correlations)"
   ]
  },
  {
   "cell_type": "markdown",
   "id": "d22d3fa5",
   "metadata": {
    "_cell_guid": "8aba4077-ca1d-4984-ab9d-cd3da0a8b987",
    "_uuid": "6dfe76cf-8efb-4865-aa4a-a26964bd05bc",
    "papermill": {
     "duration": 0.00692,
     "end_time": "2022-09-23T23:42:40.170349",
     "exception": false,
     "start_time": "2022-09-23T23:42:40.163429",
     "status": "completed"
    },
    "tags": []
   },
   "source": [
    "Features with positive correlation are: \n",
    "* **season**\n",
    "* **yr**: year\n",
    "* **mnth**: mmonths\n",
    "* **weekday**: days of the week\n",
    "* **workingday**: whether the day is neither a weekend nor holiday\n",
    "* **temp**: temperature in Celsius\n",
    "* **atemp**: \"feels like\" temperature in Celsius\n",
    "* **casual**: number of non-registered user rentals initiated\n",
    "* **registered**: number of registered user rentals initiated\n",
    "\n",
    "The feature with highest correlation is **'registered'**."
   ]
  },
  {
   "cell_type": "markdown",
   "id": "cb3857de",
   "metadata": {
    "_cell_guid": "01170ec7-7229-419f-8875-4419f9890731",
    "_uuid": "c7bc3fd5-ea51-43e0-a449-3b6ae3d2272e",
    "papermill": {
     "duration": 0.008142,
     "end_time": "2022-09-23T23:42:40.185510",
     "exception": false,
     "start_time": "2022-09-23T23:42:40.177368",
     "status": "completed"
    },
    "tags": []
   },
   "source": [
    "Features with negative correlation are: \n",
    "* **holiday**: whether the day is considered a holiday\n",
    "* **weathersit**\n",
    "* **hum**: humidity\n",
    "* **windspeed**"
   ]
  },
  {
   "cell_type": "code",
   "execution_count": 7,
   "id": "d6e94c53",
   "metadata": {
    "_cell_guid": "3ce10598-fcb0-4fd7-9c24-fa3b2502afb3",
    "_uuid": "823c1808-d019-4fde-aee6-e91fbb374e5a",
    "collapsed": false,
    "execution": {
     "iopub.execute_input": "2022-09-23T23:42:40.202013Z",
     "iopub.status.busy": "2022-09-23T23:42:40.201369Z",
     "iopub.status.idle": "2022-09-23T23:42:41.249233Z",
     "shell.execute_reply": "2022-09-23T23:42:41.248028Z"
    },
    "jupyter": {
     "outputs_hidden": false
    },
    "papermill": {
     "duration": 1.059184,
     "end_time": "2022-09-23T23:42:41.251957",
     "exception": false,
     "start_time": "2022-09-23T23:42:40.192773",
     "status": "completed"
    },
    "tags": []
   },
   "outputs": [],
   "source": [
    "from sklearn.model_selection import train_test_split\n"
   ]
  },
  {
   "cell_type": "code",
   "execution_count": 8,
   "id": "aa33f36e",
   "metadata": {
    "_cell_guid": "79fda334-0f33-4418-ae63-ba35a23ff066",
    "_uuid": "b792fcab-92ae-4a6e-96c4-7f414e43d505",
    "collapsed": false,
    "execution": {
     "iopub.execute_input": "2022-09-23T23:42:41.267857Z",
     "iopub.status.busy": "2022-09-23T23:42:41.267441Z",
     "iopub.status.idle": "2022-09-23T23:42:41.274394Z",
     "shell.execute_reply": "2022-09-23T23:42:41.273094Z"
    },
    "jupyter": {
     "outputs_hidden": false
    },
    "papermill": {
     "duration": 0.017556,
     "end_time": "2022-09-23T23:42:41.276669",
     "exception": false,
     "start_time": "2022-09-23T23:42:41.259113",
     "status": "completed"
    },
    "tags": []
   },
   "outputs": [],
   "source": [
    "X = df.drop('cnt', axis = 1)\n",
    "y = df['cnt']"
   ]
  },
  {
   "cell_type": "code",
   "execution_count": 9,
   "id": "559c4ac3",
   "metadata": {
    "_cell_guid": "70659f9d-060f-4279-9c62-9da4d5ca4d75",
    "_uuid": "bbf8619c-ebca-4f2f-81ef-ad4c8ba5e03d",
    "collapsed": false,
    "execution": {
     "iopub.execute_input": "2022-09-23T23:42:41.295366Z",
     "iopub.status.busy": "2022-09-23T23:42:41.294238Z",
     "iopub.status.idle": "2022-09-23T23:42:41.303625Z",
     "shell.execute_reply": "2022-09-23T23:42:41.302460Z"
    },
    "jupyter": {
     "outputs_hidden": false
    },
    "papermill": {
     "duration": 0.023587,
     "end_time": "2022-09-23T23:42:41.307468",
     "exception": false,
     "start_time": "2022-09-23T23:42:41.283881",
     "status": "completed"
    },
    "tags": []
   },
   "outputs": [],
   "source": [
    "X_train, X_test, y_train, y_test = train_test_split(X, y, test_size=0.3, random_state=42)"
   ]
  },
  {
   "cell_type": "code",
   "execution_count": 10,
   "id": "3443855b",
   "metadata": {
    "_cell_guid": "8bb57773-01c9-4194-a7cd-6c34adcc6127",
    "_uuid": "f0dc72ff-52ee-483c-91db-24c11e915c73",
    "collapsed": false,
    "execution": {
     "iopub.execute_input": "2022-09-23T23:42:41.327869Z",
     "iopub.status.busy": "2022-09-23T23:42:41.326974Z",
     "iopub.status.idle": "2022-09-23T23:42:41.404601Z",
     "shell.execute_reply": "2022-09-23T23:42:41.403585Z"
    },
    "jupyter": {
     "outputs_hidden": false
    },
    "papermill": {
     "duration": 0.09035,
     "end_time": "2022-09-23T23:42:41.407382",
     "exception": false,
     "start_time": "2022-09-23T23:42:41.317032",
     "status": "completed"
    },
    "tags": []
   },
   "outputs": [],
   "source": [
    "from sklearn.linear_model import LinearRegression"
   ]
  },
  {
   "cell_type": "code",
   "execution_count": 11,
   "id": "b0fd71de",
   "metadata": {
    "_cell_guid": "ccd23d47-34ae-4202-8146-c21f89410662",
    "_uuid": "8d688102-4969-4acf-a23b-4aefbd35247c",
    "collapsed": false,
    "execution": {
     "iopub.execute_input": "2022-09-23T23:42:41.424691Z",
     "iopub.status.busy": "2022-09-23T23:42:41.424103Z",
     "iopub.status.idle": "2022-09-23T23:42:41.428618Z",
     "shell.execute_reply": "2022-09-23T23:42:41.427488Z"
    },
    "jupyter": {
     "outputs_hidden": false
    },
    "papermill": {
     "duration": 0.015685,
     "end_time": "2022-09-23T23:42:41.430783",
     "exception": false,
     "start_time": "2022-09-23T23:42:41.415098",
     "status": "completed"
    },
    "tags": []
   },
   "outputs": [],
   "source": [
    "LR = LinearRegression()"
   ]
  },
  {
   "cell_type": "code",
   "execution_count": 12,
   "id": "55ee815e",
   "metadata": {
    "_cell_guid": "0b152974-58db-4c83-a3c2-35776691e45c",
    "_uuid": "530b4383-6391-405f-90e0-9370a002ba80",
    "collapsed": false,
    "execution": {
     "iopub.execute_input": "2022-09-23T23:42:41.447122Z",
     "iopub.status.busy": "2022-09-23T23:42:41.446742Z",
     "iopub.status.idle": "2022-09-23T23:42:41.474808Z",
     "shell.execute_reply": "2022-09-23T23:42:41.473759Z"
    },
    "jupyter": {
     "outputs_hidden": false
    },
    "papermill": {
     "duration": 0.038952,
     "end_time": "2022-09-23T23:42:41.477131",
     "exception": false,
     "start_time": "2022-09-23T23:42:41.438179",
     "status": "completed"
    },
    "tags": []
   },
   "outputs": [
    {
     "data": {
      "text/plain": [
       "LinearRegression()"
      ]
     },
     "execution_count": 12,
     "metadata": {},
     "output_type": "execute_result"
    }
   ],
   "source": [
    "LR.fit(X_train, y_train)"
   ]
  },
  {
   "cell_type": "code",
   "execution_count": 13,
   "id": "f2e06df7",
   "metadata": {
    "_cell_guid": "31b8c3bd-3793-493a-a328-6d2a32efe2a9",
    "_uuid": "f27359ee-189f-4579-9493-f7ba484a8505",
    "collapsed": false,
    "execution": {
     "iopub.execute_input": "2022-09-23T23:42:41.493217Z",
     "iopub.status.busy": "2022-09-23T23:42:41.492847Z",
     "iopub.status.idle": "2022-09-23T23:42:41.500341Z",
     "shell.execute_reply": "2022-09-23T23:42:41.499404Z"
    },
    "jupyter": {
     "outputs_hidden": false
    },
    "papermill": {
     "duration": 0.018053,
     "end_time": "2022-09-23T23:42:41.502481",
     "exception": false,
     "start_time": "2022-09-23T23:42:41.484428",
     "status": "completed"
    },
    "tags": []
   },
   "outputs": [],
   "source": [
    "pred = LR.predict(X_train)"
   ]
  },
  {
   "cell_type": "code",
   "execution_count": 14,
   "id": "e138ae95",
   "metadata": {
    "execution": {
     "iopub.execute_input": "2022-09-23T23:42:41.519184Z",
     "iopub.status.busy": "2022-09-23T23:42:41.518432Z",
     "iopub.status.idle": "2022-09-23T23:42:41.523562Z",
     "shell.execute_reply": "2022-09-23T23:42:41.522502Z"
    },
    "papermill": {
     "duration": 0.015999,
     "end_time": "2022-09-23T23:42:41.525920",
     "exception": false,
     "start_time": "2022-09-23T23:42:41.509921",
     "status": "completed"
    },
    "tags": []
   },
   "outputs": [],
   "source": [
    "from sklearn.metrics import mean_squared_error,r2_score"
   ]
  },
  {
   "cell_type": "code",
   "execution_count": 15,
   "id": "2115dac1",
   "metadata": {
    "_cell_guid": "138452f7-ede1-4386-b6f4-26b87dc24bda",
    "_uuid": "15a0d3b5-20c2-49e6-aee1-d068e15f6234",
    "collapsed": false,
    "execution": {
     "iopub.execute_input": "2022-09-23T23:42:41.541739Z",
     "iopub.status.busy": "2022-09-23T23:42:41.541390Z",
     "iopub.status.idle": "2022-09-23T23:42:41.549221Z",
     "shell.execute_reply": "2022-09-23T23:42:41.548142Z"
    },
    "jupyter": {
     "outputs_hidden": false
    },
    "papermill": {
     "duration": 0.018271,
     "end_time": "2022-09-23T23:42:41.551445",
     "exception": false,
     "start_time": "2022-09-23T23:42:41.533174",
     "status": "completed"
    },
    "tags": []
   },
   "outputs": [
    {
     "data": {
      "text/plain": [
       "1.7252953013017796e-24"
      ]
     },
     "execution_count": 15,
     "metadata": {},
     "output_type": "execute_result"
    }
   ],
   "source": [
    "mean_squared_error(y_train, pred)"
   ]
  },
  {
   "cell_type": "code",
   "execution_count": 16,
   "id": "eb7871bd",
   "metadata": {
    "_cell_guid": "6fab633d-fb85-499b-a3ad-562a0c1fd422",
    "_uuid": "24b978a6-b3b0-4ad2-9277-591433a71fdf",
    "collapsed": false,
    "execution": {
     "iopub.execute_input": "2022-09-23T23:42:41.567891Z",
     "iopub.status.busy": "2022-09-23T23:42:41.567521Z",
     "iopub.status.idle": "2022-09-23T23:42:41.574650Z",
     "shell.execute_reply": "2022-09-23T23:42:41.573552Z"
    },
    "jupyter": {
     "outputs_hidden": false
    },
    "papermill": {
     "duration": 0.018005,
     "end_time": "2022-09-23T23:42:41.576838",
     "exception": false,
     "start_time": "2022-09-23T23:42:41.558833",
     "status": "completed"
    },
    "tags": []
   },
   "outputs": [
    {
     "data": {
      "text/plain": [
       "1.0"
      ]
     },
     "execution_count": 16,
     "metadata": {},
     "output_type": "execute_result"
    }
   ],
   "source": [
    "r2_score(y_train, pred)"
   ]
  },
  {
   "cell_type": "code",
   "execution_count": 17,
   "id": "7ffbed40",
   "metadata": {
    "_cell_guid": "1103ebfd-5b43-410a-b9e2-f1451641d0c4",
    "_uuid": "3ed5fd52-3240-4b3a-939b-c08e9b301e2e",
    "collapsed": false,
    "execution": {
     "iopub.execute_input": "2022-09-23T23:42:41.594012Z",
     "iopub.status.busy": "2022-09-23T23:42:41.593646Z",
     "iopub.status.idle": "2022-09-23T23:42:41.599930Z",
     "shell.execute_reply": "2022-09-23T23:42:41.598866Z"
    },
    "jupyter": {
     "outputs_hidden": false
    },
    "papermill": {
     "duration": 0.018192,
     "end_time": "2022-09-23T23:42:41.602358",
     "exception": false,
     "start_time": "2022-09-23T23:42:41.584166",
     "status": "completed"
    },
    "tags": []
   },
   "outputs": [],
   "source": [
    "y_pred = LR.predict(X_test)"
   ]
  },
  {
   "cell_type": "code",
   "execution_count": 18,
   "id": "5bc0d12c",
   "metadata": {
    "_cell_guid": "0da80469-0753-4ad7-aa41-454724050843",
    "_uuid": "1ef2e5e2-8418-43e0-8697-a72ad6d65f8f",
    "collapsed": false,
    "execution": {
     "iopub.execute_input": "2022-09-23T23:42:41.619238Z",
     "iopub.status.busy": "2022-09-23T23:42:41.618844Z",
     "iopub.status.idle": "2022-09-23T23:42:41.625928Z",
     "shell.execute_reply": "2022-09-23T23:42:41.625036Z"
    },
    "jupyter": {
     "outputs_hidden": false
    },
    "papermill": {
     "duration": 0.018473,
     "end_time": "2022-09-23T23:42:41.628220",
     "exception": false,
     "start_time": "2022-09-23T23:42:41.609747",
     "status": "completed"
    },
    "tags": []
   },
   "outputs": [
    {
     "data": {
      "text/plain": [
       "1.6693919226214767e-24"
      ]
     },
     "execution_count": 18,
     "metadata": {},
     "output_type": "execute_result"
    }
   ],
   "source": [
    "mean_squared_error(y_test, y_pred)"
   ]
  },
  {
   "cell_type": "code",
   "execution_count": 19,
   "id": "18ade8da",
   "metadata": {
    "_cell_guid": "a8435401-5e4c-430d-b807-2f4eb29f8f30",
    "_uuid": "4c590e5c-03c7-4e4c-8a2b-b09d57e17a24",
    "collapsed": false,
    "execution": {
     "iopub.execute_input": "2022-09-23T23:42:41.645204Z",
     "iopub.status.busy": "2022-09-23T23:42:41.644686Z",
     "iopub.status.idle": "2022-09-23T23:42:41.652796Z",
     "shell.execute_reply": "2022-09-23T23:42:41.651597Z"
    },
    "jupyter": {
     "outputs_hidden": false
    },
    "papermill": {
     "duration": 0.019476,
     "end_time": "2022-09-23T23:42:41.655099",
     "exception": false,
     "start_time": "2022-09-23T23:42:41.635623",
     "status": "completed"
    },
    "tags": []
   },
   "outputs": [
    {
     "data": {
      "text/plain": [
       "1.0"
      ]
     },
     "execution_count": 19,
     "metadata": {},
     "output_type": "execute_result"
    }
   ],
   "source": [
    "r2_score(y_test,y_pred)"
   ]
  },
  {
   "cell_type": "code",
   "execution_count": 20,
   "id": "2217d658",
   "metadata": {
    "_cell_guid": "bba1bd91-cca0-4bb6-b9e2-6ebb7751d6e9",
    "_uuid": "303ac0d8-c25e-4904-b6aa-377f910fea48",
    "collapsed": false,
    "execution": {
     "iopub.execute_input": "2022-09-23T23:42:41.673224Z",
     "iopub.status.busy": "2022-09-23T23:42:41.672320Z",
     "iopub.status.idle": "2022-09-23T23:42:41.679745Z",
     "shell.execute_reply": "2022-09-23T23:42:41.678579Z"
    },
    "jupyter": {
     "outputs_hidden": false
    },
    "papermill": {
     "duration": 0.019148,
     "end_time": "2022-09-23T23:42:41.682277",
     "exception": false,
     "start_time": "2022-09-23T23:42:41.663129",
     "status": "completed"
    },
    "tags": []
   },
   "outputs": [
    {
     "data": {
      "text/plain": [
       "array([-1.88594851e-13,  8.75521877e-13,  2.06007086e-14,  4.37592681e-13,\n",
       "       -3.87643273e-15,  2.42822670e-13,  2.00052506e-13,  2.37886251e-12,\n",
       "       -1.56310515e-12,  2.90513463e-14,  2.48168632e-13,  1.00000000e+00,\n",
       "        1.00000000e+00])"
      ]
     },
     "execution_count": 20,
     "metadata": {},
     "output_type": "execute_result"
    }
   ],
   "source": [
    "LR.coef_"
   ]
  },
  {
   "cell_type": "markdown",
   "id": "e5f5a512",
   "metadata": {
    "_cell_guid": "a0a2b805-7db3-4fb9-b640-2b80a2af8e33",
    "_uuid": "562b49b1-533c-4472-afd1-25fcb73d2edf",
    "papermill": {
     "duration": 0.00871,
     "end_time": "2022-09-23T23:42:41.701300",
     "exception": false,
     "start_time": "2022-09-23T23:42:41.692590",
     "status": "completed"
    },
    "tags": []
   },
   "source": [
    "**Year & Holiday** these are the features which have significant contribution. **The model is perfectly fitting the dataset.**"
   ]
  },
  {
   "cell_type": "code",
   "execution_count": null,
   "id": "cc19b872",
   "metadata": {
    "papermill": {
     "duration": 0.009846,
     "end_time": "2022-09-23T23:42:41.719841",
     "exception": false,
     "start_time": "2022-09-23T23:42:41.709995",
     "status": "completed"
    },
    "tags": []
   },
   "outputs": [],
   "source": []
  }
 ],
 "metadata": {
  "kernelspec": {
   "display_name": "Python 3",
   "language": "python",
   "name": "python3"
  },
  "language_info": {
   "codemirror_mode": {
    "name": "ipython",
    "version": 3
   },
   "file_extension": ".py",
   "mimetype": "text/x-python",
   "name": "python",
   "nbconvert_exporter": "python",
   "pygments_lexer": "ipython3",
   "version": "3.7.12"
  },
  "papermill": {
   "default_parameters": {},
   "duration": 11.383389,
   "end_time": "2022-09-23T23:42:42.452836",
   "environment_variables": {},
   "exception": null,
   "input_path": "__notebook__.ipynb",
   "output_path": "__notebook__.ipynb",
   "parameters": {},
   "start_time": "2022-09-23T23:42:31.069447",
   "version": "2.3.4"
  }
 },
 "nbformat": 4,
 "nbformat_minor": 5
}
